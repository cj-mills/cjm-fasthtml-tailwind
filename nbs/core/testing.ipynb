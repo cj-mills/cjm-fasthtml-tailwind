{
 "cells": [
  {
   "cell_type": "markdown",
   "id": "b8112c96-3d6b-4fba-b4a9-3bd5e1f03d50",
   "metadata": {},
   "source": [
    "# testing\n",
    "\n",
    "> Standardized test page creation for Jupyter notebooks with FastHTML"
   ]
  },
  {
   "cell_type": "code",
   "execution_count": null,
   "id": "6c35da8c-e325-4006-94d7-594824917ad1",
   "metadata": {},
   "outputs": [],
   "source": [
    "#| default_exp core.testing"
   ]
  },
  {
   "cell_type": "code",
   "execution_count": null,
   "id": "1ab90f3f-8458-40f4-9d26-1eaf67a3ab38",
   "metadata": {},
   "outputs": [],
   "source": [
    "#| hide\n",
    "from nbdev.showdoc import *"
   ]
  },
  {
   "cell_type": "code",
   "execution_count": null,
   "id": "c1492984-a083-4abc-867e-e78b1555613e",
   "metadata": {},
   "outputs": [],
   "source": [
    "#| export\n",
    "from fasthtml.common import *\n",
    "from fasthtml.jupyter import JupyUvi, HTMX\n",
    "from typing import Optional, Union, List, Callable\n",
    "from pathlib import Path\n",
    "\n",
    "# Import our modules\n",
    "from cjm_fasthtml_tailwind.core.resources import get_tailwind_headers"
   ]
  },
  {
   "cell_type": "code",
   "execution_count": null,
   "id": "716524d0-5e5b-4393-b71a-2b615c693e04",
   "metadata": {},
   "outputs": [],
   "source": []
  },
  {
   "cell_type": "markdown",
   "id": "74a1384d-01d3-4216-a350-f1da96cd799b",
   "metadata": {},
   "source": [
    "## Test App Creation\n",
    "\n",
    "A standardized way to create test apps in Jupyter notebooks:"
   ]
  },
  {
   "cell_type": "code",
   "execution_count": null,
   "id": "8346827c-d65e-4e07-954d-81a557f94dcf",
   "metadata": {},
   "outputs": [],
   "source": [
    "#| export\n",
    "def create_test_app(\n",
    "    debug: bool = True  # Enable debug mode\n",
    ") -> tuple: # Tuple containing (app, rt) - FastHTML app instance and route decorator\n",
    "    \"\"\"\n",
    "    Create a standardized test app for Jupyter notebooks with Tailwind.\n",
    "    \"\"\"\n",
    "    # Build headers\n",
    "    headers = get_tailwind_headers()\n",
    "    \n",
    "    # Create app with daisyUI configuration\n",
    "    app, rt = fast_app(\n",
    "        pico=True,\n",
    "        hdrs=headers,\n",
    "        debug=debug\n",
    "    )\n",
    "    \n",
    "    return app, rt"
   ]
  },
  {
   "cell_type": "markdown",
   "id": "49aaf7b6-197b-471b-b999-320b1ce55aa8",
   "metadata": {},
   "source": [
    "## Test Page Wrapper\n",
    "\n",
    "A wrapper for creating consistent test pages:"
   ]
  },
  {
   "cell_type": "code",
   "execution_count": null,
   "id": "1f61677a-79d6-4bcb-aaf1-80465cb7331d",
   "metadata": {},
   "outputs": [],
   "source": [
    "#| export\n",
    "def create_test_page(\n",
    "    title: str,  # Page title\n",
    "    *content,  # Page content elements\n",
    "    container: bool = True,  # Wrap in container\n",
    "    custom_theme_names: Optional[List[str]] = None  # Custom themes for selector\n",
    ") -> Div:  # Div containing complete page layout with navbar and content\n",
    "    \"\"\"\n",
    "    Create a standardized test page layout with optional theme selector.\n",
    "    \"\"\"\n",
    "    # Build navbar with proper structure using Tailwind\n",
    "    navbar = Div(\n",
    "        # \n",
    "        cls=None # \n",
    "    )\n",
    "    \n",
    "    # Build main content classes with Tailwind\n",
    "    \n",
    "    \n",
    "    return Div(\n",
    "        navbar,\n",
    "        Main(\n",
    "            *content,\n",
    "            cls=None # \n",
    "        )\n",
    "    )"
   ]
  },
  {
   "cell_type": "markdown",
   "id": "75382808-301e-4766-92fa-4b207a3be2ea",
   "metadata": {},
   "source": [
    "## Jupyter Notebook Utilities\n",
    "\n",
    "Helper functions for working with FastHTML in Jupyter:"
   ]
  },
  {
   "cell_type": "code",
   "execution_count": null,
   "id": "9c2b5ac1-95f4-4e9c-8b8d-973afa755003",
   "metadata": {},
   "outputs": [],
   "source": [
    "#| export\n",
    "def start_test_server(\n",
    "    app: FastHTML,    # FastHTML app instance created by create_test_app or fast_app\n",
    "    port: int = 8000,  # Port\n",
    ") -> JupyUvi:  # JupyUvi server instance for Jupyter notebook testing\n",
    "    \"\"\"\n",
    "    Start a test server and return the JupyUvi instance.\n",
    "    \n",
    "    Usage:\n",
    "        server = start_test_server(app)\n",
    "        HTMX()  # Display the app\n",
    "        \n",
    "        # Later, in another cell:\n",
    "        server.stop()\n",
    "    \"\"\"\n",
    "    return JupyUvi(app, port=port)"
   ]
  },
  {
   "cell_type": "markdown",
   "id": "d52d7f05-326c-4b6b-9fb0-5d8a98b10db7",
   "metadata": {},
   "source": [
    "## Example Usage\n",
    "\n",
    "Here's how to use the testing utilities in a notebook:"
   ]
  },
  {
   "cell_type": "code",
   "execution_count": null,
   "id": "71bfc4a7-0265-4833-b3a1-f08e8a530281",
   "metadata": {},
   "outputs": [
    {
     "data": {
      "text/html": [
       "\n",
       "<script>\n",
       "document.body.addEventListener('htmx:configRequest', (event) => {\n",
       "    if(event.detail.path.includes('://')) return;\n",
       "    htmx.config.selfRequestsOnly=false;\n",
       "    event.detail.path = `${location.protocol}//${location.hostname}:8000${event.detail.path}`;\n",
       "});\n",
       "</script>"
      ],
      "text/plain": [
       "<IPython.core.display.HTML object>"
      ]
     },
     "metadata": {},
     "output_type": "display_data"
    },
    {
     "data": {
      "text/html": [
       "<iframe src=\"http://localhost:8000/\" style=\"width: 100%; height: auto; border: none;\" onload=\"{\n",
       "        let frame = this;\n",
       "        window.addEventListener('message', function(e) {\n",
       "            if (e.source !== frame.contentWindow) return; // Only proceed if the message is from this iframe\n",
       "            if (e.data.height) frame.style.height = (e.data.height+1) + 'px';\n",
       "        }, false);\n",
       "    }\" allow=\"accelerometer; autoplay; camera; clipboard-read; clipboard-write; display-capture; encrypted-media; fullscreen; gamepad; geolocation; gyroscope; hid; identity-credentials-get; idle-detection; magnetometer; microphone; midi; payment; picture-in-picture; publickey-credentials-get; screen-wake-lock; serial; usb; web-share; xr-spatial-tracking\"></iframe> "
      ],
      "text/plain": [
       "<IPython.core.display.HTML object>"
      ]
     },
     "execution_count": null,
     "metadata": {},
     "output_type": "execute_result"
    }
   ],
   "source": [
    "#| eval: false\n",
    "# Create a test app with default settings\n",
    "app, rt = create_test_app()\n",
    "\n",
    "# Define a test route\n",
    "@rt\n",
    "def index():\n",
    "    return create_test_page(\n",
    "        \"Tailwind Test Page\",\n",
    "        Div(\n",
    "            H2(\"Test Abstractions\"),\n",
    "            P(\"This is a test page for Tailwind abstractions.\", cls=None),\n",
    "            Div(\n",
    "                Button(\"Primary\"),\n",
    "                Button(\"Secondary\"),\n",
    "                Button(\"Accent\"),\n",
    "                cls=None\n",
    "            )\n",
    "        )\n",
    "    )\n",
    "\n",
    "# Start the server\n",
    "server = start_test_server(app)\n",
    "HTMX()"
   ]
  },
  {
   "cell_type": "code",
   "execution_count": null,
   "id": "64d1dc63-5406-41f7-a9f4-28f1da9ae4cf",
   "metadata": {},
   "outputs": [],
   "source": [
    "#| eval: false\n",
    "# Stop the server when done\n",
    "server.stop()"
   ]
  },
  {
   "cell_type": "code",
   "execution_count": null,
   "id": "1294fb50-8592-4f4e-8161-b5269c88ae69",
   "metadata": {},
   "outputs": [],
   "source": []
  },
  {
   "cell_type": "code",
   "execution_count": null,
   "id": "45bddeae-fb1f-4072-9495-753210158102",
   "metadata": {},
   "outputs": [],
   "source": []
  },
  {
   "cell_type": "code",
   "execution_count": null,
   "id": "b1a9392f-5a0f-4e65-ba66-0770070bbda9",
   "metadata": {},
   "outputs": [],
   "source": []
  },
  {
   "cell_type": "code",
   "execution_count": null,
   "id": "801969b9-79f8-4f82-a9ff-a107347acf11",
   "metadata": {},
   "outputs": [],
   "source": []
  },
  {
   "cell_type": "code",
   "execution_count": null,
   "id": "b39f06b4-17b0-41f3-825e-09ec7abe7c23",
   "metadata": {},
   "outputs": [],
   "source": []
  },
  {
   "cell_type": "code",
   "execution_count": null,
   "id": "258536c5-3377-492b-b40b-3f04a771d9ca",
   "metadata": {},
   "outputs": [],
   "source": []
  },
  {
   "cell_type": "code",
   "execution_count": null,
   "id": "701be50e-313e-4d36-82c5-c95aeab67110",
   "metadata": {},
   "outputs": [],
   "source": []
  },
  {
   "cell_type": "code",
   "execution_count": null,
   "id": "5cdf1665-3101-433e-b58d-3df1c14d5ddf",
   "metadata": {},
   "outputs": [],
   "source": []
  },
  {
   "cell_type": "code",
   "execution_count": null,
   "id": "e467f86d-82a9-497f-8116-f4753da5ac48",
   "metadata": {},
   "outputs": [],
   "source": []
  },
  {
   "cell_type": "code",
   "execution_count": null,
   "id": "ffd4256b-8d7f-4266-be29-b0f9b7adde74",
   "metadata": {},
   "outputs": [],
   "source": []
  },
  {
   "cell_type": "code",
   "execution_count": null,
   "id": "4e7b951b-13eb-4fa2-8e90-5e0510e35c01",
   "metadata": {},
   "outputs": [],
   "source": []
  },
  {
   "cell_type": "code",
   "execution_count": null,
   "id": "92fec0c7-1670-48dd-9b8d-524d3ae02d70",
   "metadata": {},
   "outputs": [],
   "source": []
  },
  {
   "cell_type": "code",
   "execution_count": null,
   "id": "6dcf7a3f-1683-4ab0-b5d6-574a70171224",
   "metadata": {},
   "outputs": [],
   "source": []
  },
  {
   "cell_type": "code",
   "execution_count": null,
   "id": "6db0a149-6008-46b1-b112-9a850122f9df",
   "metadata": {},
   "outputs": [],
   "source": []
  },
  {
   "cell_type": "code",
   "execution_count": null,
   "id": "c6bdf032-7199-4a18-a918-34525e08346b",
   "metadata": {},
   "outputs": [],
   "source": []
  },
  {
   "cell_type": "code",
   "execution_count": null,
   "id": "fd33ba52-5964-4a73-a75c-54e91a38aa44",
   "metadata": {},
   "outputs": [],
   "source": []
  },
  {
   "cell_type": "code",
   "execution_count": null,
   "id": "4551d8b8-b45a-4b7b-ad0e-2b6b099e932c",
   "metadata": {},
   "outputs": [],
   "source": []
  },
  {
   "cell_type": "code",
   "execution_count": null,
   "id": "828bf3f5-4a26-4bfc-84be-415b3bbb6671",
   "metadata": {},
   "outputs": [],
   "source": []
  },
  {
   "cell_type": "code",
   "execution_count": null,
   "id": "62348bc2-5249-4415-8aac-61f6c5cafeef",
   "metadata": {},
   "outputs": [],
   "source": []
  },
  {
   "cell_type": "code",
   "execution_count": null,
   "id": "0524a226-a9d0-4f79-a278-35e87e3a9167",
   "metadata": {},
   "outputs": [],
   "source": []
  },
  {
   "cell_type": "code",
   "execution_count": null,
   "id": "77798551-41dd-4ac1-bed3-0d00f84fa08f",
   "metadata": {},
   "outputs": [],
   "source": []
  },
  {
   "cell_type": "code",
   "execution_count": null,
   "id": "d59cc1af-3042-42bc-8f58-4549274b936f",
   "metadata": {},
   "outputs": [],
   "source": []
  },
  {
   "cell_type": "code",
   "execution_count": null,
   "id": "15649921-c92b-467b-9eab-5ecdf77870c6",
   "metadata": {},
   "outputs": [],
   "source": []
  },
  {
   "cell_type": "code",
   "execution_count": null,
   "id": "edffc764-ad82-407b-a5a4-88e4fe6e8ea1",
   "metadata": {},
   "outputs": [],
   "source": []
  },
  {
   "cell_type": "code",
   "execution_count": null,
   "id": "beaf881c-acef-4d1d-b61d-09f09f4d6e9c",
   "metadata": {},
   "outputs": [],
   "source": []
  },
  {
   "cell_type": "code",
   "execution_count": null,
   "id": "5dd83505-e0fb-4c98-869e-248af5e64523",
   "metadata": {},
   "outputs": [],
   "source": []
  },
  {
   "cell_type": "markdown",
   "id": "27d8bf0f-5696-4a97-b1cb-b67104ee7495",
   "metadata": {},
   "source": [
    "## Export"
   ]
  },
  {
   "cell_type": "code",
   "execution_count": null,
   "id": "92c8cf9b-33d8-4537-bc8b-fd02f7e60e5d",
   "metadata": {},
   "outputs": [],
   "source": [
    "#| hide\n",
    "import nbdev; nbdev.nbdev_export()"
   ]
  }
 ],
 "metadata": {
  "kernelspec": {
   "display_name": "python3",
   "language": "python",
   "name": "python3"
  }
 },
 "nbformat": 4,
 "nbformat_minor": 5
}
