{
 "cells": [
  {
   "cell_type": "markdown",
   "id": "4e842f55-c1df-446a-bfcd-87697dad7ae3",
   "metadata": {},
   "source": [
    "# base\n",
    "\n",
    "> Base classes, types, and protocols for Tailwind CSS abstractions"
   ]
  },
  {
   "cell_type": "code",
   "execution_count": null,
   "id": "da9276fa-5b5b-453e-bd12-3154f1ab1930",
   "metadata": {},
   "outputs": [],
   "source": [
    "#| default_exp core.base"
   ]
  },
  {
   "cell_type": "code",
   "execution_count": null,
   "id": "a91da909-85ff-44f3-bc09-0c156f6e0192",
   "metadata": {},
   "outputs": [],
   "source": [
    "#| hide\n",
    "from nbdev.showdoc import *"
   ]
  },
  {
   "cell_type": "code",
   "execution_count": null,
   "id": "d53c6bff-0e03-4064-8f05-e6a0e1d53402",
   "metadata": {},
   "outputs": [],
   "source": [
    "#| export\n",
    "from typing import Union, Optional, Literal, Protocol, runtime_checkable, TypeVar, Generic, Callable, Any, Dict, List, Tuple\n",
    "from abc import ABC, abstractmethod\n",
    "from dataclasses import dataclass, field\n",
    "from enum import Enum\n",
    "import re"
   ]
  },
  {
   "cell_type": "markdown",
   "id": "58cf2c4f-ad6b-4641-9ed4-4acfca35fadb",
   "metadata": {},
   "source": [
    "## Core Types\n",
    "\n",
    "Define the fundamental types used throughout the library:"
   ]
  },
  {
   "cell_type": "code",
   "execution_count": null,
   "id": "e0ee9c15-6b6a-4ff7-b060-8507fdb595e1",
   "metadata": {},
   "outputs": [],
   "source": [
    "#| export\n",
    "# Type aliases for Tailwind values\n",
    "TailwindScale = Union[int, float, str]  # Numeric scales like 1, 2.5, \"px\"\n",
    "TailwindFraction = str  # Fractions like \"1/2\", \"2/3\"\n",
    "TailwindArbitrary = str  # Arbitrary values like \"123px\", \"10rem\"\n",
    "TailwindCustomProperty = str  # CSS custom properties like \"--spacing-lg\"\n",
    "TailwindValue = Union[TailwindScale, TailwindFraction, TailwindArbitrary, TailwindCustomProperty] # Union of all possible value types"
   ]
  },
  {
   "cell_type": "markdown",
   "id": "efb44dcf-b25c-4f20-9c94-d7b342111b8f",
   "metadata": {},
   "source": [
    "## Value Validators\n",
    "\n",
    "Functions to validate and identify different types of Tailwind values:"
   ]
  },
  {
   "cell_type": "code",
   "execution_count": null,
   "id": "cde26a36-c2d4-41e4-9828-09f59213b718",
   "metadata": {},
   "outputs": [],
   "source": [
    "#| export\n",
    "def is_numeric_scale(\n",
    "    value: Any  # The value to check - can be int, float, or string\n",
    ") -> bool:  # True if the value is a valid numeric scale, False otherwise\n",
    "    \"\"\"Check if value is a valid numeric scale (int, float, or 'px').\"\"\"\n",
    "    if isinstance(value, (int, float)):\n",
    "        return True\n",
    "    if isinstance(value, str) and value == \"px\":\n",
    "        return True\n",
    "    return False"
   ]
  },
  {
   "cell_type": "code",
   "execution_count": null,
   "id": "b871c2a6-06ab-4526-aa46-c43ce5e2986a",
   "metadata": {},
   "outputs": [],
   "source": [
    "#| export\n",
    "def is_fraction(\n",
    "    value: Any  # The value to check for fraction format\n",
    ") -> bool:  # True if the value is a valid fraction string, False otherwise\n",
    "    \"\"\"Check if value is a valid fraction string (e.g., '1/2', '3/4').\"\"\"\n",
    "    if not isinstance(value, str):\n",
    "        return False\n",
    "    pattern = r'^\\d+/\\d+$'\n",
    "    return bool(re.match(pattern, value))"
   ]
  },
  {
   "cell_type": "code",
   "execution_count": null,
   "id": "d086ca04-f93f-4789-87d9-a1f28fe782c5",
   "metadata": {},
   "outputs": [],
   "source": [
    "#| export\n",
    "def is_custom_property(\n",
    "    value: Any  # The value to check for CSS custom property format\n",
    ") -> bool:  # True if the value is a CSS custom property, False otherwise\n",
    "    \"\"\"Check if value is a CSS custom property (starts with --).\"\"\"\n",
    "    if not isinstance(value, str):\n",
    "        return False\n",
    "    return value.startswith(\"--\")"
   ]
  },
  {
   "cell_type": "code",
   "execution_count": null,
   "id": "5104ff8b-2c27-427c-99c6-f1c5143b68c3",
   "metadata": {},
   "outputs": [],
   "source": [
    "#| export\n",
    "def is_arbitrary_value(\n",
    "    value: Any  # The value to check for arbitrary CSS value format\n",
    ") -> bool:  # True if the value contains CSS units or calc(), False otherwise\n",
    "    \"\"\"Check if value is an arbitrary value (contains units or special chars).\"\"\"\n",
    "    if not isinstance(value, str):\n",
    "        return False\n",
    "    # Check for common CSS units\n",
    "    units = r'(px|em|rem|vh|vw|%|deg|s|ms)$'\n",
    "    return bool(re.search(units, value)) or value.startswith(\"calc(\")"
   ]
  },
  {
   "cell_type": "markdown",
   "id": "457a956a-1a3f-4ffa-8c1d-a5226068b1dd",
   "metadata": {},
   "source": [
    "## Base Protocol\n",
    "\n",
    "Define the protocol that all utility builders must implement:"
   ]
  },
  {
   "cell_type": "code",
   "execution_count": null,
   "id": "584c8c37-4233-44cc-8776-232bbb38d283",
   "metadata": {},
   "outputs": [],
   "source": [
    "#| export\n",
    "@runtime_checkable\n",
    "class TailwindBuilder(Protocol):\n",
    "    \"\"\"Protocol for all Tailwind utility builders.\"\"\"\n",
    "    \n",
    "    def build(\n",
    "        self,\n",
    "        *args,\n",
    "        **kwargs\n",
    "    ) -> str:  # The built CSS class string\n",
    "        \"\"\"Build and return the CSS class string.\"\"\"\n",
    "        ...\n",
    "    \n",
    "    def __str__(\n",
    "        self\n",
    "    ) -> str:  # The built CSS class string\n",
    "        \"\"\"Return the built CSS class string.\"\"\"\n",
    "        ..."
   ]
  },
  {
   "cell_type": "markdown",
   "id": "e5d2115a-4b7e-4d12-b8e7-9fd532004d32",
   "metadata": {},
   "source": [
    "## Base Classes\n",
    "\n",
    "Abstract base classes for different types of utility builders:"
   ]
  },
  {
   "cell_type": "code",
   "execution_count": null,
   "id": "66b19fcb-d67c-4064-b956-a62445932217",
   "metadata": {},
   "outputs": [],
   "source": [
    "#| export\n",
    "class BaseUtility(ABC):\n",
    "    \"\"\"Base class for all Tailwind utility builders.\"\"\"\n",
    "    \n",
    "    def __init__(\n",
    "        self,\n",
    "        prefix: str  # The utility prefix (e.g., 'w' for width, 'p' for padding)\n",
    "    ):\n",
    "        \"\"\"\n",
    "        Initialize with a utility prefix.\n",
    "        \"\"\"\n",
    "        self.prefix = prefix\n",
    "        self._value: Optional[str] = None\n",
    "        self._modifiers: List[str] = []\n",
    "    \n",
    "    @abstractmethod\n",
    "    def _format_value(\n",
    "        self,\n",
    "        value: TailwindValue  # The value to format (numeric, fraction, arbitrary, etc.)\n",
    "    ) -> str:  # The formatted value string ready for class construction\n",
    "        \"\"\"Format the value according to Tailwind conventions.\"\"\"\n",
    "        pass\n",
    "    \n",
    "    def _build_class(\n",
    "        self,\n",
    "        value: Optional[TailwindValue] = None  # Optional value to use for building the class\n",
    "    ) -> str:  # The complete CSS class string with modifiers applied\n",
    "        \"\"\"Build the complete CSS class string.\"\"\"\n",
    "        if value is not None:\n",
    "            formatted_value = self._format_value(value)\n",
    "        elif self._value is not None:\n",
    "            formatted_value = self._value\n",
    "        else:\n",
    "            return self.prefix\n",
    "        \n",
    "        # Join prefix and value\n",
    "        base_class = f\"{self.prefix}-{formatted_value}\"\n",
    "        \n",
    "        # Apply modifiers\n",
    "        if self._modifiers:\n",
    "            return \":\".join(self._modifiers + [base_class])\n",
    "        \n",
    "        return base_class\n",
    "    \n",
    "    def build(\n",
    "        self,\n",
    "        value: Optional[TailwindValue] = None  # Optional value to override the stored value\n",
    "    ) -> str:  # The built CSS class string\n",
    "        \"\"\"Build and return the CSS class string.\"\"\"\n",
    "        return self._build_class(value)\n",
    "    \n",
    "    def __str__(\n",
    "        self\n",
    "    ) -> str:  # The built CSS class string\n",
    "        \"\"\"Return the built CSS class string.\"\"\"\n",
    "        return self._build_class()"
   ]
  },
  {
   "cell_type": "markdown",
   "id": "4db4b45a-1a61-47fe-b099-e9424bde8ebf",
   "metadata": {},
   "source": [
    "## Standard Value Formatter\n",
    "\n",
    "A standard implementation for formatting Tailwind values:"
   ]
  },
  {
   "cell_type": "code",
   "execution_count": null,
   "id": "ca72920c-2892-4d5c-9c34-97df08cdc939",
   "metadata": {},
   "outputs": [],
   "source": [
    "#| export\n",
    "class StandardUtility(BaseUtility):\n",
    "    \"\"\"Standard utility class with common value formatting.\"\"\"\n",
    "    \n",
    "    def _format_value(\n",
    "        self,\n",
    "        value: TailwindValue  # The value to format according to Tailwind conventions\n",
    "    ) -> str:  # The formatted value string (e.g., \"4\", \"[10px]\", \"(--custom)\")\n",
    "        \"\"\"\n",
    "        Format value according to Tailwind conventions:\n",
    "        - Numeric scales: used as-is (e.g., 4 -> \"4\")\n",
    "        - Fractions: used as-is (e.g., \"1/2\" -> \"1/2\")\n",
    "        - Custom properties: wrapped in parentheses (e.g., \"--spacing\" -> \"(--spacing)\")\n",
    "        - Arbitrary values: wrapped in brackets (e.g., \"10px\" -> \"[10px]\")\n",
    "        \"\"\"\n",
    "        if is_numeric_scale(value):\n",
    "            return str(value)\n",
    "        elif is_fraction(value):\n",
    "            return value\n",
    "        elif is_custom_property(value):\n",
    "            return f\"({value})\"\n",
    "        elif is_arbitrary_value(value):\n",
    "            return f\"[{value}]\"\n",
    "        else:\n",
    "            # Named values (like 'auto', 'full', etc.)\n",
    "            return str(value)"
   ]
  },
  {
   "cell_type": "markdown",
   "id": "5e0f2f62-0c28-4522-aaa3-f31c62d6123d",
   "metadata": {},
   "source": [
    "## Named Scale Utilities\n",
    "\n",
    "For utilities that support named scales (e.g., sm, md, lg):"
   ]
  },
  {
   "cell_type": "code",
   "execution_count": null,
   "id": "c3d6835d-dd41-40ea-bf86-5faee01c29d4",
   "metadata": {},
   "outputs": [],
   "source": [
    "#| export\n",
    "@dataclass\n",
    "class NamedScale:\n",
    "    \"\"\"Represents a named scale with optional CSS variable.\"\"\"\n",
    "    name: str\n",
    "    var: Optional[str] = None\n",
    "    comment: Optional[str] = None\n",
    "    \n",
    "    def format(\n",
    "        self\n",
    "    ) -> str:  # The name of the scale for use in CSS classes\n",
    "        \"\"\"Format as Tailwind class suffix.\"\"\"\n",
    "        return self.name"
   ]
  },
  {
   "cell_type": "code",
   "execution_count": null,
   "id": "6afe95ef-c589-4ce3-960d-c1b0807a6535",
   "metadata": {},
   "outputs": [],
   "source": [
    "#| export\n",
    "CONTAINER_SCALES = [ # Common named scales used across utilities\n",
    "    NamedScale(\"3xs\", \"--container-3xs\", \"16rem (256px)\"),\n",
    "    NamedScale(\"2xs\", \"--container-2xs\", \"18rem (288px)\"),\n",
    "    NamedScale(\"xs\", \"--container-xs\", \"20rem (320px)\"),\n",
    "    NamedScale(\"sm\", \"--container-sm\", \"24rem (384px)\"),\n",
    "    NamedScale(\"md\", \"--container-md\", \"28rem (448px)\"),\n",
    "    NamedScale(\"lg\", \"--container-lg\", \"32rem (512px)\"),\n",
    "    NamedScale(\"xl\", \"--container-xl\", \"36rem (576px)\"),\n",
    "    NamedScale(\"2xl\", \"--container-2xl\", \"42rem (672px)\"),\n",
    "    NamedScale(\"3xl\", \"--container-3xl\", \"48rem (768px)\"),\n",
    "    NamedScale(\"4xl\", \"--container-4xl\", \"56rem (896px)\"),\n",
    "    NamedScale(\"5xl\", \"--container-5xl\", \"64rem (1024px)\"),\n",
    "    NamedScale(\"6xl\", \"--container-6xl\", \"72rem (1152px)\"),\n",
    "    NamedScale(\"7xl\", \"--container-7xl\", \"80rem (1280px)\"),\n",
    "]"
   ]
  },
  {
   "cell_type": "markdown",
   "id": "c3d53778-c227-48d7-a9ce-abc72bd912c9",
   "metadata": {},
   "source": [
    "## Modifier Support\n",
    "\n",
    "Support for responsive and state modifiers:"
   ]
  },
  {
   "cell_type": "code",
   "execution_count": null,
   "id": "0d527d8d-c7c1-4908-b06a-27391adb6445",
   "metadata": {},
   "outputs": [],
   "source": [
    "#| export\n",
    "@dataclass\n",
    "class Breakpoint:\n",
    "    \"\"\"Responsive breakpoint definition.\"\"\"\n",
    "    name: str\n",
    "    min_width: Optional[str] = None"
   ]
  },
  {
   "cell_type": "code",
   "execution_count": null,
   "id": "b081394f-9a09-47cf-a968-4ce04155b213",
   "metadata": {},
   "outputs": [],
   "source": [
    "#| export\n",
    "BREAKPOINTS = { # Common breakpoints\n",
    "    \"sm\": Breakpoint(\"sm\", \"640px\"),\n",
    "    \"md\": Breakpoint(\"md\", \"768px\"),\n",
    "    \"lg\": Breakpoint(\"lg\", \"1024px\"),\n",
    "    \"xl\": Breakpoint(\"xl\", \"1280px\"),\n",
    "    \"2xl\": Breakpoint(\"2xl\", \"1536px\"),\n",
    "}"
   ]
  },
  {
   "cell_type": "code",
   "execution_count": null,
   "id": "25fe3eb9-a799-435a-9b9f-de6db0b73877",
   "metadata": {},
   "outputs": [],
   "source": [
    "#| export\n",
    "STATE_MODIFIERS = [ # Common state modifiers\n",
    "    \"hover\", \"focus\", \"active\", \"visited\", \"target\",\n",
    "    \"focus-within\", \"focus-visible\", \"disabled\", \"enabled\",\n",
    "    \"checked\", \"indeterminate\", \"default\", \"required\",\n",
    "    \"valid\", \"invalid\", \"in-range\", \"out-of-range\",\n",
    "    \"placeholder-shown\", \"autofill\", \"read-only\",\n",
    "    \"first\", \"last\", \"odd\", \"even\", \"first-of-type\",\n",
    "    \"last-of-type\", \"only-child\", \"empty\",\n",
    "    \"before\", \"after\", \"first-letter\", \"first-line\",\n",
    "    \"marker\", \"selection\", \"file\", \"backdrop\",\n",
    "    \"placeholder\", \"open\", \"closed\",\n",
    "]"
   ]
  },
  {
   "cell_type": "markdown",
   "id": "3dfe7144-47bd-4e6a-aed7-50cd7e7b236e",
   "metadata": {},
   "source": [
    "## Utility Factory\n",
    "\n",
    "A factory function to create utility instances with method chaining:"
   ]
  },
  {
   "cell_type": "code",
   "execution_count": null,
   "id": "48fa7ba8-16f1-4baa-8a7a-794e77f0fc7d",
   "metadata": {},
   "outputs": [],
   "source": [
    "#| export\n",
    "T = TypeVar('T', bound=BaseUtility)"
   ]
  },
  {
   "cell_type": "code",
   "execution_count": null,
   "id": "92964133-c3a6-4f7e-9c9a-46e8db6f6c7d",
   "metadata": {},
   "outputs": [],
   "source": [
    "#| export\n",
    "class UtilityFactory(Generic[T]):\n",
    "    \"\"\"Factory for creating utility instances with fluent API.\"\"\"\n",
    "    \n",
    "    def __init__(\n",
    "        self,\n",
    "        utility_class: type[T],  # The utility class to instantiate\n",
    "        prefix: str  # The prefix to use for the utilities\n",
    "    ):\n",
    "        \"Initialize factory with a utility class and prefix.\"\n",
    "        self.utility_class = utility_class\n",
    "        self.prefix = prefix\n",
    "    \n",
    "    def __call__(\n",
    "        self,\n",
    "        value: Optional[TailwindValue] = None  # Initial value for the utility\n",
    "    ) -> T:  # A new instance of the utility class\n",
    "        \"\"\"Create a utility instance with optional value.\"\"\"\n",
    "        instance = self.utility_class(self.prefix)\n",
    "        if value is not None:\n",
    "            instance._value = instance._format_value(value)\n",
    "        return instance\n",
    "    \n",
    "    def __getattr__(\n",
    "        self,\n",
    "        name: str  # Attribute name to convert to a utility value\n",
    "    ) -> T:  # A new utility instance with the attribute as its value\n",
    "        \"\"\"Handle named values (e.g., w.full, h.screen).\"\"\"\n",
    "        instance = self.utility_class(self.prefix)\n",
    "        instance._value = name.replace(\"_\", \"-\")\n",
    "        return instance"
   ]
  },
  {
   "cell_type": "markdown",
   "id": "8d5e4081-9f4b-4af2-a720-1df8c35eb5a6",
   "metadata": {},
   "source": [
    "## Examples\n",
    "\n",
    "Let's test the base architecture with some examples:"
   ]
  },
  {
   "cell_type": "code",
   "execution_count": null,
   "id": "99c34eae-9ccb-48f7-9fba-5088c588437d",
   "metadata": {},
   "outputs": [],
   "source": [
    "# Test numeric scale\n",
    "assert is_numeric_scale(4) == True\n",
    "assert is_numeric_scale(2.5) == True\n",
    "assert is_numeric_scale(\"px\") == True\n",
    "assert is_numeric_scale(\"auto\") == False"
   ]
  },
  {
   "cell_type": "code",
   "execution_count": null,
   "id": "1f9af8b9-413a-4ad5-8611-dc4321a853ec",
   "metadata": {},
   "outputs": [],
   "source": [
    "# Test fraction detection\n",
    "assert is_fraction(\"1/2\") == True\n",
    "assert is_fraction(\"3/4\") == True\n",
    "assert is_fraction(\"1.5\") == False\n",
    "assert is_fraction(\"full\") == False"
   ]
  },
  {
   "cell_type": "code",
   "execution_count": null,
   "id": "73073f73-0bf9-47fe-8444-925e863b6795",
   "metadata": {},
   "outputs": [],
   "source": [
    "# Test custom property detection\n",
    "assert is_custom_property(\"--spacing-lg\") == True\n",
    "assert is_custom_property(\"--color-primary\") == True\n",
    "assert is_custom_property(\"spacing-lg\") == False"
   ]
  },
  {
   "cell_type": "code",
   "execution_count": null,
   "id": "a58199c4-63d7-4e57-ac9c-3ae3264e1192",
   "metadata": {},
   "outputs": [],
   "source": [
    "# Test arbitrary value detection\n",
    "assert is_arbitrary_value(\"10px\") == True\n",
    "assert is_arbitrary_value(\"2.5rem\") == True\n",
    "assert is_arbitrary_value(\"100%\") == True\n",
    "assert is_arbitrary_value(\"calc(100% - 20px)\") == True\n",
    "assert is_arbitrary_value(\"auto\") == False"
   ]
  },
  {
   "cell_type": "code",
   "execution_count": null,
   "id": "6e43a799-6a06-4b09-b6cd-a5e87acd824a",
   "metadata": {},
   "outputs": [],
   "source": [
    "# Test StandardUtility class\n",
    "class TestUtility(StandardUtility):\n",
    "    pass\n",
    "\n",
    "# Create test instances\n",
    "util = TestUtility(\"w\")\n",
    "\n",
    "# Test different value types\n",
    "assert util.build(4) == \"w-4\"\n",
    "assert util.build(\"1/2\") == \"w-1/2\"\n",
    "assert util.build(\"--custom\") == \"w-(--custom)\"\n",
    "assert util.build(\"10px\") == \"w-[10px]\"\n",
    "assert util.build(\"auto\") == \"w-auto\""
   ]
  },
  {
   "cell_type": "code",
   "execution_count": null,
   "id": "bb7f22ca-2da8-4599-95d0-243ff0cfd8da",
   "metadata": {},
   "outputs": [],
   "source": [
    "# Test UtilityFactory\n",
    "w = UtilityFactory(TestUtility, \"w\")\n",
    "\n",
    "# Test factory patterns\n",
    "assert str(w(4)) == \"w-4\"\n",
    "assert str(w.full) == \"w-full\"\n",
    "assert str(w.auto) == \"w-auto\"\n",
    "assert str(w.screen) == \"w-screen\""
   ]
  },
  {
   "cell_type": "markdown",
   "id": "da75f47e-7d38-49ec-9e3f-c063fceaeb05",
   "metadata": {},
   "source": [
    "## Class Combination Utility\n",
    "\n",
    "A utility function to combine multiple class builders:"
   ]
  },
  {
   "cell_type": "code",
   "execution_count": null,
   "id": "f5a5bb3c-561e-47dd-93f2-435257c482d9",
   "metadata": {},
   "outputs": [],
   "source": [
    "#| export\n",
    "def combine_classes(\n",
    "    *args: Union[str, BaseUtility, TailwindBuilder, None]\n",
    ") -> str:  # Space-separated class string\n",
    "    \"Combine multiple class builders or strings into a single class string.\"\n",
    "    classes = []\n",
    "    for arg in args:\n",
    "        if arg is None:\n",
    "            continue\n",
    "        elif isinstance(arg, str):\n",
    "            if arg.strip():  # Only add non-empty strings\n",
    "                classes.append(arg.strip())\n",
    "        elif isinstance(arg, BaseUtility):\n",
    "            classes.append(str(arg))\n",
    "        elif hasattr(arg, 'build'):\n",
    "            classes.append(arg.build())\n",
    "        elif hasattr(arg, '__str__'):\n",
    "            result = str(arg)\n",
    "            if result.strip():\n",
    "                classes.append(result)\n",
    "    \n",
    "    return \" \".join(classes)"
   ]
  },
  {
   "cell_type": "code",
   "execution_count": null,
   "id": "ada784de-59b9-408d-b417-a33020972c9a",
   "metadata": {},
   "outputs": [],
   "source": [
    "# Test combine_classes\n",
    "w_factory = UtilityFactory(TestUtility, \"w\")\n",
    "h_factory = UtilityFactory(TestUtility, \"h\")\n",
    "\n",
    "result = combine_classes(\n",
    "    w_factory(4),\n",
    "    h_factory.full,\n",
    "    \"flex\",\n",
    "    None,\n",
    "    \"items-center\"\n",
    ")\n",
    "assert result == \"w-4 h-full flex items-center\""
   ]
  },
  {
   "cell_type": "markdown",
   "id": "8309e909-c02c-4258-9168-85ba6eef3b48",
   "metadata": {},
   "source": [
    "## Directional Utilities\n",
    "\n",
    "Support for utilities with directional variants (top, right, bottom, left):"
   ]
  },
  {
   "cell_type": "code",
   "execution_count": null,
   "id": "836e6615-578c-4ff7-9a4c-bc9972f29ea9",
   "metadata": {},
   "outputs": [],
   "source": [
    "#| export\n",
    "@dataclass\n",
    "class Direction:\n",
    "    \"\"\"Represents a directional variant.\"\"\"\n",
    "    suffix: str\n",
    "    css_suffix: str"
   ]
  },
  {
   "cell_type": "code",
   "execution_count": null,
   "id": "69dfdfb5-793c-477b-9ae2-c1ce05e837ed",
   "metadata": {},
   "outputs": [],
   "source": [
    "#| export\n",
    "DIRECTIONS = { # Common directions\n",
    "    \"t\": Direction(\"t\", \"top\"),      # top\n",
    "    \"r\": Direction(\"r\", \"right\"),    # right\n",
    "    \"b\": Direction(\"b\", \"bottom\"),   # bottom\n",
    "    \"l\": Direction(\"l\", \"left\"),     # left\n",
    "    \"x\": Direction(\"x\", \"inline\"),   # horizontal\n",
    "    \"y\": Direction(\"y\", \"block\"),    # vertical\n",
    "}"
   ]
  },
  {
   "cell_type": "code",
   "execution_count": null,
   "id": "219e9549-0778-4f36-a5f5-8137fcc21bc8",
   "metadata": {},
   "outputs": [],
   "source": [
    "#| export\n",
    "class DirectionalUtility(StandardUtility):\n",
    "    \"\"\"Base class for utilities with directional variants.\"\"\"\n",
    "    \n",
    "    def __init__(\n",
    "        self,\n",
    "        prefix: str,  # Base prefix (e.g., 'p' for padding)\n",
    "        direction: Optional[str] = None  # Optional direction ('t', 'r', 'b', 'l', 'x', 'y')\n",
    "    ):\n",
    "        \"\"\"Initialize with prefix and optional direction.\"\"\"\n",
    "        if direction and direction in DIRECTIONS:\n",
    "            full_prefix = f\"{prefix}{direction}\"\n",
    "        else:\n",
    "            full_prefix = prefix\n",
    "        super().__init__(full_prefix)"
   ]
  },
  {
   "cell_type": "code",
   "execution_count": null,
   "id": "08715d26-cfee-4049-b592-ed83f2c6013c",
   "metadata": {},
   "outputs": [],
   "source": [
    "# Test directional utilities\n",
    "pt = DirectionalUtility(\"p\", \"t\")\n",
    "assert pt.build(4) == \"pt-4\"\n",
    "\n",
    "px = DirectionalUtility(\"p\", \"x\")\n",
    "assert px.build(8) == \"px-8\""
   ]
  },
  {
   "cell_type": "markdown",
   "id": "1b522244-1197-445b-aa69-a30c92e67157",
   "metadata": {},
   "source": [
    "## Negative Value Support\n",
    "\n",
    "Support for utilities that can have negative values:"
   ]
  },
  {
   "cell_type": "code",
   "execution_count": null,
   "id": "15592f07-a279-42b6-9bf1-eb091bcc7e8c",
   "metadata": {},
   "outputs": [],
   "source": [
    "#| export\n",
    "class NegativeableUtility(StandardUtility):\n",
    "    \"\"\"Utility class that supports negative values.\"\"\"\n",
    "    \n",
    "    def __init__(\n",
    "        self,\n",
    "        prefix: str,  # Base prefix\n",
    "        negative: bool = False  # Whether this is a negative variant\n",
    "    ):\n",
    "        \"\"\"Initialize with prefix and negative flag.\"\"\"\n",
    "        self.negative = negative\n",
    "        full_prefix = f\"-{prefix}\" if negative else prefix\n",
    "        super().__init__(full_prefix)"
   ]
  },
  {
   "cell_type": "code",
   "execution_count": null,
   "id": "5e9fcce8-d924-42df-9bdb-b04a6897ff0b",
   "metadata": {},
   "outputs": [],
   "source": []
  },
  {
   "cell_type": "code",
   "execution_count": null,
   "id": "b1fa5632-5a31-415b-8743-2158ec4bde26",
   "metadata": {},
   "outputs": [],
   "source": []
  },
  {
   "cell_type": "code",
   "execution_count": null,
   "id": "1ba18ece-1995-4826-898b-480b9820ad15",
   "metadata": {},
   "outputs": [],
   "source": []
  },
  {
   "cell_type": "code",
   "execution_count": null,
   "id": "5633664c-6476-4f5c-b401-23923218342f",
   "metadata": {},
   "outputs": [],
   "source": []
  },
  {
   "cell_type": "code",
   "execution_count": null,
   "id": "4048663f-c7f1-4b35-bf80-4a047bb5e262",
   "metadata": {},
   "outputs": [],
   "source": []
  },
  {
   "cell_type": "code",
   "execution_count": null,
   "id": "c8207eaa-47ba-4411-8718-703d2d6b630e",
   "metadata": {},
   "outputs": [],
   "source": []
  },
  {
   "cell_type": "code",
   "execution_count": null,
   "id": "4c511a6d-fd69-4b28-ac78-d6c83cadd329",
   "metadata": {},
   "outputs": [],
   "source": []
  },
  {
   "cell_type": "code",
   "execution_count": null,
   "id": "afe320cc-bfd3-45b1-b82e-e765710c98c2",
   "metadata": {},
   "outputs": [],
   "source": []
  },
  {
   "cell_type": "code",
   "execution_count": null,
   "id": "fef8280f-68dc-4116-b767-5e9aa3e2d58c",
   "metadata": {},
   "outputs": [],
   "source": []
  },
  {
   "cell_type": "code",
   "execution_count": null,
   "id": "4c1c500d-df26-4aa1-b081-6b18906af4b8",
   "metadata": {},
   "outputs": [],
   "source": []
  },
  {
   "cell_type": "code",
   "execution_count": null,
   "id": "12d71dfd-4777-4365-adcc-7ea94d9315f0",
   "metadata": {},
   "outputs": [],
   "source": []
  },
  {
   "cell_type": "code",
   "execution_count": null,
   "id": "091b0c9a-0037-4a59-965e-8587b30c6c67",
   "metadata": {},
   "outputs": [],
   "source": []
  },
  {
   "cell_type": "code",
   "execution_count": null,
   "id": "a5eed67c-3df1-4a59-ad4c-59816c970ef8",
   "metadata": {},
   "outputs": [],
   "source": []
  },
  {
   "cell_type": "code",
   "execution_count": null,
   "id": "3cb5a8b4-eb6b-4c52-a68f-3230592ee3c5",
   "metadata": {},
   "outputs": [],
   "source": []
  },
  {
   "cell_type": "code",
   "execution_count": null,
   "id": "607f5b03-e11b-4458-bc33-c1c3cf8bd2fd",
   "metadata": {},
   "outputs": [],
   "source": []
  },
  {
   "cell_type": "code",
   "execution_count": null,
   "id": "5d88108d-8afa-4ede-a76f-d40a777a13c8",
   "metadata": {},
   "outputs": [],
   "source": []
  },
  {
   "cell_type": "code",
   "execution_count": null,
   "id": "f30b911a-1dee-4c06-937b-565c6559b826",
   "metadata": {},
   "outputs": [],
   "source": []
  },
  {
   "cell_type": "code",
   "execution_count": null,
   "id": "11096f08-cf95-425d-a798-b4be311c6502",
   "metadata": {},
   "outputs": [],
   "source": []
  },
  {
   "cell_type": "code",
   "execution_count": null,
   "id": "913970a7-3ceb-425d-94c3-08a60370e8be",
   "metadata": {},
   "outputs": [],
   "source": []
  },
  {
   "cell_type": "code",
   "execution_count": null,
   "id": "c61acb92-4733-4ff4-a8e7-5ccf89ddf875",
   "metadata": {},
   "outputs": [],
   "source": []
  },
  {
   "cell_type": "code",
   "execution_count": null,
   "id": "3a7fbd36-454c-4848-82e1-ed6eac14d2d2",
   "metadata": {},
   "outputs": [],
   "source": []
  },
  {
   "cell_type": "code",
   "execution_count": null,
   "id": "c6a7d604-3b94-49ce-81bd-7c1de111b70e",
   "metadata": {},
   "outputs": [],
   "source": []
  },
  {
   "cell_type": "code",
   "execution_count": null,
   "id": "8e05a4b5-3573-4700-9672-8d0b4754db0c",
   "metadata": {},
   "outputs": [],
   "source": []
  },
  {
   "cell_type": "code",
   "execution_count": null,
   "id": "f5b91407-2386-44d7-a8fe-8529ab83c8bf",
   "metadata": {},
   "outputs": [],
   "source": []
  },
  {
   "cell_type": "code",
   "execution_count": null,
   "id": "010cafad-032d-49dc-beca-05b18fe4886f",
   "metadata": {},
   "outputs": [],
   "source": []
  },
  {
   "cell_type": "code",
   "execution_count": null,
   "id": "4b9d82db-e5fd-43f8-be6f-5a2a11adb8e6",
   "metadata": {},
   "outputs": [],
   "source": []
  },
  {
   "cell_type": "code",
   "execution_count": null,
   "id": "3342a060-4029-4248-82a9-b11ae812a9e3",
   "metadata": {},
   "outputs": [],
   "source": []
  },
  {
   "cell_type": "code",
   "execution_count": null,
   "id": "2a8c3876-9a59-4d3b-b3fc-73e31192ecde",
   "metadata": {},
   "outputs": [],
   "source": []
  },
  {
   "cell_type": "code",
   "execution_count": null,
   "id": "839aa358-686d-400f-9281-82bae3c66eb4",
   "metadata": {},
   "outputs": [],
   "source": []
  },
  {
   "cell_type": "code",
   "execution_count": null,
   "id": "e59a2ac5-cd89-4d4f-b5fe-1b4839ad9aaa",
   "metadata": {},
   "outputs": [],
   "source": []
  },
  {
   "cell_type": "code",
   "execution_count": null,
   "id": "e276a884-072a-4b57-a8c0-5b52f6ee45a8",
   "metadata": {},
   "outputs": [],
   "source": []
  },
  {
   "cell_type": "code",
   "execution_count": null,
   "id": "475adbbe-f14b-40bd-96a2-bf72cd3af330",
   "metadata": {},
   "outputs": [],
   "source": []
  },
  {
   "cell_type": "code",
   "execution_count": null,
   "id": "4fce729f-436b-44cf-a8a8-9fb282ab161a",
   "metadata": {},
   "outputs": [],
   "source": []
  },
  {
   "cell_type": "code",
   "execution_count": null,
   "id": "ec80b33d-4157-49e4-82be-52487c61471e",
   "metadata": {},
   "outputs": [],
   "source": [
    "#| hide\n",
    "import nbdev; nbdev.nbdev_export()"
   ]
  }
 ],
 "metadata": {
  "kernelspec": {
   "display_name": "python3",
   "language": "python",
   "name": "python3"
  }
 },
 "nbformat": 4,
 "nbformat_minor": 5
}
