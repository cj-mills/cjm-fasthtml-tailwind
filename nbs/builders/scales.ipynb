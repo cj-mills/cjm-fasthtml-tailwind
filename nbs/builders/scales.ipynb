{
 "cells": [
  {
   "cell_type": "markdown",
   "id": "c1377211-6fd1-4fba-8871-45110a96c241",
   "metadata": {},
   "source": [
    "# scales\n",
    "\n",
    "> Numeric and named scale builders for Tailwind CSS utilities"
   ]
  },
  {
   "cell_type": "code",
   "execution_count": null,
   "id": "13ac5a60-d078-44ff-8465-6ce380b64fd3",
   "metadata": {},
   "outputs": [],
   "source": [
    "#| default_exp builders.scales"
   ]
  },
  {
   "cell_type": "code",
   "execution_count": null,
   "id": "23c21944-7f89-4b45-a5c4-bbde2cb8d703",
   "metadata": {},
   "outputs": [],
   "source": [
    "#| hide\n",
    "from nbdev.showdoc import *"
   ]
  },
  {
   "cell_type": "code",
   "execution_count": null,
   "id": "2b807211-75a1-40ca-98da-95de22316ab1",
   "metadata": {},
   "outputs": [],
   "source": [
    "#| export\n",
    "from typing import Dict, List, Union, Optional, Tuple, Callable, Any\n",
    "from dataclasses import dataclass\n",
    "from cjm_fasthtml_tailwind.core.base import (\n",
    "    NamedScale, CONTAINER_SCALES, TailwindScale, \n",
    "    BaseUtility, StandardUtility, DirectionalUtility,\n",
    "    UtilityFactory, is_numeric_scale, BaseFactory, SingleValueUtility\n",
    ")"
   ]
  },
  {
   "cell_type": "markdown",
   "id": "fb1e937a-9cb2-411c-9490-79cee8bb6bb1",
   "metadata": {},
   "source": [
    "## Numeric Scale Definitions\n",
    "\n",
    "Define the standard numeric scales used by Tailwind CSS:"
   ]
  },
  {
   "cell_type": "code",
   "execution_count": null,
   "id": "7c490e69-5c29-43d7-91d5-3a68c1811b9c",
   "metadata": {},
   "outputs": [],
   "source": [
    "#| export\n",
    "NUMERIC_SCALE = list(range(97)) # Standard spacing scale (0-96)\n",
    "\n",
    "DECIMAL_SCALE = [0.5, 1.5, 2.5, 3.5] # Common decimal scales\n",
    "\n",
    "SPACING_SCALE = sorted(set(NUMERIC_SCALE + DECIMAL_SCALE)) # Extended spacing scale with decimals\n",
    "\n",
    "FRACTION_DENOMINATORS = [2, 3, 4, 5, 6, 12] # Fraction denominators supported by Tailwind"
   ]
  },
  {
   "cell_type": "code",
   "execution_count": null,
   "id": "8e76dfde-def8-4960-9206-b77724455d76",
   "metadata": {},
   "outputs": [],
   "source": [
    "#| export\n",
    "def generate_fractions(\n",
    ") -> List[str]:  # List of all valid Tailwind fraction strings sorted by value\n",
    "    \"\"\"Generate all valid Tailwind fractions.\"\"\"\n",
    "    fractions = []\n",
    "    for denominator in FRACTION_DENOMINATORS:\n",
    "        for numerator in range(1, denominator):\n",
    "            fractions.append(f\"{numerator}/{denominator}\")\n",
    "    return sorted(set(fractions), key=lambda x: eval(x))  # Sort by actual value\n",
    "\n",
    "FRACTIONS = generate_fractions() # Pre-generate fractions"
   ]
  },
  {
   "cell_type": "markdown",
   "id": "8db34dda-fb16-44cb-a0a9-efe10c44d697",
   "metadata": {},
   "source": [
    "## Scale Builders\n",
    "\n",
    "Builders for creating utilities with different scale types:"
   ]
  },
  {
   "cell_type": "code",
   "execution_count": null,
   "id": "23bc924d-8214-481c-ab68-a5c722f26e9b",
   "metadata": {},
   "outputs": [],
   "source": [
    "#| export\n",
    "@dataclass\n",
    "class ScaleConfig:\n",
    "    \"\"\"Configuration for a scale builder.\"\"\"\n",
    "    numeric: bool = True  # Support numeric scales (0-96)\n",
    "    decimals: bool = False  # Support decimal scales (0.5, 1.5, etc.)\n",
    "    fractions: bool = False  # Support fractions (1/2, 1/3, etc.)\n",
    "    named: Optional[List[NamedScale]] = None  # Named scales (xs, sm, md, etc.)\n",
    "    special: Optional[Dict[str, str]] = None  # Special values (auto, full, screen, etc.)\n",
    "    negative: bool = False  # Support negative values"
   ]
  },
  {
   "cell_type": "code",
   "execution_count": null,
   "id": "a9b52c2b-3a72-4827-aaa1-0c66386df298",
   "metadata": {},
   "outputs": [],
   "source": [
    "#| export\n",
    "class ScaledUtility(StandardUtility):\n",
    "    \"\"\"Utility class with scale support.\"\"\"\n",
    "    \n",
    "    def __init__(\n",
    "        self, \n",
    "        prefix: str,  # The utility prefix (e.g., 'w', 'h', 'p')\n",
    "        config: ScaleConfig,  # Configuration defining valid scales and values\n",
    "        negative: bool = False  # Whether this is a negative variant\n",
    "    ):\n",
    "        \"\"\"Initialize with prefix and scale configuration.\"\"\"\n",
    "        self.config = config\n",
    "        self.negative = negative\n",
    "        full_prefix = f\"-{prefix}\" if negative else prefix\n",
    "        super().__init__(full_prefix)\n",
    "    \n",
    "    def _format_value(\n",
    "        self,\n",
    "        value: TailwindScale  # The value to format (can be numeric, fraction, or string)\n",
    "    ) -> str:  # The formatted value string with appropriate wrapping\n",
    "        \"\"\"\n",
    "        Format value according to Tailwind conventions with scale awareness:\n",
    "        - Values with spaces: wrapped in brackets (arbitrary)\n",
    "        - String numbers not in scale: wrapped in brackets\n",
    "        - Otherwise: use standard formatting\n",
    "        \"\"\"\n",
    "        # First check if it's a string containing spaces\n",
    "        if isinstance(value, str) and ' ' in value:\n",
    "            return f\"[{value}]\"\n",
    "        \n",
    "        # Check if it's a string number that should be arbitrary\n",
    "        if isinstance(value, str) and value.isdigit():\n",
    "            # Check if this number is in the valid numeric scale for this utility\n",
    "            if self.config.numeric and int(value) in NUMERIC_SCALE:\n",
    "                # It's a valid numeric scale value, format normally\n",
    "                return value\n",
    "            else:\n",
    "                # It's outside the scale, treat as arbitrary\n",
    "                return f\"[{value}]\"\n",
    "        \n",
    "        # Otherwise use the standard formatting from parent class\n",
    "        return super()._format_value(value)\n",
    "    \n",
    "    def get_valid_values(\n",
    "        self\n",
    "    ) -> List[Union[str, int, float]]:  # List of all valid values for this utility\n",
    "        \"\"\"Get all valid values for this utility.\"\"\"\n",
    "        values = []\n",
    "        \n",
    "        # Add numeric scales\n",
    "        if self.config.numeric:\n",
    "            values.extend(NUMERIC_SCALE)\n",
    "        \n",
    "        # Add decimal scales\n",
    "        if self.config.decimals:\n",
    "            values.extend(DECIMAL_SCALE)\n",
    "        \n",
    "        # Add fractions\n",
    "        if self.config.fractions:\n",
    "            values.extend(FRACTIONS)\n",
    "        \n",
    "        # Add named scales\n",
    "        if self.config.named:\n",
    "            values.extend([scale.name for scale in self.config.named])\n",
    "        \n",
    "        # Add special values\n",
    "        if self.config.special:\n",
    "            values.extend(self.config.special.keys())\n",
    "        \n",
    "        return values"
   ]
  },
  {
   "cell_type": "markdown",
   "id": "c474be54-bac2-4850-b60a-330cfa76e154",
   "metadata": {},
   "source": [
    "## Scale Factory\n",
    "\n",
    "Enhanced factory that supports all scale types:"
   ]
  },
  {
   "cell_type": "code",
   "execution_count": null,
   "id": "e6a237f6-dbc9-4b0e-86ce-1a36b48faef6",
   "metadata": {},
   "outputs": [],
   "source": [
    "#| export\n",
    "class ScaledFactory(UtilityFactory[ScaledUtility]):\n",
    "    \"\"\"Factory for creating scaled utilities with enhanced attribute access.\"\"\"\n",
    "    \n",
    "    def __init__(\n",
    "        self, \n",
    "        prefix: str,  # The utility prefix (e.g., 'w', 'h', 'p')\n",
    "        config: ScaleConfig,  # Configuration defining valid scales and values\n",
    "        doc: Optional[str] = None  # Optional documentation string\n",
    "    ):\n",
    "        \"\"\"Initialize with prefix and scale configuration.\"\"\"\n",
    "        self.config = config\n",
    "        super().__init__(ScaledUtility, prefix, doc)\n",
    "    \n",
    "    def __call__(\n",
    "        self, \n",
    "        value: Optional[TailwindScale] = None,  # The value to apply to the utility\n",
    "        negative: bool = False  # Whether to create a negative variant\n",
    "    ) -> ScaledUtility:  # A new scaled utility instance\n",
    "        \"\"\"Create a utility instance with optional value.\"\"\"\n",
    "        instance = ScaledUtility(self.prefix, self.config, negative)\n",
    "        if value is not None:\n",
    "            instance._value = instance._format_value(value)\n",
    "        return instance\n",
    "    \n",
    "    def __getattr__(\n",
    "        self,\n",
    "        name: str  # The attribute name to convert to a utility value\n",
    "    ) -> ScaledUtility:  # A new scaled utility instance with the attribute as value\n",
    "        \"\"\"\n",
    "        Handle attribute access for named values.\n",
    "        Examples: w.full, h.screen, p.auto, w._2xl\n",
    "        \"\"\"\n",
    "        # Handle negative prefix\n",
    "        if name.startswith(\"neg_\"):\n",
    "            actual_name = name[4:]  # Remove \"neg_\" prefix\n",
    "            # Handle leading underscore for negative values too\n",
    "            if actual_name.startswith(\"_\") and len(actual_name) > 1:\n",
    "                actual_name = actual_name[1:]\n",
    "            instance = ScaledUtility(self.prefix, self.config, negative=True)\n",
    "            instance._value = actual_name.replace(\"_\", \"-\")\n",
    "            return instance\n",
    "        \n",
    "        # Handle leading underscore (for values that start with numbers)\n",
    "        if name.startswith(\"_\") and len(name) > 1:\n",
    "            # Remove the leading underscore\n",
    "            actual_name = name[1:]\n",
    "        else:\n",
    "            actual_name = name\n",
    "        \n",
    "        # Regular attribute access\n",
    "        instance = ScaledUtility(self.prefix, self.config)\n",
    "        instance._value = actual_name.replace(\"_\", \"-\")\n",
    "        return instance\n",
    "    \n",
    "    @property\n",
    "    def negative(\n",
    "        self\n",
    "    ) -> 'NegativeFactory':  # A factory for creating negative variants\n",
    "        \"\"\"Return a negative variant factory.\"\"\"\n",
    "        return NegativeFactory(self.prefix, self.config)\n",
    "    \n",
    "    def get_info(\n",
    "        self\n",
    "    ) -> Dict[str, Any]:  # Dictionary with factory information\n",
    "        \"\"\"Get detailed information about this scaled factory.\"\"\"\n",
    "        valid_inputs = []\n",
    "        \n",
    "        if self.config.numeric:\n",
    "            valid_inputs.append(f\"Numeric scales: 0-{max(NUMERIC_SCALE)}\")\n",
    "        \n",
    "        if self.config.decimals:\n",
    "            valid_inputs.append(f\"Decimal scales: {', '.join(str(d) for d in DECIMAL_SCALE)}\")\n",
    "        \n",
    "        if self.config.fractions:\n",
    "            valid_inputs.append(f\"Fractions: {len(FRACTIONS)} supported (e.g., 1/2, 2/3, 3/4)\")\n",
    "        \n",
    "        if self.config.named:\n",
    "            named_values = [scale.name for scale in self.config.named]\n",
    "            valid_inputs.append(f\"Named scales: {', '.join(named_values)}\")\n",
    "        \n",
    "        if self.config.special:\n",
    "            valid_inputs.append(f\"Special values: {', '.join(self.config.special.keys())}\")\n",
    "        \n",
    "        valid_inputs.append(\"Arbitrary values: Any string with CSS units (e.g., '10px', '2.5rem')\")\n",
    "        valid_inputs.append(\"Custom properties: CSS variables starting with -- (e.g., '--spacing')\")\n",
    "        \n",
    "        options = {\n",
    "            'prefix': self.prefix,\n",
    "            'supports_negative': self.config.negative\n",
    "        }\n",
    "        \n",
    "        if self.config.negative:\n",
    "            options['negative_access'] = 'Use .negative property or negative=True parameter'\n",
    "        \n",
    "        return {\n",
    "            'description': self._doc,\n",
    "            'valid_inputs': valid_inputs,\n",
    "            'options': options\n",
    "        }"
   ]
  },
  {
   "cell_type": "code",
   "execution_count": null,
   "id": "496fc293-94dd-4743-8e68-711f9c3cb492",
   "metadata": {},
   "outputs": [],
   "source": [
    "#| export\n",
    "class NegativeFactory:\n",
    "    \"\"\"Factory for creating negative variants.\"\"\"\n",
    "    \n",
    "    def __init__(\n",
    "        self,\n",
    "        prefix: str,  # The utility prefix (e.g., 'm', 'inset')\n",
    "        config: ScaleConfig  # Configuration defining valid scales and values\n",
    "    ):\n",
    "        \"Initialize with prefix and scale configuration.\"\n",
    "        self.prefix = prefix\n",
    "        self.config = config\n",
    "    \n",
    "    def __call__(\n",
    "        self,\n",
    "        value: TailwindScale  # The value to apply to the negative utility\n",
    "    ) -> ScaledUtility:  # A new negative scaled utility instance\n",
    "        \"\"\"Create a negative utility instance.\"\"\"\n",
    "        instance = ScaledUtility(self.prefix, self.config, negative=True)\n",
    "        instance._value = instance._format_value(value)\n",
    "        return instance\n",
    "    \n",
    "    def __getattr__(\n",
    "        self,\n",
    "        name: str  # The attribute name to convert to a negative utility value\n",
    "    ) -> ScaledUtility:  # A new negative scaled utility instance\n",
    "        \"\"\"Handle attribute access for negative named values.\"\"\"\n",
    "        instance = ScaledUtility(self.prefix, self.config, negative=True)\n",
    "        instance._value = name.replace(\"_\", \"-\")\n",
    "        return instance"
   ]
  },
  {
   "cell_type": "markdown",
   "id": "f08cde4a-d042-4ed4-9d8c-fd283cda9d44",
   "metadata": {},
   "source": [
    "## Directional Scale Factory\n",
    "\n",
    "Factory for utilities with directional variants:"
   ]
  },
  {
   "cell_type": "code",
   "execution_count": null,
   "id": "b5b097bc-c6da-4da9-bd6b-39a9efe2a81b",
   "metadata": {},
   "outputs": [],
   "source": [
    "#| export\n",
    "class DirectionalScaledUtility(DirectionalUtility):\n",
    "    \"\"\"Directional utility with scale support.\"\"\"\n",
    "    \n",
    "    def __init__(\n",
    "        self, \n",
    "        prefix: str,  # The base utility prefix (e.g., 'p' for padding)\n",
    "        direction: Optional[str],  # The direction suffix ('t', 'r', 'b', 'l', 'x', 'y')\n",
    "        config: ScaleConfig,  # Configuration defining valid scales and values\n",
    "        negative: bool = False  # Whether this is a negative variant\n",
    "    ):\n",
    "        \"\"\"Initialize with prefix, direction, and scale configuration.\"\"\"\n",
    "        self.config = config\n",
    "        self.negative = negative\n",
    "        # Apply negative prefix before direction\n",
    "        base_prefix = f\"-{prefix}\" if negative else prefix\n",
    "        super().__init__(base_prefix, direction)"
   ]
  },
  {
   "cell_type": "code",
   "execution_count": null,
   "id": "8aef32f4-befb-4223-8492-c940d2c1699f",
   "metadata": {},
   "outputs": [],
   "source": [
    "#| export\n",
    "class DirectionalScaledFactory(BaseFactory):\n",
    "    \"\"\"Factory for creating directional scaled utilities.\"\"\"\n",
    "    \n",
    "    def __init__(\n",
    "        self, \n",
    "        prefix: str,  # The base utility prefix (e.g., 'p' for padding, 'm' for margin)\n",
    "        config: ScaleConfig,  # Configuration defining valid scales and values\n",
    "        doc: Optional[str] = None  # Optional documentation string\n",
    "    ):\n",
    "        \"\"\"Initialize with prefix and scale configuration.\"\"\"\n",
    "        doc = doc or f\"Factory for {prefix} utilities with directional variants\"\n",
    "        super().__init__(doc)\n",
    "        self.prefix = prefix\n",
    "        self.config = config\n",
    "        \n",
    "        # Create direction-specific factories\n",
    "        self.t = ScaledFactory(f\"{prefix}t\", config, f\"Top {prefix} utilities\")  # top\n",
    "        self.r = ScaledFactory(f\"{prefix}r\", config, f\"Right {prefix} utilities\")  # right\n",
    "        self.b = ScaledFactory(f\"{prefix}b\", config, f\"Bottom {prefix} utilities\")  # bottom\n",
    "        self.l = ScaledFactory(f\"{prefix}l\", config, f\"Left {prefix} utilities\")  # left\n",
    "        self.x = ScaledFactory(f\"{prefix}x\", config, f\"Horizontal {prefix} utilities\")  # horizontal\n",
    "        self.y = ScaledFactory(f\"{prefix}y\", config, f\"Vertical {prefix} utilities\")  # vertical\n",
    "    \n",
    "    def __call__(\n",
    "        self, \n",
    "        value: Optional[TailwindScale] = None,  # The value to apply to all directions\n",
    "        negative: bool = False  # Whether to create a negative variant\n",
    "    ) -> ScaledUtility:  # A new scaled utility for all directions\n",
    "        \"\"\"Create a utility instance for all directions.\"\"\"\n",
    "        return ScaledFactory(self.prefix, self.config, f\"All sides {self.prefix} utilities\")(value, negative)\n",
    "    \n",
    "    def __getattr__(\n",
    "        self,\n",
    "        name: str  # The attribute name to convert to a utility value\n",
    "    ) -> ScaledUtility:  # A new scaled utility instance\n",
    "        \"\"\"Handle attribute access for named values.\"\"\"\n",
    "        return ScaledFactory(self.prefix, self.config).__getattr__(name)\n",
    "    \n",
    "    @property\n",
    "    def negative(\n",
    "        self\n",
    "    ) -> 'NegativeFactory':  # A factory for creating negative variants\n",
    "        \"\"\"Return a negative variant factory.\"\"\"\n",
    "        return NegativeFactory(self.prefix, self.config)\n",
    "    \n",
    "    def get_info(\n",
    "        self\n",
    "    ) -> Dict[str, Any]:  # Dictionary with factory information\n",
    "        \"\"\"Get detailed information about this directional factory.\"\"\"\n",
    "        # Get valid inputs from the config (same as ScaledFactory)\n",
    "        valid_inputs = []\n",
    "        \n",
    "        if self.config.numeric:\n",
    "            valid_inputs.append(f\"Numeric scales: 0-{max(NUMERIC_SCALE)}\")\n",
    "        \n",
    "        if self.config.decimals:\n",
    "            valid_inputs.append(f\"Decimal scales: {', '.join(str(d) for d in DECIMAL_SCALE)}\")\n",
    "        \n",
    "        if self.config.fractions:\n",
    "            valid_inputs.append(f\"Fractions: {len(FRACTIONS)} supported (e.g., 1/2, 2/3, 3/4)\")\n",
    "        \n",
    "        if self.config.named:\n",
    "            named_values = [scale.name for scale in self.config.named]\n",
    "            valid_inputs.append(f\"Named scales: {', '.join(named_values)}\")\n",
    "        \n",
    "        if self.config.special:\n",
    "            valid_inputs.append(f\"Special values: {', '.join(self.config.special.keys())}\")\n",
    "        \n",
    "        valid_inputs.append(\"Arbitrary values: Any string with CSS units (e.g., '10px', '2.5rem')\")\n",
    "        valid_inputs.append(\"Custom properties: CSS variables starting with -- (e.g., '--spacing')\")\n",
    "        \n",
    "        options = {\n",
    "            'prefix': self.prefix,\n",
    "            'supports_negative': self.config.negative,\n",
    "            'directional_variants': {\n",
    "                't': 'top',\n",
    "                'r': 'right', \n",
    "                'b': 'bottom',\n",
    "                'l': 'left',\n",
    "                'x': 'horizontal (left and right)',\n",
    "                'y': 'vertical (top and bottom)'\n",
    "            }\n",
    "        }\n",
    "        \n",
    "        if self.config.negative:\n",
    "            options['negative_access'] = 'Use .negative property or negative=True parameter'\n",
    "        \n",
    "        return {\n",
    "            'description': self._doc,\n",
    "            'valid_inputs': valid_inputs,\n",
    "            'options': options\n",
    "        }"
   ]
  },
  {
   "cell_type": "markdown",
   "id": "8c6a4a72-8ff5-4701-bedb-24a3cb8871f4",
   "metadata": {},
   "source": [
    "## Pre-configured Scale Configs\n",
    "\n",
    "Common scale configurations for different utility types:"
   ]
  },
  {
   "cell_type": "code",
   "execution_count": null,
   "id": "09a9d7d9-66fa-4abb-a58b-7db6196c0c1b",
   "metadata": {},
   "outputs": [],
   "source": [
    "#| export\n",
    "SPACING_CONFIG = ScaleConfig( # Spacing configuration (padding, margin, gap)\n",
    "    numeric=True,\n",
    "    decimals=True,\n",
    "    fractions=False,\n",
    "    named=None,\n",
    "    special={\"px\": \"px\", \"auto\": \"auto\"},\n",
    "    negative=True\n",
    ")\n",
    "\n",
    "SIZE_CONFIG = ScaleConfig( # Size configuration (width, height)\n",
    "    numeric=True,\n",
    "    decimals=True,\n",
    "    fractions=True,\n",
    "    named=CONTAINER_SCALES,\n",
    "    special={\n",
    "        \"auto\": \"auto\",\n",
    "        \"px\": \"px\", \n",
    "        \"full\": \"full\",\n",
    "        \"screen\": \"screen\",\n",
    "        \"svw\": \"svw\",\n",
    "        \"svh\": \"svh\",\n",
    "        \"lvw\": \"lvw\", \n",
    "        \"lvh\": \"lvh\",\n",
    "        \"dvw\": \"dvw\",\n",
    "        \"dvh\": \"dvh\",\n",
    "        \"min\": \"min\",\n",
    "        \"max\": \"max\",\n",
    "        \"fit\": \"fit\",\n",
    "        \"lh\": \"lh\"  # line-height unit for height\n",
    "    },\n",
    "    negative=False\n",
    ")\n",
    "\n",
    "INSET_CONFIG = ScaleConfig( # Inset configuration (top, right, bottom, left)\n",
    "    numeric=True,\n",
    "    decimals=True,\n",
    "    fractions=True,\n",
    "    named=None,\n",
    "    special={\n",
    "        \"auto\": \"auto\",\n",
    "        \"px\": \"px\",\n",
    "        \"full\": \"full\"\n",
    "    },\n",
    "    negative=True\n",
    ")"
   ]
  },
  {
   "cell_type": "markdown",
   "id": "c4228567-2df8-4511-b5bb-1c58200be515",
   "metadata": {},
   "source": [
    "## Examples\n",
    "\n",
    "Test the scale builders with various configurations:"
   ]
  },
  {
   "cell_type": "code",
   "execution_count": null,
   "id": "2728a0b0-e80a-4c44-83e0-1da5c4e7f7f4",
   "metadata": {},
   "outputs": [],
   "source": [
    "# Test basic numeric scales\n",
    "w = ScaledFactory(\"w\", SIZE_CONFIG)\n",
    "assert str(w(4)) == \"w-4\"\n",
    "assert str(w(2.5)) == \"w-2.5\"\n",
    "assert str(w(0)) == \"w-0\""
   ]
  },
  {
   "cell_type": "code",
   "execution_count": null,
   "id": "e4723be4-91b2-4ebf-841f-48ab81709380",
   "metadata": {},
   "outputs": [],
   "source": [
    "# Test fraction support\n",
    "assert str(w(\"1/2\")) == \"w-1/2\"\n",
    "assert str(w(\"3/4\")) == \"w-3/4\"\n",
    "assert str(w(\"2/3\")) == \"w-2/3\""
   ]
  },
  {
   "cell_type": "code",
   "execution_count": null,
   "id": "31420490-436d-4f41-9dab-a6aedd0c1cce",
   "metadata": {},
   "outputs": [],
   "source": [
    "# Test named scales\n",
    "assert str(w.xs) == \"w-xs\"\n",
    "assert str(w.sm) == \"w-sm\"\n",
    "assert str(w.lg) == \"w-lg\"\n",
    "assert str(w._2xl) == \"w-2xl\"  # Python identifiers can't start with numbers"
   ]
  },
  {
   "cell_type": "code",
   "execution_count": null,
   "id": "0c09423e-2187-40ed-8daa-70aa99060122",
   "metadata": {},
   "outputs": [],
   "source": [
    "# Test special values\n",
    "assert str(w.auto) == \"w-auto\"\n",
    "assert str(w.full) == \"w-full\"\n",
    "assert str(w.screen) == \"w-screen\"\n",
    "assert str(w.px) == \"w-px\""
   ]
  },
  {
   "cell_type": "code",
   "execution_count": null,
   "id": "b927d2d6-36aa-4381-bd39-92788ad02eb0",
   "metadata": {},
   "outputs": [],
   "source": [
    "# Test arbitrary values\n",
    "assert str(w(\"10px\")) == \"w-[10px]\"\n",
    "assert str(w(\"2.5rem\")) == \"w-[2.5rem]\"\n",
    "assert str(w(\"calc(100% - 20px)\")) == \"w-[calc(100% - 20px)]\""
   ]
  },
  {
   "cell_type": "code",
   "execution_count": null,
   "id": "1002ad75-e978-4780-b468-345364711b3c",
   "metadata": {},
   "outputs": [],
   "source": [
    "# Test custom properties\n",
    "assert str(w(\"--custom-width\")) == \"w-(--custom-width)\""
   ]
  },
  {
   "cell_type": "markdown",
   "id": "2f9ca8c9-73ae-45d3-a660-1adb4ac3a1da",
   "metadata": {},
   "source": [
    "### Test Directional Scales"
   ]
  },
  {
   "cell_type": "code",
   "execution_count": null,
   "id": "72cf9bc9-19a1-441e-ba83-793f27b25300",
   "metadata": {},
   "outputs": [],
   "source": [
    "# Test directional factory\n",
    "p = DirectionalScaledFactory(\"p\", SPACING_CONFIG)\n",
    "\n",
    "# Test all directions\n",
    "assert str(p(4)) == \"p-4\"\n",
    "assert str(p.t(4)) == \"pt-4\"\n",
    "assert str(p.r(4)) == \"pr-4\"\n",
    "assert str(p.b(4)) == \"pb-4\"\n",
    "assert str(p.l(4)) == \"pl-4\"\n",
    "assert str(p.x(4)) == \"px-4\"\n",
    "assert str(p.y(4)) == \"py-4\""
   ]
  },
  {
   "cell_type": "code",
   "execution_count": null,
   "id": "302c2735-2364-4bf1-9c6f-07749d12aeba",
   "metadata": {},
   "outputs": [],
   "source": [
    "# Test directional with special values\n",
    "assert str(p.x.auto) == \"px-auto\"\n",
    "assert str(p.y(0)) == \"py-0\""
   ]
  },
  {
   "cell_type": "markdown",
   "id": "82261744-86c8-4ad9-b5d8-42ff175d8c22",
   "metadata": {},
   "source": [
    "### Test Negative Values"
   ]
  },
  {
   "cell_type": "code",
   "execution_count": null,
   "id": "4ad412b3-1028-407f-9983-3f713e18f900",
   "metadata": {},
   "outputs": [],
   "source": [
    "# Test margin with negative values\n",
    "m = DirectionalScaledFactory(\"m\", SPACING_CONFIG)\n",
    "\n",
    "# Test negative numeric values\n",
    "assert str(m(4, negative=True)) == \"-m-4\"\n",
    "assert str(m.negative(4)) == \"-m-4\"\n",
    "assert str(m.t.negative(2)) == \"-mt-2\"\n",
    "assert str(m.x.negative(8)) == \"-mx-8\""
   ]
  },
  {
   "cell_type": "code",
   "execution_count": null,
   "id": "c240ad15-a08d-4307-a40b-b284c7d9ec5c",
   "metadata": {},
   "outputs": [],
   "source": [
    "# Test negative special values\n",
    "assert str(m.negative.px) == \"-m-px\"\n",
    "assert str(m.x.negative.px) == \"-mx-px\""
   ]
  },
  {
   "cell_type": "markdown",
   "id": "daf8369f-9ee5-4168-b97e-287c426ca567",
   "metadata": {},
   "source": [
    "### Test Inset with Negative Values"
   ]
  },
  {
   "cell_type": "code",
   "execution_count": null,
   "id": "1747e9e5-d9b0-4982-926a-eebe12fb8201",
   "metadata": {},
   "outputs": [],
   "source": [
    "# Test inset (top/right/bottom/left)\n",
    "inset = DirectionalScaledFactory(\"inset\", INSET_CONFIG)\n",
    "\n",
    "# Regular values\n",
    "assert str(inset(4)) == \"inset-4\"\n",
    "assert str(inset(\"1/2\")) == \"inset-1/2\"\n",
    "assert str(inset.auto) == \"inset-auto\"\n",
    "assert str(inset.full) == \"inset-full\"\n",
    "\n",
    "# Negative values\n",
    "assert str(inset.negative(4)) == \"-inset-4\"\n",
    "assert str(inset.negative(\"1/2\")) == \"-inset-1/2\"\n",
    "assert str(inset.negative.full) == \"-inset-full\""
   ]
  },
  {
   "cell_type": "markdown",
   "id": "23ffcf1f-a0b4-434d-84c8-ec2a9cb6cb04",
   "metadata": {},
   "source": [
    "### Test All Fractions"
   ]
  },
  {
   "cell_type": "code",
   "execution_count": null,
   "id": "9d55ca87-c286-4677-9494-b744e7fd28c4",
   "metadata": {},
   "outputs": [
    {
     "name": "stdout",
     "output_type": "stream",
     "text": [
      "Generated fractions:\n",
      "['1/12', '2/12', '1/6', '1/5', '1/4', '3/12', '4/12', '1/3', '2/6', '2/5', '5/12', '3/6', '6/12', '2/4', '1/2', '7/12', '3/5', '4/6', '2/3', '8/12', '3/4', '9/12', '4/5', '5/6', '10/12', '11/12']\n"
     ]
    }
   ],
   "source": [
    "# Show all generated fractions\n",
    "print(\"Generated fractions:\")\n",
    "print(FRACTIONS)"
   ]
  },
  {
   "cell_type": "code",
   "execution_count": null,
   "id": "0381ba64-2b02-41b0-bda8-a6296ed1fb39",
   "metadata": {},
   "outputs": [],
   "source": [
    "# Test fraction edge cases\n",
    "h = ScaledFactory(\"h\", SIZE_CONFIG)\n",
    "assert str(h(\"1/2\")) == \"h-1/2\"\n",
    "assert str(h(\"1/3\")) == \"h-1/3\"\n",
    "assert str(h(\"2/3\")) == \"h-2/3\"\n",
    "assert str(h(\"1/4\")) == \"h-1/4\"\n",
    "assert str(h(\"3/4\")) == \"h-3/4\"\n",
    "assert str(h(\"1/6\")) == \"h-1/6\"\n",
    "assert str(h(\"5/6\")) == \"h-5/6\""
   ]
  },
  {
   "cell_type": "markdown",
   "id": "fe96bb1d-82b1-4e89-9611-4a82721de3b5",
   "metadata": {},
   "source": [
    "### Test Class Combination"
   ]
  },
  {
   "cell_type": "code",
   "execution_count": null,
   "id": "d4707547-7509-4b2d-a20a-8a04794f05d0",
   "metadata": {},
   "outputs": [],
   "source": [
    "# Test combining multiple utilities\n",
    "from cjm_fasthtml_tailwind.core.base import combine_classes\n",
    "w = ScaledFactory(\"w\", SIZE_CONFIG)\n",
    "h = ScaledFactory(\"h\", SIZE_CONFIG)\n",
    "p = DirectionalScaledFactory(\"p\", SPACING_CONFIG)\n",
    "m = DirectionalScaledFactory(\"m\", SPACING_CONFIG)\n",
    "\n",
    "# Create various utilities\n",
    "w_util = w(32)\n",
    "h_util = h.full\n",
    "p_util = p.x(4)\n",
    "m_util = m.y.auto\n",
    "\n",
    "# Combine them\n",
    "classes = combine_classes(w_util, h_util, p_util, m_util, \"flex\", \"items-center\")\n",
    "assert classes == \"w-32 h-full px-4 my-auto flex items-center\""
   ]
  },
  {
   "cell_type": "markdown",
   "id": "f5c9ff07-76c9-4163-98ba-9002c62ffb1e",
   "metadata": {},
   "source": [
    "## Helper Functions\n",
    "\n",
    "Utility functions for working with scales:"
   ]
  },
  {
   "cell_type": "code",
   "execution_count": null,
   "id": "59014c10-5a33-4e51-9c91-d9d97cffe88f",
   "metadata": {},
   "outputs": [],
   "source": [
    "#| export\n",
    "def list_scale_values(\n",
    "    config: ScaleConfig  # The scale configuration to extract values from\n",
    ") -> Dict[str, List[Union[str, int, float]]]:  # Dictionary mapping scale types to their values\n",
    "    \"\"\"List all possible values for a scale configuration.\"\"\"\n",
    "    values = {\n",
    "        \"numeric\": [],\n",
    "        \"decimals\": [],\n",
    "        \"fractions\": [],\n",
    "        \"named\": [],\n",
    "        \"special\": []\n",
    "    }\n",
    "    \n",
    "    if config.numeric:\n",
    "        values[\"numeric\"] = NUMERIC_SCALE\n",
    "    \n",
    "    if config.decimals:\n",
    "        values[\"decimals\"] = DECIMAL_SCALE\n",
    "    \n",
    "    if config.fractions:\n",
    "        values[\"fractions\"] = FRACTIONS\n",
    "    \n",
    "    if config.named:\n",
    "        values[\"named\"] = [scale.name for scale in config.named]\n",
    "    \n",
    "    if config.special:\n",
    "        values[\"special\"] = list(config.special.keys())\n",
    "    \n",
    "    return values"
   ]
  },
  {
   "cell_type": "code",
   "execution_count": null,
   "id": "c3bda3ae-c0ab-4b6a-a393-bf269225543d",
   "metadata": {},
   "outputs": [
    {
     "name": "stdout",
     "output_type": "stream",
     "text": [
      "Size scale has 97 numeric values\n",
      "Size scale has 26 fraction values\n",
      "Named sizes: ['3xs', '2xs', 'xs', 'sm', 'md']...\n",
      "Special sizes: ['auto', 'px', 'full', 'screen', 'svw', 'svh', 'lvw', 'lvh', 'dvw', 'dvh', 'min', 'max', 'fit', 'lh']\n"
     ]
    }
   ],
   "source": [
    "# Test listing scale values\n",
    "size_values = list_scale_values(SIZE_CONFIG)\n",
    "print(f\"Size scale has {len(size_values['numeric'])} numeric values\")\n",
    "print(f\"Size scale has {len(size_values['fractions'])} fraction values\")\n",
    "print(f\"Named sizes: {size_values['named'][:5]}...\")  # First 5\n",
    "print(f\"Special sizes: {size_values['special']}\")"
   ]
  },
  {
   "cell_type": "markdown",
   "id": "8241f712-20d2-40a8-b778-49ec754bc54e",
   "metadata": {},
   "source": [
    "## Simple Factory\n",
    "\n",
    "A factory for utilities that use simple string values with dot notation access:"
   ]
  },
  {
   "cell_type": "code",
   "execution_count": null,
   "id": "eb5396aa-cde5-4d6f-b9cc-5be3651f3df3",
   "metadata": {},
   "outputs": [],
   "source": [
    "#| export\n",
    "class SimpleFactory(BaseFactory):\n",
    "    \"\"\"Factory for utilities that are simple string values with modifier support.\"\"\"\n",
    "    \n",
    "    def __init__(\n",
    "        self,\n",
    "        values_dict: Dict[str, str],  # Dictionary mapping attribute names to CSS values\n",
    "        doc: Optional[str] = None  # Optional documentation string\n",
    "    ):\n",
    "        \"Initialize with a dictionary of values.\"\n",
    "        doc = doc or \"Factory for simple utility values\"\n",
    "        super().__init__(doc)\n",
    "        self._values = values_dict\n",
    "        # Cache utility instances for each value\n",
    "        self._utility_cache = {}\n",
    "    \n",
    "    def __getattr__(\n",
    "        self,\n",
    "        name: str  # The attribute name to look up\n",
    "    ) -> Union[SingleValueUtility, Any]:  # A SingleValueUtility instance or attribute\n",
    "        \"Get utility instance by attribute name, converting underscores to hyphens.\"\n",
    "        # Handle underscore to hyphen conversion for multi-word values\n",
    "        key = name.replace(\"_\", \"-\")\n",
    "        css_value = None\n",
    "        \n",
    "        if key in self._values:\n",
    "            css_value = self._values[key]\n",
    "        elif name in self._values:\n",
    "            css_value = self._values[name]\n",
    "        \n",
    "        if css_value is not None:\n",
    "            # Return cached utility instance or create new one\n",
    "            if css_value not in self._utility_cache:\n",
    "                from cjm_fasthtml_tailwind.core.base import SingleValueUtility\n",
    "                self._utility_cache[css_value] = SingleValueUtility(css_value)\n",
    "            return self._utility_cache[css_value]\n",
    "        \n",
    "        raise AttributeError(f\"'{self.__class__.__name__}' object has no attribute '{name}'\")\n",
    "    \n",
    "    def get_info(\n",
    "        self\n",
    "    ) -> Dict[str, Any]:  # Dictionary with factory information\n",
    "        \"\"\"Get information about this simple factory.\"\"\"\n",
    "        return {\n",
    "            'description': self._doc,\n",
    "            'valid_inputs': 'No inputs - access values as attributes with modifier support',\n",
    "            'options': {\n",
    "                'available_values': list(self._values.keys()),\n",
    "                'supports_modifiers': True\n",
    "            }\n",
    "        }"
   ]
  },
  {
   "cell_type": "code",
   "execution_count": null,
   "id": "893709a9-d47b-4cc7-9685-585488436004",
   "metadata": {},
   "outputs": [
    {
     "name": "stdout",
     "output_type": "stream",
     "text": [
      "✅ SimpleFactory with modifiers tests passed!\n"
     ]
    }
   ],
   "source": [
    "# Test SimpleFactory with modifier support\n",
    "test_values = {\n",
    "    \"auto\": \"auto-value\",\n",
    "    \"none\": \"none-value\",\n",
    "    \"multi-word\": \"multi-word-value\"\n",
    "}\n",
    "\n",
    "factory = SimpleFactory(test_values)\n",
    "\n",
    "# Test basic access (now returns utilities)\n",
    "assert str(factory.auto) == \"auto-value\"\n",
    "assert str(factory.none) == \"none-value\"\n",
    "assert str(factory.multi_word) == \"multi-word-value\"\n",
    "\n",
    "# Test with modifiers\n",
    "assert str(factory.auto.hover) == \"hover:auto-value\"\n",
    "assert str(factory.none.md) == \"md:none-value\"\n",
    "assert str(factory.multi_word.dark) == \"dark:multi-word-value\"\n",
    "\n",
    "# Test chained modifiers\n",
    "assert str(factory.auto.hover.lg) == \"lg:hover:auto-value\"\n",
    "assert str(factory.none.dark.focus) == \"focus:dark:none-value\"\n",
    "\n",
    "# Test that cached instances work correctly\n",
    "auto1 = factory.auto\n",
    "auto2 = factory.auto\n",
    "assert auto1 is auto2  # Should be the same cached instance\n",
    "\n",
    "print(\"✅ SimpleFactory with modifiers tests passed!\")"
   ]
  },
  {
   "cell_type": "code",
   "execution_count": null,
   "id": "add31d46-a509-4efe-81e5-b791e3927e60",
   "metadata": {},
   "outputs": [],
   "source": []
  },
  {
   "cell_type": "code",
   "execution_count": null,
   "id": "e9e116f8-dbba-4dd3-9d18-380f1d70d33b",
   "metadata": {},
   "outputs": [],
   "source": []
  },
  {
   "cell_type": "code",
   "execution_count": null,
   "id": "0700abd1-cbfe-47a0-b3e0-3c3b14ad2aca",
   "metadata": {},
   "outputs": [],
   "source": []
  },
  {
   "cell_type": "code",
   "execution_count": null,
   "id": "44e3503a-3464-4ce4-be52-ad72f8120faf",
   "metadata": {},
   "outputs": [],
   "source": []
  },
  {
   "cell_type": "code",
   "execution_count": null,
   "id": "9e59c379-7412-4d6a-85da-3780625f7d9c",
   "metadata": {},
   "outputs": [],
   "source": []
  },
  {
   "cell_type": "code",
   "execution_count": null,
   "id": "bb5ded84-567f-484e-919e-3a118af7bbdc",
   "metadata": {},
   "outputs": [],
   "source": []
  },
  {
   "cell_type": "code",
   "execution_count": null,
   "id": "8b3d5d73-0a06-47b3-99c8-5e83605e4b8a",
   "metadata": {},
   "outputs": [],
   "source": []
  },
  {
   "cell_type": "code",
   "execution_count": null,
   "id": "e57e13d8-f32c-4b34-9deb-07063734a6cc",
   "metadata": {},
   "outputs": [],
   "source": []
  },
  {
   "cell_type": "code",
   "execution_count": null,
   "id": "e8cf4008-8827-4944-b9ff-2cd7265b53f5",
   "metadata": {},
   "outputs": [],
   "source": []
  },
  {
   "cell_type": "code",
   "execution_count": null,
   "id": "5a499a2d-6c40-4d65-86dc-f07a24eccb82",
   "metadata": {},
   "outputs": [],
   "source": []
  },
  {
   "cell_type": "code",
   "execution_count": null,
   "id": "04612c80-1d35-4e1e-9bf5-f5397ce3cd00",
   "metadata": {},
   "outputs": [],
   "source": [
    "#| hide\n",
    "import nbdev; nbdev.nbdev_export()"
   ]
  }
 ],
 "metadata": {
  "kernelspec": {
   "display_name": "python3",
   "language": "python",
   "name": "python3"
  }
 },
 "nbformat": 4,
 "nbformat_minor": 5
}
