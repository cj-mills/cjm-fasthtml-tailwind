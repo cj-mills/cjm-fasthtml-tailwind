{
 "cells": [
  {
   "cell_type": "markdown",
   "id": "b7132be7-94ff-4c63-aaef-15e28ecd05d5",
   "metadata": {},
   "source": [
    "# accessibility\n",
    "\n",
    "> Accessibility utilities for Tailwind CSS"
   ]
  },
  {
   "cell_type": "code",
   "execution_count": null,
   "id": "4288c224-2619-45c7-a9a0-8f46bc2f0b3a",
   "metadata": {},
   "outputs": [],
   "source": [
    "#| default_exp utilities.accessibility"
   ]
  },
  {
   "cell_type": "code",
   "execution_count": null,
   "id": "262106fc-3b3f-4ca1-b60c-524a6c5e909f",
   "metadata": {},
   "outputs": [],
   "source": [
    "#| hide\n",
    "from nbdev.showdoc import *"
   ]
  },
  {
   "cell_type": "code",
   "execution_count": null,
   "id": "4026d750-3932-42da-b37e-da3f47c54655",
   "metadata": {},
   "outputs": [],
   "source": [
    "#| export\n",
    "from typing import Dict, Any\n",
    "from cjm_fasthtml_tailwind.core.base import (\n",
    "    SingleValueFactory, combine_classes\n",
    ")\n",
    "from cjm_fasthtml_tailwind.builders.scales import SimpleFactory\n",
    "\n",
    "from fasthtml.common import Div\n",
    "from fasthtml.jupyter import JupyUvi, HTMX\n",
    "from cjm_fasthtml_tailwind.core.testing import create_test_app, create_test_page, start_test_server\n",
    "from IPython.display import display"
   ]
  },
  {
   "cell_type": "markdown",
   "id": "8cdd8bdb-17a0-4427-8685-ff70609de636",
   "metadata": {},
   "source": [
    "## Forced Color Adjust Utilities\n",
    "\n",
    "Tailwind CSS provides utilities for opting in and out of forced colors. These are particularly useful for Windows High Contrast Mode."
   ]
  },
  {
   "cell_type": "code",
   "execution_count": null,
   "id": "8b51fba4-22dc-444e-ac06-15fd2c24c392",
   "metadata": {},
   "outputs": [],
   "source": [
    "#| export\n",
    "# Forced color adjust utilities\n",
    "FORCED_COLOR_ADJUST_VALUES = {\n",
    "    \"auto\": \"forced-color-adjust-auto\",\n",
    "    \"none\": \"forced-color-adjust-none\"\n",
    "}\n",
    "\n",
    "# Create forced color adjust factory\n",
    "forced_color_adjust = SimpleFactory(\n",
    "    FORCED_COLOR_ADJUST_VALUES, \n",
    "    \"Forced color adjust utilities for opting in and out of forced colors (e.g., Windows High Contrast Mode)\"\n",
    ") # The forced color adjust factory"
   ]
  },
  {
   "cell_type": "code",
   "execution_count": null,
   "id": "92808041-0116-40b5-a84d-311e231b92c5",
   "metadata": {},
   "outputs": [],
   "source": [
    "#|exports\n",
    "def test_accessibility_forced_color_adjust_examples(\n",
    "):\n",
    "    \"\"\"Test forced color adjust utilities.\"\"\"\n",
    "    # Test forced color adjust utilities with dot notation\n",
    "    assert str(forced_color_adjust.auto) == \"forced-color-adjust-auto\"\n",
    "    assert str(forced_color_adjust.none) == \"forced-color-adjust-none\"\n",
    "\n",
    "# Run the tests\n",
    "test_accessibility_forced_color_adjust_examples()"
   ]
  },
  {
   "cell_type": "markdown",
   "id": "0228667d-1fde-4bac-a64b-aa98f189ca2c",
   "metadata": {},
   "source": [
    "## Screen Reader Utilities\n",
    "\n",
    "The `sr-only` and `not-sr-only` utilities are implemented in the layout module since they control visibility. We'll import and re-export them here for convenience."
   ]
  },
  {
   "cell_type": "code",
   "execution_count": null,
   "id": "b562ea29-e235-4bce-af0a-5d1694815021",
   "metadata": {},
   "outputs": [],
   "source": [
    "#| export\n",
    "# Import screen reader utilities from layout module\n",
    "from cjm_fasthtml_tailwind.utilities.layout import sr_only, not_sr_only"
   ]
  },
  {
   "cell_type": "code",
   "execution_count": null,
   "id": "21a101de-138f-4232-8cfc-a241ce94dc5c",
   "metadata": {},
   "outputs": [],
   "source": [
    "#|exports\n",
    "def test_accessibility_screen_reader_examples(\n",
    "):\n",
    "    \"\"\"Test screen reader utilities imported from layout module.\"\"\"\n",
    "    # Test screen reader utilities\n",
    "    assert str(sr_only) == \"sr-only\"\n",
    "    assert str(not_sr_only) == \"not-sr-only\"\n",
    "\n",
    "# Run the tests\n",
    "test_accessibility_screen_reader_examples()"
   ]
  },
  {
   "cell_type": "markdown",
   "id": "7366ddc9-df1d-40ee-ad96-0dc80751f6c3",
   "metadata": {},
   "source": [
    "## Practical Examples\n",
    "\n",
    "Let's see how to use these accessibility utilities in real FastHTML components:"
   ]
  },
  {
   "cell_type": "code",
   "execution_count": null,
   "id": "b565b761-4048-4543-8c3c-43cc5ba28e7d",
   "metadata": {},
   "outputs": [
    {
     "data": {
      "text/markdown": [
       "```html\n",
       "<div class=\"grid gap-5\">\n",
       "<a href=\"#main-content\" class=\"sr-only focus:not-sr-only focus:absolute focus:top-4 focus:left-4 bg-white p-2 rounded-full\">Skip to main content</a>  <div>\n",
       "<label for-=\"search\" class=\"sr-only\">Search</label>    <input type=\"search\" placeholder=\"Search...\" id=\"search\" class=\"w-full px-4 py-2 border-1 rounded-full\" name=\"search\">\n",
       "  </div>\n",
       "<button aria-label=\"Close dialog\" class=\"p-2 rounded-full hover:bg-gray-100\"><span class=\"sr-only\">Close dialog</span></button>  <nav class=\"forced-color-adjust-auto flex gap-4\">\n",
       "<a href=\"/\" class=\"forced-color-adjust-none text-blue-600\">Home</a><a href=\"/about\" class=\"forced-color-adjust-none text-blue-600\">About</a><a href=\"/contact\" class=\"forced-color-adjust-none text-blue-600\">Contact</a>  </nav>\n",
       "  <div class=\"inline-flex items-center\">\n",
       "    <div class=\"animate-spin h-5 w-5 border-2 border-gray-900 rounded-full border-t-transparent\"></div>\n",
       "<span class=\"sr-only\">Loading...</span>  </div>\n",
       "</div>\n",
       "\n",
       "```"
      ],
      "text/plain": [
       "div((a(('Skip to main content',),{'href': '#main-content', 'class': 'sr-only focus:not-sr-only focus:absolute focus:top-4 focus:left-4 bg-white p-2 rounded-full'}), div((label(('Search',),{'for-': 'search', 'class': 'sr-only'}), input((),{'type': 'search', 'placeholder': 'Search...', 'id': 'search', 'class': 'w-full px-4 py-2 border-1 rounded-full', 'name': 'search'})),{}), button((span(('Close dialog',),{'class': 'sr-only'}),),{'aria-label': 'Close dialog', 'class': 'p-2 rounded-full hover:bg-gray-100'}), nav((a(('Home',),{'href': '/', 'class': 'forced-color-adjust-none text-blue-600'}), a(('About',),{'href': '/about', 'class': 'forced-color-adjust-none text-blue-600'}), a(('Contact',),{'href': '/contact', 'class': 'forced-color-adjust-none text-blue-600'})),{'class': 'forced-color-adjust-auto flex gap-4'}), div((div((),{'class': 'animate-spin h-5 w-5 border-2 border-gray-900 rounded-full border-t-transparent'}), span(('Loading...',),{'class': 'sr-only'})),{'class': 'inline-flex items-center'})),{'class': 'grid gap-5'})"
      ]
     },
     "execution_count": null,
     "metadata": {},
     "output_type": "execute_result"
    }
   ],
   "source": [
    "#|exports\n",
    "def test_accessibility_fasthtml_examples(\n",
    "):\n",
    "    \"\"\"Test accessibility utilities in practical FastHTML component examples.\"\"\"\n",
    "    from fasthtml.common import Div, Button, Span, Input, Label, Nav, A\n",
    "    from cjm_fasthtml_tailwind.utilities.layout import position, top, left, display_tw\n",
    "    from cjm_fasthtml_tailwind.utilities.backgrounds import bg\n",
    "    from cjm_fasthtml_tailwind.utilities.spacing import p\n",
    "    from cjm_fasthtml_tailwind.utilities.borders import rounded, border, border_color\n",
    "    from cjm_fasthtml_tailwind.utilities.sizing import w, h\n",
    "    from cjm_fasthtml_tailwind.utilities.typography import text\n",
    "    from cjm_fasthtml_tailwind.utilities.transitions_and_animation import animate\n",
    "    from cjm_fasthtml_tailwind.utilities.flexbox_and_grid import gap, items\n",
    "    from cjm_fasthtml_tailwind.core.base import combine_classes\n",
    "    from cjm_fasthtml_tailwind.utilities.layout import sr_only, not_sr_only\n",
    "    from cjm_fasthtml_tailwind.utilities.accessibility import forced_color_adjust\n",
    "    \n",
    "    # Skip link for keyboard navigation\n",
    "    skip_link = A(\n",
    "        \"Skip to main content\",\n",
    "        href=\"#main-content\",\n",
    "        cls=combine_classes(\n",
    "            sr_only,\n",
    "            not_sr_only.focus,\n",
    "            position.absolute.focus,\n",
    "            top(4).focus,\n",
    "            left(4).focus,\n",
    "            bg.white,\n",
    "            p(2),\n",
    "            rounded.full\n",
    "        )\n",
    "    )\n",
    "    assert \"sr-only\" in skip_link.attrs['class']\n",
    "    assert \"focus:not-sr-only\" in skip_link.attrs['class']\n",
    "    \n",
    "    # Form with screen reader only label\n",
    "    form_field = Div(\n",
    "        Label(\"Search\", cls=str(sr_only), for_=\"search\"),\n",
    "        Input(\n",
    "            type=\"search\",\n",
    "            id=\"search\",\n",
    "            placeholder=\"Search...\",\n",
    "            cls=combine_classes(w.full, p.x(4), p.y(2), border._1, rounded.full)\n",
    "        )\n",
    "    )\n",
    "    assert form_field.children[0].attrs['class'] == \"sr-only\"\n",
    "    \n",
    "    # Icon button with screen reader text\n",
    "    icon_button = Button(\n",
    "        # Icon would go here (e.g., SVG)\n",
    "        Span(\"Close dialog\", cls=str(sr_only)),\n",
    "        cls=combine_classes(p(2), rounded.full, bg.gray._100.hover),\n",
    "        aria_label=\"Close dialog\"\n",
    "    )\n",
    "    assert icon_button.children[0].attrs['class'] == \"sr-only\"\n",
    "    \n",
    "    # Navigation with forced color adjustments\n",
    "    high_contrast_nav = Nav(\n",
    "        A(\"Home\", href=\"/\", cls=combine_classes(forced_color_adjust.none, text.blue._600)),\n",
    "        A(\"About\", href=\"/about\", cls=combine_classes(forced_color_adjust.none, text.blue._600)),\n",
    "        A(\"Contact\", href=\"/contact\", cls=combine_classes(forced_color_adjust.none, text.blue._600)),\n",
    "        cls=combine_classes(forced_color_adjust.auto, display_tw.flex, gap(4))\n",
    "    )\n",
    "    assert high_contrast_nav.attrs['class'] == \"forced-color-adjust-auto flex gap-4\"\n",
    "    assert \"forced-color-adjust-none\" in high_contrast_nav.children[0].attrs['class']\n",
    "    \n",
    "    # Loading spinner with screen reader text\n",
    "    loading_spinner = Div(\n",
    "        Div(cls=combine_classes(\n",
    "            animate.spin,\n",
    "            h(5),\n",
    "            w(5),\n",
    "            border._2,\n",
    "            border_color.gray._900,\n",
    "            rounded.full,\n",
    "            border_color.t.transparent\n",
    "        )),\n",
    "        Span(\"Loading...\", cls=str(sr_only)),\n",
    "        cls=combine_classes(display_tw.inline_flex, items.center)\n",
    "    )\n",
    "    assert loading_spinner.children[1].attrs['class'] == \"sr-only\"\n",
    "    \n",
    "    # Return all examples in a grid layout\n",
    "    return Div(\n",
    "        skip_link,\n",
    "        form_field,\n",
    "        icon_button,\n",
    "        high_contrast_nav,\n",
    "        loading_spinner,\n",
    "        cls=combine_classes(display_tw.grid, gap(5))\n",
    "    )\n",
    "\n",
    "# Run the tests\n",
    "test_accessibility_fasthtml_examples()"
   ]
  },
  {
   "cell_type": "code",
   "execution_count": null,
   "id": "122f9ae7-6877-4da7-a170-f9681f73aba1",
   "metadata": {},
   "outputs": [
    {
     "data": {
      "text/html": [
       "\n",
       "<script>\n",
       "document.body.addEventListener('htmx:configRequest', (event) => {\n",
       "    if(event.detail.path.includes('://')) return;\n",
       "    htmx.config.selfRequestsOnly=false;\n",
       "    event.detail.path = `${location.protocol}//${location.hostname}:8000${event.detail.path}`;\n",
       "});\n",
       "</script>"
      ],
      "text/plain": [
       "<IPython.core.display.HTML object>"
      ]
     },
     "metadata": {},
     "output_type": "display_data"
    },
    {
     "data": {
      "text/html": [
       "<iframe src=\"http://localhost:8000/\" style=\"width: 100%; height: auto; border: none;\" onload=\"{\n",
       "        let frame = this;\n",
       "        window.addEventListener('message', function(e) {\n",
       "            if (e.source !== frame.contentWindow) return; // Only proceed if the message is from this iframe\n",
       "            if (e.data.height) frame.style.height = (e.data.height+1) + 'px';\n",
       "        }, false);\n",
       "    }\" allow=\"accelerometer; autoplay; camera; clipboard-read; clipboard-write; display-capture; encrypted-media; fullscreen; gamepad; geolocation; gyroscope; hid; identity-credentials-get; idle-detection; magnetometer; microphone; midi; payment; picture-in-picture; publickey-credentials-get; screen-wake-lock; serial; usb; web-share; xr-spatial-tracking\"></iframe> "
      ],
      "text/plain": [
       "<IPython.core.display.HTML object>"
      ]
     },
     "metadata": {},
     "output_type": "display_data"
    }
   ],
   "source": [
    "#| eval: false\n",
    "#| output: false\n",
    "test_func = test_accessibility_fasthtml_examples\n",
    "app, rt = create_test_app()\n",
    "\n",
    "@rt\n",
    "def index():\n",
    "    return create_test_page(test_func.__doc__.title().replace('.', ''), test_func())\n",
    "server = start_test_server(app)\n",
    "display(HTMX())\n",
    "server.stop()"
   ]
  },
  {
   "cell_type": "code",
   "execution_count": null,
   "id": "286df587-eb85-42c6-a414-6c26a9e27b07",
   "metadata": {},
   "outputs": [],
   "source": [
    "#| export\n",
    "def test_accessibility_factory_documentation(\n",
    "):\n",
    "    \"\"\"Test that factories have accessible documentation.\"\"\"\n",
    "    # Test factory documentation\n",
    "    assert forced_color_adjust.describe() == \"Forced color adjust utilities for opting in and out of forced colors (e.g., Windows High Contrast Mode)\"\n",
    "    \n",
    "    # Test SingleValueFactory documentation for imported utilities\n",
    "    assert sr_only.describe() == \"Hide element visually but keep it available to screen readers\"\n",
    "    assert not_sr_only.describe() == \"Undo sr-only, making element visible again\"\n",
    "    \n",
    "    # Test get_info method\n",
    "    info = forced_color_adjust.get_info()\n",
    "    assert info['description'] == \"Forced color adjust utilities for opting in and out of forced colors (e.g., Windows High Contrast Mode)\"\n",
    "    assert 'available_values' in info['options']\n",
    "    assert 'auto' in info['options']['available_values']\n",
    "    assert 'none' in info['options']['available_values']\n",
    "\n",
    "# Run the tests\n",
    "test_accessibility_factory_documentation()"
   ]
  },
  {
   "cell_type": "markdown",
   "id": "48d4ac9b-4af6-4bee-b957-b170c61fb59a",
   "metadata": {},
   "source": [
    "## Helper Functions\n",
    "\n",
    "Convenient functions for common accessibility patterns:"
   ]
  },
  {
   "cell_type": "code",
   "execution_count": null,
   "id": "47f6026b-82ec-4a98-b5b5-08e851cfe340",
   "metadata": {},
   "outputs": [],
   "source": [
    "#| export\n",
    "def visually_hidden(\n",
    "    focusable: bool = False  # Whether the element should be visible when focused\n",
    ") -> str:  # CSS classes for hiding element visually\n",
    "    \"\"\"\n",
    "    Hide an element visually but keep it available to screen readers.\n",
    "    \n",
    "    Args:\n",
    "        focusable: If True, element becomes visible when focused (useful for skip links)\n",
    "    \n",
    "    Returns:\n",
    "        CSS classes for visual hiding with optional focus visibility\n",
    "    \"\"\"\n",
    "    if focusable:\n",
    "        return combine_classes(sr_only, \"focus:not-sr-only\")\n",
    "    return str(sr_only)"
   ]
  },
  {
   "cell_type": "code",
   "execution_count": null,
   "id": "0350c3c5-9c8b-423b-a0d1-db3188255329",
   "metadata": {},
   "outputs": [],
   "source": [
    "#| export\n",
    "def high_contrast_safe(\n",
    "    *classes: str  # Additional CSS classes to combine\n",
    ") -> str:  # CSS classes including forced color adjust\n",
    "    \"\"\"\n",
    "    Create classes that work well with high contrast mode.\n",
    "    \n",
    "    Args:\n",
    "        *classes: Additional CSS classes to include\n",
    "    \n",
    "    Returns:\n",
    "        Combined CSS classes with forced-color-adjust-auto\n",
    "    \"\"\"\n",
    "    return combine_classes(forced_color_adjust.auto, *classes)"
   ]
  },
  {
   "cell_type": "code",
   "execution_count": null,
   "id": "e1c7e036-f712-4d3a-ab78-33b747a9cadc",
   "metadata": {},
   "outputs": [],
   "source": [
    "#|exports\n",
    "def test_accessibility_helper_examples(\n",
    "):\n",
    "    \"\"\"Test helper functions for common accessibility patterns.\"\"\"\n",
    "    # Test visually_hidden helper\n",
    "    assert visually_hidden() == \"sr-only\"\n",
    "    assert visually_hidden(focusable=True) == \"sr-only focus:not-sr-only\"\n",
    "    \n",
    "    # Test high_contrast_safe helper\n",
    "    assert high_contrast_safe() == \"forced-color-adjust-auto\"\n",
    "    assert high_contrast_safe(\"bg-blue-500\", \"text-white\") == \"forced-color-adjust-auto bg-blue-500 text-white\"\n",
    "\n",
    "# Run the tests\n",
    "test_accessibility_helper_examples()"
   ]
  },
  {
   "cell_type": "markdown",
   "id": "96bfe4f2-f6a4-4897-b435-f223bedf7d0a",
   "metadata": {},
   "source": [
    "## Export"
   ]
  },
  {
   "cell_type": "code",
   "execution_count": null,
   "id": "106ec05f-496d-47ab-9aaa-c3bfb75c3984",
   "metadata": {},
   "outputs": [],
   "source": [
    "#| hide\n",
    "import nbdev; nbdev.nbdev_export()"
   ]
  }
 ],
 "metadata": {
  "kernelspec": {
   "display_name": "python3",
   "language": "python",
   "name": "python3"
  }
 },
 "nbformat": 4,
 "nbformat_minor": 5
}
