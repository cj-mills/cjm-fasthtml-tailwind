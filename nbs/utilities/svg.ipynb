{
 "cells": [
  {
   "cell_type": "markdown",
   "id": "32ceb503-9b18-441c-943b-545c4c10f25a",
   "metadata": {},
   "source": [
    "# svg\n",
    "\n",
    "> SVG utilities for Tailwind CSS"
   ]
  },
  {
   "cell_type": "code",
   "execution_count": null,
   "id": "99340e08-6bde-4a95-92c5-676c703f3e3e",
   "metadata": {},
   "outputs": [],
   "source": [
    "#| default_exp utilities.svg"
   ]
  },
  {
   "cell_type": "code",
   "execution_count": null,
   "id": "006e498d-f76f-4b37-b221-6db2e28d48cf",
   "metadata": {},
   "outputs": [],
   "source": [
    "#| hide\n",
    "from nbdev.showdoc import *"
   ]
  },
  {
   "cell_type": "code",
   "execution_count": null,
   "id": "8308eade-546a-4497-bf4c-237e75937f11",
   "metadata": {},
   "outputs": [],
   "source": [
    "#| export\n",
    "from typing import Optional, Union, Dict, Any\n",
    "from cjm_fasthtml_tailwind.core.base import (\n",
    "    BaseUtility, StandardUtility, BaseFactory, TailwindValue,\n",
    "    combine_classes, is_custom_property, is_arbitrary_value, SingleValueFactory\n",
    ")\n",
    "from cjm_fasthtml_tailwind.builders.colors import ColoredFactory, ColoredUtility, ColorValue, SPECIAL_COLORS\n",
    "from cjm_fasthtml_tailwind.builders.scales import ScaledFactory, ScaleConfig, NUMERIC_SCALE\n",
    "\n",
    "from fasthtml.common import Div\n",
    "from fasthtml.jupyter import JupyUvi, HTMX\n",
    "from cjm_fasthtml_tailwind.core.testing import create_test_app, create_test_page, start_test_server\n",
    "from IPython.display import display"
   ]
  },
  {
   "cell_type": "markdown",
   "id": "f82fa5d5-9601-4d81-9f4c-df69dde04679",
   "metadata": {},
   "source": [
    "## Fill\n",
    "\n",
    "The fill utility controls the fill color of SVG elements. It supports all Tailwind color families and shades, as well as special color values."
   ]
  },
  {
   "cell_type": "code",
   "execution_count": null,
   "id": "e6ee4dd1-4525-4f46-baec-ae66d5fd13f8",
   "metadata": {},
   "outputs": [],
   "source": [
    "#| export\n",
    "fill_none = SingleValueFactory(\"fill-none\", \"Remove fill from an element\") # Remove fill"
   ]
  },
  {
   "cell_type": "code",
   "execution_count": null,
   "id": "de330387-4b99-4a9e-a7d8-bd0220fefbf4",
   "metadata": {},
   "outputs": [],
   "source": [
    "#| export\n",
    "fill = ColoredFactory(\"fill\", \"Fill color utilities for styling the fill of SVG elements\") # The fill color factory"
   ]
  },
  {
   "cell_type": "markdown",
   "id": "dbf0c0cc-4f3c-4ec7-8414-2fe1d4114c9a",
   "metadata": {},
   "source": [
    "### Basic Fill Colors\n",
    "\n",
    "Apply fill colors using the standard color palette:"
   ]
  },
  {
   "cell_type": "code",
   "execution_count": null,
   "id": "c3b73f58-4871-4f6d-a8e5-92fe78f40b49",
   "metadata": {},
   "outputs": [],
   "source": [
    "#|exports\n",
    "def test_svg_fill_examples():\n",
    "    \"\"\"Test fill color utilities with various color values.\"\"\"\n",
    "    # Test standard colors\n",
    "    assert str(fill.red._500) == \"fill-red-500\"\n",
    "    assert str(fill.blue._300) == \"fill-blue-300\"\n",
    "    assert str(fill.green._700) == \"fill-green-700\"\n",
    "    assert str(fill.purple._400) == \"fill-purple-400\"\n",
    "    \n",
    "    # Test all 22 color families\n",
    "    assert str(fill.red._500) == \"fill-red-500\"\n",
    "    assert str(fill.orange._500) == \"fill-orange-500\"\n",
    "    assert str(fill.amber._500) == \"fill-amber-500\"\n",
    "    assert str(fill.yellow._500) == \"fill-yellow-500\"\n",
    "    assert str(fill.lime._500) == \"fill-lime-500\"\n",
    "    assert str(fill.green._500) == \"fill-green-500\"\n",
    "    assert str(fill.emerald._500) == \"fill-emerald-500\"\n",
    "    assert str(fill.teal._500) == \"fill-teal-500\"\n",
    "    assert str(fill.cyan._500) == \"fill-cyan-500\"\n",
    "    assert str(fill.sky._500) == \"fill-sky-500\"\n",
    "    assert str(fill.blue._500) == \"fill-blue-500\"\n",
    "    assert str(fill.indigo._500) == \"fill-indigo-500\"\n",
    "    assert str(fill.violet._500) == \"fill-violet-500\"\n",
    "    assert str(fill.purple._500) == \"fill-purple-500\"\n",
    "    assert str(fill.fuchsia._500) == \"fill-fuchsia-500\"\n",
    "    assert str(fill.pink._500) == \"fill-pink-500\"\n",
    "    assert str(fill.rose._500) == \"fill-rose-500\"\n",
    "    assert str(fill.slate._500) == \"fill-slate-500\"\n",
    "    assert str(fill.gray._500) == \"fill-gray-500\"\n",
    "    assert str(fill.zinc._500) == \"fill-zinc-500\"\n",
    "    assert str(fill.neutral._500) == \"fill-neutral-500\"\n",
    "    assert str(fill.stone._500) == \"fill-stone-500\"\n",
    "    \n",
    "    # Test special colors\n",
    "    assert str(fill_none) == \"fill-none\"\n",
    "    assert str(fill.inherit) == \"fill-inherit\"\n",
    "    assert str(fill.current) == \"fill-current\"\n",
    "    assert str(fill.transparent) == \"fill-transparent\"\n",
    "    assert str(fill.black) == \"fill-black\"\n",
    "    assert str(fill.white) == \"fill-white\"\n",
    "\n",
    "# Run the tests\n",
    "test_svg_fill_examples()"
   ]
  },
  {
   "cell_type": "markdown",
   "id": "93d58d58-40b5-4c0d-9c5f-4151b4d1e698",
   "metadata": {},
   "source": [
    "### Fill with Opacity\n",
    "\n",
    "Control the opacity of fill colors:"
   ]
  },
  {
   "cell_type": "code",
   "execution_count": null,
   "id": "c09c16c2-363d-4a5a-9196-978fb2d74b4e",
   "metadata": {},
   "outputs": [],
   "source": [
    "#|exports\n",
    "def test_svg_fill_opacity_examples():\n",
    "    \"\"\"Test fill colors with opacity modifiers.\"\"\"\n",
    "    # Standard opacity values\n",
    "    assert str(fill.red._500.opacity(50)) == \"fill-red-500/50\"\n",
    "    assert str(fill.blue._300.opacity(75)) == \"fill-blue-300/75\"\n",
    "    assert str(fill.black.opacity(10)) == \"fill-black/10\"\n",
    "    \n",
    "    # Arbitrary opacity values\n",
    "    assert str(fill.green._600.opacity(\"[0.87]\")) == \"fill-green-600/[0.87]\"\n",
    "    assert str(fill.purple._400.opacity(\"(--my-opacity)\")) == \"fill-purple-400/(--my-opacity)\"\n",
    "\n",
    "# Run the tests\n",
    "test_svg_fill_opacity_examples()"
   ]
  },
  {
   "cell_type": "markdown",
   "id": "25712e63-af29-4c12-83bb-41fd347deefd",
   "metadata": {},
   "source": [
    "### Arbitrary Fill Values\n",
    "\n",
    "Use custom colors when needed:"
   ]
  },
  {
   "cell_type": "code",
   "execution_count": null,
   "id": "b755505a-493d-4a36-87b5-c4e23be56e3a",
   "metadata": {},
   "outputs": [],
   "source": [
    "#|exports\n",
    "def test_svg_fill_arbitrary_examples():\n",
    "    \"\"\"Test fill utilities with arbitrary and custom values.\"\"\"\n",
    "    # Arbitrary color values\n",
    "    assert str(fill(\"#ff0000\")) == \"fill-[#ff0000]\"\n",
    "    assert str(fill(\"rgb(255, 0, 0)\")) == \"fill-[rgb(255, 0, 0)]\"\n",
    "    assert str(fill(\"hsl(0, 100%, 50%)\")) == \"fill-[hsl(0, 100%, 50%)]\"\n",
    "    \n",
    "    # CSS custom properties\n",
    "    assert str(fill(\"--custom-fill\")) == \"fill-(--custom-fill)\"\n",
    "    assert str(fill(\"--theme-primary\")) == \"fill-(--theme-primary)\"\n",
    "\n",
    "# Run the tests\n",
    "test_svg_fill_arbitrary_examples()"
   ]
  },
  {
   "cell_type": "markdown",
   "id": "be23c946-1e0f-481b-b9ea-01814cf30fcc",
   "metadata": {},
   "source": [
    "## Stroke\n",
    "\n",
    "The stroke utility controls the stroke color of SVG elements. It supports the same color system as fill."
   ]
  },
  {
   "cell_type": "code",
   "execution_count": null,
   "id": "4bf9651d-7569-44f9-beb6-48f62d98c3ea",
   "metadata": {},
   "outputs": [],
   "source": [
    "#| export\n",
    "stroke_none = SingleValueFactory(\"stroke-none\", \"Remove stroke from an element\") # Remove stroke"
   ]
  },
  {
   "cell_type": "code",
   "execution_count": null,
   "id": "da339f6a-f527-4b03-9c65-200d3376abb5",
   "metadata": {},
   "outputs": [],
   "source": [
    "#| export\n",
    "stroke = ColoredFactory(\"stroke\", \"Stroke color utilities for styling the stroke of SVG elements\") # The stroke color factory"
   ]
  },
  {
   "cell_type": "markdown",
   "id": "07752941-3689-46f4-af16-09befc03896b",
   "metadata": {},
   "source": [
    "### Basic Stroke Colors\n",
    "\n",
    "Apply stroke colors using the standard color palette:"
   ]
  },
  {
   "cell_type": "code",
   "execution_count": null,
   "id": "e2257b68-76fa-455b-b4e4-26a3f20a6e9a",
   "metadata": {},
   "outputs": [],
   "source": [
    "#|exports\n",
    "def test_svg_stroke_examples():\n",
    "    \"\"\"Test stroke color utilities with various color values.\"\"\"\n",
    "    # Test standard colors\n",
    "    assert str(stroke.red._500) == \"stroke-red-500\"\n",
    "    assert str(stroke.blue._300) == \"stroke-blue-300\"\n",
    "    assert str(stroke.green._700) == \"stroke-green-700\"\n",
    "    assert str(stroke.purple._400) == \"stroke-purple-400\"\n",
    "\n",
    "    # Test all 22 color families\n",
    "    assert str(stroke.red._500) == \"stroke-red-500\"\n",
    "    assert str(stroke.orange._500) == \"stroke-orange-500\"\n",
    "    assert str(stroke.amber._500) == \"stroke-amber-500\"\n",
    "    assert str(stroke.yellow._500) == \"stroke-yellow-500\"\n",
    "    assert str(stroke.lime._500) == \"stroke-lime-500\"\n",
    "    assert str(stroke.green._500) == \"stroke-green-500\"\n",
    "    assert str(stroke.emerald._500) == \"stroke-emerald-500\"\n",
    "    assert str(stroke.teal._500) == \"stroke-teal-500\"\n",
    "    assert str(stroke.cyan._500) == \"stroke-cyan-500\"\n",
    "    assert str(stroke.sky._500) == \"stroke-sky-500\"\n",
    "    assert str(stroke.blue._500) == \"stroke-blue-500\"\n",
    "    assert str(stroke.indigo._500) == \"stroke-indigo-500\"\n",
    "    assert str(stroke.violet._500) == \"stroke-violet-500\"\n",
    "    assert str(stroke.purple._500) == \"stroke-purple-500\"\n",
    "    assert str(stroke.fuchsia._500) == \"stroke-fuchsia-500\"\n",
    "    assert str(stroke.pink._500) == \"stroke-pink-500\"\n",
    "    assert str(stroke.rose._500) == \"stroke-rose-500\"\n",
    "    assert str(stroke.slate._500) == \"stroke-slate-500\"\n",
    "    assert str(stroke.gray._500) == \"stroke-gray-500\"\n",
    "    assert str(stroke.zinc._500) == \"stroke-zinc-500\"\n",
    "    assert str(stroke.neutral._500) == \"stroke-neutral-500\"\n",
    "    assert str(stroke.stone._500) == \"stroke-stone-500\"\n",
    "    \n",
    "    # Test special colors\n",
    "    assert str(stroke_none) == \"stroke-none\"\n",
    "    assert str(stroke.inherit) == \"stroke-inherit\"\n",
    "    assert str(stroke.current) == \"stroke-current\"\n",
    "    assert str(stroke.transparent) == \"stroke-transparent\"\n",
    "    assert str(stroke.black) == \"stroke-black\"\n",
    "    assert str(stroke.white) == \"stroke-white\"\n",
    "\n",
    "# Run the tests\n",
    "test_svg_stroke_examples()"
   ]
  },
  {
   "cell_type": "markdown",
   "id": "790fc6f3-747c-409e-81bc-60a65207a3e9",
   "metadata": {},
   "source": [
    "### Stroke with Opacity\n",
    "\n",
    "Control the opacity of stroke colors:"
   ]
  },
  {
   "cell_type": "code",
   "execution_count": null,
   "id": "285c1106-3607-4054-bc29-0f9f534043d1",
   "metadata": {},
   "outputs": [],
   "source": [
    "#|exports\n",
    "def test_svg_stroke_opacity_examples():\n",
    "    \"\"\"Test stroke colors with opacity modifiers.\"\"\"\n",
    "    # Standard opacity values\n",
    "    assert str(stroke.red._500.opacity(50)) == \"stroke-red-500/50\"\n",
    "    assert str(stroke.blue._300.opacity(75)) == \"stroke-blue-300/75\"\n",
    "    assert str(stroke.black.opacity(10)) == \"stroke-black/10\"\n",
    "    \n",
    "    # Arbitrary opacity values\n",
    "    assert str(stroke.green._600.opacity(\"[0.87]\")) == \"stroke-green-600/[0.87]\"\n",
    "    assert str(stroke.purple._400.opacity(\"(--my-opacity)\")) == \"stroke-purple-400/(--my-opacity)\"\n",
    "\n",
    "# Run the tests\n",
    "test_svg_stroke_opacity_examples()"
   ]
  },
  {
   "cell_type": "markdown",
   "id": "acd29a99-1882-4554-b718-aca18856a5f1",
   "metadata": {},
   "source": [
    "## Stroke Width\n",
    "\n",
    "The stroke-width utility controls the width of SVG strokes. It supports numeric values from 0-2 by default."
   ]
  },
  {
   "cell_type": "code",
   "execution_count": null,
   "id": "a55b2662-e449-48d0-a9b2-61621cc9bf33",
   "metadata": {},
   "outputs": [],
   "source": [
    "#| export\n",
    "# Define the stroke width configuration\n",
    "STROKE_WIDTH_CONFIG = ScaleConfig(\n",
    "    numeric=True,  # Support numeric values\n",
    "    decimals=False,\n",
    "    fractions=False,\n",
    "    named=None,\n",
    "    special=None,\n",
    "    negative=False\n",
    ")\n",
    "\n",
    "# Create a custom stroke width factory that only supports values 0-2\n",
    "class StrokeWidthFactory(ScaledFactory):\n",
    "    \"\"\"Factory for stroke-width utilities with restricted numeric scale (0-2).\"\"\"\n",
    "    \n",
    "    def __init__(self):\n",
    "        \"\"\"Initialize with stroke width configuration.\"\"\"\n",
    "        super().__init__(\"stroke\", STROKE_WIDTH_CONFIG, \"Stroke width utilities for styling the stroke width of SVG elements\")\n",
    "        # Override the numeric scale to only include 0, 1, 2\n",
    "        self._valid_values = [0, 1, 2]\n",
    "    \n",
    "    def __call__(\n",
    "        self,\n",
    "        value: Optional[TailwindValue] = None,  # The stroke width value\n",
    "        negative: bool = False  # Not applicable for stroke width\n",
    "    ) -> StandardUtility:  # A stroke width utility instance\n",
    "        \"\"\"Create a stroke width utility with optional value.\"\"\"\n",
    "        # Check if numeric value is in valid range\n",
    "        if isinstance(value, (int, float)) and value not in self._valid_values:\n",
    "            # Treat as arbitrary value if outside valid range\n",
    "            instance = StandardUtility(self.prefix)\n",
    "            instance._value = f\"[{value}]\"\n",
    "            return instance\n",
    "        return super().__call__(value, negative)\n",
    "    \n",
    "    def __getattr__(\n",
    "        self,\n",
    "        name: str  # The attribute name\n",
    "    ) -> StandardUtility:  # A stroke width utility instance\n",
    "        \"\"\"Handle attribute access for stroke width values.\"\"\"\n",
    "        # Handle underscore prefix for numeric values\n",
    "        if name.startswith(\"_\") and name[1:].isdigit():\n",
    "            value = int(name[1:])\n",
    "            if value in self._valid_values:\n",
    "                return self(value)\n",
    "            else:\n",
    "                # Create arbitrary value for numbers outside 0-2\n",
    "                instance = StandardUtility(self.prefix)\n",
    "                instance._value = f\"[{value}]\"\n",
    "                return instance\n",
    "        return super().__getattr__(name)\n",
    "    \n",
    "    def get_info(\n",
    "        self\n",
    "    ) -> Dict[str, Any]:  # Dictionary with factory information\n",
    "        \"\"\"Get detailed information about the stroke width factory.\"\"\"\n",
    "        return {\n",
    "            'description': self._doc,\n",
    "            'valid_inputs': [\n",
    "                'Numeric values: 0, 1, 2',\n",
    "                'Arbitrary values: Any number (e.g., 3, 0.5, 1.5)',\n",
    "                'Custom properties: CSS variables starting with -- (e.g., \"--stroke-width\")'\n",
    "            ],\n",
    "            'options': {\n",
    "                'prefix': self.prefix,\n",
    "                'default_values': self._valid_values\n",
    "            }\n",
    "        }\n",
    "\n",
    "stroke_width = StrokeWidthFactory() # The stroke width factory"
   ]
  },
  {
   "cell_type": "markdown",
   "id": "9fe276e0-6d3e-4249-abdf-88d7503ee8c3",
   "metadata": {},
   "source": [
    "### Basic Stroke Width\n",
    "\n",
    "Apply stroke width values:"
   ]
  },
  {
   "cell_type": "code",
   "execution_count": null,
   "id": "b223a24c-257f-4d6a-85e2-25c5f0e8e0c6",
   "metadata": {},
   "outputs": [],
   "source": [
    "#|exports\n",
    "def test_svg_stroke_width_examples():\n",
    "    \"\"\"Test stroke width utilities with various values.\"\"\"\n",
    "    # Test default numeric values (0-2)\n",
    "    assert str(stroke_width(0)) == \"stroke-0\"\n",
    "    assert str(stroke_width(1)) == \"stroke-1\"\n",
    "    assert str(stroke_width(2)) == \"stroke-2\"\n",
    "    \n",
    "    # Test attribute access\n",
    "    assert str(stroke_width._0) == \"stroke-0\"\n",
    "    assert str(stroke_width._1) == \"stroke-1\"\n",
    "    assert str(stroke_width._2) == \"stroke-2\"\n",
    "    \n",
    "    # Test values outside default range (treated as arbitrary)\n",
    "    assert str(stroke_width(3)) == \"stroke-[3]\"\n",
    "    assert str(stroke_width(0.5)) == \"stroke-[0.5]\"\n",
    "    assert str(stroke_width(1.5)) == \"stroke-[1.5]\"\n",
    "    assert str(stroke_width._4) == \"stroke-[4]\"\n",
    "\n",
    "# Run the tests\n",
    "test_svg_stroke_width_examples()"
   ]
  },
  {
   "cell_type": "markdown",
   "id": "044ac26b-5a08-4065-ab54-25483a3bb51d",
   "metadata": {},
   "source": [
    "### Arbitrary Stroke Width Values\n",
    "\n",
    "Use custom stroke width values:"
   ]
  },
  {
   "cell_type": "code",
   "execution_count": null,
   "id": "ae360865-a05e-4687-ba31-6307598dbe3b",
   "metadata": {},
   "outputs": [],
   "source": [
    "#|exports\n",
    "def test_svg_stroke_width_arbitrary_examples():\n",
    "    \"\"\"Test stroke width utilities with arbitrary and custom values.\"\"\"\n",
    "    # Arbitrary numeric values\n",
    "    assert str(stroke_width(\"0.25\")) == \"stroke-[0.25]\"\n",
    "    assert str(stroke_width(\"10px\")) == \"stroke-[10px]\"\n",
    "    assert str(stroke_width(\"2rem\")) == \"stroke-[2rem]\"\n",
    "    \n",
    "    # CSS custom properties\n",
    "    assert str(stroke_width(\"--stroke-thin\")) == \"stroke-(--stroke-thin)\"\n",
    "    assert str(stroke_width(\"--stroke-thick\")) == \"stroke-(--stroke-thick)\"\n",
    "\n",
    "# Run the tests\n",
    "test_svg_stroke_width_arbitrary_examples()"
   ]
  },
  {
   "cell_type": "markdown",
   "id": "46ee0b33-b256-4907-bb4f-77d55afe5d2b",
   "metadata": {},
   "source": [
    "## Practical Examples\n",
    "\n",
    "Let's see how to use these SVG utilities in real FastHTML components:"
   ]
  },
  {
   "cell_type": "code",
   "execution_count": null,
   "id": "8b118be3-01b1-4559-8665-7f7c53fef347",
   "metadata": {},
   "outputs": [
    {
     "data": {
      "text/markdown": [
       "```html\n",
       "<div class=\"grid gap-5\">\n",
       "<svg xmlns=\"http://www.w3.org/2000/svg\" viewbox=\"0 0 24 24\" class=\"w-6 h-6 fill-none\"><path d=\"M10 20v-6h4v6h5v-8h3L12 3 2 12h3v8z\" class=\"fill-current\"></path></svg><svg xmlns=\"http://www.w3.org/2000/svg\" viewbox=\"0 0 100 100\" class=\"w-24 h-24\"><circle r=\"40\" cx=\"50\" cy=\"50\" class=\"fill-transparent stroke-blue-500 stroke-2\"></circle></svg><svg xmlns=\"http://www.w3.org/2000/svg\" viewbox=\"0 0 100 100\" class=\"w-32 h-32\"><g><rect width=\"80\" height=\"80\" x=\"10\" y=\"10\" class=\"fill-red-200 stroke-red-600 stroke-1\"></rect><circle r=\"20\" cx=\"50\" cy=\"50\" class=\"fill-blue-400/75 stroke-blue-700 stroke-2\"></circle></g></svg></div>\n",
       "\n",
       "```"
      ],
      "text/plain": [
       "div((svg((path((),{'d': 'M10 20v-6h4v6h5v-8h3L12 3 2 12h3v8z', 'class': 'fill-current'}),),{'xmlns': 'http://www.w3.org/2000/svg', 'viewbox': '0 0 24 24', 'class': 'w-6 h-6 fill-none'}), svg((circle((),{'r': '40', 'cx': '50', 'cy': '50', 'class': 'fill-transparent stroke-blue-500 stroke-2'}),),{'xmlns': 'http://www.w3.org/2000/svg', 'viewbox': '0 0 100 100', 'class': 'w-24 h-24'}), svg((g((rect((),{'width': '80', 'height': '80', 'x': '10', 'y': '10', 'class': 'fill-red-200 stroke-red-600 stroke-1'}), circle((),{'r': '20', 'cx': '50', 'cy': '50', 'class': 'fill-blue-400/75 stroke-blue-700 stroke-2'})),{}),),{'xmlns': 'http://www.w3.org/2000/svg', 'viewbox': '0 0 100 100', 'class': 'w-32 h-32'})),{'class': 'grid gap-5'})"
      ]
     },
     "execution_count": null,
     "metadata": {},
     "output_type": "execute_result"
    }
   ],
   "source": [
    "#|exports\n",
    "def test_svg_fasthtml_examples():\n",
    "    \"\"\"Test SVG utilities in practical FastHTML component examples.\"\"\"\n",
    "    from fasthtml.common import Div\n",
    "    from fasthtml.svg import Svg, Circle, Rect, G, Path\n",
    "    from cjm_fasthtml_tailwind.utilities.sizing import w, h\n",
    "    from cjm_fasthtml_tailwind.utilities.layout import display_tw\n",
    "    from cjm_fasthtml_tailwind.utilities.flexbox_and_grid import gap\n",
    "    \n",
    "    # Icon with fill color\n",
    "    icon = Svg(\n",
    "        Path(\n",
    "            d=\"M10 20v-6h4v6h5v-8h3L12 3 2 12h3v8z\",\n",
    "            cls=str(fill.current)\n",
    "        ),\n",
    "        viewBox=\"0 0 24 24\",\n",
    "        cls=combine_classes(w(6), h(6), fill_none)\n",
    "    )\n",
    "    assert \"fill-current\" in icon.children[0].attrs['class']\n",
    "    assert \"fill-none\" in icon.attrs['class']\n",
    "    \n",
    "    # Circle with stroke\n",
    "    circle_svg = Svg(\n",
    "        Circle(\n",
    "            cx=\"50\", cy=\"50\", r=\"40\",\n",
    "            cls=combine_classes(\n",
    "                fill.transparent,\n",
    "                stroke.blue._500,\n",
    "                stroke_width(2)\n",
    "            )\n",
    "        ),\n",
    "        viewBox=\"0 0 100 100\",\n",
    "        cls=combine_classes(w(24), h(24))\n",
    "    )\n",
    "    circle_attrs = circle_svg.children[0].attrs['class']\n",
    "    assert \"fill-transparent\" in circle_attrs\n",
    "    assert \"stroke-blue-500\" in circle_attrs\n",
    "    assert \"stroke-2\" in circle_attrs\n",
    "    \n",
    "    # Complex SVG with multiple elements\n",
    "    complex_svg = Svg(\n",
    "        G(\n",
    "            Rect(\n",
    "                x=\"10\", y=\"10\", width=\"80\", height=\"80\",\n",
    "                cls=combine_classes(\n",
    "                    fill.red._200,\n",
    "                    stroke.red._600,\n",
    "                    stroke_width(1)\n",
    "                )\n",
    "            ),\n",
    "            Circle(\n",
    "                cx=\"50\", cy=\"50\", r=\"20\",\n",
    "                cls=combine_classes(\n",
    "                    fill.blue._400.opacity(75),\n",
    "                    stroke.blue._700,\n",
    "                    stroke_width(2)\n",
    "                )\n",
    "            )\n",
    "        ),\n",
    "        viewBox=\"0 0 100 100\",\n",
    "        cls=combine_classes(w(32), h(32))\n",
    "    )\n",
    "    rect_attrs = complex_svg.children[0].children[0].attrs['class']\n",
    "    circle_attrs = complex_svg.children[0].children[1].attrs['class']\n",
    "    assert \"fill-red-200\" in rect_attrs\n",
    "    assert \"stroke-red-600\" in rect_attrs\n",
    "    assert \"stroke-1\" in rect_attrs\n",
    "    assert \"fill-blue-400/75\" in circle_attrs\n",
    "    assert \"stroke-blue-700\" in circle_attrs\n",
    "    assert \"stroke-2\" in circle_attrs\n",
    "    \n",
    "    # Return all examples in a grid layout\n",
    "    return Div(\n",
    "        icon,\n",
    "        circle_svg,\n",
    "        complex_svg,\n",
    "        cls=combine_classes(display_tw.grid, gap(5))\n",
    "    )\n",
    "\n",
    "# Run the tests\n",
    "test_svg_fasthtml_examples()"
   ]
  },
  {
   "cell_type": "code",
   "execution_count": null,
   "id": "755fa94f-cb20-4156-a99e-fdbf90b513b1",
   "metadata": {},
   "outputs": [
    {
     "data": {
      "text/html": [
       "\n",
       "<script>\n",
       "document.body.addEventListener('htmx:configRequest', (event) => {\n",
       "    if(event.detail.path.includes('://')) return;\n",
       "    htmx.config.selfRequestsOnly=false;\n",
       "    event.detail.path = `${location.protocol}//${location.hostname}:8000${event.detail.path}`;\n",
       "});\n",
       "</script>"
      ],
      "text/plain": [
       "<IPython.core.display.HTML object>"
      ]
     },
     "metadata": {},
     "output_type": "display_data"
    },
    {
     "data": {
      "text/html": [
       "<iframe src=\"http://localhost:8000/\" style=\"width: 100%; height: auto; border: none;\" onload=\"{\n",
       "        let frame = this;\n",
       "        window.addEventListener('message', function(e) {\n",
       "            if (e.source !== frame.contentWindow) return; // Only proceed if the message is from this iframe\n",
       "            if (e.data.height) frame.style.height = (e.data.height+1) + 'px';\n",
       "        }, false);\n",
       "    }\" allow=\"accelerometer; autoplay; camera; clipboard-read; clipboard-write; display-capture; encrypted-media; fullscreen; gamepad; geolocation; gyroscope; hid; identity-credentials-get; idle-detection; magnetometer; microphone; midi; payment; picture-in-picture; publickey-credentials-get; screen-wake-lock; serial; usb; web-share; xr-spatial-tracking\"></iframe> "
      ],
      "text/plain": [
       "<IPython.core.display.HTML object>"
      ]
     },
     "metadata": {},
     "output_type": "display_data"
    }
   ],
   "source": [
    "#| eval: false\n",
    "#| output: false\n",
    "test_func = test_svg_fasthtml_examples\n",
    "app, rt = create_test_app()\n",
    "\n",
    "@rt\n",
    "def index():\n",
    "    return create_test_page(test_func.__doc__.title().replace('.', ''), test_func())\n",
    "server = start_test_server(app)\n",
    "display(HTMX())\n",
    "server.stop()"
   ]
  },
  {
   "cell_type": "markdown",
   "id": "c9778935-3587-409c-8095-ec30dafe82a0",
   "metadata": {},
   "source": [
    "### SVG Icon Examples\n",
    "\n",
    "Create reusable icon components:"
   ]
  },
  {
   "cell_type": "code",
   "execution_count": null,
   "id": "43a6db9e-ef90-4541-805a-4feb72e23186",
   "metadata": {},
   "outputs": [
    {
     "data": {
      "text/markdown": [
       "```html\n",
       "<div class=\"grid gap-5\">\n",
       "<svg xmlns=\"http://www.w3.org/2000/svg\" viewbox=\"0 0 24 24\" class=\"w-8 h-8 fill-none stroke-current stroke-2 text-blue-500\"><path d=\"M3 12l2-2m0 0l7-7 7 7M5 10v10a1 1 0 001 1h3m10-11l2 2m-2-2v10a1 1 0 01-1 1h-3m-6 0a1 1 0 001-1v-4a1 1 0 011-1h2a1 1 0 011 1v4a1 1 0 001 1m-6 0h6\" class=\"fill-current\"></path></svg>  <div class=\"inline-flex items-center justify-center\">\n",
       "<svg xmlns=\"http://www.w3.org/2000/svg\" viewbox=\"0 0 24 24\" class=\"w-5 h-5\"><path d=\"M5 13l4 4L19 7\" class=\"fill-none stroke-green-500 stroke-2\"></path></svg>  </div>\n",
       "</div>\n",
       "\n",
       "```"
      ],
      "text/plain": [
       "div((svg((path((),{'d': 'M3 12l2-2m0 0l7-7 7 7M5 10v10a1 1 0 001 1h3m10-11l2 2m-2-2v10a1 1 0 01-1 1h-3m-6 0a1 1 0 001-1v-4a1 1 0 011-1h2a1 1 0 011 1v4a1 1 0 001 1m-6 0h6', 'class': 'fill-current'}),),{'xmlns': 'http://www.w3.org/2000/svg', 'viewbox': '0 0 24 24', 'class': 'w-8 h-8 fill-none stroke-current stroke-2 text-blue-500'}), div((svg((path((),{'d': 'M5 13l4 4L19 7', 'class': 'fill-none stroke-green-500 stroke-2'}),),{'xmlns': 'http://www.w3.org/2000/svg', 'viewbox': '0 0 24 24', 'class': 'w-5 h-5'}),),{'class': 'inline-flex items-center justify-center'})),{'class': 'grid gap-5'})"
      ]
     },
     "execution_count": null,
     "metadata": {},
     "output_type": "execute_result"
    }
   ],
   "source": [
    "#|exports\n",
    "def test_svg_icon_fasthtml_examples():\n",
    "    \"\"\"Test creating reusable SVG icon components.\"\"\"\n",
    "    from fasthtml.common import Div\n",
    "    from fasthtml.svg import Svg, Path\n",
    "    from cjm_fasthtml_tailwind.utilities.sizing import w, h\n",
    "    from cjm_fasthtml_tailwind.utilities.flexbox_and_grid import items, justify, gap\n",
    "    from cjm_fasthtml_tailwind.utilities.layout import display_tw\n",
    "    \n",
    "    # Helper function to create an icon\n",
    "    def Icon(path_d: str, size: int = 6, color_cls: str = \"\"):\n",
    "        \"\"\"Create a reusable icon component.\"\"\"\n",
    "        return Svg(\n",
    "            Path(d=path_d, cls=str(fill.current)),\n",
    "            viewBox=\"0 0 24 24\",\n",
    "            cls=combine_classes(\n",
    "                w(size), h(size),\n",
    "                fill_none,\n",
    "                stroke.current,\n",
    "                stroke_width(2),\n",
    "                color_cls\n",
    "            )\n",
    "        )\n",
    "    \n",
    "    # Home icon\n",
    "    home_icon = Icon(\n",
    "        \"M3 12l2-2m0 0l7-7 7 7M5 10v10a1 1 0 001 1h3m10-11l2 2m-2-2v10a1 1 0 01-1 1h-3m-6 0a1 1 0 001-1v-4a1 1 0 011-1h2a1 1 0 011 1v4a1 1 0 001 1m-6 0h6\",\n",
    "        size=8,\n",
    "        color_cls=\"text-blue-500\"\n",
    "    )\n",
    "    assert \"w-8 h-8\" in home_icon.attrs['class']\n",
    "    assert \"fill-none\" in home_icon.attrs['class']\n",
    "    assert \"stroke-current\" in home_icon.attrs['class']\n",
    "    assert \"stroke-2\" in home_icon.attrs['class']\n",
    "    assert \"text-blue-500\" in home_icon.attrs['class']\n",
    "    \n",
    "    # Check icon with custom colors\n",
    "    check_icon = Div(\n",
    "        Svg(\n",
    "            Path(\n",
    "                d=\"M5 13l4 4L19 7\",\n",
    "                cls=combine_classes(\n",
    "                    fill_none,\n",
    "                    stroke.green._500,\n",
    "                    stroke_width(2)\n",
    "                )\n",
    "            ),\n",
    "            viewBox=\"0 0 24 24\",\n",
    "            cls=combine_classes(w(5), h(5))\n",
    "        ),\n",
    "        cls=combine_classes(display_tw.inline_flex, items.center, justify.center)\n",
    "    )\n",
    "    path_attrs = check_icon.children[0].children[0].attrs['class']\n",
    "    assert \"fill-none\" in path_attrs\n",
    "    assert \"stroke-green-500\" in path_attrs\n",
    "    assert \"stroke-2\" in path_attrs\n",
    "    \n",
    "    # Return all examples in a grid layout\n",
    "    return Div(\n",
    "        home_icon,\n",
    "        check_icon,\n",
    "        cls=combine_classes(display_tw.grid, gap(5))\n",
    "    )\n",
    "\n",
    "# Run the tests\n",
    "test_svg_icon_fasthtml_examples()"
   ]
  },
  {
   "cell_type": "code",
   "execution_count": null,
   "id": "4789349f-1ebb-4f89-9c9d-12c24b3332b1",
   "metadata": {},
   "outputs": [
    {
     "data": {
      "text/html": [
       "\n",
       "<script>\n",
       "document.body.addEventListener('htmx:configRequest', (event) => {\n",
       "    if(event.detail.path.includes('://')) return;\n",
       "    htmx.config.selfRequestsOnly=false;\n",
       "    event.detail.path = `${location.protocol}//${location.hostname}:8000${event.detail.path}`;\n",
       "});\n",
       "</script>"
      ],
      "text/plain": [
       "<IPython.core.display.HTML object>"
      ]
     },
     "metadata": {},
     "output_type": "display_data"
    },
    {
     "data": {
      "text/html": [
       "<iframe src=\"http://localhost:8000/\" style=\"width: 100%; height: auto; border: none;\" onload=\"{\n",
       "        let frame = this;\n",
       "        window.addEventListener('message', function(e) {\n",
       "            if (e.source !== frame.contentWindow) return; // Only proceed if the message is from this iframe\n",
       "            if (e.data.height) frame.style.height = (e.data.height+1) + 'px';\n",
       "        }, false);\n",
       "    }\" allow=\"accelerometer; autoplay; camera; clipboard-read; clipboard-write; display-capture; encrypted-media; fullscreen; gamepad; geolocation; gyroscope; hid; identity-credentials-get; idle-detection; magnetometer; microphone; midi; payment; picture-in-picture; publickey-credentials-get; screen-wake-lock; serial; usb; web-share; xr-spatial-tracking\"></iframe> "
      ],
      "text/plain": [
       "<IPython.core.display.HTML object>"
      ]
     },
     "metadata": {},
     "output_type": "display_data"
    }
   ],
   "source": [
    "#| eval: false\n",
    "#| output: false\n",
    "test_func = test_svg_icon_fasthtml_examples\n",
    "app, rt = create_test_app()\n",
    "\n",
    "@rt\n",
    "def index():\n",
    "    return create_test_page(test_func.__doc__.title().replace('.', ''), test_func())\n",
    "server = start_test_server(app)\n",
    "display(HTMX())\n",
    "server.stop()"
   ]
  },
  {
   "cell_type": "markdown",
   "id": "f2006261-a415-4152-9cb0-7bbcb67ab400",
   "metadata": {},
   "source": [
    "### Progress Ring Example\n",
    "\n",
    "Create a circular progress indicator:"
   ]
  },
  {
   "cell_type": "code",
   "execution_count": null,
   "id": "eae1a84d-47ec-49a8-9907-5a93388be7e8",
   "metadata": {},
   "outputs": [
    {
     "data": {
      "text/markdown": [
       "```html\n",
       "<div class=\"grid gap-5\">\n",
       "  <div class=\"relative inline-flex\">\n",
       "<svg xmlns=\"http://www.w3.org/2000/svg\" viewbox=\"0 0 120 120\" class=\"w-32 h-32\"><circle r=\"45\" cx=\"60\" cy=\"60\" class=\"fill-none stroke-gray-200 stroke-[8]\"></circle><circle r=\"45\" cx=\"60\" cy=\"60\" class=\"fill-none stroke-blue-500 stroke-[8]\" style=\"stroke-dasharray: 282.74309999999997; stroke-dashoffset: 212.057325; transform: rotate(-90deg); transform-origin: center;\"></circle></svg>  </div>\n",
       "  <div class=\"relative inline-flex\">\n",
       "<svg xmlns=\"http://www.w3.org/2000/svg\" viewbox=\"0 0 120 120\" class=\"w-32 h-32\"><circle r=\"45\" cx=\"60\" cy=\"60\" class=\"fill-none stroke-gray-200 stroke-[8]\"></circle><circle r=\"45\" cx=\"60\" cy=\"60\" class=\"fill-none stroke-blue-500 stroke-[8]\" style=\"stroke-dasharray: 282.74309999999997; stroke-dashoffset: 141.37154999999998; transform: rotate(-90deg); transform-origin: center;\"></circle></svg>  </div>\n",
       "  <div class=\"relative inline-flex\">\n",
       "<svg xmlns=\"http://www.w3.org/2000/svg\" viewbox=\"0 0 120 120\" class=\"w-32 h-32\"><circle r=\"45\" cx=\"60\" cy=\"60\" class=\"fill-none stroke-gray-200 stroke-[8]\"></circle><circle r=\"45\" cx=\"60\" cy=\"60\" class=\"fill-none stroke-blue-500 stroke-[8]\" style=\"stroke-dasharray: 282.74309999999997; stroke-dashoffset: 70.68577499999998; transform: rotate(-90deg); transform-origin: center;\"></circle></svg>  </div>\n",
       "  <div class=\"relative inline-flex\">\n",
       "<svg xmlns=\"http://www.w3.org/2000/svg\" viewbox=\"0 0 120 120\" class=\"w-32 h-32\"><circle r=\"45\" cx=\"60\" cy=\"60\" class=\"fill-none stroke-gray-200 stroke-[8]\"></circle><circle r=\"45\" cx=\"60\" cy=\"60\" class=\"fill-none stroke-blue-500 stroke-[8]\" style=\"stroke-dasharray: 282.74309999999997; stroke-dashoffset: 0.0; transform: rotate(-90deg); transform-origin: center;\"></circle></svg>  </div>\n",
       "</div>\n",
       "\n",
       "```"
      ],
      "text/plain": [
       "div((div((svg((circle((),{'r': '45', 'cx': '60', 'cy': '60', 'class': 'fill-none stroke-gray-200 stroke-[8]'}), circle((),{'r': '45', 'cx': '60', 'cy': '60', 'class': 'fill-none stroke-blue-500 stroke-[8]', 'style': 'stroke-dasharray: 282.74309999999997; stroke-dashoffset: 212.057325; transform: rotate(-90deg); transform-origin: center;'})),{'xmlns': 'http://www.w3.org/2000/svg', 'viewbox': '0 0 120 120', 'class': 'w-32 h-32'}),),{'class': 'relative inline-flex'}), div((svg((circle((),{'r': '45', 'cx': '60', 'cy': '60', 'class': 'fill-none stroke-gray-200 stroke-[8]'}), circle((),{'r': '45', 'cx': '60', 'cy': '60', 'class': 'fill-none stroke-blue-500 stroke-[8]', 'style': 'stroke-dasharray: 282.74309999999997; stroke-dashoffset: 141.37154999999998; transform: rotate(-90deg); transform-origin: center;'})),{'xmlns': 'http://www.w3.org/2000/svg', 'viewbox': '0 0 120 120', 'class': 'w-32 h-32'}),),{'class': 'relative inline-flex'}), div((svg((circle((),{'r': '45', 'cx': '60', 'cy': '60', 'class': 'fill-none stroke-gray-200 stroke-[8]'}), circle((),{'r': '45', 'cx': '60', 'cy': '60', 'class': 'fill-none stroke-blue-500 stroke-[8]', 'style': 'stroke-dasharray: 282.74309999999997; stroke-dashoffset: 70.68577499999998; transform: rotate(-90deg); transform-origin: center;'})),{'xmlns': 'http://www.w3.org/2000/svg', 'viewbox': '0 0 120 120', 'class': 'w-32 h-32'}),),{'class': 'relative inline-flex'}), div((svg((circle((),{'r': '45', 'cx': '60', 'cy': '60', 'class': 'fill-none stroke-gray-200 stroke-[8]'}), circle((),{'r': '45', 'cx': '60', 'cy': '60', 'class': 'fill-none stroke-blue-500 stroke-[8]', 'style': 'stroke-dasharray: 282.74309999999997; stroke-dashoffset: 0.0; transform: rotate(-90deg); transform-origin: center;'})),{'xmlns': 'http://www.w3.org/2000/svg', 'viewbox': '0 0 120 120', 'class': 'w-32 h-32'}),),{'class': 'relative inline-flex'})),{'class': 'grid gap-5'})"
      ]
     },
     "execution_count": null,
     "metadata": {},
     "output_type": "execute_result"
    }
   ],
   "source": [
    "#|exports\n",
    "def test_svg_progress_ring_fasthtml_examples():\n",
    "    \"\"\"Test creating a progress ring component.\"\"\"\n",
    "    from fasthtml.common import Div\n",
    "    from fasthtml.svg import Svg, Circle\n",
    "    from cjm_fasthtml_tailwind.utilities.sizing import w, h\n",
    "    from cjm_fasthtml_tailwind.utilities.layout import display_tw, position\n",
    "    from cjm_fasthtml_tailwind.utilities.flexbox_and_grid import gap\n",
    "    \n",
    "    # Progress ring component\n",
    "    def ProgressRing(percentage: int, size: int = 120):\n",
    "        \"\"\"Create a circular progress indicator.\"\"\"\n",
    "        radius = 45\n",
    "        circumference = 2 * 3.14159 * radius\n",
    "        stroke_dashoffset = circumference - (percentage / 100) * circumference\n",
    "        \n",
    "        return Div(\n",
    "            Svg(\n",
    "                # Background circle\n",
    "                Circle(\n",
    "                    cx=str(size // 2),\n",
    "                    cy=str(size // 2),\n",
    "                    r=str(radius),\n",
    "                    cls=combine_classes(\n",
    "                        fill_none,\n",
    "                        stroke.gray._200,\n",
    "                        stroke_width(8)\n",
    "                    )\n",
    "                ),\n",
    "                # Progress circle\n",
    "                Circle(\n",
    "                    cx=str(size // 2),\n",
    "                    cy=str(size // 2),\n",
    "                    r=str(radius),\n",
    "                    cls=combine_classes(\n",
    "                        fill_none,\n",
    "                        stroke.blue._500,\n",
    "                        stroke_width(8)\n",
    "                    ),\n",
    "                    style=f\"stroke-dasharray: {circumference}; stroke-dashoffset: {stroke_dashoffset}; transform: rotate(-90deg); transform-origin: center;\",\n",
    "                ),\n",
    "                viewBox=f\"0 0 {size} {size}\",\n",
    "                cls=combine_classes(w(32), h(32))\n",
    "            ),\n",
    "            cls=combine_classes(position.relative, display_tw.inline_flex)\n",
    "        )\n",
    "    \n",
    "    # Test 75% progress\n",
    "    progress_75 = ProgressRing(75)\n",
    "    svg = progress_75.children[0]\n",
    "    bg_circle = svg.children[0]\n",
    "    progress_circle = svg.children[1]\n",
    "    \n",
    "    assert \"fill-none\" in bg_circle.attrs['class']\n",
    "    assert \"stroke-gray-200\" in bg_circle.attrs['class']\n",
    "    assert \"stroke-[8]\" in bg_circle.attrs['class']\n",
    "    \n",
    "    assert \"fill-none\" in progress_circle.attrs['class']\n",
    "    assert \"stroke-blue-500\" in progress_circle.attrs['class']\n",
    "    assert \"stroke-[8]\" in progress_circle.attrs['class']\n",
    "    assert \"stroke-dasharray\" in progress_circle.attrs['style']\n",
    "    \n",
    "    # Create different progress examples\n",
    "    progress_25 = ProgressRing(25)\n",
    "    progress_50 = ProgressRing(50)\n",
    "    progress_100 = ProgressRing(100)\n",
    "    \n",
    "    # Return all examples in a grid layout\n",
    "    return Div(\n",
    "        progress_25,\n",
    "        progress_50,\n",
    "        progress_75,\n",
    "        progress_100,\n",
    "        cls=combine_classes(display_tw.grid, gap(5))\n",
    "    )\n",
    "\n",
    "# Run the tests\n",
    "test_svg_progress_ring_fasthtml_examples()"
   ]
  },
  {
   "cell_type": "code",
   "execution_count": null,
   "id": "9adeb31a-bba7-4feb-85ef-aaa5b3b925d9",
   "metadata": {},
   "outputs": [
    {
     "data": {
      "text/html": [
       "\n",
       "<script>\n",
       "document.body.addEventListener('htmx:configRequest', (event) => {\n",
       "    if(event.detail.path.includes('://')) return;\n",
       "    htmx.config.selfRequestsOnly=false;\n",
       "    event.detail.path = `${location.protocol}//${location.hostname}:8000${event.detail.path}`;\n",
       "});\n",
       "</script>"
      ],
      "text/plain": [
       "<IPython.core.display.HTML object>"
      ]
     },
     "metadata": {},
     "output_type": "display_data"
    },
    {
     "data": {
      "text/html": [
       "<iframe src=\"http://localhost:8000/\" style=\"width: 100%; height: auto; border: none;\" onload=\"{\n",
       "        let frame = this;\n",
       "        window.addEventListener('message', function(e) {\n",
       "            if (e.source !== frame.contentWindow) return; // Only proceed if the message is from this iframe\n",
       "            if (e.data.height) frame.style.height = (e.data.height+1) + 'px';\n",
       "        }, false);\n",
       "    }\" allow=\"accelerometer; autoplay; camera; clipboard-read; clipboard-write; display-capture; encrypted-media; fullscreen; gamepad; geolocation; gyroscope; hid; identity-credentials-get; idle-detection; magnetometer; microphone; midi; payment; picture-in-picture; publickey-credentials-get; screen-wake-lock; serial; usb; web-share; xr-spatial-tracking\"></iframe> "
      ],
      "text/plain": [
       "<IPython.core.display.HTML object>"
      ]
     },
     "metadata": {},
     "output_type": "display_data"
    }
   ],
   "source": [
    "#| eval: false\n",
    "#| output: false\n",
    "test_func = test_svg_progress_ring_fasthtml_examples\n",
    "app, rt = create_test_app()\n",
    "\n",
    "@rt\n",
    "def index():\n",
    "    return create_test_page(test_func.__doc__.title().replace('.', ''), test_func())\n",
    "server = start_test_server(app)\n",
    "display(HTMX())\n",
    "server.stop()"
   ]
  },
  {
   "cell_type": "markdown",
   "id": "c43bd560-f4b6-4ba3-836e-ef2c1675c946",
   "metadata": {},
   "source": [
    "## Documentation Tests\n",
    "\n",
    "Test that all factories provide proper documentation:"
   ]
  },
  {
   "cell_type": "code",
   "execution_count": null,
   "id": "2bfbe5f7-aeff-4904-a6e7-1effdd9a8a29",
   "metadata": {},
   "outputs": [],
   "source": [
    "#| export\n",
    "def test_svg_factory_documentation():\n",
    "    \"\"\"Test that SVG factories have accessible documentation.\"\"\"\n",
    "    # Test fill factory\n",
    "    assert fill.describe() == \"Fill color utilities for styling the fill of SVG elements\"\n",
    "    fill_info = fill.get_info()\n",
    "    assert 'color_families' in fill_info['valid_inputs']\n",
    "    assert 'shades' in fill_info['valid_inputs']\n",
    "    assert fill_info['options']['prefix'] == 'fill'\n",
    "    assert fill_info['options']['supports_opacity'] == True\n",
    "    \n",
    "    # Test stroke factory\n",
    "    assert stroke.describe() == \"Stroke color utilities for styling the stroke of SVG elements\"\n",
    "    stroke_info = stroke.get_info()\n",
    "    assert 'color_families' in stroke_info['valid_inputs']\n",
    "    assert 'shades' in stroke_info['valid_inputs']\n",
    "    assert stroke_info['options']['prefix'] == 'stroke'\n",
    "    assert stroke_info['options']['supports_opacity'] == True\n",
    "    \n",
    "    # Test stroke width factory\n",
    "    assert stroke_width.describe() == \"Stroke width utilities for styling the stroke width of SVG elements\"\n",
    "    sw_info = stroke_width.get_info()\n",
    "    assert 'Numeric values: 0, 1, 2' in sw_info['valid_inputs']\n",
    "    assert 'Arbitrary values:' in sw_info['valid_inputs'][1]\n",
    "    assert sw_info['options']['prefix'] == 'stroke'\n",
    "    assert sw_info['options']['default_values'] == [0, 1, 2]\n",
    "\n",
    "# Run the tests\n",
    "test_svg_factory_documentation()"
   ]
  },
  {
   "cell_type": "markdown",
   "id": "58868ef8-7675-42c5-bd56-92e929c15ee9",
   "metadata": {},
   "source": [
    "## Edge Cases and Special Values\n",
    "\n",
    "Test edge cases and special SVG-specific values:"
   ]
  },
  {
   "cell_type": "code",
   "execution_count": null,
   "id": "3d530979-3618-4ba5-ab80-faed7d24f956",
   "metadata": {},
   "outputs": [],
   "source": [
    "#| export\n",
    "def test_svg_edge_cases():\n",
    "    \"\"\"Test edge cases and special values for SVG utilities.\"\"\"\n",
    "    # Test fill-none and stroke-none\n",
    "    assert str(fill_none) == \"fill-none\"\n",
    "    assert str(stroke_none) == \"stroke-none\"\n",
    "    \n",
    "    # Test inherit value\n",
    "    assert str(fill.inherit) == \"fill-inherit\"\n",
    "    assert str(stroke.inherit) == \"stroke-inherit\"\n",
    "    \n",
    "    # Test current color\n",
    "    assert str(fill.current) == \"fill-current\"\n",
    "    assert str(stroke.current) == \"stroke-current\"\n",
    "    \n",
    "    # Test combining multiple SVG utilities\n",
    "    combined = combine_classes(\n",
    "        fill.red._500,\n",
    "        stroke.blue._600,\n",
    "        stroke_width(2)\n",
    "    )\n",
    "    assert combined == \"fill-red-500 stroke-blue-600 stroke-2\"\n",
    "    \n",
    "    # Test stroke width edge cases\n",
    "    assert str(stroke_width(0)) == \"stroke-0\"  # Valid\n",
    "    assert str(stroke_width(0.5)) == \"stroke-[0.5]\"  # Arbitrary\n",
    "    assert str(stroke_width(10)) == \"stroke-[10]\"  # Arbitrary\n",
    "    assert str(stroke_width(\"1%\")) == \"stroke-[1%]\"  # Arbitrary unit\n",
    "    \n",
    "    # Test opacity with special colors\n",
    "    assert str(fill.inherit.opacity(50)) == \"fill-inherit/50\"\n",
    "    assert str(stroke.current.opacity(75)) == \"stroke-current/75\"\n",
    "\n",
    "# Run the tests\n",
    "test_svg_edge_cases()"
   ]
  },
  {
   "cell_type": "code",
   "execution_count": null,
   "id": "e608381a-0974-489f-b454-a753cec22156",
   "metadata": {},
   "outputs": [],
   "source": []
  },
  {
   "cell_type": "markdown",
   "id": "9eeb3537-0c04-41c7-ad6e-dce2dc5137da",
   "metadata": {},
   "source": [
    "## Helper Functions\n",
    "\n",
    "Convenient functions for common SVG patterns:"
   ]
  },
  {
   "cell_type": "code",
   "execution_count": null,
   "id": "a3320d12-649e-4603-88ea-8eb334070df4",
   "metadata": {},
   "outputs": [],
   "source": [
    "#| export\n",
    "def svg_icon_classes(\n",
    "    fill_color: Optional[Union[str, ColoredUtility]] = None,  # Fill color class or utility\n",
    "    stroke_color: Optional[Union[str, ColoredUtility]] = None,  # Stroke color class or utility\n",
    "    width: Union[int, str] = 2,  # Stroke width value\n",
    "    size: int = 6,  # Icon size (numeric value for w and h)\n",
    "    extra_classes: str = \"\"  # Additional classes to include\n",
    ") -> str:  # Combined class string for SVG icon\n",
    "    \"\"\"Generate common SVG icon classes.\"\"\"\n",
    "    from cjm_fasthtml_tailwind.utilities.sizing import w, h\n",
    "    \n",
    "    classes = [str(w(size)), str(h(size))]\n",
    "    \n",
    "    if fill_color:\n",
    "        classes.append(str(fill_color) if hasattr(fill_color, '__str__') else fill_color)\n",
    "    \n",
    "    if stroke_color:\n",
    "        classes.append(str(stroke_color) if hasattr(stroke_color, '__str__') else stroke_color)\n",
    "    \n",
    "    if width is not None:\n",
    "        classes.append(str(stroke_width(width)))\n",
    "    \n",
    "    if extra_classes:\n",
    "        classes.append(extra_classes)\n",
    "    \n",
    "    return combine_classes(*classes)"
   ]
  },
  {
   "cell_type": "code",
   "execution_count": null,
   "id": "a2d0f608-dcbf-4a16-abb5-787bac8cf93a",
   "metadata": {},
   "outputs": [],
   "source": [
    "#| export\n",
    "def test_svg_helper_functions():\n",
    "    \"\"\"Test SVG helper functions.\"\"\"\n",
    "    # Basic icon classes\n",
    "    assert svg_icon_classes() == \"w-6 h-6 stroke-2\"\n",
    "    \n",
    "    # With fill color\n",
    "    assert svg_icon_classes(fill_color=fill.red._500) == \"w-6 h-6 fill-red-500 stroke-2\"\n",
    "    \n",
    "    # With stroke color\n",
    "    assert svg_icon_classes(stroke_color=stroke.blue._600) == \"w-6 h-6 stroke-blue-600 stroke-2\"\n",
    "    \n",
    "    # With both colors and custom size\n",
    "    result = svg_icon_classes(\n",
    "        fill_color=fill_none,\n",
    "        stroke_color=stroke.green._500,\n",
    "        width=1,\n",
    "        size=8\n",
    "    )\n",
    "    assert result == \"w-8 h-8 fill-none stroke-green-500 stroke-1\"\n",
    "    \n",
    "    # With extra classes\n",
    "    result = svg_icon_classes(\n",
    "        fill_color=fill.current,\n",
    "        extra_classes=\"hover:fill-blue-500 transition-colors\"\n",
    "    )\n",
    "    assert \"fill-current\" in result\n",
    "    assert \"hover:fill-blue-500\" in result\n",
    "    assert \"transition-colors\" in result\n",
    "\n",
    "# Run the tests\n",
    "test_svg_helper_functions()"
   ]
  },
  {
   "cell_type": "code",
   "execution_count": null,
   "id": "8cd91fde-373e-4039-9233-a4513c5b06c8",
   "metadata": {},
   "outputs": [],
   "source": []
  },
  {
   "cell_type": "code",
   "execution_count": null,
   "id": "86e34343-eae7-4474-ac87-d07a64856841",
   "metadata": {},
   "outputs": [],
   "source": []
  },
  {
   "cell_type": "code",
   "execution_count": null,
   "id": "f7162a19-934e-41d6-b306-1e7725e07948",
   "metadata": {},
   "outputs": [],
   "source": []
  },
  {
   "cell_type": "code",
   "execution_count": null,
   "id": "f1ed7dc6-a120-46bf-b18f-a94a2d8fa078",
   "metadata": {},
   "outputs": [],
   "source": []
  },
  {
   "cell_type": "code",
   "execution_count": null,
   "id": "7ac422eb-83b1-498a-84c1-2d00fbd0f8bb",
   "metadata": {},
   "outputs": [],
   "source": []
  },
  {
   "cell_type": "code",
   "execution_count": null,
   "id": "cd173cd0-5e69-45ab-82d7-93241962a76c",
   "metadata": {},
   "outputs": [],
   "source": []
  },
  {
   "cell_type": "code",
   "execution_count": null,
   "id": "ecb8f34c-0b67-4aac-99dd-1a161c150bcd",
   "metadata": {},
   "outputs": [],
   "source": []
  },
  {
   "cell_type": "code",
   "execution_count": null,
   "id": "a69f1140-58ce-4526-861d-14dbaf68f866",
   "metadata": {},
   "outputs": [],
   "source": []
  },
  {
   "cell_type": "code",
   "execution_count": null,
   "id": "67bf8318-ee75-4230-b60b-078ca3a2deca",
   "metadata": {},
   "outputs": [],
   "source": []
  },
  {
   "cell_type": "code",
   "execution_count": null,
   "id": "cf2703f2-2e69-45e9-88cc-c34a99ff8939",
   "metadata": {},
   "outputs": [],
   "source": [
    "#| hide\n",
    "import nbdev; nbdev.nbdev_export()"
   ]
  }
 ],
 "metadata": {
  "kernelspec": {
   "display_name": "python3",
   "language": "python",
   "name": "python3"
  }
 },
 "nbformat": 4,
 "nbformat_minor": 5
}
