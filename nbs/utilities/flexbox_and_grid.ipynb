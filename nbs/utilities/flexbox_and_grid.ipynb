{
 "cells": [
  {
   "cell_type": "markdown",
   "id": "c908eee9-6e3c-40b2-ac7a-986264db9823",
   "metadata": {},
   "source": [
    "# flexbox_and_grid\n",
    "\n",
    "> Flexbox and CSS Grid utilities for Tailwind CSS"
   ]
  },
  {
   "cell_type": "code",
   "execution_count": null,
   "id": "f2c88f60-637e-4155-bf02-e8f5bb1fb6da",
   "metadata": {},
   "outputs": [],
   "source": [
    "#| default_exp utilities.flexbox_and_grid"
   ]
  },
  {
   "cell_type": "code",
   "execution_count": null,
   "id": "d08e7c9b-a673-4b70-973c-3019a2becebf",
   "metadata": {},
   "outputs": [],
   "source": [
    "#| hide\n",
    "from nbdev.showdoc import *"
   ]
  },
  {
   "cell_type": "code",
   "execution_count": null,
   "id": "737ab35d-2970-474d-bce8-c5205864956a",
   "metadata": {},
   "outputs": [],
   "source": [
    "#| export\n",
    "from typing import Optional, Union, Literal, List, Dict\n",
    "from dataclasses import dataclass\n",
    "from cjm_fasthtml_tailwind.core.base import (\n",
    "    TailwindScale, combine_classes, StandardUtility, UtilityFactory,\n",
    "    is_numeric_scale, is_fraction, is_custom_property, is_arbitrary_value,\n",
    "    CONTAINER_SCALES\n",
    ")\n",
    "from cjm_fasthtml_tailwind.builders.scales import (\n",
    "    ScaledFactory, DirectionalScaledFactory, ScaleConfig, \n",
    "    ScaledUtility, SimpleFactory, SPACING_CONFIG, NUMERIC_SCALE\n",
    ")"
   ]
  },
  {
   "cell_type": "markdown",
   "id": "0a7b873b-3f0c-495d-9247-9271523ae32b",
   "metadata": {},
   "source": [
    "## Flex Basis Utilities\n",
    "\n",
    "Control the initial size of flex items before they grow or shrink."
   ]
  },
  {
   "cell_type": "code",
   "execution_count": null,
   "id": "cb60cadb-8604-44d1-8721-8ecf9081fe62",
   "metadata": {},
   "outputs": [],
   "source": [
    "#| export\n",
    "FLEX_BASIS_CONFIG = ScaleConfig( # Create configuration for flex basis - similar to width/height but with container scales\n",
    "    numeric=True,\n",
    "    decimals=True,\n",
    "    fractions=True,\n",
    "    named=CONTAINER_SCALES,  # Use container scales (3xs through 7xl)\n",
    "    special={\n",
    "        \"auto\": \"auto\",\n",
    "        \"full\": \"full\"\n",
    "    },\n",
    "    negative=False\n",
    ")\n",
    "\n",
    "# Create flex basis factory\n",
    "basis = ScaledFactory(\"basis\", FLEX_BASIS_CONFIG) # The flex basis factory"
   ]
  },
  {
   "cell_type": "code",
   "execution_count": null,
   "id": "87ae4c5b-ba81-47c2-87bc-3d6c03800b51",
   "metadata": {},
   "outputs": [],
   "source": [
    "# Test flex basis utilities\n",
    "assert str(basis(0)) == \"basis-0\"\n",
    "assert str(basis(4)) == \"basis-4\"\n",
    "assert str(basis(64)) == \"basis-64\"\n",
    "assert str(basis(\"1/2\")) == \"basis-1/2\"\n",
    "assert str(basis(\"2/3\")) == \"basis-2/3\"\n",
    "assert str(basis.auto) == \"basis-auto\"\n",
    "assert str(basis.full) == \"basis-full\"\n",
    "\n",
    "# Named container sizes\n",
    "assert str(basis.xs) == \"basis-xs\"\n",
    "assert str(basis.sm) == \"basis-sm\"\n",
    "assert str(basis.md) == \"basis-md\"\n",
    "assert str(basis.lg) == \"basis-lg\"\n",
    "assert str(basis._2xl) == \"basis-2xl\"\n",
    "\n",
    "# Arbitrary values\n",
    "assert str(basis(\"200px\")) == \"basis-[200px]\"\n",
    "assert str(basis(\"--custom-basis\")) == \"basis-(--custom-basis)\""
   ]
  },
  {
   "cell_type": "markdown",
   "id": "d343f567-3280-4428-85c0-3296002202de",
   "metadata": {},
   "source": [
    "## Flex Direction Utilities\n",
    "\n",
    "Control the direction of flex items in a flex container."
   ]
  },
  {
   "cell_type": "code",
   "execution_count": null,
   "id": "d7c97639-0b42-444b-89eb-6d75cd6420f6",
   "metadata": {},
   "outputs": [],
   "source": [
    "#| export\n",
    "FLEX_DIRECTION_VALUES = { # Flex direction utilities\n",
    "    \"row\": \"flex-row\",\n",
    "    \"row-reverse\": \"flex-row-reverse\",\n",
    "    \"col\": \"flex-col\",\n",
    "    \"col-reverse\": \"flex-col-reverse\"\n",
    "}\n",
    "\n",
    "# Create flex direction factory\n",
    "flex_direction = SimpleFactory(FLEX_DIRECTION_VALUES) # The flex direction factory"
   ]
  },
  {
   "cell_type": "code",
   "execution_count": null,
   "id": "1612b13b-0742-474b-9990-4896a274b1d0",
   "metadata": {},
   "outputs": [],
   "source": [
    "# Test flex direction utilities\n",
    "assert flex_direction.row == \"flex-row\"\n",
    "assert flex_direction.row_reverse == \"flex-row-reverse\"\n",
    "assert flex_direction.col == \"flex-col\"\n",
    "assert flex_direction.col_reverse == \"flex-col-reverse\""
   ]
  },
  {
   "cell_type": "markdown",
   "id": "74e14fad-2a8d-4812-9146-fd121ea6cda2",
   "metadata": {},
   "source": [
    "## Flex Wrap Utilities\n",
    "\n",
    "Control how flex items wrap."
   ]
  },
  {
   "cell_type": "code",
   "execution_count": null,
   "id": "5b8e5f0d-4a90-4244-a19d-4c31f5b3d35d",
   "metadata": {},
   "outputs": [],
   "source": [
    "#| export\n",
    "FLEX_WRAP_VALUES = { # Flex wrap utilities\n",
    "    \"nowrap\": \"flex-nowrap\",\n",
    "    \"wrap\": \"flex-wrap\",\n",
    "    \"wrap-reverse\": \"flex-wrap-reverse\"\n",
    "}\n",
    "\n",
    "# Create flex wrap factory\n",
    "flex_wrap = SimpleFactory(FLEX_WRAP_VALUES) # The flex wrap factory"
   ]
  },
  {
   "cell_type": "code",
   "execution_count": null,
   "id": "604c14eb-e103-4bd1-899b-d931dc025c38",
   "metadata": {},
   "outputs": [],
   "source": [
    "# Test flex wrap utilities\n",
    "assert flex_wrap.nowrap == \"flex-nowrap\"\n",
    "assert flex_wrap.wrap == \"flex-wrap\"\n",
    "assert flex_wrap.wrap_reverse == \"flex-wrap-reverse\""
   ]
  },
  {
   "cell_type": "markdown",
   "id": "726d3d6b-9ed7-4058-9674-d8458ff2216b",
   "metadata": {},
   "source": [
    "## Flex Utilities\n",
    "\n",
    "Control how flex items both grow and shrink."
   ]
  },
  {
   "cell_type": "code",
   "execution_count": null,
   "id": "20a5cc1e-3e34-4720-92aa-452dd6260831",
   "metadata": {},
   "outputs": [],
   "source": [
    "#| export\n",
    "FLEX_CONFIG = ScaleConfig( # Flex configuration - supports numeric values and special presets\n",
    "    numeric=True,  # Support flex-1, flex-2, etc.\n",
    "    decimals=False,\n",
    "    fractions=True,  # Support flex-1/2, etc.\n",
    "    named=None,\n",
    "    special={\n",
    "        \"auto\": \"auto\",      # flex: 1 1 auto\n",
    "        \"initial\": \"initial\", # flex: 0 1 auto\n",
    "        \"none\": \"none\"       # flex: none\n",
    "    },\n",
    "    negative=False\n",
    ")\n",
    "\n",
    "# Create flex factory\n",
    "flex = ScaledFactory(\"flex\", FLEX_CONFIG) # The flex factory"
   ]
  },
  {
   "cell_type": "code",
   "execution_count": null,
   "id": "5bc60124-403b-412e-b30a-958b4c5da76a",
   "metadata": {},
   "outputs": [],
   "source": [
    "# Test flex utilities\n",
    "assert str(flex(1)) == \"flex-1\"\n",
    "assert str(flex(2)) == \"flex-2\"\n",
    "assert str(flex(\"1/2\")) == \"flex-1/2\"\n",
    "assert str(flex.auto) == \"flex-auto\"\n",
    "assert str(flex.initial) == \"flex-initial\"\n",
    "assert str(flex.none) == \"flex-none\"\n",
    "\n",
    "# Arbitrary values\n",
    "assert str(flex(\"2 2 0%\")) == \"flex-[2 2 0%]\""
   ]
  },
  {
   "cell_type": "markdown",
   "id": "9b128f95-dc0e-43bf-bb62-16ee93d2c3bb",
   "metadata": {},
   "source": [
    "## Flex Grow Utilities\n",
    "\n",
    "Control how flex items grow."
   ]
  },
  {
   "cell_type": "code",
   "execution_count": null,
   "id": "03588029-3e99-4d95-b90c-cce3c2ab5ab4",
   "metadata": {},
   "outputs": [],
   "source": [
    "#| export\n",
    "FLEX_GROW_CONFIG = ScaleConfig( # Flex grow configuration\n",
    "    numeric=True,  # Support grow-0, grow-1, etc.\n",
    "    decimals=False,\n",
    "    fractions=False,\n",
    "    named=None,\n",
    "    special={},\n",
    "    negative=False\n",
    ")\n",
    "\n",
    "# Create grow factory with special handling for grow (defaults to 1)\n",
    "class GrowFactory(ScaledFactory):\n",
    "    \"\"\"Special factory for grow that defaults to grow-1 when called without args.\"\"\"\n",
    "    \n",
    "    def __call__(\n",
    "        self,\n",
    "        value: Optional[TailwindScale] = None  # The grow value (defaults to 1 if None)\n",
    "    ) -> ScaledUtility:  # A new grow utility instance\n",
    "        \"Create a grow utility, defaulting to grow-1 when called without arguments.\"\n",
    "        if value is None:\n",
    "            # Default grow means grow-1\n",
    "            return super().__call__(1)\n",
    "        return super().__call__(value)\n",
    "\n",
    "# Create flex grow factory\n",
    "grow = GrowFactory(\"grow\", FLEX_GROW_CONFIG) # The flex grow factory"
   ]
  },
  {
   "cell_type": "code",
   "execution_count": null,
   "id": "0d490ba5-d82a-4b9d-89df-2ffe842793c1",
   "metadata": {},
   "outputs": [],
   "source": [
    "# Test flex grow utilities\n",
    "assert str(grow()) == \"grow-1\" # which becomes grow-1\n",
    "assert str(grow(0)) == \"grow-0\"\n",
    "assert str(grow(1)) == \"grow-1\"\n",
    "assert str(grow(2)) == \"grow-2\"\n",
    "\n",
    "# Arbitrary values\n",
    "assert str(grow(\"3\")) == \"grow-3\""
   ]
  },
  {
   "cell_type": "markdown",
   "id": "21c47ec3-b818-48a0-b10c-6f1ab95a5739",
   "metadata": {},
   "source": [
    "## Flex Shrink Utilities\n",
    "\n",
    "Control how flex items shrink."
   ]
  },
  {
   "cell_type": "code",
   "execution_count": null,
   "id": "e31c4563-a2e3-4c94-8a49-f7fdfd456f49",
   "metadata": {},
   "outputs": [],
   "source": [
    "#| export\n",
    "FLEX_SHRINK_CONFIG = ScaleConfig( # Flex shrink configuration (same as grow)\n",
    "    numeric=True,  # Support shrink-0, shrink-1, etc.\n",
    "    decimals=False,\n",
    "    fractions=False,\n",
    "    named=None,\n",
    "    special={},\n",
    "    negative=False\n",
    ")\n",
    "\n",
    "# Create shrink factory with special handling for shrink (defaults to 1)\n",
    "class ShrinkFactory(ScaledFactory):\n",
    "    \"\"\"Special factory for shrink that defaults to shrink-1 when called without args.\"\"\"\n",
    "    \n",
    "    def __call__(\n",
    "        self,\n",
    "        value: Optional[TailwindScale] = None  # The shrink value (defaults to 1 if None)\n",
    "    ) -> ScaledUtility:  # A new shrink utility instance\n",
    "        \"Create a shrink utility, defaulting to shrink-1 when called without arguments.\"\n",
    "        if value is None:\n",
    "            # Default shrink means shrink-1\n",
    "            return super().__call__(1)\n",
    "        return super().__call__(value)\n",
    "\n",
    "# Create flex shrink factory\n",
    "shrink = ShrinkFactory(\"shrink\", FLEX_SHRINK_CONFIG) # The flex shrink factory"
   ]
  },
  {
   "cell_type": "code",
   "execution_count": null,
   "id": "ef741fe6-b6c3-4784-83d2-ef7b6bf3a58e",
   "metadata": {},
   "outputs": [],
   "source": [
    "# Test flex shrink utilities\n",
    "assert str(shrink()) == \"shrink-1\" # which becomes shrink-1\n",
    "assert str(shrink(0)) == \"shrink-0\"\n",
    "assert str(shrink(1)) == \"shrink-1\"\n",
    "assert str(shrink(2)) == \"shrink-2\"\n",
    "\n",
    "# Arbitrary values\n",
    "assert str(shrink(\"3\")) == \"shrink-3\""
   ]
  },
  {
   "cell_type": "markdown",
   "id": "19ad8ae1-e419-4e13-a0b2-d816d20ebcfe",
   "metadata": {},
   "source": [
    "## Order Utilities\n",
    "\n",
    "Control the order of flex and grid items."
   ]
  },
  {
   "cell_type": "code",
   "execution_count": null,
   "id": "54953778-7eb1-45ba-a0ea-28efe6dd9c21",
   "metadata": {},
   "outputs": [],
   "source": [
    "#| export\n",
    "ORDER_CONFIG = ScaleConfig( # Order configuration - supports numeric values including negative\n",
    "    numeric=True,  # Support order-1, order-2, etc.\n",
    "    decimals=False,\n",
    "    fractions=False,\n",
    "    named=None,\n",
    "    special={\n",
    "        \"first\": \"first\",  # order: calc(-infinity)\n",
    "        \"last\": \"last\",    # order: calc(infinity)\n",
    "        \"none\": \"none\"     # order: 0\n",
    "    },\n",
    "    negative=True  # Support negative order values\n",
    ")\n",
    "\n",
    "# Create order factory\n",
    "order = ScaledFactory(\"order\", ORDER_CONFIG) # The order factory"
   ]
  },
  {
   "cell_type": "code",
   "execution_count": null,
   "id": "ef519552-4455-41c0-993e-7f80a25a3c45",
   "metadata": {},
   "outputs": [],
   "source": [
    "# Test order utilities\n",
    "assert str(order(1)) == \"order-1\"\n",
    "assert str(order(2)) == \"order-2\"\n",
    "assert str(order(12)) == \"order-12\"\n",
    "assert str(order.first) == \"order-first\"\n",
    "assert str(order.last) == \"order-last\"\n",
    "assert str(order.none) == \"order-none\"\n",
    "\n",
    "# Negative values\n",
    "assert str(order.negative(1)) == \"-order-1\"\n",
    "assert str(order.negative(2)) == \"-order-2\"\n",
    "\n",
    "# Arbitrary values\n",
    "assert str(order(\"999\")) == \"order-[999]\""
   ]
  },
  {
   "cell_type": "markdown",
   "id": "3cba795a-94dd-40b2-be78-d29299fe9e7f",
   "metadata": {},
   "source": [
    "## Grid Template Columns Utilities\n",
    "\n",
    "Specify the columns in a grid layout."
   ]
  },
  {
   "cell_type": "code",
   "execution_count": null,
   "id": "2b6f7f5b-9127-4cd6-bb3c-ad21309ce381",
   "metadata": {},
   "outputs": [],
   "source": [
    "#| export\n",
    "GRID_COLS_CONFIG = ScaleConfig( # Grid template columns configuration\n",
    "    numeric=True,  # Support grid-cols-1 through grid-cols-12\n",
    "    decimals=False,\n",
    "    fractions=False,\n",
    "    named=None,\n",
    "    special={\n",
    "        \"none\": \"none\",        # grid-template-columns: none\n",
    "        \"subgrid\": \"subgrid\"   # grid-template-columns: subgrid\n",
    "    },\n",
    "    negative=False\n",
    ")\n",
    "\n",
    "# Create grid columns factory\n",
    "grid_cols = ScaledFactory(\"grid-cols\", GRID_COLS_CONFIG) # The grid columns factory"
   ]
  },
  {
   "cell_type": "code",
   "execution_count": null,
   "id": "4abe1cc3-597f-40ef-b068-19f6fb90e5cf",
   "metadata": {},
   "outputs": [],
   "source": [
    "# Test grid template columns\n",
    "assert str(grid_cols(1)) == \"grid-cols-1\"\n",
    "assert str(grid_cols(2)) == \"grid-cols-2\"\n",
    "assert str(grid_cols(3)) == \"grid-cols-3\"\n",
    "assert str(grid_cols(12)) == \"grid-cols-12\"\n",
    "assert str(grid_cols.none) == \"grid-cols-none\"\n",
    "assert str(grid_cols.subgrid) == \"grid-cols-subgrid\"\n",
    "\n",
    "# Arbitrary values\n",
    "assert str(grid_cols(\"200px 1fr 2fr\")) == \"grid-cols-[200px 1fr 2fr]\""
   ]
  },
  {
   "cell_type": "markdown",
   "id": "80b78ad0-3fb7-4199-b433-5ff58b0a0854",
   "metadata": {},
   "source": [
    "## Grid Template Rows Utilities\n",
    "\n",
    "Specify the rows in a grid layout."
   ]
  },
  {
   "cell_type": "code",
   "execution_count": null,
   "id": "2f4db460-f9fd-4c95-9a23-3454101a594f",
   "metadata": {},
   "outputs": [],
   "source": [
    "#| export\n",
    "GRID_ROWS_CONFIG = ScaleConfig( # Grid template rows configuration (same as columns)\n",
    "    numeric=True,  # Support grid-rows-1 through grid-rows-12\n",
    "    decimals=False,\n",
    "    fractions=False,\n",
    "    named=None,\n",
    "    special={\n",
    "        \"none\": \"none\",        # grid-template-rows: none\n",
    "        \"subgrid\": \"subgrid\"   # grid-template-rows: subgrid\n",
    "    },\n",
    "    negative=False\n",
    ")\n",
    "\n",
    "# Create grid rows factory\n",
    "grid_rows = ScaledFactory(\"grid-rows\", GRID_ROWS_CONFIG) # The grid rows factory"
   ]
  },
  {
   "cell_type": "code",
   "execution_count": null,
   "id": "4de7ff9e-9399-40c7-99aa-c6a92a4e3789",
   "metadata": {},
   "outputs": [],
   "source": [
    "# Test grid template rows\n",
    "assert str(grid_rows(1)) == \"grid-rows-1\"\n",
    "assert str(grid_rows(2)) == \"grid-rows-2\"\n",
    "assert str(grid_rows(3)) == \"grid-rows-3\"\n",
    "assert str(grid_rows(6)) == \"grid-rows-6\"\n",
    "assert str(grid_rows.none) == \"grid-rows-none\"\n",
    "assert str(grid_rows.subgrid) == \"grid-rows-subgrid\"\n",
    "\n",
    "# Arbitrary values\n",
    "assert str(grid_rows(\"200px auto 1fr\")) == \"grid-rows-[200px auto 1fr]\""
   ]
  },
  {
   "cell_type": "markdown",
   "id": "183d1944-ef31-4929-8097-7d6b8cf8df95",
   "metadata": {},
   "source": [
    "## Grid Column Utilities\n",
    "\n",
    "Control how elements are sized and placed across grid columns."
   ]
  },
  {
   "cell_type": "code",
   "execution_count": null,
   "id": "3c00c325-4391-4cc5-b621-f111e388358f",
   "metadata": {},
   "outputs": [],
   "source": [
    "#| export\n",
    "COL_SPAN_CONFIG = ScaleConfig( # Grid column span configuration\n",
    "    numeric=True,  # Support col-span-1 through col-span-12\n",
    "    decimals=False,\n",
    "    fractions=False,\n",
    "    named=None,\n",
    "    special={\n",
    "        \"auto\": \"auto\",  # grid-column: auto\n",
    "        \"full\": \"full\"   # grid-column: 1 / -1\n",
    "    },\n",
    "    negative=False\n",
    ")\n",
    "\n",
    "COL_START_END_CONFIG = ScaleConfig( # Grid column start/end configuration\n",
    "    numeric=True,  # Support col-start-1, col-end-13, etc.\n",
    "    decimals=False,\n",
    "    fractions=False,\n",
    "    named=None,\n",
    "    special={\n",
    "        \"auto\": \"auto\"\n",
    "    },\n",
    "    negative=True  # Support negative values like -col-start-1\n",
    ")\n",
    "\n",
    "# Create grid column factories\n",
    "col_span = ScaledFactory(\"col-span\", COL_SPAN_CONFIG) # Column span factory\n",
    "col_start = ScaledFactory(\"col-start\", COL_START_END_CONFIG) # Column start factory\n",
    "col_end = ScaledFactory(\"col-end\", COL_START_END_CONFIG) # Column end factory\n",
    "\n",
    "# Special factory for col-auto and arbitrary grid-column values\n",
    "class ColFactory(ScaledFactory):\n",
    "    \"\"\"Special factory for grid-column shorthand.\"\"\"\n",
    "    \n",
    "    def __init__(self):\n",
    "        \"Initialize with 'col' prefix and column configuration.\"\n",
    "        super().__init__(\"col\", COL_START_END_CONFIG)\n",
    "    \n",
    "    @property\n",
    "    def auto(\n",
    "        self\n",
    "    ) -> str:  # The 'col-auto' CSS class\n",
    "        \"Return the col-auto utility class.\"\n",
    "        return \"col-auto\"\n",
    "\n",
    "col = ColFactory() # The grid column factory"
   ]
  },
  {
   "cell_type": "code",
   "execution_count": null,
   "id": "f8c0de32-03a3-4fbf-8947-c817b59abf27",
   "metadata": {},
   "outputs": [],
   "source": [
    "# Test grid column utilities\n",
    "assert str(col_span(1)) == \"col-span-1\"\n",
    "assert str(col_span(2)) == \"col-span-2\"\n",
    "assert str(col_span(12)) == \"col-span-12\"\n",
    "assert str(col_span.auto) == \"col-span-auto\"\n",
    "assert str(col_span.full) == \"col-span-full\"\n",
    "\n",
    "# Column start/end\n",
    "assert str(col_start(1)) == \"col-start-1\"\n",
    "assert str(col_start(2)) == \"col-start-2\"\n",
    "assert str(col_start.auto) == \"col-start-auto\"\n",
    "assert str(col_end(13)) == \"col-end-13\"\n",
    "assert str(col_end.auto) == \"col-end-auto\"\n",
    "\n",
    "# Negative values\n",
    "assert str(col_start.negative(1)) == \"-col-start-1\"\n",
    "assert str(col_end.negative(1)) == \"-col-end-1\"\n",
    "\n",
    "# Column shorthand\n",
    "assert col.auto == \"col-auto\"\n",
    "assert str(col(\"1 / 3\")) == \"col-[1 / 3]\""
   ]
  },
  {
   "cell_type": "markdown",
   "id": "0f988f67-b435-4389-b05c-f15542123b8c",
   "metadata": {},
   "source": [
    "## Grid Row Utilities\n",
    "\n",
    "Control how elements are sized and placed across grid rows."
   ]
  },
  {
   "cell_type": "code",
   "execution_count": null,
   "id": "79f827f4-c6de-4a85-ac2f-1c5f0bee0972",
   "metadata": {},
   "outputs": [],
   "source": [
    "#| export\n",
    "ROW_SPAN_CONFIG = ScaleConfig( # Grid row span configuration (same as column)\n",
    "    numeric=True,  # Support row-span-1 through row-span-12\n",
    "    decimals=False,\n",
    "    fractions=False,\n",
    "    named=None,\n",
    "    special={\n",
    "        \"auto\": \"auto\",  # grid-row: auto\n",
    "        \"full\": \"full\"   # grid-row: 1 / -1\n",
    "    },\n",
    "    negative=False\n",
    ")\n",
    "\n",
    "ROW_START_END_CONFIG = ScaleConfig( # Grid row start/end configuration (same as column)\n",
    "    numeric=True,  # Support row-start-1, row-end-13, etc.\n",
    "    decimals=False,\n",
    "    fractions=False,\n",
    "    named=None,\n",
    "    special={\n",
    "        \"auto\": \"auto\"\n",
    "    },\n",
    "    negative=True  # Support negative values\n",
    ")\n",
    "\n",
    "# Create grid row factories\n",
    "row_span = ScaledFactory(\"row-span\", ROW_SPAN_CONFIG) # Row span factory\n",
    "row_start = ScaledFactory(\"row-start\", ROW_START_END_CONFIG) # Row start factory\n",
    "row_end = ScaledFactory(\"row-end\", ROW_START_END_CONFIG) # Row end factory\n",
    "\n",
    "# Special factory for row-auto and arbitrary grid-row values\n",
    "class RowFactory(ScaledFactory):\n",
    "    \"\"\"Special factory for grid-row shorthand.\"\"\"\n",
    "    \n",
    "    def __init__(self):\n",
    "        \"Initialize with 'row' prefix and row configuration.\"\n",
    "        super().__init__(\"row\", ROW_START_END_CONFIG)\n",
    "    \n",
    "    @property\n",
    "    def auto(\n",
    "        self\n",
    "    ) -> str:  # The 'row-auto' CSS class\n",
    "        \"Return the row-auto utility class.\"\n",
    "        return \"row-auto\"\n",
    "\n",
    "row = RowFactory() # The grid row factory"
   ]
  },
  {
   "cell_type": "code",
   "execution_count": null,
   "id": "bfb5998b-9f61-4126-b55b-9ac83155ea7f",
   "metadata": {},
   "outputs": [],
   "source": [
    "# Test grid row utilities\n",
    "assert str(row_span(1)) == \"row-span-1\"\n",
    "assert str(row_span(2)) == \"row-span-2\"\n",
    "assert str(row_span(6)) == \"row-span-6\"\n",
    "assert str(row_span.auto) == \"row-span-auto\"\n",
    "assert str(row_span.full) == \"row-span-full\"\n",
    "\n",
    "# Row start/end\n",
    "assert str(row_start(1)) == \"row-start-1\"\n",
    "assert str(row_start(2)) == \"row-start-2\"\n",
    "assert str(row_start.auto) == \"row-start-auto\"\n",
    "assert str(row_end(7)) == \"row-end-7\"\n",
    "assert str(row_end.auto) == \"row-end-auto\"\n",
    "\n",
    "# Negative values\n",
    "assert str(row_start.negative(1)) == \"-row-start-1\"\n",
    "assert str(row_end.negative(1)) == \"-row-end-1\"\n",
    "\n",
    "# Row shorthand\n",
    "assert row.auto == \"row-auto\"\n",
    "assert str(row(\"2 / 5\")) == \"row-[2 / 5]\""
   ]
  },
  {
   "cell_type": "markdown",
   "id": "1fbc1f6c-5c61-4ae3-832f-042ba90a8ea0",
   "metadata": {},
   "source": [
    "## Grid Auto Flow Utilities\n",
    "\n",
    "Control how elements in a grid are auto-placed."
   ]
  },
  {
   "cell_type": "code",
   "execution_count": null,
   "id": "5fa2d510-56da-43dd-bb32-b1cec6708fa1",
   "metadata": {},
   "outputs": [],
   "source": [
    "#| export\n",
    "GRID_FLOW_VALUES = { # Grid auto flow utilities\n",
    "    \"row\": \"grid-flow-row\",\n",
    "    \"col\": \"grid-flow-col\",\n",
    "    \"dense\": \"grid-flow-dense\",\n",
    "    \"row-dense\": \"grid-flow-row-dense\",\n",
    "    \"col-dense\": \"grid-flow-col-dense\"\n",
    "}\n",
    "\n",
    "# Create grid flow factory\n",
    "grid_flow = SimpleFactory(GRID_FLOW_VALUES) # The grid flow factory"
   ]
  },
  {
   "cell_type": "code",
   "execution_count": null,
   "id": "406522bf-6423-4a6c-9848-39288992599f",
   "metadata": {},
   "outputs": [],
   "source": [
    "# Test grid auto flow utilities\n",
    "assert grid_flow.row == \"grid-flow-row\"\n",
    "assert grid_flow.col == \"grid-flow-col\"\n",
    "assert grid_flow.dense == \"grid-flow-dense\"\n",
    "assert grid_flow.row_dense == \"grid-flow-row-dense\"\n",
    "assert grid_flow.col_dense == \"grid-flow-col-dense\""
   ]
  },
  {
   "cell_type": "markdown",
   "id": "05b5d113-903a-4aa1-8b18-1fbf0f1c1163",
   "metadata": {},
   "source": [
    "## Grid Auto Columns/Rows Utilities\n",
    "\n",
    "Control the size of implicitly-created grid columns and rows."
   ]
  },
  {
   "cell_type": "code",
   "execution_count": null,
   "id": "c641d325-c1d3-4041-b40a-187f76b92c7e",
   "metadata": {},
   "outputs": [],
   "source": [
    "#| export\n",
    "AUTO_COLS_VALUES = { # Grid auto columns values\n",
    "    \"auto\": \"auto-cols-auto\",\n",
    "    \"min\": \"auto-cols-min\",\n",
    "    \"max\": \"auto-cols-max\",\n",
    "    \"fr\": \"auto-cols-fr\"\n",
    "}\n",
    "\n",
    "AUTO_ROWS_VALUES = { # Grid auto rows values\n",
    "    \"auto\": \"auto-rows-auto\",\n",
    "    \"min\": \"auto-rows-min\",\n",
    "    \"max\": \"auto-rows-max\",\n",
    "    \"fr\": \"auto-rows-fr\"\n",
    "}\n",
    "\n",
    "# Create auto columns/rows factories with custom value support\n",
    "class AutoColsFactory(SimpleFactory):\n",
    "    \"\"\"Factory for auto-cols with custom value support.\"\"\"\n",
    "    \n",
    "    def __call__(\n",
    "        self,\n",
    "        value: str  # Custom auto-cols value (e.g., '200px', 'minmax(0, 1fr)')\n",
    "    ) -> str:  # The formatted auto-cols CSS class\n",
    "        \"\"\"Handle custom values.\"\"\"\n",
    "        if is_custom_property(value):\n",
    "            return f\"auto-cols-({value})\"\n",
    "        elif is_arbitrary_value(value) or value not in [\"auto\", \"min\", \"max\", \"fr\"]:\n",
    "            return f\"auto-cols-[{value}]\"\n",
    "        return f\"auto-cols-{value}\"\n",
    "\n",
    "class AutoRowsFactory(SimpleFactory):\n",
    "    \"\"\"Factory for auto-rows with custom value support.\"\"\"\n",
    "    \n",
    "    def __call__(\n",
    "        self,\n",
    "        value: str  # Custom auto-rows value (e.g., '200px', 'minmax(0, 1fr)')\n",
    "    ) -> str:  # The formatted auto-rows CSS class\n",
    "        \"\"\"Handle custom values.\"\"\"\n",
    "        if is_custom_property(value):\n",
    "            return f\"auto-rows-({value})\"\n",
    "        elif is_arbitrary_value(value) or value not in [\"auto\", \"min\", \"max\", \"fr\"]:\n",
    "            return f\"auto-rows-[{value}]\"\n",
    "        return f\"auto-rows-{value}\"\n",
    "\n",
    "# Create the factories\n",
    "auto_cols = AutoColsFactory(AUTO_COLS_VALUES) # The auto columns factory\n",
    "auto_rows = AutoRowsFactory(AUTO_ROWS_VALUES) # The auto rows factory"
   ]
  },
  {
   "cell_type": "code",
   "execution_count": null,
   "id": "0d5fdb29-9a23-4713-b331-836cd1a5c3ae",
   "metadata": {},
   "outputs": [],
   "source": [
    "# Test grid auto columns/rows\n",
    "assert auto_cols.auto == \"auto-cols-auto\"\n",
    "assert auto_cols.min == \"auto-cols-min\"\n",
    "assert auto_cols.max == \"auto-cols-max\"\n",
    "assert auto_cols.fr == \"auto-cols-fr\"\n",
    "assert str(auto_cols(\"200px\")) == \"auto-cols-[200px]\"\n",
    "assert str(auto_cols(\"--size\")) == \"auto-cols-(--size)\"\n",
    "\n",
    "assert auto_rows.auto == \"auto-rows-auto\"\n",
    "assert auto_rows.min == \"auto-rows-min\"\n",
    "assert auto_rows.max == \"auto-rows-max\"\n",
    "assert auto_rows.fr == \"auto-rows-fr\"\n",
    "assert str(auto_rows(\"minmax(0, 1fr)\")) == \"auto-rows-[minmax(0, 1fr)]\""
   ]
  },
  {
   "cell_type": "markdown",
   "id": "9b2d231e-15ab-4880-a7e1-839305b98ec1",
   "metadata": {},
   "source": [
    "## Gap Utilities\n",
    "\n",
    "Control gutters between grid and flexbox items."
   ]
  },
  {
   "cell_type": "code",
   "execution_count": null,
   "id": "47da88a4-b864-4b23-a099-a1330f2b67cb",
   "metadata": {},
   "outputs": [],
   "source": [
    "#| export\n",
    "# Create gap factory similar to SpaceFactory in spacing.ipynb\n",
    "# Note: gap utilities use a hyphenated prefix pattern\n",
    "class GapFactory:\n",
    "    \"\"\"Special factory for gap utilities that use hyphenated directions.\"\"\"\n",
    "    \n",
    "    def __init__(self):\n",
    "        \"Initialize with base gap and directional gap factories.\"\n",
    "        # Base gap utility\n",
    "        self._base = ScaledFactory(\"gap\", SPACING_CONFIG)\n",
    "        # Directional gap utilities with hyphens\n",
    "        self.x = ScaledFactory(\"gap-x\", SPACING_CONFIG)\n",
    "        self.y = ScaledFactory(\"gap-y\", SPACING_CONFIG)\n",
    "    \n",
    "    def __call__(\n",
    "        self,\n",
    "        value: Optional[TailwindScale] = None  # The gap value (numeric, px, or arbitrary)\n",
    "    ) -> ScaledUtility:  # A new gap utility instance\n",
    "        \"\"\"Create a gap utility instance.\"\"\"\n",
    "        return self._base(value)\n",
    "    \n",
    "    def __getattr__(\n",
    "        self,\n",
    "        name: str  # The attribute name to convert to a gap value\n",
    "    ) -> ScaledUtility:  # A new gap utility instance\n",
    "        \"\"\"Handle attribute access for named values.\"\"\"\n",
    "        return self._base.__getattr__(name)\n",
    "\n",
    "gap = GapFactory() # The gap factory\n",
    "\n",
    "# Note: gap.x creates gap-x-* classes (column-gap)\n",
    "# Note: gap.y creates gap-y-* classes (row-gap)"
   ]
  },
  {
   "cell_type": "code",
   "execution_count": null,
   "id": "6419538a-42db-4002-8cd8-05b716724ad7",
   "metadata": {},
   "outputs": [],
   "source": [
    "# Test gap utilities\n",
    "assert str(gap(0)) == \"gap-0\"\n",
    "assert str(gap(4)) == \"gap-4\"\n",
    "assert str(gap(8)) == \"gap-8\"\n",
    "assert str(gap.px) == \"gap-px\"\n",
    "\n",
    "# Directional gaps\n",
    "assert str(gap.x(4)) == \"gap-x-4\"\n",
    "assert str(gap.y(2)) == \"gap-y-2\"\n",
    "\n",
    "# Arbitrary values\n",
    "assert str(gap(\"20px\")) == \"gap-[20px]\"\n",
    "assert str(gap(\"--spacing\")) == \"gap-(--spacing)\""
   ]
  },
  {
   "cell_type": "markdown",
   "id": "1b1e4fa8-3b41-4d7f-a222-5c3f9916046b",
   "metadata": {},
   "source": [
    "## Justify Content Utilities\n",
    "\n",
    "Control how flex and grid items are positioned along a container's main axis."
   ]
  },
  {
   "cell_type": "code",
   "execution_count": null,
   "id": "4aebf234-82d7-4af4-bbe2-a702c08618dc",
   "metadata": {},
   "outputs": [],
   "source": [
    "#| export\n",
    "JUSTIFY_CONTENT_VALUES = { # Justify content values\n",
    "    \"start\": \"justify-start\",\n",
    "    \"end\": \"justify-end\",\n",
    "    \"end-safe\": \"justify-end-safe\",\n",
    "    \"center\": \"justify-center\",\n",
    "    \"center-safe\": \"justify-center-safe\",\n",
    "    \"between\": \"justify-between\",\n",
    "    \"around\": \"justify-around\",\n",
    "    \"evenly\": \"justify-evenly\",\n",
    "    \"stretch\": \"justify-stretch\",\n",
    "    \"baseline\": \"justify-baseline\",\n",
    "    \"normal\": \"justify-normal\"\n",
    "}\n",
    "\n",
    "# Create justify content factory\n",
    "justify = SimpleFactory(JUSTIFY_CONTENT_VALUES) # The justify content factory"
   ]
  },
  {
   "cell_type": "markdown",
   "id": "475e4a6e-5b71-4aff-bddf-230f1748f911",
   "metadata": {},
   "source": [
    "## Justify Items Utilities\n",
    "\n",
    "Control how grid items are aligned along their inline axis."
   ]
  },
  {
   "cell_type": "code",
   "execution_count": null,
   "id": "a2030191-8675-41c6-9f58-18f48cdb052f",
   "metadata": {},
   "outputs": [],
   "source": [
    "#| export\n",
    "JUSTIFY_ITEMS_VALUES = { # Justify items values\n",
    "    \"start\": \"justify-items-start\",\n",
    "    \"end\": \"justify-items-end\",\n",
    "    \"end-safe\": \"justify-items-end-safe\",\n",
    "    \"center\": \"justify-items-center\",\n",
    "    \"center-safe\": \"justify-items-center-safe\",\n",
    "    \"stretch\": \"justify-items-stretch\",\n",
    "    \"normal\": \"justify-items-normal\"\n",
    "}\n",
    "\n",
    "# Create justify items factory\n",
    "justify_items = SimpleFactory(JUSTIFY_ITEMS_VALUES) # The justify items factory"
   ]
  },
  {
   "cell_type": "markdown",
   "id": "1ebba540-0dca-4f1c-80c9-4bb4248cc25f",
   "metadata": {},
   "source": [
    "## Justify Self Utilities\n",
    "\n",
    "Control how an individual grid item is aligned along its inline axis."
   ]
  },
  {
   "cell_type": "code",
   "execution_count": null,
   "id": "f9b9bfe6-81b2-40d7-b265-5e060fa132a4",
   "metadata": {},
   "outputs": [],
   "source": [
    "#| export\n",
    "JUSTIFY_SELF_VALUES = { # Justify self values\n",
    "    \"auto\": \"justify-self-auto\",\n",
    "    \"start\": \"justify-self-start\",\n",
    "    \"center\": \"justify-self-center\",\n",
    "    \"center-safe\": \"justify-self-center-safe\",\n",
    "    \"end\": \"justify-self-end\",\n",
    "    \"end-safe\": \"justify-self-end-safe\",\n",
    "    \"stretch\": \"justify-self-stretch\"\n",
    "}\n",
    "\n",
    "# Create justify self factory\n",
    "justify_self = SimpleFactory(JUSTIFY_SELF_VALUES) # The justify self factory"
   ]
  },
  {
   "cell_type": "code",
   "execution_count": null,
   "id": "97b468c4-365c-43c6-9be7-f49a25bf0583",
   "metadata": {},
   "outputs": [],
   "source": [
    "# Test justify utilities\n",
    "assert justify.start == \"justify-start\"\n",
    "assert justify.center == \"justify-center\"\n",
    "assert justify.between == \"justify-between\"\n",
    "assert justify.evenly == \"justify-evenly\"\n",
    "\n",
    "assert justify_items.center == \"justify-items-center\"\n",
    "assert justify_items.stretch == \"justify-items-stretch\"\n",
    "\n",
    "assert justify_self.auto == \"justify-self-auto\"\n",
    "assert justify_self.end == \"justify-self-end\""
   ]
  },
  {
   "cell_type": "markdown",
   "id": "7405d3d4-738c-48a5-90bd-0f5a058ff4d6",
   "metadata": {},
   "source": [
    "## Align Content Utilities\n",
    "\n",
    "Control how rows are positioned in multi-row flex and grid containers."
   ]
  },
  {
   "cell_type": "code",
   "execution_count": null,
   "id": "4947aea5-6ac3-4b8f-b59e-89104cd7d22b",
   "metadata": {},
   "outputs": [],
   "source": [
    "#| export\n",
    "ALIGN_CONTENT_VALUES = { # Align content values\n",
    "    \"normal\": \"content-normal\",\n",
    "    \"center\": \"content-center\",\n",
    "    \"start\": \"content-start\",\n",
    "    \"end\": \"content-end\",\n",
    "    \"between\": \"content-between\",\n",
    "    \"around\": \"content-around\",\n",
    "    \"evenly\": \"content-evenly\",\n",
    "    \"baseline\": \"content-baseline\",\n",
    "    \"stretch\": \"content-stretch\"\n",
    "}\n",
    "\n",
    "# Create align content factory\n",
    "content = SimpleFactory(ALIGN_CONTENT_VALUES) # The align content factory"
   ]
  },
  {
   "cell_type": "markdown",
   "id": "a1aee09c-076c-4080-82d0-0679698039a8",
   "metadata": {},
   "source": [
    "## Align Items Utilities\n",
    "\n",
    "Control how flex and grid items are positioned along a container's cross axis."
   ]
  },
  {
   "cell_type": "code",
   "execution_count": null,
   "id": "77b536ea-a9ab-4c2e-99d0-3c8606c4df54",
   "metadata": {},
   "outputs": [],
   "source": [
    "#| export\n",
    "ALIGN_ITEMS_VALUES = { # Align items values\n",
    "    \"start\": \"items-start\",\n",
    "    \"end\": \"items-end\",\n",
    "    \"end-safe\": \"items-end-safe\",\n",
    "    \"center\": \"items-center\",\n",
    "    \"center-safe\": \"items-center-safe\",\n",
    "    \"baseline\": \"items-baseline\",\n",
    "    \"baseline-last\": \"items-baseline-last\",\n",
    "    \"stretch\": \"items-stretch\"\n",
    "}\n",
    "\n",
    "# Create align items factory\n",
    "items = SimpleFactory(ALIGN_ITEMS_VALUES) # The align items factory"
   ]
  },
  {
   "cell_type": "markdown",
   "id": "72d45055-affc-426f-8d1f-d74b714886ba",
   "metadata": {},
   "source": [
    "## Align Self Utilities\n",
    "\n",
    "Control how an individual flex or grid item is positioned along its container's cross axis."
   ]
  },
  {
   "cell_type": "code",
   "execution_count": null,
   "id": "1f9f3e36-5219-4d07-b079-e3052c2c9525",
   "metadata": {},
   "outputs": [],
   "source": [
    "#| export\n",
    "ALIGN_SELF_VALUES = { # Align self values\n",
    "    \"auto\": \"self-auto\",\n",
    "    \"start\": \"self-start\",\n",
    "    \"end\": \"self-end\",\n",
    "    \"end-safe\": \"self-end-safe\",\n",
    "    \"center\": \"self-center\",\n",
    "    \"center-safe\": \"self-center-safe\",\n",
    "    \"stretch\": \"self-stretch\",\n",
    "    \"baseline\": \"self-baseline\",\n",
    "    \"baseline-last\": \"self-baseline-last\"\n",
    "}\n",
    "\n",
    "# Create align self factory\n",
    "self_align = SimpleFactory(ALIGN_SELF_VALUES) # The align self factory (renamed to avoid conflict with Python's self)"
   ]
  },
  {
   "cell_type": "code",
   "execution_count": null,
   "id": "b8e94da8-fdc3-48c9-bb19-23b6c30fbe81",
   "metadata": {},
   "outputs": [],
   "source": [
    "# Test align utilities\n",
    "assert content.center == \"content-center\"\n",
    "assert content.between == \"content-between\"\n",
    "assert content.stretch == \"content-stretch\"\n",
    "\n",
    "assert items.center == \"items-center\"\n",
    "assert items.start == \"items-start\"\n",
    "assert items.baseline == \"items-baseline\"\n",
    "\n",
    "assert self_align.auto == \"self-auto\"\n",
    "assert self_align.center == \"self-center\"\n",
    "assert self_align.stretch == \"self-stretch\""
   ]
  },
  {
   "cell_type": "markdown",
   "id": "2e98d162-4bf7-4c16-9d0d-8759387bcaeb",
   "metadata": {},
   "source": [
    "## Place Content Utilities\n",
    "\n",
    "Control how content is justified and aligned at the same time."
   ]
  },
  {
   "cell_type": "code",
   "execution_count": null,
   "id": "7bebde38-afdf-4863-838c-336d85af7e53",
   "metadata": {},
   "outputs": [],
   "source": [
    "#| export\n",
    "PLACE_CONTENT_VALUES = { # Place content values\n",
    "    \"center\": \"place-content-center\",\n",
    "    \"center-safe\": \"place-content-center-safe\",\n",
    "    \"start\": \"place-content-start\",\n",
    "    \"end\": \"place-content-end\",\n",
    "    \"end-safe\": \"place-content-end-safe\",\n",
    "    \"between\": \"place-content-between\",\n",
    "    \"around\": \"place-content-around\",\n",
    "    \"evenly\": \"place-content-evenly\",\n",
    "    \"baseline\": \"place-content-baseline\",\n",
    "    \"stretch\": \"place-content-stretch\"\n",
    "}\n",
    "\n",
    "# Create place content factory\n",
    "place_content = SimpleFactory(PLACE_CONTENT_VALUES) # The place content factory"
   ]
  },
  {
   "cell_type": "markdown",
   "id": "97d97324-6cb8-47fc-95a8-b078f84a0b56",
   "metadata": {},
   "source": [
    "## Place Items Utilities\n",
    "\n",
    "Control how items are justified and aligned at the same time."
   ]
  },
  {
   "cell_type": "code",
   "execution_count": null,
   "id": "1461f22f-5215-419f-8e7d-eb1941e9ed54",
   "metadata": {},
   "outputs": [],
   "source": [
    "#| export\n",
    "PLACE_ITEMS_VALUES = { # Place items values\n",
    "    \"start\": \"place-items-start\",\n",
    "    \"end\": \"place-items-end\",\n",
    "    \"end-safe\": \"place-items-end-safe\",\n",
    "    \"center\": \"place-items-center\",\n",
    "    \"center-safe\": \"place-items-center-safe\",\n",
    "    \"baseline\": \"place-items-baseline\",\n",
    "    \"stretch\": \"place-items-stretch\"\n",
    "}\n",
    "\n",
    "# Create place items factory\n",
    "place_items = SimpleFactory(PLACE_ITEMS_VALUES) # The place items factory"
   ]
  },
  {
   "cell_type": "markdown",
   "id": "50b53e25-2488-477e-a4bf-f0da72e2dd5b",
   "metadata": {},
   "source": [
    "## Place Self Utilities\n",
    "\n",
    "Control how an individual item is justified and aligned at the same time."
   ]
  },
  {
   "cell_type": "code",
   "execution_count": null,
   "id": "13c4231a-86ea-4668-b9e6-1a2f73f8d539",
   "metadata": {},
   "outputs": [],
   "source": [
    "#| export\n",
    "PLACE_SELF_VALUES = { # Place self values\n",
    "    \"auto\": \"place-self-auto\",\n",
    "    \"start\": \"place-self-start\",\n",
    "    \"end\": \"place-self-end\",\n",
    "    \"end-safe\": \"place-self-end-safe\",\n",
    "    \"center\": \"place-self-center\",\n",
    "    \"center-safe\": \"place-self-center-safe\",\n",
    "    \"stretch\": \"place-self-stretch\"\n",
    "}\n",
    "\n",
    "# Create place self factory\n",
    "place_self = SimpleFactory(PLACE_SELF_VALUES) # The place self factory"
   ]
  },
  {
   "cell_type": "code",
   "execution_count": null,
   "id": "c70cb4f2-870a-42cc-b071-4caaa1d62f71",
   "metadata": {},
   "outputs": [],
   "source": [
    "# Test place utilities\n",
    "assert place_content.center == \"place-content-center\"\n",
    "assert place_content.between == \"place-content-between\"\n",
    "\n",
    "assert place_items.center == \"place-items-center\"\n",
    "assert place_items.stretch == \"place-items-stretch\"\n",
    "\n",
    "assert place_self.auto == \"place-self-auto\"\n",
    "assert place_self.center == \"place-self-center\""
   ]
  },
  {
   "cell_type": "markdown",
   "id": "46075a9f-88b2-443e-a9ea-53a2f2f842f1",
   "metadata": {},
   "source": [
    "## Practical Examples\n",
    "\n",
    "Let's see how to use these flexbox and grid utilities in real FastHTML components:"
   ]
  },
  {
   "cell_type": "code",
   "execution_count": null,
   "id": "19a87d1e-5708-445b-a41b-8fef55b21b7d",
   "metadata": {},
   "outputs": [],
   "source": [
    "from fasthtml.common import Div, Header, Nav, Main, Article, Aside, Footer, Img, Button, H1, H2, P"
   ]
  },
  {
   "cell_type": "code",
   "execution_count": null,
   "id": "aca4f078-59ac-46a0-996e-50ec1592b184",
   "metadata": {},
   "outputs": [],
   "source": [
    "# Flexbox centered navigation\n",
    "nav = Nav(\n",
    "    Div(\"Logo\", cls=\"font-bold\"),\n",
    "    Div(\n",
    "        \"Home\", \"About\", \"Contact\",\n",
    "        cls=combine_classes(\"flex\", gap(4))\n",
    "    ),\n",
    "    Button(\"Sign In\"),\n",
    "    cls=combine_classes(\n",
    "        \"flex\", \n",
    "        justify.between, \n",
    "        items.center, \n",
    "        \"px-6\", \n",
    "        \"py-4\"\n",
    "    )\n",
    ")\n",
    "assert nav.attrs['class'] == \"flex justify-between items-center px-6 py-4\""
   ]
  },
  {
   "cell_type": "code",
   "execution_count": null,
   "id": "cfa01d74-294f-42ba-81b5-bcff0996f1d6",
   "metadata": {},
   "outputs": [],
   "source": [
    "# Grid layout for cards\n",
    "card_grid = Div(\n",
    "    *[Div(f\"Card {i}\", cls=\"p-4 bg-gray-100 rounded\") for i in range(6)],\n",
    "    cls=combine_classes(\n",
    "        \"grid\",\n",
    "        grid_cols(1),     # 1 column on mobile\n",
    "        \"md:grid-cols-2\", # 2 columns on medium screens\n",
    "        \"lg:grid-cols-3\", # 3 columns on large screens\n",
    "        gap(4)\n",
    "    )\n",
    ")\n",
    "assert card_grid.attrs['class'] == \"grid grid-cols-1 md:grid-cols-2 lg:grid-cols-3 gap-4\""
   ]
  },
  {
   "cell_type": "code",
   "execution_count": null,
   "id": "22541f9a-32f2-4276-8ed6-f6ab5b1aff66",
   "metadata": {},
   "outputs": [],
   "source": [
    "# Flexbox vertical centering\n",
    "hero = Div(\n",
    "    H1(\"Welcome\", cls=\"text-4xl font-bold\"),\n",
    "    P(\"Build amazing things\"),\n",
    "    Button(\"Get Started\", cls=\"mt-4\"),\n",
    "    cls=combine_classes(\n",
    "        \"flex\",\n",
    "        flex_direction.col,\n",
    "        justify.center,\n",
    "        items.center,\n",
    "        \"min-h-screen\",\n",
    "        \"text-center\"\n",
    "    )\n",
    ")\n",
    "assert hero.attrs['class'] == \"flex flex-col justify-center items-center min-h-screen text-center\""
   ]
  },
  {
   "cell_type": "code",
   "execution_count": null,
   "id": "6e69db80-6a62-4ff5-b68e-8b9e1d0652b8",
   "metadata": {},
   "outputs": [],
   "source": [
    "# Complex grid layout with spanning\n",
    "dashboard = Div(\n",
    "    # Header spans full width\n",
    "    Header(\"Dashboard\", cls=combine_classes(col_span.full, \"p-4 bg-blue-500 text-white\")),\n",
    "    \n",
    "    # Sidebar\n",
    "    Aside(\"Sidebar\", cls=combine_classes(row_span(2), \"p-4 bg-gray-200\")),\n",
    "    \n",
    "    # Main content\n",
    "    Main(\"Main Content\", cls=combine_classes(col_span(2), \"p-4\")),\n",
    "    \n",
    "    # Stats cards\n",
    "    Div(\"Stat 1\", cls=\"p-4 bg-green-100\"),\n",
    "    Div(\"Stat 2\", cls=\"p-4 bg-yellow-100\"),\n",
    "    \n",
    "    cls=combine_classes(\n",
    "        \"grid\",\n",
    "        grid_cols(3),\n",
    "        grid_rows(3),\n",
    "        gap(4),\n",
    "        \"h-screen\"\n",
    "    )\n",
    ")\n",
    "assert dashboard.attrs['class'] == \"grid grid-cols-3 grid-rows-3 gap-4 h-screen\""
   ]
  },
  {
   "cell_type": "code",
   "execution_count": null,
   "id": "f1c46bbe-2a9c-480a-9ade-6a26068aa929",
   "metadata": {},
   "outputs": [],
   "source": [
    "# Flexbox with growing/shrinking items\n",
    "toolbar = Div(\n",
    "    Button(\"Back\", cls=shrink(0)),  # Don't shrink\n",
    "    Div(\"Search...\", cls=combine_classes(grow(), \"px-4 bg-gray-100 rounded\")),  # Take available space\n",
    "    Button(\"Settings\", cls=shrink(0)),  # Don't shrink\n",
    "    cls=combine_classes(\"flex\", gap(2), items.center, \"p-2\")\n",
    ")\n",
    "assert toolbar.attrs['class'] == \"flex gap-2 items-center p-2\"\n",
    "assert toolbar.children[1].attrs['class'] == \"grow-1 px-4 bg-gray-100 rounded\""
   ]
  },
  {
   "cell_type": "markdown",
   "id": "ab4299e8-4e27-46eb-bec9-a3574942aa16",
   "metadata": {},
   "source": [
    "## Helper Functions\n",
    "\n",
    "Convenient functions for common flexbox and grid patterns:"
   ]
  },
  {
   "cell_type": "code",
   "execution_count": null,
   "id": "7985af48-1f8b-4b75-82e3-a33c2a59395f",
   "metadata": {},
   "outputs": [],
   "source": [
    "#| export\n",
    "def flex_center(\n",
    ") -> str:  # Combined CSS classes for centered flex container\n",
    "    \"\"\"Create classes for a flex container that centers its content.\"\"\"\n",
    "    return combine_classes(\"flex\", justify.center, items.center)"
   ]
  },
  {
   "cell_type": "code",
   "execution_count": null,
   "id": "b9cdbdca-a82e-4d5f-a5bd-a569f6366096",
   "metadata": {},
   "outputs": [],
   "source": [
    "#| export\n",
    "def flex_between(\n",
    ") -> str:  # Combined CSS classes for flex container with space between\n",
    "    \"\"\"Create classes for a flex container with space between items.\"\"\"\n",
    "    return combine_classes(\"flex\", justify.between, items.center)"
   ]
  },
  {
   "cell_type": "code",
   "execution_count": null,
   "id": "bdec9e01-6562-4d61-8b8c-63428024712a",
   "metadata": {},
   "outputs": [],
   "source": [
    "#| export\n",
    "def flex_col_center(\n",
    ") -> str:  # Combined CSS classes for centered vertical flex container\n",
    "    \"\"\"Create classes for a vertical flex container that centers its content.\"\"\"\n",
    "    return combine_classes(\"flex\", flex_direction.col, justify.center, items.center)"
   ]
  },
  {
   "cell_type": "code",
   "execution_count": null,
   "id": "ded7e944-aaa9-4536-9c6b-72002231ded0",
   "metadata": {},
   "outputs": [],
   "source": [
    "#| export\n",
    "def grid_center(\n",
    ") -> str:  # Combined CSS classes for centered grid container\n",
    "    \"\"\"Create classes for a grid container that centers its content.\"\"\"\n",
    "    return combine_classes(\"grid\", place_items.center)"
   ]
  },
  {
   "cell_type": "code",
   "execution_count": null,
   "id": "14ee7153-5077-43d6-bdfb-d715b7a911dc",
   "metadata": {},
   "outputs": [],
   "source": [
    "#| export\n",
    "def responsive_grid(\n",
    "    mobile: int = 1,  # Number of columns on mobile devices\n",
    "    tablet: int = 2,  # Number of columns on tablet devices\n",
    "    desktop: int = 3,  # Number of columns on desktop devices\n",
    "    gap_size: TailwindScale = 4  # Gap size between grid items\n",
    ") -> str:  # Combined CSS classes for responsive grid\n",
    "    \"\"\"Create responsive grid classes with customizable breakpoints.\"\"\"\n",
    "    return combine_classes(\n",
    "        \"grid\",\n",
    "        grid_cols(mobile),\n",
    "        f\"md:grid-cols-{tablet}\",\n",
    "        f\"lg:grid-cols-{desktop}\",\n",
    "        gap(gap_size)\n",
    "    )"
   ]
  },
  {
   "cell_type": "code",
   "execution_count": null,
   "id": "b68df1e6-adc2-4705-9f9b-a94950673be1",
   "metadata": {},
   "outputs": [],
   "source": [
    "# Test helper functions\n",
    "assert flex_center() == \"flex justify-center items-center\"\n",
    "assert flex_between() == \"flex justify-between items-center\"\n",
    "assert flex_col_center() == \"flex flex-col justify-center items-center\"\n",
    "assert grid_center() == \"grid place-items-center\"\n",
    "assert responsive_grid() == \"grid grid-cols-1 md:grid-cols-2 lg:grid-cols-3 gap-4\"\n",
    "assert responsive_grid(1, 3, 4, 6) == \"grid grid-cols-1 md:grid-cols-3 lg:grid-cols-4 gap-6\" # Custom responsive grid"
   ]
  },
  {
   "cell_type": "markdown",
   "id": "1581a622-749c-400a-a137-dd8014eacb8d",
   "metadata": {},
   "source": [
    "## Testing\n",
    "\n",
    "Let's run comprehensive tests to ensure our flexbox and grid utilities work correctly:"
   ]
  },
  {
   "cell_type": "code",
   "execution_count": null,
   "id": "649d8e2f-0c39-4036-82b8-d58ad8619d3a",
   "metadata": {},
   "outputs": [],
   "source": [
    "# Test flex basis\n",
    "assert str(basis(0)) == \"basis-0\"\n",
    "assert str(basis(4)) == \"basis-4\"\n",
    "assert str(basis(\"1/2\")) == \"basis-1/2\"\n",
    "assert str(basis.auto) == \"basis-auto\"\n",
    "assert str(basis.full) == \"basis-full\"\n",
    "assert str(basis.sm) == \"basis-sm\"\n",
    "assert str(basis(\"200px\")) == \"basis-[200px]\""
   ]
  },
  {
   "cell_type": "code",
   "execution_count": null,
   "id": "dc00b19d-6c10-4075-801f-af02a505e0c9",
   "metadata": {},
   "outputs": [],
   "source": [
    "# Test flex direction\n",
    "assert flex_direction.row == \"flex-row\"\n",
    "assert flex_direction.row_reverse == \"flex-row-reverse\"\n",
    "assert flex_direction.col == \"flex-col\"\n",
    "assert flex_direction.col_reverse == \"flex-col-reverse\""
   ]
  },
  {
   "cell_type": "code",
   "execution_count": null,
   "id": "46b5a87d-7f19-45ee-a594-0ed65e72c938",
   "metadata": {},
   "outputs": [],
   "source": [
    "# Test flex wrap\n",
    "assert flex_wrap.nowrap == \"flex-nowrap\"\n",
    "assert flex_wrap.wrap == \"flex-wrap\"\n",
    "assert flex_wrap.wrap_reverse == \"flex-wrap-reverse\""
   ]
  },
  {
   "cell_type": "code",
   "execution_count": null,
   "id": "c939f735-3419-48d5-8a54-f4e9b4d3bf4d",
   "metadata": {},
   "outputs": [],
   "source": [
    "# Test flex\n",
    "assert str(flex(1)) == \"flex-1\"\n",
    "assert str(flex(\"1/2\")) == \"flex-1/2\"\n",
    "assert str(flex.auto) == \"flex-auto\"\n",
    "assert str(flex.initial) == \"flex-initial\"\n",
    "assert str(flex.none) == \"flex-none\""
   ]
  },
  {
   "cell_type": "code",
   "execution_count": null,
   "id": "2826625e-d968-4e57-bbea-b432f8a78669",
   "metadata": {},
   "outputs": [],
   "source": [
    "# Test grow and shrink\n",
    "assert str(grow()) == \"grow-1\"\n",
    "assert str(grow(0)) == \"grow-0\"\n",
    "assert str(grow(2)) == \"grow-2\"\n",
    "assert str(shrink()) == \"shrink-1\"\n",
    "assert str(shrink(0)) == \"shrink-0\""
   ]
  },
  {
   "cell_type": "code",
   "execution_count": null,
   "id": "4ed45b83-91ed-4a23-830c-ddafd8d9b358",
   "metadata": {},
   "outputs": [],
   "source": [
    "# Test order\n",
    "assert str(order(1)) == \"order-1\"\n",
    "assert str(order.first) == \"order-first\"\n",
    "assert str(order.last) == \"order-last\"\n",
    "assert str(order.none) == \"order-none\"\n",
    "assert str(order.negative(1)) == \"-order-1\""
   ]
  },
  {
   "cell_type": "code",
   "execution_count": null,
   "id": "fd3fb7db-51ab-48cc-8187-55d72f33ca8f",
   "metadata": {},
   "outputs": [],
   "source": [
    "# Test grid template\n",
    "assert str(grid_cols(1)) == \"grid-cols-1\"\n",
    "assert str(grid_cols(12)) == \"grid-cols-12\"\n",
    "assert str(grid_cols.none) == \"grid-cols-none\"\n",
    "assert str(grid_cols.subgrid) == \"grid-cols-subgrid\"\n",
    "assert str(grid_rows(3)) == \"grid-rows-3\"\n",
    "assert str(grid_rows.none) == \"grid-rows-none\""
   ]
  },
  {
   "cell_type": "code",
   "execution_count": null,
   "id": "aac0f39c-f59a-40a2-b586-b52913277d6d",
   "metadata": {},
   "outputs": [],
   "source": [
    "# Test grid column/row utilities\n",
    "assert str(col_span(1)) == \"col-span-1\"\n",
    "assert str(col_span.full) == \"col-span-full\"\n",
    "assert str(col_start(1)) == \"col-start-1\"\n",
    "assert str(col_start.auto) == \"col-start-auto\"\n",
    "assert str(col_end(13)) == \"col-end-13\"\n",
    "assert str(col.auto) == \"col-auto\"\n",
    "\n",
    "assert str(row_span(2)) == \"row-span-2\"\n",
    "assert str(row_span.full) == \"row-span-full\"\n",
    "assert str(row_start(1)) == \"row-start-1\"\n",
    "assert str(row_end(7)) == \"row-end-7\"\n",
    "assert str(row.auto) == \"row-auto\""
   ]
  },
  {
   "cell_type": "code",
   "execution_count": null,
   "id": "a19554a3-04dd-4b14-b3f0-7d387297c742",
   "metadata": {},
   "outputs": [],
   "source": [
    "# Test grid auto flow\n",
    "assert grid_flow.row == \"grid-flow-row\"\n",
    "assert grid_flow.col == \"grid-flow-col\"\n",
    "assert grid_flow.dense == \"grid-flow-dense\"\n",
    "assert grid_flow.row_dense == \"grid-flow-row-dense\"\n",
    "assert grid_flow.col_dense == \"grid-flow-col-dense\"\n",
    "\n",
    "# Test auto cols/rows\n",
    "assert auto_cols.auto == \"auto-cols-auto\"\n",
    "assert auto_cols.min == \"auto-cols-min\"\n",
    "assert auto_cols.max == \"auto-cols-max\"\n",
    "assert auto_cols.fr == \"auto-cols-fr\"\n",
    "assert str(auto_cols(\"200px\")) == \"auto-cols-[200px]\""
   ]
  },
  {
   "cell_type": "code",
   "execution_count": null,
   "id": "07a8acf9-298c-46f0-ae21-c75ffb4c7737",
   "metadata": {},
   "outputs": [],
   "source": [
    "# Test gap\n",
    "assert str(gap(0)) == \"gap-0\"\n",
    "assert str(gap(4)) == \"gap-4\"\n",
    "assert str(gap.px) == \"gap-px\"\n",
    "assert str(gap.x(4)) == \"gap-x-4\"\n",
    "assert str(gap.y(2)) == \"gap-y-2\""
   ]
  },
  {
   "cell_type": "code",
   "execution_count": null,
   "id": "3b597139-5ddc-4434-9ed9-1f93b26d5038",
   "metadata": {},
   "outputs": [],
   "source": [
    "# Test justify/align/place utilities\n",
    "assert justify.start == \"justify-start\"\n",
    "assert justify.center == \"justify-center\"\n",
    "assert justify.between == \"justify-between\"\n",
    "\n",
    "assert items.center == \"items-center\"\n",
    "assert items.baseline == \"items-baseline\"\n",
    "\n",
    "assert content.center == \"content-center\"\n",
    "assert content.between == \"content-between\"\n",
    "\n",
    "assert self_align.auto == \"self-auto\"\n",
    "assert self_align.center == \"self-center\"\n",
    "\n",
    "assert place_items.center == \"place-items-center\"\n",
    "assert place_self.center == \"place-self-center\""
   ]
  },
  {
   "cell_type": "code",
   "execution_count": null,
   "id": "f215c844-b5e5-497f-bea1-64e8841f7615",
   "metadata": {},
   "outputs": [
    {
     "name": "stdout",
     "output_type": "stream",
     "text": [
      "✅ All flexbox and grid utility tests passed!\n"
     ]
    }
   ],
   "source": [
    "print(\"✅ All flexbox and grid utility tests passed!\")"
   ]
  },
  {
   "cell_type": "code",
   "execution_count": null,
   "id": "6d944c08-ef90-43da-b014-14fc3f859565",
   "metadata": {},
   "outputs": [],
   "source": []
  },
  {
   "cell_type": "code",
   "execution_count": null,
   "id": "a74343df-937f-4dbd-901c-1919efad4daa",
   "metadata": {},
   "outputs": [],
   "source": []
  },
  {
   "cell_type": "code",
   "execution_count": null,
   "id": "fcf3fab2-2838-4f1c-9ee9-8321cfcc5cfa",
   "metadata": {},
   "outputs": [],
   "source": []
  },
  {
   "cell_type": "code",
   "execution_count": null,
   "id": "635179a1-69a0-4fc5-90ce-7bf5d806ab40",
   "metadata": {},
   "outputs": [],
   "source": []
  },
  {
   "cell_type": "code",
   "execution_count": null,
   "id": "8d011493-6019-4390-9b3e-61d7762f8821",
   "metadata": {},
   "outputs": [],
   "source": []
  },
  {
   "cell_type": "code",
   "execution_count": null,
   "id": "4a39051f-1d52-4cba-b107-70b60ba08ee7",
   "metadata": {},
   "outputs": [],
   "source": []
  },
  {
   "cell_type": "code",
   "execution_count": null,
   "id": "43b3daaf-ddee-4369-92d2-59d9e47f7d04",
   "metadata": {},
   "outputs": [],
   "source": []
  },
  {
   "cell_type": "code",
   "execution_count": null,
   "id": "6711f3ec-0974-4c98-8b2e-08a8172b68cf",
   "metadata": {},
   "outputs": [],
   "source": []
  },
  {
   "cell_type": "code",
   "execution_count": null,
   "id": "f94f3705-e3ec-4532-8093-64b0eea087da",
   "metadata": {},
   "outputs": [],
   "source": []
  },
  {
   "cell_type": "markdown",
   "id": "3e70bda8-b536-442d-8b87-3d76b87f7dca",
   "metadata": {},
   "source": [
    "## Export"
   ]
  },
  {
   "cell_type": "code",
   "execution_count": null,
   "id": "1025a3f8-70c9-43e3-9611-32b3e303ec7c",
   "metadata": {},
   "outputs": [],
   "source": [
    "#| hide\n",
    "import nbdev; nbdev.nbdev_export()"
   ]
  }
 ],
 "metadata": {
  "kernelspec": {
   "display_name": "python3",
   "language": "python",
   "name": "python3"
  }
 },
 "nbformat": 4,
 "nbformat_minor": 5
}
