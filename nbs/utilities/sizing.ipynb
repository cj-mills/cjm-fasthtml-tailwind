{
 "cells": [
  {
   "cell_type": "markdown",
   "id": "b2a010ec-cc0d-458b-b1b8-6b0e8c26a755",
   "metadata": {},
   "source": [
    "# sizing\n",
    "\n",
    "> Width, height, and min/max sizing utilities for Tailwind CSS"
   ]
  },
  {
   "cell_type": "code",
   "execution_count": null,
   "id": "fe404ab0-6bf6-4b2b-a994-d772a2f029d7",
   "metadata": {},
   "outputs": [],
   "source": [
    "#| default_exp utilities.sizing"
   ]
  },
  {
   "cell_type": "code",
   "execution_count": null,
   "id": "b8b198b8-ac97-410b-9f55-f28cc710381b",
   "metadata": {},
   "outputs": [],
   "source": [
    "#| hide\n",
    "from nbdev.showdoc import *"
   ]
  },
  {
   "cell_type": "code",
   "execution_count": null,
   "id": "1effc534-e03c-4778-822c-b85d52439b79",
   "metadata": {},
   "outputs": [],
   "source": [
    "#| export\n",
    "from typing import Optional, Union\n",
    "from cjm_fasthtml_tailwind.core.base import TailwindScale, combine_classes\n",
    "from cjm_fasthtml_tailwind.builders.scales import (\n",
    "    ScaledFactory, SIZE_CONFIG, ScaleConfig\n",
    ")"
   ]
  },
  {
   "cell_type": "markdown",
   "id": "9da42102-57d9-44b0-b91c-a51792f74473",
   "metadata": {},
   "source": [
    "## Width Utilities\n",
    "\n",
    "Tailwind CSS provides utilities for setting the width of elements, supporting numeric scales, fractions, named sizes, and special values."
   ]
  },
  {
   "cell_type": "code",
   "execution_count": null,
   "id": "0b9e9974-4fdf-42c4-9a9e-eda6d3203a1c",
   "metadata": {},
   "outputs": [],
   "source": [
    "#| export\n",
    "w = ScaledFactory(\"w\", SIZE_CONFIG) # The width factory"
   ]
  },
  {
   "cell_type": "markdown",
   "id": "0689a73b-4c90-4226-ac0b-a58cb3ca2e4c",
   "metadata": {},
   "source": [
    "### Basic Width\n",
    "\n",
    "Set the width of elements using numeric scales, fractions, or special values:"
   ]
  },
  {
   "cell_type": "code",
   "execution_count": null,
   "id": "723ebfbf-6cb5-4b9b-b7e6-9f763d87aa0b",
   "metadata": {},
   "outputs": [],
   "source": [
    "# Numeric scales\n",
    "assert str(w(0)) == \"w-0\"\n",
    "assert str(w(4)) == \"w-4\"\n",
    "assert str(w(16)) == \"w-16\"\n",
    "assert str(w(64)) == \"w-64\"\n",
    "assert str(w(2.5)) == \"w-2.5\"\n",
    "\n",
    "# Fractions\n",
    "assert str(w(\"1/2\")) == \"w-1/2\"\n",
    "assert str(w(\"1/3\")) == \"w-1/3\"\n",
    "assert str(w(\"2/3\")) == \"w-2/3\"\n",
    "assert str(w(\"3/4\")) == \"w-3/4\"\n",
    "\n",
    "# Special values\n",
    "assert str(w.auto) == \"w-auto\"\n",
    "assert str(w.full) == \"w-full\"\n",
    "assert str(w.screen) == \"w-screen\"\n",
    "assert str(w.px) == \"w-px\""
   ]
  },
  {
   "cell_type": "markdown",
   "id": "d10e0770-545f-48a0-b492-b92c3a30fe2b",
   "metadata": {},
   "source": [
    "### Named Sizes\n",
    "\n",
    "Use container-based named sizes for consistent layouts:"
   ]
  },
  {
   "cell_type": "code",
   "execution_count": null,
   "id": "df536caa-e426-41ec-aa73-c32380cacc75",
   "metadata": {},
   "outputs": [],
   "source": [
    "# Named container sizes\n",
    "assert str(w._3xs) == \"w-3xs\" # (16rem / 256px)\n",
    "assert str(w._2xs) == \"w-2xs\" # (18rem / 288px)\n",
    "assert str(w.xs) == \"w-xs\"   # (20rem / 320px)\n",
    "assert str(w.sm) == \"w-sm\"   # (24rem / 384px)\n",
    "assert str(w.md) == \"w-md\"   # (28rem / 448px)\n",
    "assert str(w.lg) == \"w-lg\"   # (32rem / 512px)\n",
    "assert str(w.xl) == \"w-xl\"   # (36rem / 576px)\n",
    "assert str(w._2xl) == \"w-2xl\" # (42rem / 672px)\n",
    "assert str(w._3xl) == \"w-3xl\" # (48rem / 768px)"
   ]
  },
  {
   "cell_type": "markdown",
   "id": "db67a704-9cf2-4bad-aa47-db37b861560d",
   "metadata": {},
   "source": [
    "### Viewport Units\n",
    "\n",
    "Use viewport-relative widths:"
   ]
  },
  {
   "cell_type": "code",
   "execution_count": null,
   "id": "fc183a15-e99f-467e-ba13-d4a8b8d524a0",
   "metadata": {},
   "outputs": [],
   "source": [
    "# Viewport width units\n",
    "assert str(w.svw) == \"w-svw\" # (small viewport width)\n",
    "assert str(w.lvw) == \"w-lvw\" # (large viewport width)\n",
    "assert str(w.dvw) == \"w-dvw\" # (dynamic viewport width)\n",
    "\n",
    "# Min/max content\n",
    "assert str(w.min) == \"w-min\"\n",
    "assert str(w.max) == \"w-max\"\n",
    "assert str(w.fit) == \"w-fit\""
   ]
  },
  {
   "cell_type": "markdown",
   "id": "e3906c17-4b87-43ec-af64-ef75edfc0228",
   "metadata": {},
   "source": [
    "### Arbitrary Values\n",
    "\n",
    "Use custom values when needed:"
   ]
  },
  {
   "cell_type": "code",
   "execution_count": null,
   "id": "a26a23e9-2ac8-4230-9296-0f26977f227c",
   "metadata": {},
   "outputs": [],
   "source": [
    "# Arbitrary values\n",
    "assert str(w(\"300px\")) == \"w-[300px]\"\n",
    "assert str(w(\"25rem\")) == \"w-[25rem]\"\n",
    "assert str(w(\"50%\")) == \"w-[50%]\"\n",
    "assert str(w(\"calc(100% - 2rem)\")) == \"w-[calc(100% - 2rem)]\"\n",
    "\n",
    "# Custom properties\n",
    "assert str(w(\"--sidebar-width\")) == \"w-(--sidebar-width)\"\n",
    "assert str(w(\"--container-max\")) == \"w-(--container-max)\""
   ]
  },
  {
   "cell_type": "markdown",
   "id": "68152871-a253-4f63-85ec-947fd749a6b6",
   "metadata": {},
   "source": [
    "## Height Utilities\n",
    "\n",
    "Height utilities work exactly like width utilities but control the vertical dimension."
   ]
  },
  {
   "cell_type": "code",
   "execution_count": null,
   "id": "c42c1a1a-e00e-4c7b-a040-ee52a6edad45",
   "metadata": {},
   "outputs": [],
   "source": [
    "#| export\n",
    "h = ScaledFactory(\"h\", SIZE_CONFIG) # The height factory"
   ]
  },
  {
   "cell_type": "markdown",
   "id": "71da3547-c04b-4884-8ab8-34136233cfe9",
   "metadata": {},
   "source": [
    "### Basic Height\n",
    "\n",
    "Set the height of elements using the same scale system as width:"
   ]
  },
  {
   "cell_type": "code",
   "execution_count": null,
   "id": "f8404bdc-e218-448d-af8a-4350dce73abf",
   "metadata": {},
   "outputs": [],
   "source": [
    "# Numeric scales\n",
    "assert str(h(0)) == \"h-0\"\n",
    "assert str(h(16)) == \"h-16\"\n",
    "assert str(h(64)) == \"h-64\"\n",
    "\n",
    "# Fractions\n",
    "assert str(h(\"1/2\")) == \"h-1/2\"\n",
    "assert str(h(\"1/3\")) == \"h-1/3\"\n",
    "\n",
    "# Special values\n",
    "assert str(h.auto) == \"h-auto\"\n",
    "assert str(h.full) == \"h-full\"\n",
    "assert str(h.screen) == \"h-screen\"\n",
    "assert str(h.px) == \"h-px\""
   ]
  },
  {
   "cell_type": "markdown",
   "id": "744eecb9-0c83-4da4-b6af-7d1eaafcc51e",
   "metadata": {},
   "source": [
    "### Viewport Height Units\n",
    "\n",
    "Height utilities have specific viewport-relative units:"
   ]
  },
  {
   "cell_type": "code",
   "execution_count": null,
   "id": "29b2423a-181b-4935-9819-1f209be6b3ed",
   "metadata": {},
   "outputs": [],
   "source": [
    "# Viewport height units\n",
    "assert str(h.svh) == \"h-svh\" # (small viewport height)\n",
    "assert str(h.lvh) == \"h-lvh\" # (large viewport height)\n",
    "assert str(h.dvh) == \"h-dvh\" # (dynamic viewport height)\n",
    "\n",
    "# Min/max content\n",
    "assert str(h.min) == \"h-min\"\n",
    "assert str(h.max) == \"h-max\"\n",
    "assert str(h.fit) == \"h-fit\"\n",
    "\n",
    "# Line height unit\n",
    "assert str(h.lh) == \"h-lh\" # (1 line height)"
   ]
  },
  {
   "cell_type": "markdown",
   "id": "44c66932-59c7-4a46-8f9b-e7a4e0f78e1a",
   "metadata": {},
   "source": [
    "## Min-Width Utilities\n",
    "\n",
    "Control the minimum width an element can have."
   ]
  },
  {
   "cell_type": "code",
   "execution_count": null,
   "id": "a6fd11a8-bbe8-4f40-8cb8-128bbc22f923",
   "metadata": {},
   "outputs": [],
   "source": [
    "#| export\n",
    "min_w = ScaledFactory(\"min-w\", SIZE_CONFIG) # The min-width factory"
   ]
  },
  {
   "cell_type": "code",
   "execution_count": null,
   "id": "f0905fd0-a68e-4718-8121-1777c0d328f8",
   "metadata": {},
   "outputs": [],
   "source": [
    "# Numeric scales\n",
    "assert str(min_w(0)) == \"min-w-0\"\n",
    "assert str(min_w(16)) == \"min-w-16\"\n",
    "\n",
    "# Fractions\n",
    "assert str(min_w(\"1/2\")) == \"min-w-1/2\"\n",
    "\n",
    "# Named sizes\n",
    "assert str(min_w.xs) == \"min-w-xs\"\n",
    "assert str(min_w.sm) == \"min-w-sm\"\n",
    "assert str(min_w.lg) == \"min-w-lg\"\n",
    "\n",
    "# Special values\n",
    "assert str(min_w.full) == \"min-w-full\"\n",
    "assert str(min_w.min) == \"min-w-min\"\n",
    "assert str(min_w.max) == \"min-w-max\"\n",
    "assert str(min_w.fit) == \"min-w-fit\""
   ]
  },
  {
   "cell_type": "markdown",
   "id": "94ed321d-d04c-40a4-9417-353c8b4b5098",
   "metadata": {},
   "source": [
    "## Max-Width Utilities\n",
    "\n",
    "Control the maximum width an element can have."
   ]
  },
  {
   "cell_type": "code",
   "execution_count": null,
   "id": "6e83216e-b868-474d-b01a-4357c6317618",
   "metadata": {},
   "outputs": [],
   "source": [
    "#| export\n",
    "max_w = ScaledFactory(\"max-w\", SIZE_CONFIG) # The max-width factory"
   ]
  },
  {
   "cell_type": "code",
   "execution_count": null,
   "id": "3f653473-deb1-4475-a6e7-e834a91399dc",
   "metadata": {},
   "outputs": [],
   "source": [
    "# Named sizes (commonly used for content containers)\n",
    "assert str(max_w.xs) == \"max-w-xs\"\n",
    "assert str(max_w.sm) == \"max-w-sm\"\n",
    "assert str(max_w.md) == \"max-w-md\"\n",
    "assert str(max_w.lg) == \"max-w-lg\"\n",
    "assert str(max_w.xl) == \"max-w-xl\"\n",
    "assert str(max_w._2xl) == \"max-w-2xl\"\n",
    "assert str(max_w._3xl) == \"max-w-3xl\"\n",
    "assert str(max_w._4xl) == \"max-w-4xl\"\n",
    "assert str(max_w._5xl) == \"max-w-5xl\"\n",
    "assert str(max_w._6xl) == \"max-w-6xl\"\n",
    "assert str(max_w._7xl) == \"max-w-7xl\"\n",
    "\n",
    "# Special values\n",
    "assert str(max_w.none) == \"max-w-none\" # (default in Tailwind)\n",
    "assert str(max_w.full) == \"max-w-full\"\n",
    "assert str(max_w.min) == \"max-w-min\"\n",
    "assert str(max_w.max) == \"max-w-max\"\n",
    "assert str(max_w.fit) == \"max-w-fit\"\n",
    "assert str(max_w.screen) == \"max-w-screen\""
   ]
  },
  {
   "cell_type": "code",
   "execution_count": null,
   "id": "l5an34x6hqm",
   "metadata": {},
   "outputs": [],
   "source": [
    "#| export\n",
    "# Container utility\n",
    "container = \"container\"  # Responsive container with breakpoint-based max-widths"
   ]
  },
  {
   "cell_type": "markdown",
   "id": "41b73a02-5161-4092-aee0-4718cbeaacf0",
   "metadata": {},
   "source": [
    "## Min-Height Utilities\n",
    "\n",
    "Control the minimum height an element can have."
   ]
  },
  {
   "cell_type": "code",
   "execution_count": null,
   "id": "2416fb9d-204a-4a07-b950-8e90530c2381",
   "metadata": {},
   "outputs": [],
   "source": [
    "#| export\n",
    "min_h = ScaledFactory(\"min-h\", SIZE_CONFIG) # The min-height factory"
   ]
  },
  {
   "cell_type": "code",
   "execution_count": null,
   "id": "49d3dabd-0526-4bc5-8ad2-a0125026323a",
   "metadata": {},
   "outputs": [],
   "source": [
    "# Numeric scales\n",
    "assert str(min_h(0)) == \"min-h-0\"\n",
    "assert str(min_h(16)) == \"min-h-16\"\n",
    "\n",
    "# Special values\n",
    "assert str(min_h.full) == \"min-h-full\"\n",
    "assert str(min_h.screen) == \"min-h-screen\"\n",
    "assert str(min_h.px) == \"min-h-px\"\n",
    "\n",
    "# Viewport units\n",
    "assert str(min_h.svh) == \"min-h-svh\"\n",
    "assert str(min_h.lvh) == \"min-h-lvh\"\n",
    "assert str(min_h.dvh) == \"min-h-dvh\""
   ]
  },
  {
   "cell_type": "markdown",
   "id": "bf28e624-dff4-450e-bf58-43292e676892",
   "metadata": {},
   "source": [
    "## Max-Height Utilities\n",
    "\n",
    "Control the maximum height an element can have."
   ]
  },
  {
   "cell_type": "code",
   "execution_count": null,
   "id": "d55e8ccf-3a17-4567-b7da-8819ffcb87e8",
   "metadata": {},
   "outputs": [],
   "source": [
    "#| export\n",
    "max_h = ScaledFactory(\"max-h\", SIZE_CONFIG) # The max-height factory"
   ]
  },
  {
   "cell_type": "markdown",
   "id": "cpbhwzw3b9t",
   "metadata": {},
   "source": [
    "## Size Utilities\n",
    "\n",
    "Control both width and height of an element with a single utility."
   ]
  },
  {
   "cell_type": "code",
   "execution_count": null,
   "id": "36eikc5dcg9",
   "metadata": {},
   "outputs": [],
   "source": [
    "#| export\n",
    "size_util = ScaledFactory(\"size\", SIZE_CONFIG) # The size factory (sets both width and height)"
   ]
  },
  {
   "cell_type": "code",
   "execution_count": null,
   "id": "poa1uri5ag9",
   "metadata": {},
   "outputs": [],
   "source": [
    "# Size utilities set both width and height\n",
    "assert str(size_util(16)) == \"size-16\"\n",
    "assert str(size_util(\"1/2\")) == \"size-1/2\"\n",
    "assert str(size_util.auto) == \"size-auto\"\n",
    "assert str(size_util.px) == \"size-px\"\n",
    "assert str(size_util.full) == \"size-full\"\n",
    "assert str(size_util.min) == \"size-min\"\n",
    "assert str(size_util.max) == \"size-max\"\n",
    "assert str(size_util.fit) == \"size-fit\"\n",
    "\n",
    "# Viewport units (sets square dimensions)\n",
    "assert str(size_util.dvw) == \"size-dvw\"\n",
    "assert str(size_util.dvh) == \"size-dvh\"\n",
    "assert str(size_util.lvw) == \"size-lvw\"\n",
    "assert str(size_util.lvh) == \"size-lvh\"\n",
    "assert str(size_util.svw) == \"size-svw\"\n",
    "assert str(size_util.svh) == \"size-svh\""
   ]
  },
  {
   "cell_type": "code",
   "execution_count": null,
   "id": "ed12ca92-fbd0-4afd-a267-99229ed8aa78",
   "metadata": {},
   "outputs": [],
   "source": [
    "# Numeric scales\n",
    "assert str(max_h(0)) == \"max-h-0\"\n",
    "assert str(max_h(16)) == \"max-h-16\"\n",
    "assert str(max_h(64)) == \"max-h-64\"\n",
    "assert str(max_h(96)) == \"max-h-96\"\n",
    "\n",
    "# Special values\n",
    "assert str(max_h.none) == \"max-h-none\"\n",
    "assert str(max_h.full) == \"max-h-full\"\n",
    "assert str(max_h.screen) == \"max-h-screen\"\n",
    "assert str(max_h.px) == \"max-h-px\"\n",
    "\n",
    "# Viewport units\n",
    "assert str(max_h.svh) == \"max-h-svh\"\n",
    "assert str(max_h.lvh) == \"max-h-lvh\"\n",
    "assert str(max_h.dvh) == \"max-h-dvh\""
   ]
  },
  {
   "cell_type": "markdown",
   "id": "bfe7aaf3-2597-48a6-a5a5-b25dd8eee3ca",
   "metadata": {},
   "source": [
    "## Practical Examples\n",
    "\n",
    "Let's see how to use these sizing utilities in real FastHTML components:"
   ]
  },
  {
   "cell_type": "code",
   "execution_count": null,
   "id": "8c50dd3a-6eff-4f52-868c-4758f9eae8d0",
   "metadata": {},
   "outputs": [],
   "source": [
    "from fasthtml.common import Div, Img, Article, Header, Main, Aside"
   ]
  },
  {
   "cell_type": "code",
   "execution_count": null,
   "id": "439f9b27-34ab-45e9-8963-8541cd08d94d",
   "metadata": {},
   "outputs": [],
   "source": [
    "# Card with constrained width\n",
    "card = Div(\n",
    "    \"Card content\",\n",
    "    cls=combine_classes(w.full, max_w.md, h.auto)\n",
    ")\n",
    "assert card.attrs['class'] == \"w-full max-w-md h-auto\""
   ]
  },
  {
   "cell_type": "code",
   "execution_count": null,
   "id": "db05428d-79a7-45d0-813c-8ff6f042b8c1",
   "metadata": {},
   "outputs": [],
   "source": [
    "# Full-screen hero section\n",
    "hero = Div(\n",
    "    \"Hero content\",\n",
    "    cls=combine_classes(w.full, h.screen, min_h.screen)\n",
    ")\n",
    "assert hero.attrs['class'] == \"w-full h-screen min-h-screen\""
   ]
  },
  {
   "cell_type": "code",
   "execution_count": null,
   "id": "8ac7e0c9-a583-4794-8e0a-3b15c963b0d7",
   "metadata": {},
   "outputs": [],
   "source": [
    "# Responsive image container\n",
    "image_container = Div(\n",
    "    Img(src=\"image.jpg\", cls=combine_classes(w.full, h.full, \"object-cover\")),\n",
    "    cls=combine_classes(w(\"1/2\"), h(64), max_h(96))\n",
    ")\n",
    "assert image_container.attrs['class'] == \"w-1/2 h-64 max-h-96\"\n",
    "assert image_container.children[0].attrs['class'] == \"w-full h-full object-cover\""
   ]
  },
  {
   "cell_type": "code",
   "execution_count": null,
   "id": "e001cb36-3477-4a7a-9763-2be43ffc7b23",
   "metadata": {},
   "outputs": [],
   "source": [
    "# Layout with sidebar\n",
    "layout = Div(\n",
    "    Aside(\"Sidebar\", cls=combine_classes(w(64), min_w(48), h.full)),\n",
    "    Main(\"Main content\", cls=combine_classes(w.full, min_h.screen)),\n",
    "    cls=\"flex\"\n",
    ")\n",
    "assert layout.children[0].attrs['class'] == \"w-64 min-w-48 h-full\"\n",
    "assert layout.children[1].attrs['class'] == \"w-full min-h-screen\""
   ]
  },
  {
   "cell_type": "code",
   "execution_count": null,
   "id": "0650efeb-d094-4fb1-a8e5-dcc7698460ad",
   "metadata": {},
   "outputs": [],
   "source": [
    "# Content container with max width\n",
    "article = Article(\n",
    "    Header(\"Article Title\"),\n",
    "    Div(\"Article content...\"),\n",
    "    cls=combine_classes(w.full, max_w._4xl, \"mx-auto\", min_h(\"50vh\"))\n",
    ")\n",
    "assert article.attrs['class'] == \"w-full max-w-4xl mx-auto min-h-[50vh]\""
   ]
  },
  {
   "cell_type": "code",
   "execution_count": null,
   "id": "jtz07hbsqa",
   "metadata": {},
   "outputs": [],
   "source": [
    "# Using the size utility for square elements\n",
    "avatar = Div(\n",
    "    Img(src=\"avatar.jpg\", cls=\"rounded-full\"),\n",
    "    cls=combine_classes(size_util(16), \"relative\")\n",
    ")\n",
    "assert avatar.attrs['class'] == \"size-16 relative\"\n",
    "\n",
    "# Using container utility\n",
    "page_container = Div(\n",
    "    \"Page content\",\n",
    "    cls=combine_classes(container, \"mx-auto\", \"px-4\")\n",
    ")\n",
    "assert page_container.attrs['class'] == \"container mx-auto px-4\""
   ]
  },
  {
   "cell_type": "markdown",
   "id": "50a8e16d-9250-4b18-9154-9ad6f1f0cc82",
   "metadata": {},
   "source": [
    "## Helper Functions\n",
    "\n",
    "Convenient functions for common sizing patterns:"
   ]
  },
  {
   "cell_type": "code",
   "execution_count": null,
   "id": "18b10029-c177-4489-bd4e-1e43aabe25c7",
   "metadata": {},
   "outputs": [],
   "source": [
    "#| export\n",
    "def size(\n",
    "    w: Optional[TailwindScale] = None,        # Width value\n",
    "    h: Optional[TailwindScale] = None,        # Height value\n",
    "    min_w: Optional[TailwindScale] = None,    # Minimum width\n",
    "    max_w: Optional[TailwindScale] = None,    # Maximum width\n",
    "    min_h: Optional[TailwindScale] = None,    # Minimum height\n",
    "    max_h: Optional[TailwindScale] = None     # Maximum height\n",
    ") -> str:  # Space-separated size classes\n",
    "    \"\"\"Generate size classes with a convenient API.\"\"\"\n",
    "    classes = []\n",
    "    \n",
    "    if w is not None:\n",
    "        classes.append(str(globals()['w'](w)))\n",
    "    if h is not None:\n",
    "        classes.append(str(globals()['h'](h)))\n",
    "    if min_w is not None:\n",
    "        classes.append(str(globals()['min_w'](min_w)))\n",
    "    if max_w is not None:\n",
    "        classes.append(str(globals()['max_w'](max_w)))\n",
    "    if min_h is not None:\n",
    "        classes.append(str(globals()['min_h'](min_h)))\n",
    "    if max_h is not None:\n",
    "        classes.append(str(globals()['max_h'](max_h)))\n",
    "    \n",
    "    return combine_classes(*classes)"
   ]
  },
  {
   "cell_type": "code",
   "execution_count": null,
   "id": "6ac8cdc3-77f4-4bae-9777-e26549adaadf",
   "metadata": {},
   "outputs": [],
   "source": [
    "#| export\n",
    "def square(\n",
    "    size: TailwindScale  # Size value for both width and height\n",
    ") -> str:  # Space-separated width and height classes\n",
    "    \"\"\"Create a square element with equal width and height.\"\"\"\n",
    "    return combine_classes(w(size), h(size))"
   ]
  },
  {
   "cell_type": "code",
   "execution_count": null,
   "id": "72288458-2935-4877-a43b-96e1e776aaf9",
   "metadata": {},
   "outputs": [],
   "source": [
    "#| export\n",
    "def full_size(\n",
    ") -> str:  # \"w-full h-full\"\n",
    "    \"\"\"Make element take full width and height of parent.\"\"\"\n",
    "    return combine_classes(w.full, h.full)"
   ]
  },
  {
   "cell_type": "code",
   "execution_count": null,
   "id": "f1be53b9-fb0c-4fd5-91fc-ef7571d12180",
   "metadata": {},
   "outputs": [],
   "source": [
    "#| export\n",
    "def full_screen(\n",
    ") -> str:  # \"w-screen h-screen\"\n",
    "    \"\"\"Make element take full viewport width and height.\"\"\"\n",
    "    return combine_classes(w.screen, h.screen)"
   ]
  },
  {
   "cell_type": "code",
   "execution_count": null,
   "id": "c9430fc2-d4e9-46ee-bf42-b25255733d4a",
   "metadata": {},
   "outputs": [],
   "source": [
    "# Test helper functions\n",
    "assert size(w=32, h=16) == \"w-32 h-16\"\n",
    "assert size(w=\"full\", max_w=\"4xl\", min_h=\"50vh\") == \"w-full max-w-4xl min-h-[50vh]\"\n",
    "assert square(16) == \"w-16 h-16\"\n",
    "assert full_size() == \"w-full h-full\"\n",
    "assert full_screen() == \"w-screen h-screen\""
   ]
  },
  {
   "cell_type": "markdown",
   "id": "8d8be22b-f2a4-4f3a-bc7d-27c07d9192b0",
   "metadata": {},
   "source": [
    "## Testing\n",
    "\n",
    "Let's run comprehensive tests to ensure our sizing utilities work correctly:"
   ]
  },
  {
   "cell_type": "code",
   "execution_count": null,
   "id": "bbe7d358-34da-4858-99ec-3cacc296e047",
   "metadata": {},
   "outputs": [],
   "source": [
    "# Test width utilities\n",
    "assert str(w(0)) == \"w-0\"\n",
    "assert str(w(4)) == \"w-4\"\n",
    "assert str(w(64)) == \"w-64\"\n",
    "assert str(w(2.5)) == \"w-2.5\"\n",
    "assert str(w(\"1/2\")) == \"w-1/2\"\n",
    "assert str(w(\"2/3\")) == \"w-2/3\"\n",
    "assert str(w.auto) == \"w-auto\"\n",
    "assert str(w.full) == \"w-full\"\n",
    "assert str(w.screen) == \"w-screen\"\n",
    "assert str(w.px) == \"w-px\"\n",
    "assert str(w.min) == \"w-min\"\n",
    "assert str(w.max) == \"w-max\"\n",
    "assert str(w.fit) == \"w-fit\"\n",
    "\n",
    "# Test height utilities with lh unit\n",
    "assert str(h.lh) == \"h-lh\""
   ]
  },
  {
   "cell_type": "code",
   "execution_count": null,
   "id": "46e12fdf-bf22-4ab5-9ad2-12c3f80d5b1f",
   "metadata": {},
   "outputs": [],
   "source": [
    "# Test named sizes\n",
    "assert str(w._3xs) == \"w-3xs\"\n",
    "assert str(w._2xs) == \"w-2xs\"\n",
    "assert str(w.xs) == \"w-xs\"\n",
    "assert str(w.sm) == \"w-sm\"\n",
    "assert str(w.md) == \"w-md\"\n",
    "assert str(w.lg) == \"w-lg\"\n",
    "assert str(w.xl) == \"w-xl\"\n",
    "assert str(w._2xl) == \"w-2xl\"\n",
    "assert str(w._3xl) == \"w-3xl\""
   ]
  },
  {
   "cell_type": "code",
   "execution_count": null,
   "id": "4665a2e4-ccb6-468d-9f98-905fb0cf92d2",
   "metadata": {},
   "outputs": [],
   "source": [
    "# Test viewport units\n",
    "assert str(w.svw) == \"w-svw\"\n",
    "assert str(w.lvw) == \"w-lvw\"\n",
    "assert str(w.dvw) == \"w-dvw\"\n",
    "assert str(h.svh) == \"h-svh\"\n",
    "assert str(h.lvh) == \"h-lvh\"\n",
    "assert str(h.dvh) == \"h-dvh\""
   ]
  },
  {
   "cell_type": "code",
   "execution_count": null,
   "id": "f2e16327-def9-4eee-bbd1-d0b3b8fed830",
   "metadata": {},
   "outputs": [],
   "source": [
    "# Test arbitrary values\n",
    "assert str(w(\"300px\")) == \"w-[300px]\"\n",
    "assert str(w(\"25rem\")) == \"w-[25rem]\"\n",
    "assert str(w(\"50%\")) == \"w-[50%]\"\n",
    "assert str(w(\"calc(100% - 2rem)\")) == \"w-[calc(100% - 2rem)]\"\n",
    "assert str(h(\"100vh\")) == \"h-[100vh]\""
   ]
  },
  {
   "cell_type": "code",
   "execution_count": null,
   "id": "5dd9c608-7cfd-46ca-a360-3331f0446b48",
   "metadata": {},
   "outputs": [],
   "source": [
    "# Test custom properties\n",
    "assert str(w(\"--sidebar-width\")) == \"w-(--sidebar-width)\"\n",
    "assert str(h(\"--header-height\")) == \"h-(--header-height)\""
   ]
  },
  {
   "cell_type": "code",
   "execution_count": null,
   "id": "890bdc11-b77e-4415-8e85-ff08e2f2bda3",
   "metadata": {},
   "outputs": [],
   "source": [
    "# Test min/max utilities\n",
    "assert str(min_w(0)) == \"min-w-0\"\n",
    "assert str(min_w.full) == \"min-w-full\"\n",
    "assert str(min_w.xs) == \"min-w-xs\"\n",
    "assert str(max_w.none) == \"max-w-none\"\n",
    "assert str(max_w._4xl) == \"max-w-4xl\"\n",
    "assert str(max_w._7xl) == \"max-w-7xl\"\n",
    "assert str(min_h.screen) == \"min-h-screen\"\n",
    "assert str(max_h.none) == \"max-h-none\"\n",
    "\n",
    "# Test min-h with lh unit\n",
    "assert str(min_h.lh) == \"min-h-lh\"\n",
    "\n",
    "# Test max-h with lh unit\n",
    "assert str(max_h.lh) == \"max-h-lh\"\n",
    "\n",
    "# Test size utilities\n",
    "assert str(size_util(16)) == \"size-16\"\n",
    "assert str(size_util(\"1/2\")) == \"size-1/2\"\n",
    "assert str(size_util.auto) == \"size-auto\"\n",
    "assert str(size_util.px) == \"size-px\"\n",
    "assert str(size_util.full) == \"size-full\"\n",
    "assert str(size_util.min) == \"size-min\"\n",
    "assert str(size_util.max) == \"size-max\"\n",
    "assert str(size_util.fit) == \"size-fit\"\n",
    "assert str(size_util.dvw) == \"size-dvw\"\n",
    "assert str(size_util.dvh) == \"size-dvh\"\n",
    "\n",
    "# Test container utility\n",
    "assert container == \"container\""
   ]
  },
  {
   "cell_type": "code",
   "execution_count": null,
   "id": "b679b843-f2b3-4dbf-9276-504027972879",
   "metadata": {},
   "outputs": [],
   "source": [
    "# Test helper functions\n",
    "assert size(w=32, h=16) == \"w-32 h-16\"\n",
    "assert size(w=\"full\", max_w=\"4xl\") == \"w-full max-w-4xl\"\n",
    "assert size(min_h=\"50vh\") == \"min-h-[50vh]\"\n",
    "assert square(16) == \"w-16 h-16\"\n",
    "assert full_size() == \"w-full h-full\"\n",
    "assert full_screen() == \"w-screen h-screen\""
   ]
  },
  {
   "cell_type": "code",
   "execution_count": null,
   "id": "2d3dfe07-1437-4ebb-9e2c-b667005a20bf",
   "metadata": {},
   "outputs": [
    {
     "name": "stdout",
     "output_type": "stream",
     "text": [
      "✅ All sizing utility tests passed!\n"
     ]
    }
   ],
   "source": [
    "print(\"✅ All sizing utility tests passed!\")"
   ]
  },
  {
   "cell_type": "code",
   "execution_count": null,
   "id": "ec505f74-7071-40b7-bc6f-bacf4362f34e",
   "metadata": {},
   "outputs": [],
   "source": []
  },
  {
   "cell_type": "code",
   "execution_count": null,
   "id": "ddbcc40f-12f0-4b24-9510-d023634f8f7b",
   "metadata": {},
   "outputs": [],
   "source": []
  },
  {
   "cell_type": "markdown",
   "id": "f0fb28f0-d520-4e90-baa5-572bc2d927c3",
   "metadata": {},
   "source": [
    "## Export"
   ]
  },
  {
   "cell_type": "code",
   "execution_count": null,
   "id": "9e3967cd-cd0f-4ad1-ab45-9234246b217c",
   "metadata": {},
   "outputs": [],
   "source": [
    "#| hide\n",
    "import nbdev; nbdev.nbdev_export()"
   ]
  }
 ],
 "metadata": {
  "kernelspec": {
   "display_name": "python3",
   "language": "python",
   "name": "python3"
  }
 },
 "nbformat": 4,
 "nbformat_minor": 5
}
