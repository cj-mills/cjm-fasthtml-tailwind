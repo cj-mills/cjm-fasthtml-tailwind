{
 "cells": [
  {
   "cell_type": "markdown",
   "id": "53592002-da83-4b69-9b6c-c2cb2bd6f163",
   "metadata": {},
   "source": [
    "# filters\n",
    "\n",
    "> Filter utilities for Tailwind CSS"
   ]
  },
  {
   "cell_type": "code",
   "execution_count": null,
   "id": "6e89d7f0-b0d7-4af9-9466-7889d316925a",
   "metadata": {},
   "outputs": [],
   "source": [
    "#| default_exp utilities.filters"
   ]
  },
  {
   "cell_type": "code",
   "execution_count": null,
   "id": "13e28127-8656-4d09-962f-e12a33898aac",
   "metadata": {},
   "outputs": [],
   "source": [
    "#| hide\n",
    "from nbdev.showdoc import *"
   ]
  },
  {
   "cell_type": "code",
   "execution_count": null,
   "id": "ae651546-750f-469b-8aa4-eb2659e73bd0",
   "metadata": {},
   "outputs": [],
   "source": [
    "#| export\n",
    "from typing import Optional, Dict, Any, Union, List\n",
    "from dataclasses import dataclass\n",
    "from cjm_fasthtml_tailwind.core.base import (\n",
    "    BaseFactory, SingleValueFactory, BaseUtility, StandardUtility,\n",
    "    combine_classes, TailwindValue, is_custom_property, is_arbitrary_value\n",
    ")\n",
    "from cjm_fasthtml_tailwind.builders.scales import (\n",
    "    ScaledFactory, SimpleFactory, ScaleConfig, NUMERIC_SCALE\n",
    ")\n",
    "from cjm_fasthtml_tailwind.builders.colors import (\n",
    "    ColoredFactory, ColorValue, ColoredUtility, get_all_color_families,\n",
    "    get_all_shades, ColorFamily, ColorShade, SPECIAL_COLORS\n",
    ")\n",
    "\n",
    "from fasthtml.common import Div\n",
    "from fasthtml.jupyter import JupyUvi, HTMX\n",
    "from cjm_fasthtml_tailwind.core.testing import create_test_app, create_test_page, start_test_server\n",
    "from IPython.display import display"
   ]
  },
  {
   "cell_type": "markdown",
   "id": "8eebecbb-9770-488b-8b49-76e1192dd6f3",
   "metadata": {},
   "source": [
    "## Filter Control\n",
    "\n",
    "Control whether to apply filter styles to an element:"
   ]
  },
  {
   "cell_type": "code",
   "execution_count": null,
   "id": "31c6d54b-e4dd-4c97-896f-d6bb0afe9666",
   "metadata": {},
   "outputs": [],
   "source": [
    "#| exports\n",
    "filter_none = SingleValueFactory(\"filter-none\", \"Remove all filters from an element\") # Remove filters"
   ]
  },
  {
   "cell_type": "code",
   "execution_count": null,
   "id": "da8a8bb0-8236-4abd-9438-8579de4526f0",
   "metadata": {},
   "outputs": [],
   "source": [
    "#|exports\n",
    "def test_filters_control_examples():\n",
    "    \"\"\"Test filter control utilities.\"\"\"\n",
    "    assert str(filter_none) == \"filter-none\"\n",
    "    assert str(filter_none()) == \"filter-none\"\n",
    "    assert filter_none.build() == \"filter-none\"\n",
    "\n",
    "# Run the tests\n",
    "test_filters_control_examples()"
   ]
  },
  {
   "cell_type": "markdown",
   "id": "71bd346d-632f-4602-98df-ade17fef7e21",
   "metadata": {},
   "source": [
    "## Blur Filter\n",
    "\n",
    "Apply blur filters to an element:"
   ]
  },
  {
   "cell_type": "code",
   "execution_count": null,
   "id": "763c95f4-6528-43bf-bb3c-81b3f3cd3d62",
   "metadata": {},
   "outputs": [],
   "source": [
    "#| export\n",
    "# Define blur scale configuration\n",
    "@dataclass\n",
    "class BlurScale:\n",
    "    \"\"\"Represents a blur scale with name and pixel value.\"\"\"\n",
    "    name: str\n",
    "    pixels: str\n",
    "    var: str\n",
    "    \n",
    "    def format(\n",
    "        self\n",
    "    ) -> str:  # TODO: Add return description\n",
    "        \"\"\"Format as Tailwind class suffix.\"\"\"\n",
    "        return self.name"
   ]
  },
  {
   "cell_type": "code",
   "execution_count": null,
   "id": "42dc887b-2ca8-4c8f-a54e-fd8d63b69849",
   "metadata": {},
   "outputs": [],
   "source": [
    "#| exports\n",
    "# Blur scale definitions based on Tailwind v4 docs\n",
    "BLUR_SCALES = [\n",
    "    BlurScale(\"xs\", \"4px\", \"--blur-xs\"),\n",
    "    BlurScale(\"sm\", \"8px\", \"--blur-sm\"),\n",
    "    BlurScale(\"md\", \"12px\", \"--blur-md\"),\n",
    "    BlurScale(\"lg\", \"16px\", \"--blur-lg\"),\n",
    "    BlurScale(\"xl\", \"24px\", \"--blur-xl\"),\n",
    "    BlurScale(\"2xl\", \"40px\", \"--blur-2xl\"),\n",
    "    BlurScale(\"3xl\", \"64px\", \"--blur-3xl\"),\n",
    "]"
   ]
  },
  {
   "cell_type": "code",
   "execution_count": null,
   "id": "afa168cc-797d-4770-aa89-f21e46dab3a4",
   "metadata": {},
   "outputs": [],
   "source": [
    "#| exports\n",
    "# Create blur factory using SimpleFactory for named scales\n",
    "blur = SimpleFactory(\n",
    "    {\n",
    "        \"none\": \"blur-none\",\n",
    "        \"xs\": \"blur-xs\",\n",
    "        \"sm\": \"blur-sm\",\n",
    "        \"md\": \"blur-md\",\n",
    "        \"lg\": \"blur-lg\",\n",
    "        \"xl\": \"blur-xl\",\n",
    "        \"_2xl\": \"blur-2xl\",\n",
    "        \"_3xl\": \"blur-3xl\"\n",
    "    },\n",
    "    \"Blur filter utilities for applying blur effects to an element\"\n",
    ") # Blur filter factory"
   ]
  },
  {
   "cell_type": "code",
   "execution_count": null,
   "id": "dbee8c00-c037-4c87-8c1a-4d7c763fe29f",
   "metadata": {},
   "outputs": [],
   "source": [
    "#|exports\n",
    "def test_filters_blur_examples():\n",
    "    \"\"\"Test blur filter utilities.\"\"\"\n",
    "    # Test named blur scales\n",
    "    assert str(blur.none) == \"blur-none\"\n",
    "    assert str(blur.xs) == \"blur-xs\"\n",
    "    assert str(blur.sm) == \"blur-sm\"\n",
    "    assert str(blur.md) == \"blur-md\"\n",
    "    assert str(blur.lg) == \"blur-lg\"\n",
    "    assert str(blur.xl) == \"blur-xl\"\n",
    "    assert str(blur._2xl) == \"blur-2xl\"\n",
    "    assert str(blur._3xl) == \"blur-3xl\"\n",
    "\n",
    "# Run the tests\n",
    "test_filters_blur_examples()"
   ]
  },
  {
   "cell_type": "markdown",
   "id": "8ee0d034-aa4c-4cfd-a6c7-3af3526cd402",
   "metadata": {},
   "source": [
    "## Brightness Filter\n",
    "\n",
    "Control the brightness of an element:"
   ]
  },
  {
   "cell_type": "code",
   "execution_count": null,
   "id": "dccb6ff4-41c8-4120-a117-8a217dc323cc",
   "metadata": {},
   "outputs": [],
   "source": [
    "#| exports\n",
    "# Brightness percentage values (common presets)\n",
    "BRIGHTNESS_VALUES = [0, 50, 75, 90, 95, 100, 105, 110, 125, 150, 200]\n",
    "\n",
    "# Create brightness configuration for percentage scale\n",
    "brightness_config = ScaleConfig(\n",
    "    numeric=True,  # Support numeric values\n",
    "    decimals=False,\n",
    "    fractions=False,\n",
    "    named=None,\n",
    "    special=None,\n",
    "    negative=False\n",
    ")\n",
    "\n",
    "# Create brightness factory\n",
    "brightness = ScaledFactory(\"brightness\", brightness_config, \"Brightness filter utilities for adjusting element brightness\")"
   ]
  },
  {
   "cell_type": "code",
   "execution_count": null,
   "id": "e0192781-163f-4233-9a00-cd9ca3f45e89",
   "metadata": {},
   "outputs": [],
   "source": [
    "#|exports\n",
    "def test_filters_brightness_examples():\n",
    "    \"\"\"Test brightness filter utilities.\"\"\"\n",
    "    # Test common brightness values\n",
    "    assert str(brightness(0)) == \"brightness-0\"\n",
    "    assert str(brightness(50)) == \"brightness-50\"\n",
    "    assert str(brightness(100)) == \"brightness-100\"\n",
    "    assert str(brightness(150)) == \"brightness-150\"\n",
    "    assert str(brightness(200)) == \"brightness-200\"\n",
    "    \n",
    "    # Test arbitrary values\n",
    "    assert str(brightness(\"730\")) == \"brightness-[730]\"\n",
    "    assert str(brightness(\"125%\")) == \"brightness-[125%]\"\n",
    "    \n",
    "    # Test custom properties\n",
    "    assert str(brightness(\"--custom-brightness\")) == \"brightness-(--custom-brightness)\"\n",
    "\n",
    "# Run the tests\n",
    "test_filters_brightness_examples()"
   ]
  },
  {
   "cell_type": "markdown",
   "id": "1c2d662e-9ddc-4841-848b-67dc91a390e7",
   "metadata": {},
   "source": [
    "## Contrast Filter\n",
    "\n",
    "Control the contrast of an element:"
   ]
  },
  {
   "cell_type": "code",
   "execution_count": null,
   "id": "dbe18636-4850-4d9d-b20b-984ff8a0057a",
   "metadata": {},
   "outputs": [],
   "source": [
    "#| exports\n",
    "# Contrast percentage values (common presets)\n",
    "CONTRAST_VALUES = [0, 50, 75, 100, 125, 150, 200]\n",
    "\n",
    "# Create contrast factory using same config as brightness\n",
    "contrast = ScaledFactory(\"contrast\", brightness_config, \"Contrast filter utilities for adjusting element contrast\")"
   ]
  },
  {
   "cell_type": "code",
   "execution_count": null,
   "id": "43eede92-1c95-49f7-a3d2-34655a48e0ff",
   "metadata": {},
   "outputs": [],
   "source": [
    "#|exports\n",
    "def test_filters_contrast_examples():\n",
    "    \"\"\"Test contrast filter utilities.\"\"\"\n",
    "    # Test common contrast values\n",
    "    assert str(contrast(0)) == \"contrast-0\"\n",
    "    assert str(contrast(50)) == \"contrast-50\"\n",
    "    assert str(contrast(100)) == \"contrast-100\"\n",
    "    assert str(contrast(125)) == \"contrast-125\"\n",
    "    assert str(contrast(200)) == \"contrast-200\"\n",
    "    \n",
    "    # Test arbitrary values\n",
    "    assert str(contrast(\"870\")) == \"contrast-[870]\"\n",
    "    assert str(contrast(\"150%\")) == \"contrast-[150%]\"\n",
    "    \n",
    "    # Test custom properties\n",
    "    assert str(contrast(\"--custom-contrast\")) == \"contrast-(--custom-contrast)\"\n",
    "\n",
    "# Run the tests\n",
    "test_filters_contrast_examples()"
   ]
  },
  {
   "cell_type": "markdown",
   "id": "4da7085d-1106-4752-9490-18376b333b0a",
   "metadata": {},
   "source": [
    "## Drop Shadow Filter\n",
    "\n",
    "Apply drop shadow filters to an element:"
   ]
  },
  {
   "cell_type": "code",
   "execution_count": null,
   "id": "791979ab-6afb-41f7-941e-d04c7305e475",
   "metadata": {},
   "outputs": [],
   "source": [
    "#| export\n",
    "# Define drop shadow scale configuration\n",
    "@dataclass\n",
    "class DropShadowScale:\n",
    "    \"\"\"Represents a drop shadow scale with name and shadow value.\"\"\"\n",
    "    name: str\n",
    "    shadow: str\n",
    "    var: str\n",
    "    \n",
    "    def format(\n",
    "        self\n",
    "    ) -> str:  # TODO: Add return description\n",
    "        \"\"\"Format as Tailwind class suffix.\"\"\"\n",
    "        return self.name"
   ]
  },
  {
   "cell_type": "code",
   "execution_count": null,
   "id": "da763524-8f10-47ad-b177-aeb81fdc5432",
   "metadata": {},
   "outputs": [],
   "source": [
    "#| exports\n",
    "# Drop shadow scale definitions based on Tailwind v4 docs\n",
    "DROP_SHADOW_SCALES = [\n",
    "    DropShadowScale(\"xs\", \"0 1px 1px rgb(0 0 0 / 0.05)\", \"--drop-shadow-xs\"),\n",
    "    DropShadowScale(\"sm\", \"0 1px 2px rgb(0 0 0 / 0.15)\", \"--drop-shadow-sm\"),\n",
    "    DropShadowScale(\"md\", \"0 3px 3px rgb(0 0 0 / 0.12)\", \"--drop-shadow-md\"),\n",
    "    DropShadowScale(\"lg\", \"0 4px 4px rgb(0 0 0 / 0.15)\", \"--drop-shadow-lg\"),\n",
    "    DropShadowScale(\"xl\", \"0 9px 7px rgb(0 0 0 / 0.1)\", \"--drop-shadow-xl\"),\n",
    "    DropShadowScale(\"2xl\", \"0 25px 25px rgb(0 0 0 / 0.15)\", \"--drop-shadow-2xl\"),\n",
    "]"
   ]
  },
  {
   "cell_type": "code",
   "execution_count": null,
   "id": "e7176cf6-ff53-476e-b671-b4df6979abe5",
   "metadata": {},
   "outputs": [],
   "source": [
    "#| exports\n",
    "# Create drop shadow factory for basic shadow utilities\n",
    "drop_shadow = SimpleFactory(\n",
    "    {\n",
    "        \"none\": \"drop-shadow-none\",\n",
    "        \"xs\": \"drop-shadow-xs\",\n",
    "        \"sm\": \"drop-shadow-sm\",\n",
    "        \"md\": \"drop-shadow-md\",\n",
    "        \"lg\": \"drop-shadow-lg\",\n",
    "        \"xl\": \"drop-shadow-xl\",\n",
    "        \"_2xl\": \"drop-shadow-2xl\"\n",
    "    },\n",
    "    \"Drop shadow filter utilities for applying drop shadow effects to an element\"\n",
    ") # Drop shadow factory"
   ]
  },
  {
   "cell_type": "code",
   "execution_count": null,
   "id": "22ddac2b-48fc-47df-b0d7-c8fd56569e20",
   "metadata": {},
   "outputs": [],
   "source": [
    "#| exports\n",
    "# Create drop shadow color factory\n",
    "drop_shadow_color = ColoredFactory(\"drop-shadow\", \"Drop shadow color utilities for customizing the color of drop shadows\")"
   ]
  },
  {
   "cell_type": "code",
   "execution_count": null,
   "id": "3dbe46e7-58aa-46ce-8798-3d8416c83de6",
   "metadata": {},
   "outputs": [],
   "source": [
    "#|exports\n",
    "def test_filters_drop_shadow_examples():\n",
    "    \"\"\"Test drop shadow filter utilities.\"\"\"\n",
    "    # Test named drop shadow scales\n",
    "    assert str(drop_shadow.none) == \"drop-shadow-none\"\n",
    "    assert str(drop_shadow.xs) == \"drop-shadow-xs\"\n",
    "    assert str(drop_shadow.sm) == \"drop-shadow-sm\"\n",
    "    assert str(drop_shadow.md) == \"drop-shadow-md\"\n",
    "    assert str(drop_shadow.lg) == \"drop-shadow-lg\"\n",
    "    assert str(drop_shadow.xl) == \"drop-shadow-xl\"\n",
    "    assert str(drop_shadow._2xl) == \"drop-shadow-2xl\"\n",
    "    \n",
    "    # Test drop shadow colors - all 22 Tailwind color families\n",
    "    assert str(drop_shadow_color.red._500) == \"drop-shadow-red-500\"\n",
    "    assert str(drop_shadow_color.orange._500) == \"drop-shadow-orange-500\"\n",
    "    assert str(drop_shadow_color.amber._500) == \"drop-shadow-amber-500\"\n",
    "    assert str(drop_shadow_color.yellow._500) == \"drop-shadow-yellow-500\"\n",
    "    assert str(drop_shadow_color.lime._500) == \"drop-shadow-lime-500\"\n",
    "    assert str(drop_shadow_color.green._500) == \"drop-shadow-green-500\"\n",
    "    assert str(drop_shadow_color.emerald._500) == \"drop-shadow-emerald-500\"\n",
    "    assert str(drop_shadow_color.teal._500) == \"drop-shadow-teal-500\"\n",
    "    assert str(drop_shadow_color.cyan._500) == \"drop-shadow-cyan-500\"\n",
    "    assert str(drop_shadow_color.sky._500) == \"drop-shadow-sky-500\"\n",
    "    assert str(drop_shadow_color.blue._500) == \"drop-shadow-blue-500\"\n",
    "    assert str(drop_shadow_color.indigo._500) == \"drop-shadow-indigo-500\"\n",
    "    assert str(drop_shadow_color.violet._500) == \"drop-shadow-violet-500\"\n",
    "    assert str(drop_shadow_color.purple._500) == \"drop-shadow-purple-500\"\n",
    "    assert str(drop_shadow_color.fuchsia._500) == \"drop-shadow-fuchsia-500\"\n",
    "    assert str(drop_shadow_color.pink._500) == \"drop-shadow-pink-500\"\n",
    "    assert str(drop_shadow_color.rose._500) == \"drop-shadow-rose-500\"\n",
    "    assert str(drop_shadow_color.slate._500) == \"drop-shadow-slate-500\"\n",
    "    assert str(drop_shadow_color.gray._500) == \"drop-shadow-gray-500\"\n",
    "    assert str(drop_shadow_color.zinc._500) == \"drop-shadow-zinc-500\"\n",
    "    assert str(drop_shadow_color.neutral._500) == \"drop-shadow-neutral-500\"\n",
    "    assert str(drop_shadow_color.stone._500) == \"drop-shadow-stone-500\"\n",
    "    \n",
    "    # Test different shades\n",
    "    assert str(drop_shadow_color.blue._300) == \"drop-shadow-blue-300\"\n",
    "    assert str(drop_shadow_color.green._950) == \"drop-shadow-green-950\"\n",
    "    \n",
    "    # Test special colors\n",
    "    assert str(drop_shadow_color.transparent) == \"drop-shadow-transparent\"\n",
    "    assert str(drop_shadow_color.black) == \"drop-shadow-black\"\n",
    "    assert str(drop_shadow_color.white) == \"drop-shadow-white\"\n",
    "    assert str(drop_shadow_color.current) == \"drop-shadow-current\"\n",
    "    assert str(drop_shadow_color.inherit) == \"drop-shadow-inherit\"\n",
    "    \n",
    "    # Test arbitrary drop shadow color values\n",
    "    assert str(drop_shadow_color(\"#ff0000\")) == \"drop-shadow-[#ff0000]\"\n",
    "    assert str(drop_shadow_color(\"--custom-shadow-color\")) == \"drop-shadow-(--custom-shadow-color)\"\n",
    "\n",
    "# Run the tests\n",
    "test_filters_drop_shadow_examples()"
   ]
  },
  {
   "cell_type": "markdown",
   "id": "e5674961-3e1b-493f-9c36-6418efd0e92d",
   "metadata": {},
   "source": [
    "## Grayscale Filter\n",
    "\n",
    "Convert an element to grayscale:"
   ]
  },
  {
   "cell_type": "code",
   "execution_count": null,
   "id": "ee42b75b-255d-4355-9acf-502a8f50a029",
   "metadata": {},
   "outputs": [],
   "source": [
    "#| exports\n",
    "# Create grayscale factory with percentage support\n",
    "grayscale = ScaledFactory(\"grayscale\", brightness_config, \"Grayscale filter utilities for converting elements to grayscale\")\n",
    "\n",
    "# Add convenience for full grayscale\n",
    "grayscale.full = SingleValueFactory(\"grayscale\", \"Apply 100% grayscale filter\")"
   ]
  },
  {
   "cell_type": "code",
   "execution_count": null,
   "id": "b6e16f16-eceb-4265-ac34-39f918a14f5a",
   "metadata": {},
   "outputs": [],
   "source": [
    "#|exports\n",
    "def test_filters_grayscale_examples():\n",
    "    \"\"\"Test grayscale filter utilities.\"\"\"\n",
    "    # Test full grayscale (default)\n",
    "    assert str(grayscale.full) == \"grayscale\"\n",
    "    \n",
    "    # Test percentage grayscale values\n",
    "    assert str(grayscale(0)) == \"grayscale-0\"\n",
    "    assert str(grayscale(50)) == \"grayscale-50\"\n",
    "    assert str(grayscale(100)) == \"grayscale-100\"\n",
    "    \n",
    "    # Test arbitrary values\n",
    "    assert str(grayscale(\"250\")) == \"grayscale-[250]\"\n",
    "    assert str(grayscale(\"75%\")) == \"grayscale-[75%]\"\n",
    "    \n",
    "    # Test custom properties\n",
    "    assert str(grayscale(\"--custom-grayscale\")) == \"grayscale-(--custom-grayscale)\"\n",
    "\n",
    "# Run the tests\n",
    "test_filters_grayscale_examples()"
   ]
  },
  {
   "cell_type": "markdown",
   "id": "10d4b268-cbf4-4cbc-8755-1b6a5714187d",
   "metadata": {},
   "source": [
    "## Hue Rotate Filter\n",
    "\n",
    "Apply hue rotation to an element:"
   ]
  },
  {
   "cell_type": "code",
   "execution_count": null,
   "id": "af05bb01-502f-451b-b25c-561331d8872f",
   "metadata": {},
   "outputs": [],
   "source": [
    "#| exports\n",
    "# Common hue rotation angles\n",
    "HUE_ROTATE_VALUES = [0, 15, 30, 60, 90, 180]\n",
    "\n",
    "# Create hue rotate configuration with negative support\n",
    "hue_rotate_config = ScaleConfig(\n",
    "    numeric=True,  # Support numeric values (angles)\n",
    "    decimals=False,\n",
    "    fractions=False,\n",
    "    named=None,\n",
    "    special=None,\n",
    "    negative=True  # Support negative angles\n",
    ")\n",
    "\n",
    "# Create hue rotate factory\n",
    "hue_rotate = ScaledFactory(\"hue-rotate\", hue_rotate_config, \"Hue rotate filter utilities for rotating element colors\")"
   ]
  },
  {
   "cell_type": "code",
   "execution_count": null,
   "id": "7d3f0de2-679b-47e1-afd7-e2bebe1f7ca9",
   "metadata": {},
   "outputs": [],
   "source": [
    "#|exports\n",
    "def test_filters_hue_rotate_examples():\n",
    "    \"\"\"Test hue rotate filter utilities.\"\"\"\n",
    "    # Test positive angles\n",
    "    assert str(hue_rotate(0)) == \"hue-rotate-0\"\n",
    "    assert str(hue_rotate(15)) == \"hue-rotate-15\"\n",
    "    assert str(hue_rotate(30)) == \"hue-rotate-30\"\n",
    "    assert str(hue_rotate(60)) == \"hue-rotate-60\"\n",
    "    assert str(hue_rotate(90)) == \"hue-rotate-90\"\n",
    "    assert str(hue_rotate(180)) == \"hue-rotate-180\"\n",
    "    \n",
    "    # Test negative angles\n",
    "    assert str(hue_rotate(30, negative=True)) == \"-hue-rotate-30\"\n",
    "    assert str(hue_rotate.negative(60)) == \"-hue-rotate-60\"\n",
    "    assert str(hue_rotate.negative(180)) == \"-hue-rotate-180\"\n",
    "    \n",
    "    # Test arbitrary values\n",
    "    assert str(hue_rotate(\"45deg\")) == \"hue-rotate-[45deg]\"\n",
    "    \n",
    "    # Test custom properties\n",
    "    assert str(hue_rotate(\"--custom-rotation\")) == \"hue-rotate-(--custom-rotation)\"\n",
    "\n",
    "# Run the tests\n",
    "test_filters_hue_rotate_examples()"
   ]
  },
  {
   "cell_type": "markdown",
   "id": "1a456c6d-13e3-4801-80aa-413d6d3028f5",
   "metadata": {},
   "source": [
    "## Invert Filter\n",
    "\n",
    "Invert the colors of an element:"
   ]
  },
  {
   "cell_type": "code",
   "execution_count": null,
   "id": "c3b2228e-e2d7-475d-866f-d9a916e916a4",
   "metadata": {},
   "outputs": [],
   "source": [
    "#| exports\n",
    "# Create invert factory with percentage support\n",
    "invert = ScaledFactory(\"invert\", brightness_config, \"Invert filter utilities for inverting element colors\")\n",
    "\n",
    "# Add convenience for full invert\n",
    "invert.full = SingleValueFactory(\"invert\", \"Apply 100% invert filter\")"
   ]
  },
  {
   "cell_type": "code",
   "execution_count": null,
   "id": "011d700a-7532-4067-9a7c-89c9c533cd12",
   "metadata": {},
   "outputs": [],
   "source": [
    "#|exports\n",
    "def test_filters_invert_examples():\n",
    "    \"\"\"Test invert filter utilities.\"\"\"\n",
    "    # Test full invert (default)\n",
    "    assert str(invert.full) == \"invert\"\n",
    "    \n",
    "    # Test percentage invert values\n",
    "    assert str(invert(0)) == \"invert-0\"\n",
    "    assert str(invert(50)) == \"invert-50\"\n",
    "    assert str(invert(100)) == \"invert-100\"\n",
    "    \n",
    "    # Test arbitrary values\n",
    "    assert str(invert(\"250\")) == \"invert-[250]\"\n",
    "    assert str(invert(\"75%\")) == \"invert-[75%]\"\n",
    "    \n",
    "    # Test custom properties\n",
    "    assert str(invert(\"--custom-invert\")) == \"invert-(--custom-invert)\"\n",
    "\n",
    "# Run the tests\n",
    "test_filters_invert_examples()"
   ]
  },
  {
   "cell_type": "markdown",
   "id": "58870cfa-1c4c-4d11-b4f4-f03197382ac3",
   "metadata": {},
   "source": [
    "## Saturate Filter\n",
    "\n",
    "Control the saturation of an element:"
   ]
  },
  {
   "cell_type": "code",
   "execution_count": null,
   "id": "c4750ceb-14bb-42d2-a99e-5f45988a9674",
   "metadata": {},
   "outputs": [],
   "source": [
    "#| exports\n",
    "# Common saturation values\n",
    "SATURATE_VALUES = [0, 50, 100, 150, 200]\n",
    "\n",
    "# Create saturate factory\n",
    "saturate = ScaledFactory(\"saturate\", brightness_config, \"Saturate filter utilities for adjusting element color saturation\")"
   ]
  },
  {
   "cell_type": "code",
   "execution_count": null,
   "id": "0af2427e-b62d-4b62-9f85-9e85b59c55a1",
   "metadata": {},
   "outputs": [],
   "source": [
    "#|exports\n",
    "def test_filters_saturate_examples():\n",
    "    \"\"\"Test saturate filter utilities.\"\"\"\n",
    "    # Test common saturate values\n",
    "    assert str(saturate(0)) == \"saturate-0\"\n",
    "    assert str(saturate(50)) == \"saturate-50\"\n",
    "    assert str(saturate(100)) == \"saturate-100\"\n",
    "    assert str(saturate(150)) == \"saturate-150\"\n",
    "    assert str(saturate(200)) == \"saturate-200\"\n",
    "    \n",
    "    # Test arbitrary values\n",
    "    assert str(saturate(\"750\")) == \"saturate-[750]\"\n",
    "    assert str(saturate(\"125%\")) == \"saturate-[125%]\"\n",
    "    \n",
    "    # Test custom properties\n",
    "    assert str(saturate(\"--custom-saturate\")) == \"saturate-(--custom-saturate)\"\n",
    "\n",
    "# Run the tests\n",
    "test_filters_saturate_examples()"
   ]
  },
  {
   "cell_type": "markdown",
   "id": "e563e16e-392f-4bc9-b008-abda5c4e14da",
   "metadata": {},
   "source": [
    "## Sepia Filter\n",
    "\n",
    "Apply a sepia tone to an element:"
   ]
  },
  {
   "cell_type": "code",
   "execution_count": null,
   "id": "027780b8-45dd-4bbe-9ae7-32f2751c00b3",
   "metadata": {},
   "outputs": [],
   "source": [
    "#| exports\n",
    "# Create sepia factory with percentage support\n",
    "sepia = ScaledFactory(\"sepia\", brightness_config, \"Sepia filter utilities for applying sepia tone effects\")\n",
    "\n",
    "# Add convenience for full sepia\n",
    "sepia.full = SingleValueFactory(\"sepia\", \"Apply 100% sepia filter\")"
   ]
  },
  {
   "cell_type": "code",
   "execution_count": null,
   "id": "60818d84-4044-40a4-acf9-8ff04afc8223",
   "metadata": {},
   "outputs": [],
   "source": [
    "#|exports\n",
    "def test_filters_sepia_examples():\n",
    "    \"\"\"Test sepia filter utilities.\"\"\"\n",
    "    # Test full sepia (default)\n",
    "    assert str(sepia.full) == \"sepia\"\n",
    "    \n",
    "    # Test percentage sepia values\n",
    "    assert str(sepia(0)) == \"sepia-0\"\n",
    "    assert str(sepia(50)) == \"sepia-50\"\n",
    "    assert str(sepia(100)) == \"sepia-100\"\n",
    "    \n",
    "    # Test arbitrary values\n",
    "    assert str(sepia(\"250\")) == \"sepia-[250]\"\n",
    "    assert str(sepia(\"75%\")) == \"sepia-[75%]\"\n",
    "    \n",
    "    # Test custom properties\n",
    "    assert str(sepia(\"--custom-sepia\")) == \"sepia-(--custom-sepia)\"\n",
    "\n",
    "# Run the tests\n",
    "test_filters_sepia_examples()"
   ]
  },
  {
   "cell_type": "markdown",
   "id": "a20b9ed3-e3e0-40e0-8eb1-bb30d038aa2c",
   "metadata": {},
   "source": [
    "## Backdrop Filters\n",
    "\n",
    "Apply filter effects to the area behind an element. All backdrop filters use the same scale values as their regular filter counterparts:"
   ]
  },
  {
   "cell_type": "markdown",
   "id": "f7066884-ed24-42c0-9079-513f82d476c9",
   "metadata": {},
   "source": [
    "### Backdrop Filter Control"
   ]
  },
  {
   "cell_type": "code",
   "execution_count": null,
   "id": "ba93a299-9de6-4f45-a36b-f67f83722571",
   "metadata": {},
   "outputs": [],
   "source": [
    "#| exports\n",
    "backdrop_filter_none = SingleValueFactory(\"backdrop-filter-none\", \"Remove all backdrop filters from an element\") # Remove backdrop filters"
   ]
  },
  {
   "cell_type": "markdown",
   "id": "e3cc4320-9a94-4cd9-8a24-85f2f516d4b8",
   "metadata": {},
   "source": [
    "### Backdrop Blur"
   ]
  },
  {
   "cell_type": "code",
   "execution_count": null,
   "id": "2947a256-164b-4dd5-9aec-09c4703c54d9",
   "metadata": {},
   "outputs": [],
   "source": [
    "#| exports\n",
    "# Create backdrop blur factory using same scales as regular blur\n",
    "backdrop_blur = SimpleFactory(\n",
    "    {\n",
    "        \"none\": \"backdrop-blur-none\",\n",
    "        \"xs\": \"backdrop-blur-xs\",\n",
    "        \"sm\": \"backdrop-blur-sm\",\n",
    "        \"md\": \"backdrop-blur-md\",\n",
    "        \"lg\": \"backdrop-blur-lg\",\n",
    "        \"xl\": \"backdrop-blur-xl\",\n",
    "        \"_2xl\": \"backdrop-blur-2xl\",\n",
    "        \"_3xl\": \"backdrop-blur-3xl\"\n",
    "    },\n",
    "    \"Backdrop blur filter utilities for applying blur effects to the backdrop\"\n",
    ") # Backdrop blur factory"
   ]
  },
  {
   "cell_type": "markdown",
   "id": "35530f5a-0b7f-4b1f-87c2-e1f0039106de",
   "metadata": {},
   "source": [
    "### Backdrop Brightness, Contrast, and Other Percentage-based Filters"
   ]
  },
  {
   "cell_type": "code",
   "execution_count": null,
   "id": "70b41f90-6173-47c6-8337-3a2d0a607e9d",
   "metadata": {},
   "outputs": [],
   "source": [
    "#| exports\n",
    "# Create backdrop filter factories using same configurations as regular filters\n",
    "backdrop_brightness = ScaledFactory(\"backdrop-brightness\", brightness_config, \"Backdrop brightness filter utilities\")\n",
    "backdrop_contrast = ScaledFactory(\"backdrop-contrast\", brightness_config, \"Backdrop contrast filter utilities\")\n",
    "backdrop_saturate = ScaledFactory(\"backdrop-saturate\", brightness_config, \"Backdrop saturate filter utilities\")\n",
    "backdrop_opacity = ScaledFactory(\"backdrop-opacity\", brightness_config, \"Backdrop opacity filter utilities\")\n",
    "\n",
    "# Grayscale with full convenience\n",
    "backdrop_grayscale = ScaledFactory(\"backdrop-grayscale\", brightness_config, \"Backdrop grayscale filter utilities\")\n",
    "backdrop_grayscale.full = SingleValueFactory(\"backdrop-grayscale\", \"Apply 100% backdrop grayscale filter\")\n",
    "\n",
    "# Sepia with full convenience\n",
    "backdrop_sepia = ScaledFactory(\"backdrop-sepia\", brightness_config, \"Backdrop sepia filter utilities\")\n",
    "backdrop_sepia.full = SingleValueFactory(\"backdrop-sepia\", \"Apply 100% backdrop sepia filter\")"
   ]
  },
  {
   "cell_type": "markdown",
   "id": "c65220eb-e964-4a16-8cef-3318ea437673",
   "metadata": {},
   "source": [
    "### Backdrop Hue Rotate"
   ]
  },
  {
   "cell_type": "code",
   "execution_count": null,
   "id": "9e336992-3047-4442-b7fb-1173116f3055",
   "metadata": {},
   "outputs": [],
   "source": [
    "#| exports\n",
    "# Create backdrop hue rotate with negative support\n",
    "backdrop_hue_rotate = ScaledFactory(\"backdrop-hue-rotate\", hue_rotate_config, \"Backdrop hue rotate filter utilities\")"
   ]
  },
  {
   "cell_type": "code",
   "execution_count": null,
   "id": "f3a02322-5727-4403-9bb1-3a8121fd281b",
   "metadata": {},
   "outputs": [],
   "source": [
    "#|exports\n",
    "def test_filters_backdrop_examples():\n",
    "    \"\"\"Test backdrop filter utilities.\"\"\"\n",
    "    # Test backdrop filter control\n",
    "    assert str(backdrop_filter_none) == \"backdrop-filter-none\"\n",
    "    \n",
    "    # Test backdrop blur\n",
    "    assert str(backdrop_blur.none) == \"backdrop-blur-none\"\n",
    "    assert str(backdrop_blur.sm) == \"backdrop-blur-sm\"\n",
    "    assert str(backdrop_blur.lg) == \"backdrop-blur-lg\"\n",
    "    assert str(backdrop_blur._2xl) == \"backdrop-blur-2xl\"\n",
    "    \n",
    "    # Test backdrop brightness\n",
    "    assert str(backdrop_brightness(50)) == \"backdrop-brightness-50\"\n",
    "    assert str(backdrop_brightness(100)) == \"backdrop-brightness-100\"\n",
    "    assert str(backdrop_brightness(150)) == \"backdrop-brightness-150\"\n",
    "    \n",
    "    # Test backdrop contrast\n",
    "    assert str(backdrop_contrast(0)) == \"backdrop-contrast-0\"\n",
    "    assert str(backdrop_contrast(100)) == \"backdrop-contrast-100\"\n",
    "    assert str(backdrop_contrast(200)) == \"backdrop-contrast-200\"\n",
    "    \n",
    "    # Test backdrop grayscale\n",
    "    assert str(backdrop_grayscale.full) == \"backdrop-grayscale\"\n",
    "    assert str(backdrop_grayscale(0)) == \"backdrop-grayscale-0\"\n",
    "    assert str(backdrop_grayscale(50)) == \"backdrop-grayscale-50\"\n",
    "    \n",
    "    # Test backdrop hue rotate with negative\n",
    "    assert str(backdrop_hue_rotate(90)) == \"backdrop-hue-rotate-90\"\n",
    "    assert str(backdrop_hue_rotate.negative(60)) == \"-backdrop-hue-rotate-60\"\n",
    "    \n",
    "    # Test backdrop opacity\n",
    "    assert str(backdrop_opacity(25)) == \"backdrop-opacity-25\"\n",
    "    assert str(backdrop_opacity(50)) == \"backdrop-opacity-50\"\n",
    "    assert str(backdrop_opacity(75)) == \"backdrop-opacity-75\"\n",
    "    \n",
    "    # Test backdrop saturate\n",
    "    assert str(backdrop_saturate(0)) == \"backdrop-saturate-0\"\n",
    "    assert str(backdrop_saturate(150)) == \"backdrop-saturate-150\"\n",
    "    \n",
    "    # Test backdrop sepia\n",
    "    assert str(backdrop_sepia.full) == \"backdrop-sepia\"\n",
    "    assert str(backdrop_sepia(50)) == \"backdrop-sepia-50\"\n",
    "\n",
    "# Run the tests\n",
    "test_filters_backdrop_examples()"
   ]
  },
  {
   "cell_type": "markdown",
   "id": "e78be0f4-e58b-4c47-83c0-c89a81d718bb",
   "metadata": {},
   "source": [
    "## Practical Examples\n",
    "\n",
    "Let's see how to use these filter utilities in real FastHTML components:"
   ]
  },
  {
   "cell_type": "code",
   "execution_count": null,
   "id": "dbecc68c-7714-486b-bf66-0686e571713d",
   "metadata": {},
   "outputs": [
    {
     "data": {
      "text/markdown": [
       "```html\n",
       "<div class=\"grid gap-5\">\n",
       "<img src=\"https://img.daisyui.com/images/stock/photo-1559703248-dcaaec9fab78.webp\" alt=\"Hoverable image\" class=\"transition-all hover:blur-sm cursor-pointer\"><img src=\"https://img.daisyui.com/images/stock/photo-1559703248-dcaaec9fab78.webp\" alt=\"Grayscale photo\" class=\"grayscale hover:grayscale-0 transition-all duration-300\">  <div class=\"drop-shadow-lg drop-shadow-blue-500 p-6 bg-white rounded-lg\">\n",
       "    <h1>Card Title</h1>\n",
       "    <p>Card content</p>\n",
       "  </div>\n",
       "  <div class=\"backdrop-blur-md backdrop-saturate-150 bg-white/30 p-8 rounded-xl\">\n",
       "    <p>Frosted glass content</p>\n",
       "  </div>\n",
       "<img src=\"https://img.daisyui.com/images/stock/photo-1559703248-dcaaec9fab78.webp\" alt=\"Artistic image\" class=\"brightness-110 contrast-125 saturate-150 hue-rotate-15\">  <div class=\"invert hue-rotate-180 fixed inset-0 pointer-events-none\"></div>\n",
       "</div>\n",
       "\n",
       "```"
      ],
      "text/plain": [
       "div((img((),{'src': 'https://img.daisyui.com/images/stock/photo-1559703248-dcaaec9fab78.webp', 'alt': 'Hoverable image', 'class': 'transition-all hover:blur-sm cursor-pointer'}), img((),{'src': 'https://img.daisyui.com/images/stock/photo-1559703248-dcaaec9fab78.webp', 'alt': 'Grayscale photo', 'class': 'grayscale hover:grayscale-0 transition-all duration-300'}), div((h1(('Card Title',),{}), p(('Card content',),{})),{'class': 'drop-shadow-lg drop-shadow-blue-500 p-6 bg-white rounded-lg'}), div((p(('Frosted glass content',),{}),),{'class': 'backdrop-blur-md backdrop-saturate-150 bg-white/30 p-8 rounded-xl'}), img((),{'src': 'https://img.daisyui.com/images/stock/photo-1559703248-dcaaec9fab78.webp', 'alt': 'Artistic image', 'class': 'brightness-110 contrast-125 saturate-150 hue-rotate-15'}), div((),{'class': 'invert hue-rotate-180 fixed inset-0 pointer-events-none'})),{'class': 'grid gap-5'})"
      ]
     },
     "execution_count": null,
     "metadata": {},
     "output_type": "execute_result"
    }
   ],
   "source": [
    "#|exports\n",
    "def test_filters_fasthtml_examples():\n",
    "    \"\"\"Test filter utilities in practical FastHTML component examples.\"\"\"\n",
    "    from fasthtml.common import Div, Img, P, H1, Section\n",
    "    from cjm_fasthtml_tailwind.utilities.transitions_and_animation import transition, duration\n",
    "    from cjm_fasthtml_tailwind.utilities.interactivity import cursor, pointer_events\n",
    "    from cjm_fasthtml_tailwind.utilities.spacing import p\n",
    "    from cjm_fasthtml_tailwind.utilities.backgrounds import bg\n",
    "    from cjm_fasthtml_tailwind.utilities.borders import rounded\n",
    "    from cjm_fasthtml_tailwind.utilities.layout import position, inset, display_tw\n",
    "    from cjm_fasthtml_tailwind.utilities.flexbox_and_grid import gap, grid_display\n",
    "    \n",
    "    # Image with hover blur effect\n",
    "    image_hover = Img(\n",
    "        src=\"https://img.daisyui.com/images/stock/photo-1559703248-dcaaec9fab78.webp\",\n",
    "        alt=\"Hoverable image\",\n",
    "        cls=combine_classes(\n",
    "            transition.all,\n",
    "            blur.sm.hover,\n",
    "            cursor.pointer\n",
    "        )\n",
    "    )\n",
    "    assert \"hover:blur-sm\" in image_hover.attrs['class']\n",
    "    \n",
    "    # Grayscale image that becomes colored on hover\n",
    "    grayscale_img = Img(\n",
    "        src=\"https://img.daisyui.com/images/stock/photo-1559703248-dcaaec9fab78.webp\",\n",
    "        alt=\"Grayscale photo\",\n",
    "        cls=combine_classes(\n",
    "            grayscale.full,\n",
    "            grayscale(0).hover,\n",
    "            transition.all,\n",
    "            duration(300)\n",
    "        )\n",
    "    )\n",
    "    assert \"grayscale\" in grayscale_img.attrs['class']\n",
    "    assert \"hover:grayscale-0\" in grayscale_img.attrs['class']\n",
    "    \n",
    "    # Card with drop shadow\n",
    "    card_shadow = Div(\n",
    "        H1(\"Card Title\"),\n",
    "        P(\"Card content\"),\n",
    "        cls=combine_classes(\n",
    "            drop_shadow.lg,\n",
    "            drop_shadow_color.blue._500,\n",
    "            p(6),\n",
    "            bg.white,\n",
    "            rounded.lg\n",
    "        )\n",
    "    )\n",
    "    assert \"drop-shadow-lg\" in card_shadow.attrs['class']\n",
    "    assert \"drop-shadow-blue-500\" in card_shadow.attrs['class']\n",
    "    \n",
    "    # Frosted glass effect with backdrop blur\n",
    "    frosted_glass = Div(\n",
    "        P(\"Frosted glass content\"),\n",
    "        cls=combine_classes(\n",
    "            backdrop_blur.md,\n",
    "            backdrop_saturate(150),\n",
    "            bg.white.opacity(30),\n",
    "            p(8),\n",
    "            rounded.xl\n",
    "        )\n",
    "    )\n",
    "    assert \"backdrop-blur-md\" in frosted_glass.attrs['class']\n",
    "    assert \"backdrop-saturate-150\" in frosted_glass.attrs['class']\n",
    "    \n",
    "    # Image with multiple filters\n",
    "    artistic_img = Img(\n",
    "        src=\"https://img.daisyui.com/images/stock/photo-1559703248-dcaaec9fab78.webp\",\n",
    "        alt=\"Artistic image\",\n",
    "        cls=combine_classes(\n",
    "            brightness(110),\n",
    "            contrast(125),\n",
    "            saturate(150),\n",
    "            hue_rotate(15)\n",
    "        )\n",
    "    )\n",
    "    assert \"brightness-110\" in artistic_img.attrs['class']\n",
    "    assert \"contrast-125\" in artistic_img.attrs['class']\n",
    "    assert \"saturate-150\" in artistic_img.attrs['class']\n",
    "    assert \"hue-rotate-15\" in artistic_img.attrs['class']\n",
    "    \n",
    "    # Dark mode overlay with filters\n",
    "    dark_overlay = Div(\n",
    "        cls=combine_classes(\n",
    "            invert.full,\n",
    "            hue_rotate(180),\n",
    "            position.fixed,\n",
    "            inset(0),\n",
    "            pointer_events.none\n",
    "        )\n",
    "    )\n",
    "    assert \"invert\" in dark_overlay.attrs['class']\n",
    "    assert \"hue-rotate-180\" in dark_overlay.attrs['class']\n",
    "    \n",
    "    # Return all examples in a grid layout\n",
    "    return Div(\n",
    "        image_hover,\n",
    "        grayscale_img,\n",
    "        card_shadow,\n",
    "        frosted_glass,\n",
    "        artistic_img,\n",
    "        dark_overlay,\n",
    "        cls=combine_classes(grid_display, gap(5))\n",
    "    )\n",
    "\n",
    "# Run the tests\n",
    "test_filters_fasthtml_examples()"
   ]
  },
  {
   "cell_type": "code",
   "execution_count": null,
   "id": "919aa2ae-74f5-4bed-9387-75c2b385f81c",
   "metadata": {},
   "outputs": [
    {
     "data": {
      "text/html": [
       "\n",
       "<script>\n",
       "document.body.addEventListener('htmx:configRequest', (event) => {\n",
       "    if(event.detail.path.includes('://')) return;\n",
       "    htmx.config.selfRequestsOnly=false;\n",
       "    event.detail.path = `${location.protocol}//${location.hostname}:8000${event.detail.path}`;\n",
       "});\n",
       "</script>"
      ],
      "text/plain": [
       "<IPython.core.display.HTML object>"
      ]
     },
     "metadata": {},
     "output_type": "display_data"
    },
    {
     "data": {
      "text/html": [
       "<iframe src=\"http://localhost:8000/\" style=\"width: 100%; height: auto; border: none;\" onload=\"{\n",
       "        let frame = this;\n",
       "        window.addEventListener('message', function(e) {\n",
       "            if (e.source !== frame.contentWindow) return; // Only proceed if the message is from this iframe\n",
       "            if (e.data.height) frame.style.height = (e.data.height+1) + 'px';\n",
       "        }, false);\n",
       "    }\" allow=\"accelerometer; autoplay; camera; clipboard-read; clipboard-write; display-capture; encrypted-media; fullscreen; gamepad; geolocation; gyroscope; hid; identity-credentials-get; idle-detection; magnetometer; microphone; midi; payment; picture-in-picture; publickey-credentials-get; screen-wake-lock; serial; usb; web-share; xr-spatial-tracking\"></iframe> "
      ],
      "text/plain": [
       "<IPython.core.display.HTML object>"
      ]
     },
     "metadata": {},
     "output_type": "display_data"
    }
   ],
   "source": [
    "#| eval: false\n",
    "#| output: false\n",
    "test_func = test_filters_fasthtml_examples\n",
    "app, rt = create_test_app()\n",
    "\n",
    "@rt\n",
    "def index():\n",
    "    return create_test_page(test_func.__doc__.title().replace('.', ''), test_func())\n",
    "server = start_test_server(app)\n",
    "display(HTMX())\n",
    "server.stop()"
   ]
  },
  {
   "cell_type": "code",
   "execution_count": null,
   "id": "a3b83ee4-7dc9-4400-9f6c-7e4bc7aac93b",
   "metadata": {},
   "outputs": [],
   "source": []
  },
  {
   "cell_type": "code",
   "execution_count": null,
   "id": "e059a716-5e47-495b-86db-67c145865763",
   "metadata": {},
   "outputs": [],
   "source": []
  },
  {
   "cell_type": "code",
   "execution_count": null,
   "id": "be2bb60c-b883-4b79-8fb0-c8e7bf415688",
   "metadata": {},
   "outputs": [],
   "source": []
  },
  {
   "cell_type": "code",
   "execution_count": null,
   "id": "8686fc6e-ed80-4ff2-bc41-c6b41bbbbba4",
   "metadata": {},
   "outputs": [],
   "source": []
  },
  {
   "cell_type": "code",
   "execution_count": null,
   "id": "e27e99e9-b95e-430a-b0d4-81bd46c795e4",
   "metadata": {},
   "outputs": [],
   "source": []
  },
  {
   "cell_type": "code",
   "execution_count": null,
   "id": "06641930-7b6b-494c-8d16-0f1565f77d3f",
   "metadata": {},
   "outputs": [],
   "source": []
  },
  {
   "cell_type": "code",
   "execution_count": null,
   "id": "dcbfc310-c75d-4eac-921e-6c9839501b54",
   "metadata": {},
   "outputs": [],
   "source": []
  },
  {
   "cell_type": "markdown",
   "id": "7e593823-a322-4be3-baa4-9ce8acd9bc25",
   "metadata": {},
   "source": [
    "## Export"
   ]
  },
  {
   "cell_type": "code",
   "execution_count": null,
   "id": "b356f039-4164-4258-a5a8-5ef13fee34d0",
   "metadata": {},
   "outputs": [],
   "source": [
    "#| hide\n",
    "import nbdev; nbdev.nbdev_export()"
   ]
  }
 ],
 "metadata": {
  "kernelspec": {
   "display_name": "python3",
   "language": "python",
   "name": "python3"
  }
 },
 "nbformat": 4,
 "nbformat_minor": 5
}
