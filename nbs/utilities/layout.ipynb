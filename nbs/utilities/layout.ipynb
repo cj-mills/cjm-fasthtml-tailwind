{
 "cells": [
  {
   "cell_type": "markdown",
   "id": "dfc84318-e257-4aae-a95d-a4f2159b3c75",
   "metadata": {},
   "source": [
    "# layout\n",
    "\n",
    "> Display, position, overflow, z-index and other layout utilities for Tailwind CSS"
   ]
  },
  {
   "cell_type": "code",
   "execution_count": null,
   "id": "1d03fba4-d144-4e06-b5cf-a09d4480249e",
   "metadata": {},
   "outputs": [],
   "source": [
    "#| default_exp utilities.layout"
   ]
  },
  {
   "cell_type": "code",
   "execution_count": null,
   "id": "b49a4c0f-7948-47fd-a812-26c406350661",
   "metadata": {},
   "outputs": [],
   "source": [
    "#| hide\n",
    "from nbdev.showdoc import *"
   ]
  },
  {
   "cell_type": "code",
   "execution_count": null,
   "id": "95f6fc87-3fad-416b-8c60-534ceb607331",
   "metadata": {},
   "outputs": [],
   "source": [
    "#| export\n",
    "from typing import Optional, Union, Literal, List, Dict\n",
    "from dataclasses import dataclass\n",
    "from cjm_fasthtml_tailwind.core.base import (\n",
    "    TailwindScale, combine_classes, StandardUtility, UtilityFactory,\n",
    "    is_numeric_scale, is_fraction, is_custom_property, is_arbitrary_value\n",
    ")\n",
    "from cjm_fasthtml_tailwind.builders.scales import (\n",
    "    ScaledFactory, DirectionalScaledFactory, ScaleConfig, INSET_CONFIG,\n",
    "    ScaledUtility, NegativeFactory, SimpleFactory\n",
    ")"
   ]
  },
  {
   "cell_type": "markdown",
   "id": "a834f2bf-1a48-458f-b268-40f892ceb897",
   "metadata": {},
   "source": [
    "## Display Utilities\n",
    "\n",
    "Tailwind CSS provides utilities for controlling the display box type of an element."
   ]
  },
  {
   "cell_type": "code",
   "execution_count": null,
   "id": "6d5e0cc1-ea78-4eb6-9ba5-51a2523a502d",
   "metadata": {},
   "outputs": [],
   "source": [
    "#| export\n",
    "DISPLAY_VALUES = { # Display utilities\n",
    "    \"inline\": \"inline\",\n",
    "    \"block\": \"block\", \n",
    "    \"inline-block\": \"inline-block\",\n",
    "    \"flow-root\": \"flow-root\",\n",
    "    \"flex\": \"flex\",\n",
    "    \"inline-flex\": \"inline-flex\",\n",
    "    \"grid\": \"grid\",\n",
    "    \"inline-grid\": \"inline-grid\",\n",
    "    \"contents\": \"contents\",\n",
    "    \"table\": \"table\",\n",
    "    \"inline-table\": \"inline-table\",\n",
    "    \"table-caption\": \"table-caption\",\n",
    "    \"table-cell\": \"table-cell\",\n",
    "    \"table-column\": \"table-column\",\n",
    "    \"table-column-group\": \"table-column-group\",\n",
    "    \"table-footer-group\": \"table-footer-group\",\n",
    "    \"table-header-group\": \"table-header-group\",\n",
    "    \"table-row-group\": \"table-row-group\",\n",
    "    \"table-row\": \"table-row\",\n",
    "    \"list-item\": \"list-item\",\n",
    "    \"hidden\": \"hidden\",\n",
    "    \"none\": \"none\"\n",
    "}\n",
    "\n",
    "display = SimpleFactory(DISPLAY_VALUES) # The display factory\n",
    "\n",
    "# Special display utilities\n",
    "sr_only = \"sr-only\"  # Screen reader only\n",
    "not_sr_only = \"not-sr-only\"  # Not screen reader only"
   ]
  },
  {
   "cell_type": "code",
   "execution_count": null,
   "id": "e9e297ae-b869-4780-a755-793c77df5ecb",
   "metadata": {},
   "outputs": [
    {
     "name": "stdout",
     "output_type": "stream",
     "text": [
      "block\n",
      "inline\n",
      "flex\n",
      "grid\n",
      "hidden\n",
      "inline-flex\n",
      "table\n",
      "table-row\n",
      "table-cell\n",
      "sr-only\n",
      "not-sr-only\n"
     ]
    }
   ],
   "source": [
    "# Test display utilities with dot notation\n",
    "print(display.block)          # block\n",
    "print(display.inline)         # inline\n",
    "print(display.flex)           # flex\n",
    "print(display.grid)           # grid\n",
    "print(display.hidden)         # hidden\n",
    "print(display.inline_flex)    # inline-flex\n",
    "\n",
    "# Table display utilities\n",
    "print(display.table)          # table\n",
    "print(display.table_row)      # table-row\n",
    "print(display.table_cell)     # table-cell\n",
    "\n",
    "# Special utilities\n",
    "print(sr_only)               # sr-only\n",
    "print(not_sr_only)           # not-sr-only"
   ]
  },
  {
   "cell_type": "markdown",
   "id": "7ffdff0e-fc05-4809-ae81-fc6d38ce704c",
   "metadata": {},
   "source": [
    "## Position Utilities\n",
    "\n",
    "Control how an element is positioned in the document."
   ]
  },
  {
   "cell_type": "code",
   "execution_count": null,
   "id": "62ceab15-1293-4226-8153-5bdfdcec85a9",
   "metadata": {},
   "outputs": [],
   "source": [
    "#| export\n",
    "POSITION_VALUES = { # Position utilities\n",
    "    \"static\": \"static\",\n",
    "    \"fixed\": \"fixed\",\n",
    "    \"absolute\": \"absolute\",\n",
    "    \"relative\": \"relative\",\n",
    "    \"sticky\": \"sticky\"\n",
    "}\n",
    "\n",
    "position = SimpleFactory(POSITION_VALUES) # The position factory"
   ]
  },
  {
   "cell_type": "code",
   "execution_count": null,
   "id": "449df6b0-0777-426c-8a40-ad5d4faa7f41",
   "metadata": {},
   "outputs": [
    {
     "name": "stdout",
     "output_type": "stream",
     "text": [
      "static\n",
      "relative\n",
      "absolute\n",
      "fixed\n",
      "sticky\n"
     ]
    }
   ],
   "source": [
    "# Test position utilities with dot notation\n",
    "print(position.static)      # static\n",
    "print(position.relative)    # relative\n",
    "print(position.absolute)    # absolute\n",
    "print(position.fixed)       # fixed\n",
    "print(position.sticky)      # sticky"
   ]
  },
  {
   "cell_type": "markdown",
   "id": "f8418c91-f6e3-40b0-aff9-0832eb1e4df2",
   "metadata": {},
   "source": [
    "## Inset Utilities (Top/Right/Bottom/Left)\n",
    "\n",
    "Control the placement of positioned elements."
   ]
  },
  {
   "cell_type": "code",
   "execution_count": null,
   "id": "78ee2423-8b62-4ecc-b329-0a5046b461e2",
   "metadata": {},
   "outputs": [],
   "source": [
    "#| export\n",
    "# For inset, we need special handling because it uses hyphens in directional variants\n",
    "class InsetDirectionalFactory:\n",
    "    \"\"\"Special factory for inset utilities that use hyphenated directions.\"\"\"\n",
    "    \n",
    "    def __init__(\n",
    "        self,\n",
    "        prefix: str,  # The base prefix ('inset')\n",
    "        config: ScaleConfig  # Configuration defining valid scales and values\n",
    "    ):\n",
    "        \"Initialize with prefix and scale configuration.\"\n",
    "        self.prefix = prefix\n",
    "        self.config = config\n",
    "        \n",
    "        # Create direction-specific factories with hyphens\n",
    "        self.x = ScaledFactory(f\"{prefix}-x\", config)  # horizontal\n",
    "        self.y = ScaledFactory(f\"{prefix}-y\", config)  # vertical\n",
    "    \n",
    "    def __call__(\n",
    "        self,\n",
    "        value: Optional[TailwindScale] = None,  # The value to apply to the inset\n",
    "        negative: bool = False  # Whether to create a negative variant\n",
    "    ) -> ScaledUtility:  # A new scaled utility instance\n",
    "        \"\"\"Create a utility instance for all directions.\"\"\"\n",
    "        return ScaledFactory(self.prefix, self.config)(value, negative)\n",
    "    \n",
    "    def __getattr__(\n",
    "        self,\n",
    "        name: str  # The attribute name to convert to a utility value\n",
    "    ) -> ScaledUtility:  # A new scaled utility instance\n",
    "        \"\"\"Handle attribute access for named values.\"\"\"\n",
    "        return ScaledFactory(self.prefix, self.config).__getattr__(name)\n",
    "    \n",
    "    @property\n",
    "    def negative(\n",
    "        self\n",
    "    ) -> 'NegativeFactory':  # A factory for creating negative variants\n",
    "        \"\"\"Return a negative variant factory.\"\"\"\n",
    "        return NegativeFactory(self.prefix, self.config)\n",
    "\n",
    "# Inset utilities (top, right, bottom, left)\n",
    "inset = InsetDirectionalFactory(\"inset\", INSET_CONFIG) # The inset factory for positioning\n",
    "\n",
    "# Individual direction utilities don't need special handling\n",
    "top = ScaledFactory(\"top\", INSET_CONFIG) # The top factory\n",
    "right = ScaledFactory(\"right\", INSET_CONFIG) # The right factory\n",
    "bottom = ScaledFactory(\"bottom\", INSET_CONFIG) # The bottom factory\n",
    "left = ScaledFactory(\"left\", INSET_CONFIG) # The left factory\n",
    "start = ScaledFactory(\"start\", INSET_CONFIG) # The start factory (logical)\n",
    "end = ScaledFactory(\"end\", INSET_CONFIG) # The end factory (logical)"
   ]
  },
  {
   "cell_type": "code",
   "execution_count": null,
   "id": "983801f8-e29d-4362-b87a-fc9bbc31a9bd",
   "metadata": {},
   "outputs": [
    {
     "name": "stdout",
     "output_type": "stream",
     "text": [
      "inset-0\n",
      "inset-4\n",
      "inset-1/2\n",
      "inset-auto\n",
      "inset-full\n",
      "-inset-4\n",
      "inset-x-4\n",
      "inset-y-8\n",
      "top-0\n",
      "right-4\n",
      "bottom-auto\n",
      "-left-2\n"
     ]
    }
   ],
   "source": [
    "# Test inset utilities\n",
    "print(inset(0))               # inset-0\n",
    "print(inset(4))               # inset-4\n",
    "print(inset(\"1/2\"))           # inset-1/2\n",
    "print(inset.auto)             # inset-auto\n",
    "print(inset.full)             # inset-full\n",
    "print(inset.negative(4))      # -inset-4\n",
    "\n",
    "# Test directional inset\n",
    "print(inset.x(4))             # inset-x-4\n",
    "print(inset.y(8))             # inset-y-8\n",
    "\n",
    "# Test individual directions\n",
    "print(top(0))                 # top-0\n",
    "print(right(4))               # right-4\n",
    "print(bottom.auto)            # bottom-auto\n",
    "print(left.negative(2))       # -left-2"
   ]
  },
  {
   "cell_type": "markdown",
   "id": "c1a049f0-3584-41fa-a6c0-820f84f3de87",
   "metadata": {},
   "source": [
    "## Overflow Utilities\n",
    "\n",
    "Control how an element handles content that is too large for the container."
   ]
  },
  {
   "cell_type": "code",
   "execution_count": null,
   "id": "87300f61-bab9-4ce3-8f88-7e7eb053748a",
   "metadata": {},
   "outputs": [],
   "source": [
    "#| export\n",
    "OVERFLOW_VALUES = [\"auto\", \"hidden\", \"clip\", \"visible\", \"scroll\"] # Overflow values\n",
    "\n",
    "class OverflowFactory:\n",
    "    \"\"\"Factory for overflow utilities with directional support.\"\"\"\n",
    "    \n",
    "    def __init__(self):\n",
    "        \"Initialize with overflow values and directional sub-factories.\"\n",
    "        # Create base overflow utilities\n",
    "        self._values = {value: f\"overflow-{value}\" for value in OVERFLOW_VALUES}\n",
    "        \n",
    "        # Create x and y sub-factories\n",
    "        self.x = type('OverflowX', (), {\n",
    "            value: f\"overflow-x-{value}\" for value in OVERFLOW_VALUES\n",
    "        })()\n",
    "        self.y = type('OverflowY', (), {\n",
    "            value: f\"overflow-y-{value}\" for value in OVERFLOW_VALUES\n",
    "        })()\n",
    "    \n",
    "    def __getattr__(\n",
    "        self,\n",
    "        name: str  # The attribute name to look up in overflow values\n",
    "    ) -> str:  # The corresponding overflow CSS class\n",
    "        \"Get overflow utility by attribute name.\"\n",
    "        if name in self._values:\n",
    "            return self._values[name]\n",
    "        raise AttributeError(f\"'OverflowFactory' object has no attribute '{name}'\")\n",
    "\n",
    "overflow = OverflowFactory() # The overflow factory"
   ]
  },
  {
   "cell_type": "code",
   "execution_count": null,
   "id": "9d9678b0-46b7-4fcb-bef9-31306e4f0072",
   "metadata": {},
   "outputs": [
    {
     "name": "stdout",
     "output_type": "stream",
     "text": [
      "overflow-auto\n",
      "overflow-hidden\n",
      "overflow-visible\n",
      "overflow-x-auto\n",
      "overflow-y-scroll\n",
      "overflow-x-visible\n",
      "overflow-y-visible\n",
      "overflow-y-clip\n"
     ]
    }
   ],
   "source": [
    "# Test overflow utilities\n",
    "print(overflow.auto)         # overflow-auto\n",
    "print(overflow.hidden)       # overflow-hidden\n",
    "print(overflow.visible)      # overflow-visible\n",
    "\n",
    "# Directional overflow utilities\n",
    "print(overflow.x.auto)       # overflow-x-auto\n",
    "print(overflow.y.scroll)     # overflow-y-scroll\n",
    "print(overflow.x.visible)    # overflow-x-visible\n",
    "print(overflow.y.visible)    # overflow-y-visible\n",
    "print(overflow.y.clip)       # overflow-y-clip"
   ]
  },
  {
   "cell_type": "markdown",
   "id": "6518902e-e68c-4738-ac7d-c505f11a0492",
   "metadata": {},
   "source": [
    "## Z-Index Utilities\n",
    "\n",
    "Control the stack order of an element."
   ]
  },
  {
   "cell_type": "code",
   "execution_count": null,
   "id": "19d4e933-f010-43d5-9421-903f19693cd8",
   "metadata": {},
   "outputs": [],
   "source": [
    "#| export\n",
    "Z_INDEX_CONFIG = ScaleConfig( # Z-index configuration\n",
    "    numeric=True,  # Support numeric values 0-50\n",
    "    decimals=False,\n",
    "    fractions=False,\n",
    "    named=None,\n",
    "    special={\n",
    "        \"auto\": \"auto\"\n",
    "    },\n",
    "    negative=True  # Support negative z-index\n",
    ")\n",
    "\n",
    "# Create z-index factory\n",
    "z = ScaledFactory(\"z\", Z_INDEX_CONFIG) # The z-index factory"
   ]
  },
  {
   "cell_type": "code",
   "execution_count": null,
   "id": "d91255f1-80e5-494b-b74b-41c7be0a040e",
   "metadata": {},
   "outputs": [
    {
     "name": "stdout",
     "output_type": "stream",
     "text": [
      "z-0\n",
      "z-10\n",
      "z-20\n",
      "z-50\n",
      "z-auto\n",
      "-z-10\n",
      "z-[999]\n",
      "z-[999]\n"
     ]
    }
   ],
   "source": [
    "# Test z-index utilities\n",
    "print(z(0))              # z-0\n",
    "print(z(10))             # z-10\n",
    "print(z(20))             # z-20\n",
    "print(z(50))             # z-50\n",
    "print(z.auto)            # z-auto\n",
    "print(z.negative(10))    # -z-10\n",
    "print(z(\"999\"))          # z-999 (string number without units)\n",
    "print(z(\"[999]\"))        # z-[999] (explicit arbitrary value)"
   ]
  },
  {
   "cell_type": "markdown",
   "id": "e8419c1c-6241-4c8b-af52-6b805175edb4",
   "metadata": {},
   "source": [
    "## Float Utilities\n",
    "\n",
    "Control the wrapping of content around an element."
   ]
  },
  {
   "cell_type": "code",
   "execution_count": null,
   "id": "2798591c-c316-4d3b-836c-226d8b9c7a89",
   "metadata": {},
   "outputs": [],
   "source": [
    "#| export\n",
    "# Float utilities\n",
    "FLOAT_VALUES = {\n",
    "    \"right\": \"float-right\",\n",
    "    \"left\": \"float-left\",\n",
    "    \"start\": \"float-start\",\n",
    "    \"end\": \"float-end\",\n",
    "    \"none\": \"float-none\"\n",
    "}\n",
    "\n",
    "# Create float factory with special prefix handling\n",
    "class FloatFactory(SimpleFactory):\n",
    "    \"\"\"Special factory for float utilities that prepends 'float-' to values.\"\"\"\n",
    "    def __getattr__(\n",
    "        self,\n",
    "        name: str  # The attribute name to look up in float values\n",
    "    ) -> str:  # The corresponding float CSS class\n",
    "        \"Get float utility by attribute name.\"\n",
    "        return super().__getattr__(name)\n",
    "\n",
    "float_util = FloatFactory(FLOAT_VALUES)  # Renamed to avoid conflict with Python's float"
   ]
  },
  {
   "cell_type": "markdown",
   "id": "abc90453-d451-4986-91d7-27c17a222eb0",
   "metadata": {},
   "source": [
    "## Clear Utilities\n",
    "\n",
    "Control the wrapping behavior of an element after floating elements."
   ]
  },
  {
   "cell_type": "code",
   "execution_count": null,
   "id": "d4b4b948-9479-48e9-afb9-8eef42deef29",
   "metadata": {},
   "outputs": [],
   "source": [
    "#| export\n",
    "# Clear utilities\n",
    "CLEAR_VALUES = {\n",
    "    \"left\": \"clear-left\",\n",
    "    \"right\": \"clear-right\",\n",
    "    \"both\": \"clear-both\",\n",
    "    \"start\": \"clear-start\",\n",
    "    \"end\": \"clear-end\",\n",
    "    \"none\": \"clear-none\"\n",
    "}\n",
    "\n",
    "# Create clear factory\n",
    "clear = SimpleFactory(CLEAR_VALUES) # The clear factory"
   ]
  },
  {
   "cell_type": "markdown",
   "id": "d6a04413-6204-4a89-9c13-5e9a1afedd9d",
   "metadata": {},
   "source": [
    "## Object Fit Utilities\n",
    "\n",
    "Control how a replaced element's content should be resized."
   ]
  },
  {
   "cell_type": "code",
   "execution_count": null,
   "id": "ac4f1d13-89b2-47c8-af90-9cc7c1689888",
   "metadata": {},
   "outputs": [],
   "source": [
    "#| export\n",
    "# Object fit utilities\n",
    "OBJECT_FIT_VALUES = {\n",
    "    \"contain\": \"object-contain\",\n",
    "    \"cover\": \"object-cover\",\n",
    "    \"fill\": \"object-fill\",\n",
    "    \"none\": \"object-none\",\n",
    "    \"scale-down\": \"object-scale-down\"\n",
    "}\n",
    "\n",
    "# Create object fit factory\n",
    "object_fit = SimpleFactory(OBJECT_FIT_VALUES) # The object fit factory"
   ]
  },
  {
   "cell_type": "markdown",
   "id": "c88d938b-ab95-4d75-b1b5-86e5a5cfc15a",
   "metadata": {},
   "source": [
    "## Object Position Utilities\n",
    "\n",
    "Control how a replaced element's content should be positioned within its container."
   ]
  },
  {
   "cell_type": "code",
   "execution_count": null,
   "id": "259dcfb0-c078-4ab6-9538-2ad18ed5d2ae",
   "metadata": {},
   "outputs": [],
   "source": [
    "#| export\n",
    "# Object position utilities - combines fixed positions with custom value support\n",
    "OBJECT_POSITION_VALUES = {\n",
    "    \"top-left\": \"object-top-left\",\n",
    "    \"top\": \"object-top\",\n",
    "    \"top-right\": \"object-top-right\",\n",
    "    \"left\": \"object-left\",\n",
    "    \"center\": \"object-center\",\n",
    "    \"right\": \"object-right\",\n",
    "    \"bottom-left\": \"object-bottom-left\",\n",
    "    \"bottom\": \"object-bottom\",\n",
    "    \"bottom-right\": \"object-bottom-right\"\n",
    "}\n",
    "\n",
    "# Enhanced factory that supports both fixed values and custom positions\n",
    "class ObjectPositionFactory(SimpleFactory):\n",
    "    \"\"\"Factory for object position with both fixed and custom values.\"\"\"\n",
    "    \n",
    "    def __call__(\n",
    "        self,\n",
    "        value: str  # Custom position value (e.g., '50% 25%' or CSS variable)\n",
    "    ) -> str:  # The formatted object position CSS class\n",
    "        \"\"\"Handle custom position values like '50% 25%'.\"\"\"\n",
    "        if is_custom_property(value):\n",
    "            return f\"object-({value})\"\n",
    "        elif is_arbitrary_value(value) or \" \" in value:\n",
    "            return f\"object-[{value}]\"\n",
    "        return f\"object-{value}\"\n",
    "\n",
    "# Create object position factory\n",
    "object_position = ObjectPositionFactory(OBJECT_POSITION_VALUES) # The object position factory"
   ]
  },
  {
   "cell_type": "code",
   "execution_count": null,
   "id": "7ae43ac0-0e9c-4e5e-b7de-c3f679eb1a0e",
   "metadata": {},
   "outputs": [
    {
     "name": "stdout",
     "output_type": "stream",
     "text": [
      "object-center\n",
      "object-top\n",
      "object-bottom-right\n",
      "object-[50% 25%]\n",
      "object-(--custom-position)\n"
     ]
    }
   ],
   "source": [
    "# Test object position utilities with dot notation\n",
    "print(object_position.center)                      # object-center\n",
    "print(object_position.top)                         # object-top\n",
    "print(object_position.bottom_right)                # object-bottom-right\n",
    "print(object_position(\"50% 25%\"))                  # object-[50% 25%]\n",
    "print(object_position(\"--custom-position\"))        # object-(--custom-position)"
   ]
  },
  {
   "cell_type": "markdown",
   "id": "32f8136a-66a3-4173-894b-e91983567f47",
   "metadata": {},
   "source": [
    "## Visibility Utilities\n",
    "\n",
    "Control the visibility of an element."
   ]
  },
  {
   "cell_type": "code",
   "execution_count": null,
   "id": "6c4ae8c6-9d90-4578-936e-291a25c9a0ac",
   "metadata": {},
   "outputs": [],
   "source": [
    "#| export\n",
    "# Visibility utilities\n",
    "VISIBILITY_VALUES = {\n",
    "    \"visible\": \"visible\",\n",
    "    \"invisible\": \"invisible\",\n",
    "    \"collapse\": \"collapse\"\n",
    "}\n",
    "\n",
    "# Create visibility factory\n",
    "visibility = SimpleFactory(VISIBILITY_VALUES) # The visibility factory"
   ]
  },
  {
   "cell_type": "markdown",
   "id": "cf81434a-4f5d-496c-aea5-15166d44efab",
   "metadata": {},
   "source": [
    "## Box Sizing Utilities\n",
    "\n",
    "Control how the browser should calculate an element's total size."
   ]
  },
  {
   "cell_type": "code",
   "execution_count": null,
   "id": "53025f25-c1f6-4a3b-a1e6-188ab0fa0ea7",
   "metadata": {},
   "outputs": [],
   "source": [
    "#| export\n",
    "# Box sizing utilities\n",
    "BOX_SIZING_VALUES = {\n",
    "    \"border\": \"box-border\",\n",
    "    \"content\": \"box-content\"\n",
    "}\n",
    "\n",
    "# Create box sizing factory\n",
    "box = SimpleFactory(BOX_SIZING_VALUES) # The box sizing factory"
   ]
  },
  {
   "cell_type": "markdown",
   "id": "561d7cb2-b1fb-4ed6-932b-29937f73b478",
   "metadata": {},
   "source": [
    "## Isolation Utilities\n",
    "\n",
    "Control whether an element should explicitly create a new stacking context."
   ]
  },
  {
   "cell_type": "code",
   "execution_count": null,
   "id": "f8e76b55-d17f-4982-91b8-36c5ee20b441",
   "metadata": {},
   "outputs": [],
   "source": [
    "#| export\n",
    "# Isolation utilities\n",
    "ISOLATION_VALUES = {\n",
    "    \"isolate\": \"isolate\",\n",
    "    \"auto\": \"isolation-auto\"\n",
    "}\n",
    "\n",
    "# Create isolation factory\n",
    "isolation = SimpleFactory(ISOLATION_VALUES) # The isolation factory"
   ]
  },
  {
   "cell_type": "markdown",
   "id": "bda6aa4c-f068-4d19-832d-4ba8c8f6b715",
   "metadata": {},
   "source": [
    "## Aspect Ratio Utilities\n",
    "\n",
    "Control the aspect ratio of an element."
   ]
  },
  {
   "cell_type": "code",
   "execution_count": null,
   "id": "b3d038a3-c7b2-4cda-9336-f7eeb093158d",
   "metadata": {},
   "outputs": [],
   "source": [
    "#| export\n",
    "# Aspect ratio utilities - fixed values with custom ratio support\n",
    "ASPECT_RATIO_VALUES = {\n",
    "    \"auto\": \"aspect-auto\",\n",
    "    \"square\": \"aspect-square\",\n",
    "    \"video\": \"aspect-video\"\n",
    "}\n",
    "\n",
    "# Enhanced factory that supports both fixed values and custom ratios\n",
    "class AspectRatioFactory(SimpleFactory):\n",
    "    \"\"\"Factory for aspect ratio with both fixed and custom values.\"\"\"\n",
    "    \n",
    "    def __call__(\n",
    "        self,\n",
    "        value: str  # Custom aspect ratio (e.g., '16/9', '4/3', or CSS variable)\n",
    "    ) -> str:  # The formatted aspect ratio CSS class\n",
    "        \"\"\"Handle custom ratio values like '16/9' or '4/3'.\"\"\"\n",
    "        # Handle ratio format\n",
    "        if \"/\" in value and not is_arbitrary_value(value):\n",
    "            return f\"aspect-{value}\"\n",
    "        # Handle custom properties\n",
    "        elif is_custom_property(value):\n",
    "            return f\"aspect-({value})\"\n",
    "        # Handle arbitrary values\n",
    "        elif is_arbitrary_value(value):\n",
    "            return f\"aspect-[{value}]\"\n",
    "        return f\"aspect-{value}\"\n",
    "\n",
    "# Create aspect ratio factory\n",
    "aspect = AspectRatioFactory(ASPECT_RATIO_VALUES) # The aspect ratio factory"
   ]
  },
  {
   "cell_type": "code",
   "execution_count": null,
   "id": "ea09b97e-8b3c-44bb-b831-72df791b86da",
   "metadata": {},
   "outputs": [
    {
     "name": "stdout",
     "output_type": "stream",
     "text": [
      "aspect-auto\n",
      "aspect-square\n",
      "aspect-video\n",
      "aspect-16/9\n",
      "aspect-4/3\n",
      "aspect-(--custom)\n"
     ]
    }
   ],
   "source": [
    "# Test aspect ratio utilities with dot notation\n",
    "print(aspect.auto)         # aspect-auto\n",
    "print(aspect.square)       # aspect-square\n",
    "print(aspect.video)        # aspect-video\n",
    "print(aspect(\"16/9\"))      # aspect-16/9\n",
    "print(aspect(\"4/3\"))       # aspect-4/3\n",
    "print(aspect(\"--custom\"))  # aspect-(--custom)"
   ]
  },
  {
   "cell_type": "markdown",
   "id": "41441a5b-cb62-46a8-ad52-69ad72315a94",
   "metadata": {},
   "source": [
    "## Columns Utilities\n",
    "\n",
    "Control the number of columns within an element."
   ]
  },
  {
   "cell_type": "code",
   "execution_count": null,
   "id": "9aefecb8-69d6-4963-8677-4a3eb5c99274",
   "metadata": {},
   "outputs": [],
   "source": [
    "#| export\n",
    "from cjm_fasthtml_tailwind.core.base import CONTAINER_SCALES\n",
    "\n",
    "COLUMNS_CONFIG = ScaleConfig( # Columns configuration with container sizes\n",
    "    numeric=True,  # Support columns-1 through columns-12\n",
    "    decimals=False,\n",
    "    fractions=False,\n",
    "    named=CONTAINER_SCALES,  # Use all container scales (3xs through 7xl)\n",
    "    special={\n",
    "        \"auto\": \"auto\"\n",
    "    },\n",
    "    negative=False\n",
    ")\n",
    "\n",
    "# Create columns factory\n",
    "columns = ScaledFactory(\"columns\", COLUMNS_CONFIG) # The columns factory"
   ]
  },
  {
   "cell_type": "code",
   "execution_count": null,
   "id": "a1366be3-b288-4deb-8def-1fe300eadf18",
   "metadata": {},
   "outputs": [
    {
     "name": "stdout",
     "output_type": "stream",
     "text": [
      "columns-1\n",
      "columns-2\n",
      "columns-3\n",
      "columns-auto\n",
      "columns-xs\n",
      "columns-sm\n",
      "columns-lg\n",
      "columns-3xl\n",
      "columns-4xl\n",
      "columns-5xl\n",
      "columns-6xl\n",
      "columns-7xl\n"
     ]
    }
   ],
   "source": [
    "# Test columns utilities\n",
    "print(columns(1))        # columns-1\n",
    "print(columns(2))        # columns-2\n",
    "print(columns(3))        # columns-3\n",
    "print(columns.auto)      # columns-auto\n",
    "print(columns.xs)        # columns-xs\n",
    "print(columns.sm)        # columns-sm\n",
    "print(columns.lg)        # columns-lg\n",
    "print(columns._3xl)      # columns-3xl\n",
    "print(columns._4xl)      # columns-4xl\n",
    "print(columns._5xl)      # columns-5xl\n",
    "print(columns._6xl)      # columns-6xl\n",
    "print(columns._7xl)      # columns-7xl"
   ]
  },
  {
   "cell_type": "markdown",
   "id": "d60b8641-ec9d-41d4-b00e-100d5f248287",
   "metadata": {},
   "source": [
    "## Break Utilities\n",
    "\n",
    "Control column and page breaks."
   ]
  },
  {
   "cell_type": "code",
   "execution_count": null,
   "id": "ea5c659c-0532-451f-8c4f-ef0336f6ebe4",
   "metadata": {},
   "outputs": [],
   "source": [
    "#| export\n",
    "# Break utilities - organized by type\n",
    "BREAK_BEFORE_VALUES = {\n",
    "    \"auto\": \"break-before-auto\",\n",
    "    \"avoid\": \"break-before-avoid\",\n",
    "    \"all\": \"break-before-all\",\n",
    "    \"avoid-page\": \"break-before-avoid-page\",\n",
    "    \"page\": \"break-before-page\",\n",
    "    \"left\": \"break-before-left\",\n",
    "    \"right\": \"break-before-right\",\n",
    "    \"column\": \"break-before-column\"\n",
    "}\n",
    "\n",
    "BREAK_AFTER_VALUES = {\n",
    "    \"auto\": \"break-after-auto\",\n",
    "    \"avoid\": \"break-after-avoid\",\n",
    "    \"all\": \"break-after-all\",\n",
    "    \"avoid-page\": \"break-after-avoid-page\",\n",
    "    \"page\": \"break-after-page\",\n",
    "    \"left\": \"break-after-left\",\n",
    "    \"right\": \"break-after-right\",\n",
    "    \"column\": \"break-after-column\"\n",
    "}\n",
    "\n",
    "BREAK_INSIDE_VALUES = {\n",
    "    \"auto\": \"break-inside-auto\",\n",
    "    \"avoid\": \"break-inside-avoid\",\n",
    "    \"avoid-page\": \"break-inside-avoid-page\",\n",
    "    \"avoid-column\": \"break-inside-avoid-column\"\n",
    "}\n",
    "\n",
    "# Create break factories with sub-properties\n",
    "class BreakFactory:\n",
    "    \"\"\"Factory for break utilities with before, after, and inside sub-factories.\"\"\"\n",
    "    \n",
    "    def __init__(self):\n",
    "        \"Initialize with sub-factories for before, after, and inside breaks.\"\n",
    "        self.before = SimpleFactory(BREAK_BEFORE_VALUES)\n",
    "        self.after = SimpleFactory(BREAK_AFTER_VALUES)\n",
    "        self.inside = SimpleFactory(BREAK_INSIDE_VALUES)\n",
    "\n",
    "# Create the break factory\n",
    "break_util = BreakFactory() # The break factory"
   ]
  },
  {
   "cell_type": "markdown",
   "id": "6b3402c0-3e7d-4279-86de-01ea8eb7f80a",
   "metadata": {},
   "source": [
    "## Box Decoration Break Utilities\n",
    "\n",
    "Control how element fragments should be rendered across multiple lines, columns, or pages."
   ]
  },
  {
   "cell_type": "code",
   "execution_count": null,
   "id": "5ee545ba-bffc-4886-b4ec-e1d436fe9ec7",
   "metadata": {},
   "outputs": [],
   "source": [
    "#| export\n",
    "# Box decoration break utilities\n",
    "BOX_DECORATION_VALUES = {\n",
    "    \"clone\": \"box-decoration-clone\",\n",
    "    \"slice\": \"box-decoration-slice\"\n",
    "}\n",
    "\n",
    "# Create box decoration factory\n",
    "box_decoration = SimpleFactory(BOX_DECORATION_VALUES) # The box decoration factory"
   ]
  },
  {
   "cell_type": "markdown",
   "id": "7daa7488-73f4-4252-914a-d00655fd5f29",
   "metadata": {},
   "source": [
    "## Overscroll Behavior Utilities\n",
    "\n",
    "Control how the browser behaves when reaching the boundary of a scrolling area."
   ]
  },
  {
   "cell_type": "code",
   "execution_count": null,
   "id": "50098a37-a211-4874-870b-4f5841668371",
   "metadata": {},
   "outputs": [],
   "source": [
    "#| export\n",
    "# Overscroll behavior values\n",
    "OVERSCROLL_VALUES = [\"auto\", \"contain\", \"none\"]\n",
    "\n",
    "class OverscrollFactory:\n",
    "    \"\"\"Factory for overscroll behavior utilities with directional support.\"\"\"\n",
    "    \n",
    "    def __init__(self):\n",
    "        \"Initialize with overscroll values and directional sub-factories.\"\n",
    "        # Create base overscroll utilities\n",
    "        self._values = {value: f\"overscroll-{value}\" for value in OVERSCROLL_VALUES}\n",
    "        \n",
    "        # Create x and y sub-factories\n",
    "        self.x = type('OverscrollX', (), {\n",
    "            value: f\"overscroll-x-{value}\" for value in OVERSCROLL_VALUES\n",
    "        })()\n",
    "        self.y = type('OverscrollY', (), {\n",
    "            value: f\"overscroll-y-{value}\" for value in OVERSCROLL_VALUES\n",
    "        })()\n",
    "    \n",
    "    def __getattr__(\n",
    "        self,\n",
    "        name: str  # The attribute name to look up in overscroll values\n",
    "    ) -> str:  # The corresponding overscroll CSS class\n",
    "        \"Get overscroll utility by attribute name.\"\n",
    "        if name in self._values:\n",
    "            return self._values[name]\n",
    "        raise AttributeError(f\"'OverscrollFactory' object has no attribute '{name}'\")\n",
    "\n",
    "# Create the overscroll factory\n",
    "overscroll = OverscrollFactory() # The overscroll factory"
   ]
  },
  {
   "cell_type": "markdown",
   "id": "175eb7de-b6ac-4c21-bc5c-1626fb532f97",
   "metadata": {},
   "source": [
    "## Practical Examples\n",
    "\n",
    "Let's see how to use these layout utilities in real FastHTML components:"
   ]
  },
  {
   "cell_type": "code",
   "execution_count": null,
   "id": "73b060b0-4f0e-4e24-ad40-c0fdd3e21b17",
   "metadata": {},
   "outputs": [],
   "source": [
    "from fasthtml.common import Div, Img, Header, Nav, Main, Section, Article, Aside"
   ]
  },
  {
   "cell_type": "code",
   "execution_count": null,
   "id": "59899a4f-913a-4ab9-99db-372f47aa4d8c",
   "metadata": {},
   "outputs": [
    {
     "name": "stdout",
     "output_type": "stream",
     "text": [
      "Header classes: fixed top-0 left-0 right-0 z-50 bg-white\n"
     ]
    }
   ],
   "source": [
    "# Fixed header with z-index\n",
    "header = Header(\n",
    "    Nav(\"Navigation\"),\n",
    "    cls=combine_classes(position.fixed, top(0), left(0), right(0), z(50), \"bg-white\")\n",
    ")\n",
    "print(f\"Header classes: {header.attrs['class']}\")"
   ]
  },
  {
   "cell_type": "code",
   "execution_count": null,
   "id": "c0467ce9-075e-49c3-99a7-86cd2a28a490",
   "metadata": {},
   "outputs": [
    {
     "name": "stdout",
     "output_type": "stream",
     "text": [
      "Sidebar classes: sticky top-20 h-screen overflow-y-auto\n"
     ]
    }
   ],
   "source": [
    "# Sticky sidebar with scroll\n",
    "sidebar = Aside(\n",
    "    \"Sidebar content\",\n",
    "    cls=combine_classes(position.sticky, top(20), \"h-screen\", overflow.y.auto)\n",
    ")\n",
    "print(f\"Sidebar classes: {sidebar.attrs['class']}\")"
   ]
  },
  {
   "cell_type": "code",
   "execution_count": null,
   "id": "4d7d6770-ef8d-4cea-8bef-1323c19f1260",
   "metadata": {},
   "outputs": [
    {
     "name": "stdout",
     "output_type": "stream",
     "text": [
      "Overlay classes: fixed inset-0 z-40 flex items-center justify-center bg-black/50\n",
      "Modal classes: relative z-10\n"
     ]
    }
   ],
   "source": [
    "# Modal overlay with z-index\n",
    "modal_overlay = Div(\n",
    "    Div(\"Modal content\", cls=combine_classes(position.relative, z(10))),\n",
    "    cls=combine_classes(position.fixed, inset(0), z(40), display.flex, \"items-center\", \"justify-center\", \"bg-black/50\")\n",
    ")\n",
    "print(f\"Overlay classes: {modal_overlay.attrs['class']}\")\n",
    "print(f\"Modal classes: {modal_overlay.children[0].attrs['class']}\")"
   ]
  },
  {
   "cell_type": "code",
   "execution_count": null,
   "id": "a5c7777a-0e20-4ad6-b823-c48b987f04a8",
   "metadata": {},
   "outputs": [
    {
     "name": "stdout",
     "output_type": "stream",
     "text": [
      "Container classes: aspect-video overflow-hidden rounded-lg\n",
      "Image classes: object-cover object-center w-full h-full\n"
     ]
    }
   ],
   "source": [
    "# Image with aspect ratio and object fit\n",
    "image_container = Div(\n",
    "    Img(src=\"image.jpg\", cls=combine_classes(object_fit.cover, object_position.center, \"w-full\", \"h-full\")),\n",
    "    cls=combine_classes(aspect.video, overflow.hidden, \"rounded-lg\")\n",
    ")\n",
    "print(f\"Container classes: {image_container.attrs['class']}\")\n",
    "print(f\"Image classes: {image_container.children[0].attrs['class']}\")"
   ]
  },
  {
   "cell_type": "code",
   "execution_count": null,
   "id": "9279bedc-4b96-4860-aa2d-11d7b4e87407",
   "metadata": {},
   "outputs": [
    {
     "name": "stdout",
     "output_type": "stream",
     "text": [
      "Article classes: columns-2 gap-8 prose\n"
     ]
    }
   ],
   "source": [
    "# Multi-column layout\n",
    "article = Article(\n",
    "    \"Lorem ipsum dolor sit amet...\",\n",
    "    cls=combine_classes(columns(2), \"gap-8\", \"prose\")\n",
    ")\n",
    "print(f\"Article classes: {article.attrs['class']}\")"
   ]
  },
  {
   "cell_type": "markdown",
   "id": "aa5e0b86-3cc2-4dad-9c6e-88ba6dbda520",
   "metadata": {},
   "source": [
    "## Helper Functions\n",
    "\n",
    "Convenient functions for common layout patterns:"
   ]
  },
  {
   "cell_type": "code",
   "execution_count": null,
   "id": "520e6a9b-6db9-49d7-89c4-0e9704d58292",
   "metadata": {},
   "outputs": [],
   "source": [
    "#| export\n",
    "def center_absolute(\n",
    ") -> str:  # Combined CSS classes for centering an element\n",
    "    \"\"\"Center an absolutely positioned element.\"\"\"\n",
    "    return combine_classes(\n",
    "        position.absolute, \n",
    "        top(\"1/2\"), \n",
    "        left(\"1/2\"), \n",
    "        \"-translate-x-1/2\",\n",
    "        \"-translate-y-1/2\"\n",
    "    )"
   ]
  },
  {
   "cell_type": "code",
   "execution_count": null,
   "id": "770e10f6-7cab-4697-bfd5-8fa03209cad9",
   "metadata": {},
   "outputs": [],
   "source": [
    "#| export\n",
    "def stack_context(\n",
    "    z_value: int = 10  # The z-index value for the stacking context\n",
    ") -> str:  # Combined CSS classes for creating a stacking context\n",
    "    \"\"\"Create a stacking context with z-index.\"\"\"\n",
    "    return combine_classes(position.relative, z(z_value))"
   ]
  },
  {
   "cell_type": "code",
   "execution_count": null,
   "id": "307c08aa-0023-4dc0-a7ee-106b5059a1e9",
   "metadata": {},
   "outputs": [],
   "source": [
    "#| export\n",
    "def sticky_top(\n",
    "    offset: TailwindScale = 0  # Top offset value (e.g., 0, 4, '1rem')\n",
    ") -> str:  # Combined CSS classes for sticky positioning\n",
    "    \"\"\"Make element sticky at top with optional offset.\"\"\"\n",
    "    return combine_classes(position.sticky, top(offset))"
   ]
  },
  {
   "cell_type": "code",
   "execution_count": null,
   "id": "f7083a19-2187-41c9-b838-6f8e1980cb4e",
   "metadata": {},
   "outputs": [],
   "source": [
    "#| export\n",
    "def full_bleed(\n",
    ") -> str:  # Combined CSS classes for full-bleed layout\n",
    "    \"\"\"Make element break out of container constraints.\"\"\"\n",
    "    return combine_classes(position.relative, left(\"1/2\"), right(\"1/2\"), \"-mx-[50vw]\", \"w-screen\")"
   ]
  },
  {
   "cell_type": "code",
   "execution_count": null,
   "id": "6ae174cd-0472-4491-80c1-e0f103539cc8",
   "metadata": {},
   "outputs": [
    {
     "name": "stdout",
     "output_type": "stream",
     "text": [
      "absolute top-1/2 left-1/2 -translate-x-1/2 -translate-y-1/2\n",
      "relative z-20\n",
      "sticky top-4\n",
      "relative left-1/2 right-1/2 -mx-[50vw] w-screen\n"
     ]
    }
   ],
   "source": [
    "# Test helper functions\n",
    "print(center_absolute())\n",
    "print(stack_context(20))\n",
    "print(sticky_top(4))\n",
    "print(full_bleed())"
   ]
  },
  {
   "cell_type": "markdown",
   "id": "839800aa-70b5-4f0d-a957-676d7bded853",
   "metadata": {},
   "source": [
    "## Testing\n",
    "\n",
    "Let's run comprehensive tests to ensure our layout utilities work correctly:"
   ]
  },
  {
   "cell_type": "code",
   "execution_count": null,
   "id": "75c12756-da0b-48bb-8cd1-282ba76e8f1c",
   "metadata": {},
   "outputs": [],
   "source": [
    "# Test display utilities\n",
    "assert display.block == \"block\"\n",
    "assert display.inline == \"inline\"\n",
    "assert display.flex == \"flex\"\n",
    "assert display.grid == \"grid\"\n",
    "assert display.hidden == \"hidden\"\n",
    "assert display.inline_flex == \"inline-flex\"\n",
    "\n",
    "# Test table display utilities\n",
    "assert display.table == \"table\"\n",
    "assert display.inline_table == \"inline-table\"\n",
    "assert display.table_caption == \"table-caption\"\n",
    "assert display.table_cell == \"table-cell\"\n",
    "assert display.table_column == \"table-column\"\n",
    "assert display.table_column_group == \"table-column-group\"\n",
    "assert display.table_footer_group == \"table-footer-group\"\n",
    "assert display.table_header_group == \"table-header-group\"\n",
    "assert display.table_row_group == \"table-row-group\"\n",
    "assert display.table_row == \"table-row\"\n",
    "assert display.list_item == \"list-item\"\n",
    "\n",
    "# Test special display utilities\n",
    "assert sr_only == \"sr-only\"\n",
    "assert not_sr_only == \"not-sr-only\""
   ]
  },
  {
   "cell_type": "code",
   "execution_count": null,
   "id": "81cdd9f8-bd64-4e21-833f-d559f4a0f237",
   "metadata": {},
   "outputs": [],
   "source": [
    "# Test position utilities\n",
    "assert position.static == \"static\"\n",
    "assert position.relative == \"relative\"\n",
    "assert position.absolute == \"absolute\"\n",
    "assert position.fixed == \"fixed\"\n",
    "assert position.sticky == \"sticky\""
   ]
  },
  {
   "cell_type": "code",
   "execution_count": null,
   "id": "8a642e00-632a-4b88-804b-1b67fdfdb9f2",
   "metadata": {},
   "outputs": [],
   "source": [
    "# Test inset utilities\n",
    "assert str(inset(0)) == \"inset-0\"\n",
    "assert str(inset(4)) == \"inset-4\"\n",
    "assert str(inset(\"1/2\")) == \"inset-1/2\"\n",
    "assert str(inset.auto) == \"inset-auto\"\n",
    "assert str(inset.full) == \"inset-full\"\n",
    "assert str(inset.negative(4)) == \"-inset-4\"\n",
    "assert str(inset.x(4)) == \"inset-x-4\"\n",
    "assert str(inset.y(8)) == \"inset-y-8\""
   ]
  },
  {
   "cell_type": "code",
   "execution_count": null,
   "id": "a2e277ab-ba9a-44c4-a10f-8ae7ec7d2e58",
   "metadata": {},
   "outputs": [],
   "source": [
    "# Test individual direction utilities\n",
    "assert str(top(0)) == \"top-0\"\n",
    "assert str(right(4)) == \"right-4\"\n",
    "assert str(bottom.auto) == \"bottom-auto\"\n",
    "assert str(left.negative(2)) == \"-left-2\""
   ]
  },
  {
   "cell_type": "code",
   "execution_count": null,
   "id": "1809660f-ef82-43bf-82ca-8c42fa806bc1",
   "metadata": {},
   "outputs": [],
   "source": [
    "# Test overflow utilities\n",
    "assert overflow.auto == \"overflow-auto\"\n",
    "assert overflow.hidden == \"overflow-hidden\"\n",
    "assert overflow.visible == \"overflow-visible\"\n",
    "assert overflow.x.auto == \"overflow-x-auto\"\n",
    "assert overflow.y.scroll == \"overflow-y-scroll\"\n",
    "\n",
    "# Test additional overflow utilities\n",
    "assert overflow.x.clip == \"overflow-x-clip\"\n",
    "assert overflow.y.clip == \"overflow-y-clip\"\n",
    "assert overflow.x.visible == \"overflow-x-visible\"\n",
    "assert overflow.y.visible == \"overflow-y-visible\""
   ]
  },
  {
   "cell_type": "code",
   "execution_count": null,
   "id": "dfc5fe24-9a11-480d-9a28-aee543635293",
   "metadata": {},
   "outputs": [],
   "source": [
    "# Test z-index utilities\n",
    "assert str(z(0)) == \"z-0\"\n",
    "assert str(z(10)) == \"z-10\"\n",
    "assert str(z(50)) == \"z-50\"\n",
    "assert str(z.auto) == \"z-auto\"\n",
    "assert str(z.negative(10)) == \"-z-10\"\n",
    "assert str(z(999)) == \"z-999\"  # Large numeric values work directly"
   ]
  },
  {
   "cell_type": "code",
   "execution_count": null,
   "id": "83c34935-5dbf-4c07-8904-fbbad469d29f",
   "metadata": {},
   "outputs": [],
   "source": [
    "# Test float and clear utilities\n",
    "assert float_util.right == \"float-right\"\n",
    "assert float_util.left == \"float-left\"\n",
    "assert float_util.none == \"float-none\"\n",
    "assert clear.both == \"clear-both\"\n",
    "assert clear.left == \"clear-left\"\n",
    "assert clear.none == \"clear-none\""
   ]
  },
  {
   "cell_type": "code",
   "execution_count": null,
   "id": "423ee447-cb9a-4bdc-948e-86a181d8f1a4",
   "metadata": {},
   "outputs": [],
   "source": [
    "# Test object fit utilities\n",
    "assert object_fit.contain == \"object-contain\"\n",
    "assert object_fit.cover == \"object-cover\"\n",
    "assert object_fit.fill == \"object-fill\"\n",
    "assert object_fit.none == \"object-none\"\n",
    "assert object_fit.scale_down == \"object-scale-down\""
   ]
  },
  {
   "cell_type": "code",
   "execution_count": null,
   "id": "750c3501-fbbd-4b3f-b76d-6f6d36b04994",
   "metadata": {},
   "outputs": [],
   "source": [
    "# Test object position utilities\n",
    "assert object_position.center == \"object-center\"\n",
    "assert object_position.top == \"object-top\"\n",
    "assert object_position.bottom_right == \"object-bottom-right\"\n",
    "assert str(object_position(\"50% 25%\")) == \"object-[50% 25%]\"\n",
    "assert str(object_position(\"--custom-position\")) == \"object-(--custom-position)\""
   ]
  },
  {
   "cell_type": "code",
   "execution_count": null,
   "id": "004d559d-0678-44dd-83a8-15263256e924",
   "metadata": {},
   "outputs": [],
   "source": [
    "# Test visibility utilities\n",
    "assert visibility.visible == \"visible\"\n",
    "assert visibility.invisible == \"invisible\"\n",
    "assert visibility.collapse == \"collapse\""
   ]
  },
  {
   "cell_type": "code",
   "execution_count": null,
   "id": "fecf8af0-77b5-43fd-98b0-4d692b97a471",
   "metadata": {},
   "outputs": [],
   "source": [
    "# Test box sizing utilities\n",
    "assert box.border == \"box-border\"\n",
    "assert box.content == \"box-content\""
   ]
  },
  {
   "cell_type": "code",
   "execution_count": null,
   "id": "316f9119-bd15-404a-b250-cfa8c6f5f00c",
   "metadata": {},
   "outputs": [],
   "source": [
    "# Test isolation utilities\n",
    "assert isolation.isolate == \"isolate\"\n",
    "assert isolation.auto == \"isolation-auto\""
   ]
  },
  {
   "cell_type": "code",
   "execution_count": null,
   "id": "f0ca9586-ecfc-40ff-ab25-df9528bab5d1",
   "metadata": {},
   "outputs": [],
   "source": [
    "# Test aspect ratio utilities\n",
    "assert aspect.auto == \"aspect-auto\"\n",
    "assert aspect.square == \"aspect-square\"\n",
    "assert aspect.video == \"aspect-video\"\n",
    "assert str(aspect(\"16/9\")) == \"aspect-16/9\"\n",
    "assert str(aspect(\"4/3\")) == \"aspect-4/3\"\n",
    "assert str(aspect(\"--custom\")) == \"aspect-(--custom)\""
   ]
  },
  {
   "cell_type": "code",
   "execution_count": null,
   "id": "58b5e2e1-6e49-4536-a7e4-7ddee155a1d6",
   "metadata": {},
   "outputs": [],
   "source": [
    "# Test columns utilities\n",
    "assert str(columns(1)) == \"columns-1\"\n",
    "assert str(columns(2)) == \"columns-2\"\n",
    "assert str(columns(3)) == \"columns-3\"\n",
    "assert str(columns.auto) == \"columns-auto\"\n",
    "assert str(columns.xs) == \"columns-xs\"\n",
    "assert str(columns.lg) == \"columns-lg\"\n",
    "assert str(columns._3xl) == \"columns-3xl\"\n",
    "assert str(columns._4xl) == \"columns-4xl\"\n",
    "assert str(columns._5xl) == \"columns-5xl\"\n",
    "assert str(columns._6xl) == \"columns-6xl\"\n",
    "assert str(columns._7xl) == \"columns-7xl\""
   ]
  },
  {
   "cell_type": "code",
   "execution_count": null,
   "id": "eaf07f00-7122-404b-afcf-63797dfdf979",
   "metadata": {},
   "outputs": [],
   "source": [
    "# Test break utilities\n",
    "assert break_util.before.auto == \"break-before-auto\"\n",
    "assert break_util.before.page == \"break-before-page\"\n",
    "assert break_util.after.column == \"break-after-column\"\n",
    "assert break_util.inside.avoid == \"break-inside-avoid\""
   ]
  },
  {
   "cell_type": "code",
   "execution_count": null,
   "id": "4b72fbc2-81c7-4286-86bb-a0eaae2ea6fd",
   "metadata": {},
   "outputs": [],
   "source": [
    "# Test box decoration break utilities\n",
    "assert box_decoration.clone == \"box-decoration-clone\"\n",
    "assert box_decoration.slice == \"box-decoration-slice\""
   ]
  },
  {
   "cell_type": "code",
   "execution_count": null,
   "id": "248917f8-2841-48b5-9c88-5f4d50fededd",
   "metadata": {},
   "outputs": [],
   "source": [
    "# Test overscroll behavior utilities\n",
    "assert overscroll.auto == \"overscroll-auto\"\n",
    "assert overscroll.contain == \"overscroll-contain\"\n",
    "assert overscroll.none == \"overscroll-none\"\n",
    "assert overscroll.x.auto == \"overscroll-x-auto\"\n",
    "assert overscroll.y.contain == \"overscroll-y-contain\""
   ]
  },
  {
   "cell_type": "code",
   "execution_count": null,
   "id": "bfe6c869-59c0-4174-853f-8c6c67f5a0d2",
   "metadata": {},
   "outputs": [
    {
     "name": "stdout",
     "output_type": "stream",
     "text": [
      "✅ All layout utility tests passed!\n"
     ]
    }
   ],
   "source": [
    "print(\"✅ All layout utility tests passed!\")"
   ]
  },
  {
   "cell_type": "code",
   "execution_count": null,
   "id": "6b6bedbc-843f-4591-85d1-d6f59dc464aa",
   "metadata": {},
   "outputs": [],
   "source": []
  },
  {
   "cell_type": "code",
   "execution_count": null,
   "id": "cc6c5b51-e1f5-4ea3-8dbc-d037aa19dd6a",
   "metadata": {},
   "outputs": [],
   "source": []
  },
  {
   "cell_type": "code",
   "execution_count": null,
   "id": "8b212f5d-7150-4e23-898f-4aec707a3fbe",
   "metadata": {},
   "outputs": [],
   "source": []
  },
  {
   "cell_type": "code",
   "execution_count": null,
   "id": "89a3d6a2-e6f8-4020-a414-8c36d7911ee5",
   "metadata": {},
   "outputs": [],
   "source": []
  },
  {
   "cell_type": "code",
   "execution_count": null,
   "id": "f5acbb11-225e-4c8e-9743-94332d443192",
   "metadata": {},
   "outputs": [],
   "source": []
  },
  {
   "cell_type": "code",
   "execution_count": null,
   "id": "76be0ae9-d793-4d0b-a25f-6343f0a602e1",
   "metadata": {},
   "outputs": [],
   "source": []
  },
  {
   "cell_type": "code",
   "execution_count": null,
   "id": "57149eb9-9d32-466d-a71f-7eb16d75fbae",
   "metadata": {},
   "outputs": [],
   "source": []
  },
  {
   "cell_type": "code",
   "execution_count": null,
   "id": "4d6818db-da30-4a8f-9930-b8d2baf6cc06",
   "metadata": {},
   "outputs": [],
   "source": []
  },
  {
   "cell_type": "code",
   "execution_count": null,
   "id": "f5da4e95-bfee-4e69-a213-e8a0080ef24e",
   "metadata": {},
   "outputs": [],
   "source": []
  },
  {
   "cell_type": "markdown",
   "id": "9887c59e-3c3a-43a5-a695-849c99fa836a",
   "metadata": {},
   "source": [
    "## Export"
   ]
  },
  {
   "cell_type": "code",
   "execution_count": null,
   "id": "59b4f970-41de-40f6-9dc5-8717103321ef",
   "metadata": {},
   "outputs": [],
   "source": [
    "#| hide\n",
    "import nbdev; nbdev.nbdev_export()"
   ]
  }
 ],
 "metadata": {
  "kernelspec": {
   "display_name": "python3",
   "language": "python",
   "name": "python3"
  }
 },
 "nbformat": 4,
 "nbformat_minor": 5
}
