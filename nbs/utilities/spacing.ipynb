{
 "cells": [
  {
   "cell_type": "markdown",
   "id": "fbd41dd4-3228-4f93-80c9-d74647f83206",
   "metadata": {},
   "source": [
    "# spacing\n",
    "\n",
    "> Padding and margin utilities for Tailwind CSS"
   ]
  },
  {
   "cell_type": "code",
   "execution_count": null,
   "id": "014f86d4-b931-4f20-acd8-d4f2fd68a46c",
   "metadata": {},
   "outputs": [],
   "source": [
    "#| default_exp utilities.spacing"
   ]
  },
  {
   "cell_type": "code",
   "execution_count": null,
   "id": "1daa128c-06e8-4b75-9fe4-410c2ca0deb4",
   "metadata": {},
   "outputs": [],
   "source": [
    "#| hide\n",
    "from nbdev.showdoc import *"
   ]
  },
  {
   "cell_type": "code",
   "execution_count": null,
   "id": "010963b2-7902-425b-885e-08e19f8ccdbd",
   "metadata": {},
   "outputs": [],
   "source": [
    "#| export\n",
    "from typing import Optional, Union, Dict, Any\n",
    "from cjm_fasthtml_tailwind.core.base import TailwindScale, combine_classes\n",
    "from cjm_fasthtml_tailwind.builders.scales import (\n",
    "    DirectionalScaledFactory, ScaledFactory, SPACING_CONFIG\n",
    ")"
   ]
  },
  {
   "cell_type": "markdown",
   "id": "1f2f587b-35a2-4f65-b70d-61bc397278e3",
   "metadata": {},
   "source": [
    "## Padding Utilities\n",
    "\n",
    "Tailwind CSS provides comprehensive padding utilities that can be applied to all sides or specific sides of an element."
   ]
  },
  {
   "cell_type": "code",
   "execution_count": null,
   "id": "ed5854c2-8fb6-47f8-b366-92b94f5b737f",
   "metadata": {},
   "outputs": [],
   "source": [
    "#| export\n",
    "p = DirectionalScaledFactory(\"p\", SPACING_CONFIG, \"Padding utilities for controlling element padding\") # The padding factory\n",
    "\n",
    "# Additional directional padding utilities for logical properties\n",
    "ps = ScaledFactory(\"ps\", SPACING_CONFIG, \"Padding inline-start utilities (logical property)\")  # padding-inline-start\n",
    "pe = ScaledFactory(\"pe\", SPACING_CONFIG, \"Padding inline-end utilities (logical property)\")  # padding-inline-end"
   ]
  },
  {
   "cell_type": "markdown",
   "id": "a3494e91-6f7f-4b0a-84ad-fca200d74676",
   "metadata": {},
   "source": [
    "### Basic Padding\n",
    "\n",
    "Apply padding to all sides of an element:"
   ]
  },
  {
   "cell_type": "code",
   "execution_count": null,
   "id": "2b73a984-378a-44b6-b6e1-f2b5ebab8267",
   "metadata": {},
   "outputs": [],
   "source": [
    "#| export\n",
    "def test_spacing_basic_examples(\n",
    "):\n",
    "    \"\"\"Test basic padding utilities with various scale values.\"\"\"\n",
    "    # Numeric scales\n",
    "    assert str(p(0)) == \"p-0\"\n",
    "    assert str(p(4)) == \"p-4\"\n",
    "    assert str(p(8)) == \"p-8\"\n",
    "    assert str(p(2.5)) == \"p-2.5\"\n",
    "    \n",
    "    # Special values\n",
    "    assert str(p.px) == \"p-px\"\n",
    "    assert str(p.auto) == \"p-auto\"\n",
    "\n",
    "# Run the tests\n",
    "test_spacing_basic_examples()"
   ]
  },
  {
   "cell_type": "markdown",
   "id": "99532f15-6625-4b32-88fe-509995576855",
   "metadata": {},
   "source": [
    "### Directional Padding\n",
    "\n",
    "Apply padding to specific sides:"
   ]
  },
  {
   "cell_type": "code",
   "execution_count": null,
   "id": "3464bf79-7cb1-417e-98b4-c4693c3e8516",
   "metadata": {},
   "outputs": [],
   "source": [
    "#| export\n",
    "def test_spacing_directional_examples(\n",
    "):\n",
    "    \"\"\"Test directional padding utilities.\"\"\"\n",
    "    # Individual sides\n",
    "    assert str(p.t(4)) == \"pt-4\" # (top)\n",
    "    assert str(p.r(4)) == \"pr-4\" # (right)\n",
    "    assert str(p.b(4)) == \"pb-4\" # (bottom)\n",
    "    assert str(p.l(4)) == \"pl-4\" # (left)\n",
    "    \n",
    "    # Horizontal and vertical\n",
    "    assert str(p.x(8)) == \"px-8\" # (left and right)\n",
    "    assert str(p.y(8)) == \"py-8\" # (top and bottom)\n",
    "\n",
    "# Run the tests\n",
    "test_spacing_directional_examples()"
   ]
  },
  {
   "cell_type": "markdown",
   "id": "85ac13a7-a39d-4f60-b57e-488bd5c98412",
   "metadata": {},
   "source": [
    "### Arbitrary Values\n",
    "\n",
    "Use custom values when needed:"
   ]
  },
  {
   "cell_type": "code",
   "execution_count": null,
   "id": "5bc38ddc-aa74-4534-8dcf-3ef36e16ba0e",
   "metadata": {},
   "outputs": [],
   "source": [
    "#| export\n",
    "def test_spacing_arbitrary_examples(\n",
    "):\n",
    "    \"\"\"Test padding utilities with arbitrary and custom values.\"\"\"\n",
    "    # Arbitrary values\n",
    "    assert str(p(\"10px\")) == \"p-[10px]\"\n",
    "    assert str(p(\"2.5rem\")) == \"p-[2.5rem]\"\n",
    "    assert str(p.x(\"calc(50% - 1rem)\")) == \"px-[calc(50% - 1rem)]\"\n",
    "    \n",
    "    # Custom properties\n",
    "    assert str(p(\"--spacing-lg\")) == \"p-(--spacing-lg)\"\n",
    "    assert str(p.y(\"--spacing-vertical\")) == \"py-(--spacing-vertical)\"\n",
    "\n",
    "# Run the tests\n",
    "test_spacing_arbitrary_examples()"
   ]
  },
  {
   "cell_type": "markdown",
   "id": "4c1eb7d1-9f9a-41c4-92b8-07170a281529",
   "metadata": {},
   "source": [
    "## Margin Utilities\n",
    "\n",
    "Margin utilities work exactly like padding utilities but can also have negative values."
   ]
  },
  {
   "cell_type": "code",
   "execution_count": null,
   "id": "e73d9f3f-d1df-4c6c-9d10-3400f503fb55",
   "metadata": {},
   "outputs": [],
   "source": [
    "#| export\n",
    "m = DirectionalScaledFactory(\"m\", SPACING_CONFIG, \"Margin utilities for controlling element margin\") # The margin factory\n",
    "\n",
    "# Additional directional margin utilities for logical properties\n",
    "ms = ScaledFactory(\"ms\", SPACING_CONFIG, \"Margin inline-start utilities (logical property)\")  # margin-inline-start\n",
    "me = ScaledFactory(\"me\", SPACING_CONFIG, \"Margin inline-end utilities (logical property)\")  # margin-inline-end"
   ]
  },
  {
   "cell_type": "markdown",
   "id": "19a7608d-8af4-44d6-9657-7223dde82d5a",
   "metadata": {},
   "source": [
    "### Basic Margin\n",
    "\n",
    "Apply margin to all sides:"
   ]
  },
  {
   "cell_type": "code",
   "execution_count": null,
   "id": "ac3f156b-997f-4c84-b90c-ac468df3397f",
   "metadata": {},
   "outputs": [],
   "source": [
    "#| export\n",
    "def test_spacing_margin_examples(\n",
    "):\n",
    "    \"\"\"Test basic margin utilities with various scale values.\"\"\"\n",
    "    # Numeric scales\n",
    "    assert str(m(0)) == \"m-0\"\n",
    "    assert str(m(4)) == \"m-4\"\n",
    "    assert str(m(8)) == \"m-8\"\n",
    "    assert str(m(2.5)) == \"m-2.5\"\n",
    "    \n",
    "    # Special values\n",
    "    assert str(m.px) == \"m-px\"\n",
    "    assert str(m.auto) == \"m-auto\"\n",
    "\n",
    "# Run the tests\n",
    "test_spacing_margin_examples()"
   ]
  },
  {
   "cell_type": "markdown",
   "id": "9da4fef8-cd75-4449-acf2-c0a0c60a267f",
   "metadata": {},
   "source": [
    "### Directional Margin\n",
    "\n",
    "Apply margin to specific sides:"
   ]
  },
  {
   "cell_type": "code",
   "execution_count": null,
   "id": "wbww91zd5xc",
   "metadata": {},
   "outputs": [],
   "source": [
    "#| export\n",
    "def test_spacing_margin_directional_examples(\n",
    "):\n",
    "    \"\"\"Test directional margin utilities.\"\"\"\n",
    "    # Individual sides\n",
    "    assert str(m.t(4)) == \"mt-4\" # (top)\n",
    "    assert str(m.r(4)) == \"mr-4\" # (right)\n",
    "    assert str(m.b(4)) == \"mb-4\" # (bottom)\n",
    "    assert str(m.l(4)) == \"ml-4\" # (left)\n",
    "    \n",
    "    # Horizontal and vertical\n",
    "    assert str(m.x(8)) == \"mx-8\" # (left and right)\n",
    "    assert str(m.y(8)) == \"my-8\" # (top and bottom)\n",
    "    \n",
    "    # Auto for centering\n",
    "    assert str(m.x.auto) == \"mx-auto\" # (center horizontally)\n",
    "\n",
    "# Run the tests\n",
    "test_spacing_margin_directional_examples()"
   ]
  },
  {
   "cell_type": "markdown",
   "id": "a0937e74-94a5-47c1-95f2-63365be2cbf5",
   "metadata": {},
   "source": [
    "### Negative Margins\n",
    "\n",
    "Use negative margins to pull elements outside their parent or overlap:"
   ]
  },
  {
   "cell_type": "code",
   "execution_count": null,
   "id": "af93a7e0-7572-4405-b836-a2a2edbb2156",
   "metadata": {},
   "outputs": [],
   "source": [
    "#| export\n",
    "def test_spacing_negative_examples(\n",
    "):\n",
    "    \"\"\"Test negative margin utilities.\"\"\"\n",
    "    # Negative values using negative=True\n",
    "    assert str(m(4, negative=True)) == \"-m-4\"\n",
    "    assert str(m.t(2, negative=True)) == \"-mt-2\"\n",
    "    \n",
    "    # Negative values using .negative property\n",
    "    assert str(m.negative(4)) == \"-m-4\"\n",
    "    assert str(m.t.negative(2)) == \"-mt-2\"\n",
    "    assert str(m.x.negative(8)) == \"-mx-8\"\n",
    "    \n",
    "    # Negative special values\n",
    "    assert str(m.negative.px) == \"-m-px\"\n",
    "    assert str(m.y.negative.px) == \"-my-px\"\n",
    "\n",
    "# Run the tests\n",
    "test_spacing_negative_examples()"
   ]
  },
  {
   "cell_type": "code",
   "execution_count": null,
   "id": "ln5op0efp1p",
   "metadata": {},
   "outputs": [],
   "source": [
    "#| export\n",
    "def test_spacing_logical_examples(\n",
    "):\n",
    "    \"\"\"Test logical properties for padding and margin utilities.\"\"\"\n",
    "    # Logical padding properties\n",
    "    assert str(ps(4)) == \"ps-4\" # (padding-inline-start)\n",
    "    assert str(pe(4)) == \"pe-4\" # (padding-inline-end)\n",
    "    \n",
    "    # Logical margin properties\n",
    "    assert str(ms(4)) == \"ms-4\" # (margin-inline-start)\n",
    "    assert str(me(4)) == \"me-4\" # (margin-inline-end)\n",
    "    assert str(ms.auto) == \"ms-auto\"\n",
    "    assert str(me.auto) == \"me-auto\"\n",
    "    \n",
    "    # Negative logical margins\n",
    "    assert str(ms.negative(2)) == \"-ms-2\"\n",
    "    assert str(me.negative(2)) == \"-me-2\"\n",
    "\n",
    "# Run the tests\n",
    "test_spacing_logical_examples()"
   ]
  },
  {
   "cell_type": "markdown",
   "id": "988e93cb-ab16-49f2-b47c-e1c3cb2b2d4f",
   "metadata": {},
   "source": [
    "## Space Between Utilities\n",
    "\n",
    "Tailwind also provides utilities for adding space between child elements."
   ]
  },
  {
   "cell_type": "code",
   "execution_count": null,
   "id": "cfc11291-9c33-435f-b29a-d6371c68f3a4",
   "metadata": {},
   "outputs": [],
   "source": [
    "#| export\n",
    "from cjm_fasthtml_tailwind.core.base import BaseFactory, SingleValueFactory, SingleValueUtility\n",
    "\n",
    "# Create space between factories\n",
    "# Note: space utilities use a hyphenated prefix pattern\n",
    "class SpaceFactory(BaseFactory):\n",
    "    \"\"\"Special factory for space utilities that control spacing between child elements.\"\"\"\n",
    "    \n",
    "    def __init__(self):\n",
    "        \"\"\"Initialize with scaled factories and reverse utilities.\"\"\"\n",
    "        super().__init__(\"Space utilities for adding consistent spacing between child elements\")\n",
    "        self.x = ScaledFactory(\"space-x\", SPACING_CONFIG, \"Horizontal spacing between child elements\")\n",
    "        self.y = ScaledFactory(\"space-y\", SPACING_CONFIG, \"Vertical spacing between child elements\")\n",
    "        self.x_reverse = SingleValueFactory(\"space-x-reverse\", \"Reverse the order of horizontal spacing\")\n",
    "        self.y_reverse = SingleValueFactory(\"space-y-reverse\", \"Reverse the order of vertical spacing\")\n",
    "    \n",
    "    def get_info(\n",
    "        self\n",
    "    ) -> Dict[str, Any]:  # Dictionary with factory information\n",
    "        \"\"\"Get information about the space factory.\"\"\"\n",
    "        return {\n",
    "            'description': self._doc,\n",
    "            'valid_inputs': 'Access sub-factories as attributes (x, y, x_reverse, y_reverse)',\n",
    "            'options': {\n",
    "                'sub_factories': {\n",
    "                    'x': 'Horizontal spacing between child elements',\n",
    "                    'y': 'Vertical spacing between child elements',\n",
    "                    'x_reverse': 'Reverse horizontal spacing order',\n",
    "                    'y_reverse': 'Reverse vertical spacing order'\n",
    "                }\n",
    "            }\n",
    "        }\n",
    "\n",
    "space = SpaceFactory() # The space factory"
   ]
  },
  {
   "cell_type": "code",
   "execution_count": null,
   "id": "d86e4eb8-412f-4d5b-9a1c-88e9c70f19ae",
   "metadata": {},
   "outputs": [],
   "source": [
    "#| export\n",
    "def test_spacing_space_between_examples(\n",
    "):\n",
    "    \"\"\"Test space between child elements utilities.\"\"\"\n",
    "    # Horizontal spacing between children\n",
    "    assert str(space.x(4)) == \"space-x-4\"\n",
    "    assert str(space.x(8)) == \"space-x-8\"\n",
    "    assert str(space.x(0)) == \"space-x-0\"\n",
    "    assert str(space.x.px) == \"space-x-px\"\n",
    "    \n",
    "    # Vertical spacing between children\n",
    "    assert str(space.y(4)) == \"space-y-4\"\n",
    "    assert str(space.y(8)) == \"space-y-8\"\n",
    "    \n",
    "    # Negative space (overlap children)\n",
    "    assert str(space.x.negative(2)) == \"-space-x-2\"\n",
    "    assert str(space.y.negative(4)) == \"-space-y-4\"\n",
    "    \n",
    "    # Space reverse utilities using factory\n",
    "    assert str(space.x_reverse) == \"space-x-reverse\"\n",
    "    assert str(space.y_reverse) == \"space-y-reverse\"\n",
    "\n",
    "# Run the tests\n",
    "test_spacing_space_between_examples()"
   ]
  },
  {
   "cell_type": "markdown",
   "id": "504a25d2-1b20-4261-b16b-afae9871d323",
   "metadata": {},
   "source": [
    "## Practical Examples\n",
    "\n",
    "Let's see how to use these utilities in real FastHTML components:"
   ]
  },
  {
   "cell_type": "code",
   "execution_count": null,
   "id": "aca0dc9e-890e-401f-805e-81504c50d928",
   "metadata": {},
   "outputs": [],
   "source": [
    "#| export\n",
    "def test_spacing_practical_examples(\n",
    "):\n",
    "    \"\"\"Test spacing utilities in practical FastHTML component examples.\"\"\"\n",
    "    from fasthtml.common import Div, P, Button, H2\n",
    "    from cjm_fasthtml_tailwind.utilities.sizing import max_w\n",
    "    \n",
    "    # Card component with padding\n",
    "    card = Div(\n",
    "        H2(\"Card Title\", cls=combine_classes(p.b(2))),\n",
    "        P(\"Card content goes here.\", cls=combine_classes(p.b(4))),\n",
    "        Button(\"Action\", cls=combine_classes(p.x(4), p.y(2))),\n",
    "        cls=combine_classes(p(6), m(4))\n",
    "    )\n",
    "    \n",
    "    # Show the generated classes\n",
    "    assert card.attrs['class'] == \"p-6 m-4\"\n",
    "    assert card.children[0].attrs['class'] == \"pb-2\"\n",
    "    assert card.children[2].attrs['class'] == \"px-4 py-2\"\n",
    "    \n",
    "    # Layout with negative margins\n",
    "    overlap_layout = Div(\n",
    "        Div(\"Header\", cls=combine_classes(p(4), m.b.negative(8))),\n",
    "        Div(\"Content\", cls=combine_classes(p(8))),\n",
    "        cls=m(4)\n",
    "    )\n",
    "    \n",
    "    assert overlap_layout.children[0].attrs['class'] == \"p-4 -mb-8\"\n",
    "    \n",
    "    # Centered container with auto margins\n",
    "    centered_container = Div(\n",
    "        \"Centered content\",\n",
    "        cls=combine_classes(m.x.auto, p(8), max_w._4xl)\n",
    "    )\n",
    "    \n",
    "    assert centered_container.attrs['class'] == \"mx-auto p-8 max-w-4xl\"\n",
    "\n",
    "# Run the tests\n",
    "test_spacing_practical_examples()"
   ]
  },
  {
   "cell_type": "markdown",
   "id": "00b1b6b9-6df5-43df-80bb-e226df010c70",
   "metadata": {},
   "source": [
    "## Helper Functions\n",
    "\n",
    "Convenient functions for common spacing patterns:"
   ]
  },
  {
   "cell_type": "code",
   "execution_count": null,
   "id": "131efdd5-ba63-44f4-8210-bcb11db1744e",
   "metadata": {},
   "outputs": [],
   "source": [
    "#| export\n",
    "def pad(\n",
    "    all: Optional[TailwindScale] = None,  # Padding for all sides\n",
    "    x: Optional[TailwindScale] = None,    # Horizontal padding\n",
    "    y: Optional[TailwindScale] = None,    # Vertical padding\n",
    "    t: Optional[TailwindScale] = None,    # Top padding\n",
    "    r: Optional[TailwindScale] = None,    # Right padding\n",
    "    b: Optional[TailwindScale] = None,    # Bottom padding\n",
    "    l: Optional[TailwindScale] = None     # Left padding\n",
    ") -> str:  # Space-separated padding classes\n",
    "    \"\"\"Generate padding classes with a convenient API.\"\"\"\n",
    "    classes = []\n",
    "    \n",
    "    if all is not None:\n",
    "        classes.append(str(p(all)))\n",
    "    if x is not None:\n",
    "        classes.append(str(p.x(x)))\n",
    "    if y is not None:\n",
    "        classes.append(str(p.y(y)))\n",
    "    if t is not None:\n",
    "        classes.append(str(p.t(t)))\n",
    "    if r is not None:\n",
    "        classes.append(str(p.r(r)))\n",
    "    if b is not None:\n",
    "        classes.append(str(p.b(b)))\n",
    "    if l is not None:\n",
    "        classes.append(str(p.l(l)))\n",
    "    \n",
    "    return combine_classes(*classes)"
   ]
  },
  {
   "cell_type": "code",
   "execution_count": null,
   "id": "fc00af5b-02b1-4811-bea5-fd5637b0589d",
   "metadata": {},
   "outputs": [],
   "source": [
    "#| export\n",
    "def margin(\n",
    "    all: Optional[TailwindScale] = None,  # Margin for all sides\n",
    "    x: Optional[TailwindScale] = None,    # Horizontal margin\n",
    "    y: Optional[TailwindScale] = None,    # Vertical margin\n",
    "    t: Optional[TailwindScale] = None,    # Top margin\n",
    "    r: Optional[TailwindScale] = None,    # Right margin\n",
    "    b: Optional[TailwindScale] = None,    # Bottom margin\n",
    "    l: Optional[TailwindScale] = None,    # Left margin\n",
    "    negative: bool = False                 # Apply negative margins\n",
    ") -> str:  # Space-separated margin classes\n",
    "    \"\"\"Generate margin classes with a convenient API.\"\"\"\n",
    "    classes = []\n",
    "    \n",
    "    if all is not None:\n",
    "        classes.append(str(m(all, negative=negative)))\n",
    "    if x is not None:\n",
    "        if x == \"auto\":\n",
    "            classes.append(str(m.x.auto))\n",
    "        else:\n",
    "            classes.append(str(m.x(x, negative=negative)))\n",
    "    if y is not None:\n",
    "        if y == \"auto\":\n",
    "            classes.append(str(m.y.auto))\n",
    "        else:\n",
    "            classes.append(str(m.y(y, negative=negative)))\n",
    "    if t is not None:\n",
    "        classes.append(str(m.t(t, negative=negative)))\n",
    "    if r is not None:\n",
    "        classes.append(str(m.r(r, negative=negative)))\n",
    "    if b is not None:\n",
    "        classes.append(str(m.b(b, negative=negative)))\n",
    "    if l is not None:\n",
    "        classes.append(str(m.l(l, negative=negative)))\n",
    "    \n",
    "    return combine_classes(*classes)"
   ]
  },
  {
   "cell_type": "code",
   "execution_count": null,
   "id": "0bd54f2b-504b-47f9-b248-3827348c5689",
   "metadata": {},
   "outputs": [],
   "source": [
    "#| export\n",
    "def test_spacing_helper_examples(\n",
    "):\n",
    "    \"\"\"Test helper functions for common spacing patterns.\"\"\"\n",
    "    # Test pad helper\n",
    "    assert pad(4) == \"p-4\"\n",
    "    assert pad(x=8, y=4) == \"px-8 py-4\"\n",
    "    assert pad(t=2, b=4, x=6) == \"px-6 pt-2 pb-4\"\n",
    "    \n",
    "    # Test margin helper\n",
    "    assert margin(4) == \"m-4\"\n",
    "    assert margin(x=\"auto\", y=8) == \"mx-auto my-8\"\n",
    "    assert margin(t=4, negative=True) == \"-mt-4\"\n",
    "\n",
    "# Run the tests\n",
    "test_spacing_helper_examples()"
   ]
  },
  {
   "cell_type": "markdown",
   "id": "nh0k5ckn7w",
   "metadata": {},
   "source": [
    "## Modifiers with Spacing Utilities\n",
    "\n",
    "Spacing utilities support all Tailwind modifiers for conditional styling:"
   ]
  },
  {
   "cell_type": "code",
   "execution_count": null,
   "id": "o1nlm3pt67",
   "metadata": {},
   "outputs": [],
   "source": [
    "#| export\n",
    "def test_spacing_modifier_examples(\n",
    "):\n",
    "    \"\"\"Test spacing utilities with modifiers for conditional styling.\"\"\"\n",
    "    # Test hover states\n",
    "    assert str(p(4).hover) == \"hover:p-4\"\n",
    "    assert str(m.x(8).hover) == \"hover:mx-8\"\n",
    "    assert str(p.t(2).hover.focus) == \"focus:hover:pt-2\"\n",
    "    \n",
    "    # Test responsive modifiers\n",
    "    assert str(p(4).sm) == \"sm:p-4\"\n",
    "    assert str(m.x(8).md) == \"md:mx-8\"\n",
    "    assert str(p.y(0).lg) == \"lg:py-0\"\n",
    "    assert str(m.negative(4).xl) == \"xl:-m-4\"\n",
    "    \n",
    "    # Test dark mode\n",
    "    assert str(p(8).dark) == \"dark:p-8\"\n",
    "    assert str(m.x.auto.dark) == \"dark:mx-auto\"\n",
    "    \n",
    "    # Test chained modifiers\n",
    "    assert str(p(4).hover.md) == \"md:hover:p-4\"\n",
    "    assert str(m(8).dark.lg.hover) == \"hover:lg:dark:m-8\"\n",
    "    \n",
    "    # Test with space utilities\n",
    "    assert str(space.x(4).hover) == \"hover:space-x-4\"\n",
    "    assert str(space.y(2).md) == \"md:space-y-2\"\n",
    "\n",
    "# Run the tests\n",
    "test_spacing_modifier_examples()"
   ]
  },
  {
   "cell_type": "code",
   "execution_count": null,
   "id": "152a5h4i8n3",
   "metadata": {},
   "outputs": [],
   "source": [
    "#| export\n",
    "def test_spacing_enhanced_factory_examples(\n",
    "):\n",
    "    \"\"\"Test enhanced SingleValueFactory support in spacing utilities.\"\"\"\n",
    "    # Test space reverse utilities with modifiers\n",
    "    assert str(space.x_reverse) == \"space-x-reverse\"\n",
    "    assert str(space.x_reverse.hover) == \"hover:space-x-reverse\"\n",
    "    \n",
    "    assert str(space.y_reverse) == \"space-y-reverse\"\n",
    "    assert str(space.y_reverse.md) == \"md:space-y-reverse\"\n",
    "    assert str(space.y_reverse.dark) == \"dark:space-y-reverse\"\n",
    "    \n",
    "    # Test combining space utilities with modifiers\n",
    "    from fasthtml.common import Div, Ul, Li\n",
    "    \n",
    "    # Responsive list spacing\n",
    "    list_container = Ul(\n",
    "        Li(\"Item 1\"),\n",
    "        Li(\"Item 2\"),\n",
    "        Li(\"Item 3\"),\n",
    "        cls=combine_classes(\n",
    "            space.y(2),           # Default spacing\n",
    "            space.y(4).md,        # Larger spacing on medium screens\n",
    "            \"flex flex-col\"\n",
    "        )\n",
    "    )\n",
    "    \n",
    "    assert \"space-y-2\" in list_container.attrs['class']\n",
    "    assert \"md:space-y-4\" in list_container.attrs['class']\n",
    "\n",
    "# Run the tests\n",
    "test_spacing_enhanced_factory_examples()"
   ]
  },
  {
   "cell_type": "code",
   "execution_count": null,
   "id": "bw0lktq11pl",
   "metadata": {},
   "outputs": [],
   "source": [
    "#| export\n",
    "def test_spacing_factory_documentation(\n",
    "):\n",
    "    \"\"\"Test that factories have accessible documentation.\"\"\"\n",
    "    # Test main factory documentation\n",
    "    assert p.describe() == \"Padding utilities for controlling element padding\"\n",
    "    assert m.describe() == \"Margin utilities for controlling element margin\"\n",
    "    assert ps.describe() == \"Padding inline-start utilities (logical property)\"\n",
    "    assert pe.describe() == \"Padding inline-end utilities (logical property)\"\n",
    "    assert ms.describe() == \"Margin inline-start utilities (logical property)\"\n",
    "    assert me.describe() == \"Margin inline-end utilities (logical property)\"\n",
    "    \n",
    "    # Test space factory documentation\n",
    "    assert space.describe() == \"Space utilities for adding consistent spacing between child elements\"\n",
    "    assert space.x.describe() == \"Horizontal spacing between child elements\"\n",
    "    assert space.y.describe() == \"Vertical spacing between child elements\"\n",
    "    assert space.x_reverse.describe() == \"Reverse the order of horizontal spacing\"\n",
    "    assert space.y_reverse.describe() == \"Reverse the order of vertical spacing\"\n",
    "    \n",
    "    # Test directional sub-factories\n",
    "    assert p.t.describe() == \"Top p utilities\"\n",
    "    assert p.r.describe() == \"Right p utilities\"\n",
    "    assert p.b.describe() == \"Bottom p utilities\"\n",
    "    assert p.l.describe() == \"Left p utilities\"\n",
    "    assert p.x.describe() == \"Horizontal p utilities\"\n",
    "    assert p.y.describe() == \"Vertical p utilities\"\n",
    "    \n",
    "    # Verify space reverse utilities work correctly\n",
    "    assert str(space.x_reverse) == \"space-x-reverse\"\n",
    "    assert str(space.y_reverse) == \"space-y-reverse\"\n",
    "\n",
    "# Run the tests\n",
    "test_spacing_factory_documentation()"
   ]
  },
  {
   "cell_type": "code",
   "execution_count": null,
   "id": "8f1251ea-b337-40f0-af76-7b0d20f49f8c",
   "metadata": {},
   "outputs": [],
   "source": []
  },
  {
   "cell_type": "code",
   "execution_count": null,
   "id": "8b03e298-9b12-4d17-8fec-147f15f4cf25",
   "metadata": {},
   "outputs": [],
   "source": []
  },
  {
   "cell_type": "code",
   "execution_count": null,
   "id": "e287c254-4253-421e-a1dc-9ac5af30de45",
   "metadata": {},
   "outputs": [],
   "source": []
  },
  {
   "cell_type": "code",
   "execution_count": null,
   "id": "2e053d91-d157-422b-ba0b-4f776b15b8dd",
   "metadata": {},
   "outputs": [],
   "source": []
  },
  {
   "cell_type": "code",
   "execution_count": null,
   "id": "1915a622-6e12-4432-b44a-cdde5a2cb60b",
   "metadata": {},
   "outputs": [],
   "source": []
  },
  {
   "cell_type": "markdown",
   "id": "12f8679b-02a4-4114-b046-3a92f09a3d20",
   "metadata": {},
   "source": [
    "## Export"
   ]
  },
  {
   "cell_type": "code",
   "execution_count": null,
   "id": "69a3cbc6-6410-43fe-b447-707c54e0dc4f",
   "metadata": {},
   "outputs": [],
   "source": [
    "#| hide\n",
    "import nbdev; nbdev.nbdev_export()"
   ]
  }
 ],
 "metadata": {
  "kernelspec": {
   "display_name": "python3",
   "language": "python",
   "name": "python3"
  }
 },
 "nbformat": 4,
 "nbformat_minor": 5
}
