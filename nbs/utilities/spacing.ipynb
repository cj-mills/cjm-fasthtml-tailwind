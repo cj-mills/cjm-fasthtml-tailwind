{
 "cells": [
  {
   "cell_type": "markdown",
   "id": "fbd41dd4-3228-4f93-80c9-d74647f83206",
   "metadata": {},
   "source": [
    "# spacing\n",
    "\n",
    "> Padding and margin utilities for Tailwind CSS"
   ]
  },
  {
   "cell_type": "code",
   "execution_count": null,
   "id": "014f86d4-b931-4f20-acd8-d4f2fd68a46c",
   "metadata": {},
   "outputs": [],
   "source": [
    "#| default_exp utilities.spacing"
   ]
  },
  {
   "cell_type": "code",
   "execution_count": null,
   "id": "1daa128c-06e8-4b75-9fe4-410c2ca0deb4",
   "metadata": {},
   "outputs": [],
   "source": [
    "#| hide\n",
    "from nbdev.showdoc import *"
   ]
  },
  {
   "cell_type": "code",
   "execution_count": null,
   "id": "010963b2-7902-425b-885e-08e19f8ccdbd",
   "metadata": {},
   "outputs": [],
   "source": [
    "#| export\n",
    "from typing import Optional, Union\n",
    "from cjm_fasthtml_tailwind.core.base import TailwindScale, combine_classes\n",
    "from cjm_fasthtml_tailwind.builders.scales import (\n",
    "    DirectionalScaledFactory, ScaledFactory, SPACING_CONFIG\n",
    ")"
   ]
  },
  {
   "cell_type": "markdown",
   "id": "1f2f587b-35a2-4f65-b70d-61bc397278e3",
   "metadata": {},
   "source": [
    "## Padding Utilities\n",
    "\n",
    "Tailwind CSS provides comprehensive padding utilities that can be applied to all sides or specific sides of an element."
   ]
  },
  {
   "cell_type": "code",
   "execution_count": null,
   "id": "ed5854c2-8fb6-47f8-b366-92b94f5b737f",
   "metadata": {},
   "outputs": [],
   "source": [
    "#| export\n",
    "p = DirectionalScaledFactory(\"p\", SPACING_CONFIG) # The padding factory\n",
    "\n",
    "# Additional directional padding utilities for logical properties\n",
    "ps = ScaledFactory(\"ps\", SPACING_CONFIG)  # padding-inline-start\n",
    "pe = ScaledFactory(\"pe\", SPACING_CONFIG)  # padding-inline-end"
   ]
  },
  {
   "cell_type": "markdown",
   "id": "a3494e91-6f7f-4b0a-84ad-fca200d74676",
   "metadata": {},
   "source": [
    "### Basic Padding\n",
    "\n",
    "Apply padding to all sides of an element:"
   ]
  },
  {
   "cell_type": "code",
   "execution_count": null,
   "id": "2b73a984-378a-44b6-b6e1-f2b5ebab8267",
   "metadata": {},
   "outputs": [],
   "source": [
    "# Numeric scales\n",
    "assert str(p(0)) == \"p-0\"\n",
    "assert str(p(4)) == \"p-4\"\n",
    "assert str(p(8)) == \"p-8\"\n",
    "assert str(p(2.5)) == \"p-2.5\"\n",
    "\n",
    "# Special values\n",
    "assert str(p.px) == \"p-px\"\n",
    "assert str(p.auto) == \"p-auto\""
   ]
  },
  {
   "cell_type": "markdown",
   "id": "99532f15-6625-4b32-88fe-509995576855",
   "metadata": {},
   "source": [
    "### Directional Padding\n",
    "\n",
    "Apply padding to specific sides:"
   ]
  },
  {
   "cell_type": "code",
   "execution_count": null,
   "id": "3464bf79-7cb1-417e-98b4-c4693c3e8516",
   "metadata": {},
   "outputs": [],
   "source": [
    "# Individual sides\n",
    "assert str(p.t(4)) == \"pt-4\" # (top)\n",
    "assert str(p.r(4)) == \"pr-4\" # (right)\n",
    "assert str(p.b(4)) == \"pb-4\" # (bottom)\n",
    "assert str(p.l(4)) == \"pl-4\" # (left)\n",
    "\n",
    "# Horizontal and vertical\n",
    "assert str(p.x(8)) == \"px-8\" # (left and right)\n",
    "assert str(p.y(8)) == \"py-8\" # (top and bottom)"
   ]
  },
  {
   "cell_type": "code",
   "execution_count": null,
   "id": "8w436x8mnn3",
   "metadata": {},
   "outputs": [],
   "source": [
    "# Logical properties (start/end instead of left/right)\n",
    "assert str(ps(4)) == \"ps-4\" # (padding-inline-start)\n",
    "assert str(pe(4)) == \"pe-4\" # (padding-inline-end)"
   ]
  },
  {
   "cell_type": "markdown",
   "id": "85ac13a7-a39d-4f60-b57e-488bd5c98412",
   "metadata": {},
   "source": [
    "### Arbitrary Values\n",
    "\n",
    "Use custom values when needed:"
   ]
  },
  {
   "cell_type": "code",
   "execution_count": null,
   "id": "5bc38ddc-aa74-4534-8dcf-3ef36e16ba0e",
   "metadata": {},
   "outputs": [],
   "source": [
    "# Arbitrary values\n",
    "assert str(p(\"10px\")) == \"p-[10px]\"\n",
    "assert str(p(\"2.5rem\")) == \"p-[2.5rem]\"\n",
    "assert str(p.x(\"calc(50% - 1rem)\")) == \"px-[calc(50% - 1rem)]\"\n",
    "\n",
    "# Custom properties\n",
    "assert str(p(\"--spacing-lg\")) == \"p-(--spacing-lg)\"\n",
    "assert str(p.y(\"--spacing-vertical\")) == \"py-(--spacing-vertical)\""
   ]
  },
  {
   "cell_type": "markdown",
   "id": "4c1eb7d1-9f9a-41c4-92b8-07170a281529",
   "metadata": {},
   "source": [
    "## Margin Utilities\n",
    "\n",
    "Margin utilities work exactly like padding utilities but can also have negative values."
   ]
  },
  {
   "cell_type": "code",
   "execution_count": null,
   "id": "e73d9f3f-d1df-4c6c-9d10-3400f503fb55",
   "metadata": {},
   "outputs": [],
   "source": [
    "#| export\n",
    "m = DirectionalScaledFactory(\"m\", SPACING_CONFIG) # The margin factory\n",
    "\n",
    "# Additional directional margin utilities for logical properties\n",
    "ms = ScaledFactory(\"ms\", SPACING_CONFIG)  # margin-inline-start\n",
    "me = ScaledFactory(\"me\", SPACING_CONFIG)  # margin-inline-end"
   ]
  },
  {
   "cell_type": "markdown",
   "id": "19a7608d-8af4-44d6-9657-7223dde82d5a",
   "metadata": {},
   "source": [
    "### Basic Margin\n",
    "\n",
    "Apply margin to all sides:"
   ]
  },
  {
   "cell_type": "code",
   "execution_count": null,
   "id": "ac3f156b-997f-4c84-b90c-ac468df3397f",
   "metadata": {},
   "outputs": [],
   "source": [
    "# Numeric scales\n",
    "assert str(m(0)) == \"m-0\"\n",
    "assert str(m(4)) == \"m-4\"\n",
    "assert str(m(8)) == \"m-8\"\n",
    "assert str(m(2.5)) == \"m-2.5\"\n",
    "\n",
    "# Special values\n",
    "assert str(m.px) == \"m-px\"\n",
    "assert str(m.auto) == \"m-auto\""
   ]
  },
  {
   "cell_type": "markdown",
   "id": "9da4fef8-cd75-4449-acf2-c0a0c60a267f",
   "metadata": {},
   "source": [
    "### Directional Margin\n",
    "\n",
    "Apply margin to specific sides:"
   ]
  },
  {
   "cell_type": "code",
   "execution_count": null,
   "id": "f2c396e0-f609-403e-bd76-afccf7bc2222",
   "metadata": {},
   "outputs": [],
   "source": [
    "# Individual sides\n",
    "assert str(m.t(4)) == \"mt-4\" # (top)\n",
    "assert str(m.r(4)) == \"mr-4\" # (right)\n",
    "assert str(m.b(4)) == \"mb-4\" # (bottom)\n",
    "assert str(m.l(4)) == \"ml-4\" # (left)\n",
    "\n",
    "# Horizontal and vertical\n",
    "assert str(m.x(8)) == \"mx-8\" # (left and right)\n",
    "assert str(m.y(8)) == \"my-8\" # (top and bottom)\n",
    "\n",
    "# Auto for centering\n",
    "assert str(m.x.auto) == \"mx-auto\" # (center horizontally)"
   ]
  },
  {
   "cell_type": "code",
   "execution_count": null,
   "id": "iglx1ogebjr",
   "metadata": {},
   "outputs": [],
   "source": [
    "# Logical margin properties\n",
    "assert str(ms(4)) == \"ms-4\" # (margin-inline-start)\n",
    "assert str(me(4)) == \"me-4\" # (margin-inline-end)\n",
    "assert str(ms.auto) == \"ms-auto\"\n",
    "assert str(me.auto) == \"me-auto\"\n",
    "\n",
    "# Negative logical margins\n",
    "assert str(ms.negative(2)) == \"-ms-2\"\n",
    "assert str(me.negative(2)) == \"-me-2\""
   ]
  },
  {
   "cell_type": "markdown",
   "id": "a0937e74-94a5-47c1-95f2-63365be2cbf5",
   "metadata": {},
   "source": [
    "### Negative Margins\n",
    "\n",
    "Use negative margins to pull elements outside their parent or overlap:"
   ]
  },
  {
   "cell_type": "code",
   "execution_count": null,
   "id": "af93a7e0-7572-4405-b836-a2a2edbb2156",
   "metadata": {},
   "outputs": [],
   "source": [
    "# Negative values using negative=True\n",
    "assert str(m(4, negative=True)) == \"-m-4\"\n",
    "assert str(m.t(2, negative=True)) == \"-mt-2\"\n",
    "\n",
    "# Negative values using .negative property\n",
    "assert str(m.negative(4)) == \"-m-4\"\n",
    "assert str(m.t.negative(2)) == \"-mt-2\"\n",
    "assert str(m.x.negative(8)) == \"-mx-8\"\n",
    "\n",
    "# Negative special values\n",
    "assert str(m.negative.px) == \"-m-px\"\n",
    "assert str(m.y.negative.px) == \"-my-px\""
   ]
  },
  {
   "cell_type": "markdown",
   "id": "988e93cb-ab16-49f2-b47c-e1c3cb2b2d4f",
   "metadata": {},
   "source": [
    "## Space Between Utilities\n",
    "\n",
    "Tailwind also provides utilities for adding space between child elements."
   ]
  },
  {
   "cell_type": "code",
   "execution_count": null,
   "id": "cfc11291-9c33-435f-b29a-d6371c68f3a4",
   "metadata": {},
   "outputs": [],
   "source": [
    "#| export\n",
    "# Create space between factories\n",
    "# Note: space utilities use a hyphenated prefix pattern\n",
    "class SpaceFactory:\n",
    "    \"\"\"Special factory for space utilities that use hyphenated directions.\"\"\"\n",
    "    \n",
    "    def __init__(self):\n",
    "        \"Initialize with scaled factories.\"\n",
    "        self.x = ScaledFactory(\"space-x\", SPACING_CONFIG)\n",
    "        self.y = ScaledFactory(\"space-y\", SPACING_CONFIG)\n",
    "\n",
    "space = SpaceFactory() # The space factory\n",
    "\n",
    "# Space reverse utilities\n",
    "space_x_reverse = \"space-x-reverse\"  # Reverse the order of horizontal spacing\n",
    "space_y_reverse = \"space-y-reverse\"  # Reverse the order of vertical spacing"
   ]
  },
  {
   "cell_type": "code",
   "execution_count": null,
   "id": "d86e4eb8-412f-4d5b-9a1c-88e9c70f19ae",
   "metadata": {},
   "outputs": [],
   "source": [
    "# Horizontal spacing between children\n",
    "assert str(space.x(4)) == \"space-x-4\"\n",
    "assert str(space.x(8)) == \"space-x-8\"\n",
    "assert str(space.x(0)) == \"space-x-0\"\n",
    "assert str(space.x.px) == \"space-x-px\"\n",
    "\n",
    "# Vertical spacing between children\n",
    "assert str(space.y(4)) == \"space-y-4\"\n",
    "assert str(space.y(8)) == \"space-y-8\"\n",
    "\n",
    "# Negative space (overlap children)\n",
    "assert str(space.x.negative(2)) == \"-space-x-2\"\n",
    "assert str(space.y.negative(4)) == \"-space-y-4\"\n",
    "\n",
    "# Space reverse utilities\n",
    "assert space_x_reverse == \"space-x-reverse\"\n",
    "assert space_y_reverse == \"space-y-reverse\""
   ]
  },
  {
   "cell_type": "markdown",
   "id": "504a25d2-1b20-4261-b16b-afae9871d323",
   "metadata": {},
   "source": [
    "## Practical Examples\n",
    "\n",
    "Let's see how to use these utilities in real FastHTML components:"
   ]
  },
  {
   "cell_type": "code",
   "execution_count": null,
   "id": "7cd3e63f-b2bc-4272-beb7-86bf8bff4573",
   "metadata": {},
   "outputs": [],
   "source": [
    "from fasthtml.common import Div, P, Button, H2"
   ]
  },
  {
   "cell_type": "code",
   "execution_count": null,
   "id": "aca0dc9e-890e-401f-805e-81504c50d928",
   "metadata": {},
   "outputs": [],
   "source": [
    "# Card component with padding\n",
    "card = Div(\n",
    "    H2(\"Card Title\", cls=combine_classes(p.b(2))),\n",
    "    P(\"Card content goes here.\", cls=combine_classes(p.b(4))),\n",
    "    Button(\"Action\", cls=combine_classes(p.x(4), p.y(2))),\n",
    "    cls=combine_classes(p(6), m(4))\n",
    ")\n",
    "\n",
    "# Show the generated classes\n",
    "assert card.attrs['class'] == \"p-6 m-4\"\n",
    "assert card.children[0].attrs['class'] == \"pb-2\"\n",
    "assert card.children[2].attrs['class'] == \"px-4 py-2\""
   ]
  },
  {
   "cell_type": "code",
   "execution_count": null,
   "id": "f06050e0-b29c-4f0b-9af4-8c05ef4d7d85",
   "metadata": {},
   "outputs": [],
   "source": [
    "# Layout with negative margins\n",
    "overlap_layout = Div(\n",
    "    Div(\"Header\", cls=combine_classes(p(4), m.b.negative(8))),\n",
    "    Div(\"Content\", cls=combine_classes(p(8))),\n",
    "    cls=m(4)\n",
    ")\n",
    "\n",
    "assert overlap_layout.children[0].attrs['class'] == \"p-4 -mb-8\""
   ]
  },
  {
   "cell_type": "code",
   "execution_count": null,
   "id": "1c700b0f-0b5d-49b6-a61d-e6a4f0ea4569",
   "metadata": {},
   "outputs": [],
   "source": [
    "# Centered container with auto margins\n",
    "centered_container = Div(\n",
    "    \"Centered content\",\n",
    "    cls=combine_classes(m.x.auto, p(8), \"max-w-4xl\")\n",
    ")\n",
    "\n",
    "assert centered_container.attrs['class'] == \"mx-auto p-8 max-w-4xl\""
   ]
  },
  {
   "cell_type": "markdown",
   "id": "00b1b6b9-6df5-43df-80bb-e226df010c70",
   "metadata": {},
   "source": [
    "## Helper Functions\n",
    "\n",
    "Convenient functions for common spacing patterns:"
   ]
  },
  {
   "cell_type": "code",
   "execution_count": null,
   "id": "131efdd5-ba63-44f4-8210-bcb11db1744e",
   "metadata": {},
   "outputs": [],
   "source": [
    "#| export\n",
    "def pad(\n",
    "    all: Optional[TailwindScale] = None,  # Padding for all sides\n",
    "    x: Optional[TailwindScale] = None,    # Horizontal padding\n",
    "    y: Optional[TailwindScale] = None,    # Vertical padding\n",
    "    t: Optional[TailwindScale] = None,    # Top padding\n",
    "    r: Optional[TailwindScale] = None,    # Right padding\n",
    "    b: Optional[TailwindScale] = None,    # Bottom padding\n",
    "    l: Optional[TailwindScale] = None     # Left padding\n",
    ") -> str:  # Space-separated padding classes\n",
    "    \"\"\"Generate padding classes with a convenient API.\"\"\"\n",
    "    classes = []\n",
    "    \n",
    "    if all is not None:\n",
    "        classes.append(str(p(all)))\n",
    "    if x is not None:\n",
    "        classes.append(str(p.x(x)))\n",
    "    if y is not None:\n",
    "        classes.append(str(p.y(y)))\n",
    "    if t is not None:\n",
    "        classes.append(str(p.t(t)))\n",
    "    if r is not None:\n",
    "        classes.append(str(p.r(r)))\n",
    "    if b is not None:\n",
    "        classes.append(str(p.b(b)))\n",
    "    if l is not None:\n",
    "        classes.append(str(p.l(l)))\n",
    "    \n",
    "    return combine_classes(*classes)"
   ]
  },
  {
   "cell_type": "code",
   "execution_count": null,
   "id": "fc00af5b-02b1-4811-bea5-fd5637b0589d",
   "metadata": {},
   "outputs": [],
   "source": [
    "#| export\n",
    "def margin(\n",
    "    all: Optional[TailwindScale] = None,  # Margin for all sides\n",
    "    x: Optional[TailwindScale] = None,    # Horizontal margin\n",
    "    y: Optional[TailwindScale] = None,    # Vertical margin\n",
    "    t: Optional[TailwindScale] = None,    # Top margin\n",
    "    r: Optional[TailwindScale] = None,    # Right margin\n",
    "    b: Optional[TailwindScale] = None,    # Bottom margin\n",
    "    l: Optional[TailwindScale] = None,    # Left margin\n",
    "    negative: bool = False                 # Apply negative margins\n",
    ") -> str:  # Space-separated margin classes\n",
    "    \"\"\"Generate margin classes with a convenient API.\"\"\"\n",
    "    classes = []\n",
    "    \n",
    "    if all is not None:\n",
    "        classes.append(str(m(all, negative=negative)))\n",
    "    if x is not None:\n",
    "        if x == \"auto\":\n",
    "            classes.append(str(m.x.auto))\n",
    "        else:\n",
    "            classes.append(str(m.x(x, negative=negative)))\n",
    "    if y is not None:\n",
    "        if y == \"auto\":\n",
    "            classes.append(str(m.y.auto))\n",
    "        else:\n",
    "            classes.append(str(m.y(y, negative=negative)))\n",
    "    if t is not None:\n",
    "        classes.append(str(m.t(t, negative=negative)))\n",
    "    if r is not None:\n",
    "        classes.append(str(m.r(r, negative=negative)))\n",
    "    if b is not None:\n",
    "        classes.append(str(m.b(b, negative=negative)))\n",
    "    if l is not None:\n",
    "        classes.append(str(m.l(l, negative=negative)))\n",
    "    \n",
    "    return combine_classes(*classes)"
   ]
  },
  {
   "cell_type": "code",
   "execution_count": null,
   "id": "0bd54f2b-504b-47f9-b248-3827348c5689",
   "metadata": {},
   "outputs": [],
   "source": [
    "# Test helper functions\n",
    "assert pad(4) == \"p-4\"\n",
    "assert pad(x=8, y=4) == \"px-8 py-4\"\n",
    "assert pad(t=2, b=4, x=6) == \"px-6 pt-2 pb-4\"\n",
    "\n",
    "assert margin(4) == \"m-4\"\n",
    "assert margin(x=\"auto\", y=8) == \"mx-auto my-8\"\n",
    "assert margin(t=4, negative=True) == \"-mt-4\""
   ]
  },
  {
   "cell_type": "markdown",
   "id": "f6de5749-336f-4c08-a482-9e6cccc43256",
   "metadata": {},
   "source": [
    "## Testing\n",
    "\n",
    "Let's run comprehensive tests to ensure our spacing utilities work correctly:"
   ]
  },
  {
   "cell_type": "code",
   "execution_count": null,
   "id": "bcc29434-a59f-4f72-9364-f556a12d4472",
   "metadata": {},
   "outputs": [],
   "source": [
    "# Test all padding variations\n",
    "assert str(p(0)) == \"p-0\"\n",
    "assert str(p(4)) == \"p-4\"\n",
    "assert str(p(2.5)) == \"p-2.5\"\n",
    "assert str(p.px) == \"p-px\"\n",
    "assert str(p.auto) == \"p-auto\"\n",
    "assert str(p(\"10px\")) == \"p-[10px]\"\n",
    "assert str(p(\"--custom\")) == \"p-(--custom)\"\n",
    "\n",
    "# Test directional padding\n",
    "assert str(p.t(4)) == \"pt-4\"\n",
    "assert str(p.r(4)) == \"pr-4\"\n",
    "assert str(p.b(4)) == \"pb-4\"\n",
    "assert str(p.l(4)) == \"pl-4\"\n",
    "assert str(p.x(8)) == \"px-8\"\n",
    "assert str(p.y(8)) == \"py-8\"\n",
    "\n",
    "# Test logical padding properties\n",
    "assert str(ps(4)) == \"ps-4\"\n",
    "assert str(pe(4)) == \"pe-4\"\n",
    "assert str(ps.px) == \"ps-px\"\n",
    "assert str(pe(\"--custom\")) == \"pe-(--custom)\""
   ]
  },
  {
   "cell_type": "code",
   "execution_count": null,
   "id": "08dc9332-5734-4fcd-b720-451879613c3d",
   "metadata": {},
   "outputs": [],
   "source": [
    "# Test all margin variations\n",
    "assert str(m(0)) == \"m-0\"\n",
    "assert str(m(4)) == \"m-4\"\n",
    "assert str(m(2.5)) == \"m-2.5\"\n",
    "assert str(m.px) == \"m-px\"\n",
    "assert str(m.auto) == \"m-auto\"\n",
    "assert str(m(\"10px\")) == \"m-[10px]\"\n",
    "assert str(m(\"--custom\")) == \"m-(--custom)\"\n",
    "\n",
    "# Test directional margin\n",
    "assert str(m.t(4)) == \"mt-4\"\n",
    "assert str(m.r(4)) == \"mr-4\"\n",
    "assert str(m.b(4)) == \"mb-4\"\n",
    "assert str(m.l(4)) == \"ml-4\"\n",
    "assert str(m.x(8)) == \"mx-8\"\n",
    "assert str(m.y(8)) == \"my-8\"\n",
    "assert str(m.x.auto) == \"mx-auto\"\n",
    "assert str(m.y.auto) == \"my-auto\"\n",
    "\n",
    "# Test logical margin properties\n",
    "assert str(ms(4)) == \"ms-4\"\n",
    "assert str(me(4)) == \"me-4\"\n",
    "assert str(ms.auto) == \"ms-auto\"\n",
    "assert str(me.auto) == \"me-auto\"\n",
    "assert str(ms.px) == \"ms-px\"\n",
    "assert str(me(\"--custom\")) == \"me-(--custom)\""
   ]
  },
  {
   "cell_type": "code",
   "execution_count": null,
   "id": "407e2f1d-ff8a-4512-a9db-679668cb8d29",
   "metadata": {},
   "outputs": [],
   "source": [
    "# Test negative margins\n",
    "assert str(m(4, negative=True)) == \"-m-4\"\n",
    "assert str(m.negative(4)) == \"-m-4\"\n",
    "assert str(m.t.negative(2)) == \"-mt-2\"\n",
    "assert str(m.x.negative(8)) == \"-mx-8\"\n",
    "assert str(m.negative.px) == \"-m-px\"\n",
    "\n",
    "# Test negative logical margins\n",
    "assert str(ms.negative(4)) == \"-ms-4\"\n",
    "assert str(me.negative(4)) == \"-me-4\"\n",
    "assert str(ms.negative.px) == \"-ms-px\"\n",
    "\n",
    "# Test space utilities\n",
    "assert str(space.x(4)) == \"space-x-4\"\n",
    "assert str(space.y(4)) == \"space-y-4\"\n",
    "assert str(space.x.negative(2)) == \"-space-x-2\"\n",
    "\n",
    "# Test space reverse utilities\n",
    "assert space_x_reverse == \"space-x-reverse\"\n",
    "assert space_y_reverse == \"space-y-reverse\""
   ]
  },
  {
   "cell_type": "code",
   "execution_count": null,
   "id": "864e81f2-fc22-41d7-a72b-a360779811e8",
   "metadata": {},
   "outputs": [
    {
     "name": "stdout",
     "output_type": "stream",
     "text": [
      "pad(t=2, b=4, x=6) = 'px-6 pt-2 pb-4'\n"
     ]
    }
   ],
   "source": [
    "# Test helper functions\n",
    "assert pad(4) == \"p-4\"\n",
    "assert pad(x=8, y=4) == \"px-8 py-4\"\n",
    "\n",
    "# Check actual output order\n",
    "result = pad(t=2, b=4, x=6)\n",
    "print(f\"pad(t=2, b=4, x=6) = '{result}'\")\n",
    "assert result == \"px-6 pt-2 pb-4\"  # Order: x, t, b\n",
    "\n",
    "assert pad(all=4, x=8) == \"p-4 px-8\"  # x overrides all for horizontal\n",
    "\n",
    "assert margin(4) == \"m-4\"\n",
    "assert margin(x=\"auto\", y=8) == \"mx-auto my-8\"\n",
    "assert margin(t=4, negative=True) == \"-mt-4\"\n",
    "assert margin(all=4, negative=True) == \"-m-4\""
   ]
  },
  {
   "cell_type": "code",
   "execution_count": null,
   "id": "f664cf4e-de03-4743-ba6e-08027b7c6e49",
   "metadata": {},
   "outputs": [
    {
     "name": "stdout",
     "output_type": "stream",
     "text": [
      "✅ All spacing utility tests passed!\n"
     ]
    }
   ],
   "source": [
    "print(\"✅ All spacing utility tests passed!\")"
   ]
  },
  {
   "cell_type": "code",
   "execution_count": null,
   "id": "4bfbc7ce-7328-43b7-97e4-d4fcf9059e9c",
   "metadata": {},
   "outputs": [],
   "source": []
  },
  {
   "cell_type": "code",
   "execution_count": null,
   "id": "adf95cb5-a2d1-4f98-b7ef-f1ddc58f13f2",
   "metadata": {},
   "outputs": [],
   "source": []
  },
  {
   "cell_type": "code",
   "execution_count": null,
   "id": "91a641f1-ba1c-4d2a-b55a-d419e4c3d3ae",
   "metadata": {},
   "outputs": [],
   "source": []
  },
  {
   "cell_type": "code",
   "execution_count": null,
   "id": "ceddfd13-1328-4978-9694-d85b83826010",
   "metadata": {},
   "outputs": [],
   "source": []
  },
  {
   "cell_type": "code",
   "execution_count": null,
   "id": "8f1251ea-b337-40f0-af76-7b0d20f49f8c",
   "metadata": {},
   "outputs": [],
   "source": []
  },
  {
   "cell_type": "code",
   "execution_count": null,
   "id": "24074ae2-9899-4301-b606-019f9773096a",
   "metadata": {},
   "outputs": [],
   "source": []
  },
  {
   "cell_type": "code",
   "execution_count": null,
   "id": "8b03e298-9b12-4d17-8fec-147f15f4cf25",
   "metadata": {},
   "outputs": [],
   "source": []
  },
  {
   "cell_type": "code",
   "execution_count": null,
   "id": "e287c254-4253-421e-a1dc-9ac5af30de45",
   "metadata": {},
   "outputs": [],
   "source": []
  },
  {
   "cell_type": "code",
   "execution_count": null,
   "id": "2e053d91-d157-422b-ba0b-4f776b15b8dd",
   "metadata": {},
   "outputs": [],
   "source": []
  },
  {
   "cell_type": "code",
   "execution_count": null,
   "id": "1915a622-6e12-4432-b44a-cdde5a2cb60b",
   "metadata": {},
   "outputs": [],
   "source": []
  },
  {
   "cell_type": "code",
   "execution_count": null,
   "id": "ab589050-38ed-436f-81bb-4db315265131",
   "metadata": {},
   "outputs": [],
   "source": []
  },
  {
   "cell_type": "code",
   "execution_count": null,
   "id": "f73c09cd-1561-4940-824f-20b3641a1590",
   "metadata": {},
   "outputs": [],
   "source": []
  },
  {
   "cell_type": "code",
   "execution_count": null,
   "id": "c894f954-6618-4b56-be2a-d892db66f590",
   "metadata": {},
   "outputs": [],
   "source": []
  },
  {
   "cell_type": "code",
   "execution_count": null,
   "id": "dd52fe19-eb91-4ba1-a136-4f50027cf30b",
   "metadata": {},
   "outputs": [],
   "source": []
  },
  {
   "cell_type": "code",
   "execution_count": null,
   "id": "2667fc8a-cc2b-41aa-a911-29aac69cdeba",
   "metadata": {},
   "outputs": [],
   "source": []
  },
  {
   "cell_type": "code",
   "execution_count": null,
   "id": "3167243c-bd9f-4b65-9a3f-46b76d390253",
   "metadata": {},
   "outputs": [],
   "source": []
  },
  {
   "cell_type": "code",
   "execution_count": null,
   "id": "c015fc67-ee80-42f3-8323-5205d4f64036",
   "metadata": {},
   "outputs": [],
   "source": []
  },
  {
   "cell_type": "code",
   "execution_count": null,
   "id": "7f05c4b9-7453-4ccc-99c0-fcc418ca47ad",
   "metadata": {},
   "outputs": [],
   "source": []
  },
  {
   "cell_type": "code",
   "execution_count": null,
   "id": "5664c1be-ca91-43bd-aebc-c1150e0f5d0a",
   "metadata": {},
   "outputs": [],
   "source": []
  },
  {
   "cell_type": "code",
   "execution_count": null,
   "id": "902d47ff-b613-441e-8ad3-d24622ace923",
   "metadata": {},
   "outputs": [],
   "source": []
  },
  {
   "cell_type": "code",
   "execution_count": null,
   "id": "989f4de5-51c9-4370-81ec-f79cfc927b1d",
   "metadata": {},
   "outputs": [],
   "source": []
  },
  {
   "cell_type": "code",
   "execution_count": null,
   "id": "033e86a6-d0e8-45f0-afc3-b981c173e730",
   "metadata": {},
   "outputs": [],
   "source": []
  },
  {
   "cell_type": "code",
   "execution_count": null,
   "id": "be6e4cdb-33b0-4692-878c-db9cd4845bf1",
   "metadata": {},
   "outputs": [],
   "source": []
  },
  {
   "cell_type": "code",
   "execution_count": null,
   "id": "62877f46-5712-4c4e-9689-bd4ac8a6d9ab",
   "metadata": {},
   "outputs": [],
   "source": []
  },
  {
   "cell_type": "code",
   "execution_count": null,
   "id": "25faf020-51ba-4291-b35a-5408b791f256",
   "metadata": {},
   "outputs": [],
   "source": []
  },
  {
   "cell_type": "code",
   "execution_count": null,
   "id": "8ce73797-1a83-42ac-ad84-ace08eeca35a",
   "metadata": {},
   "outputs": [],
   "source": []
  },
  {
   "cell_type": "code",
   "execution_count": null,
   "id": "e586536f-d022-463b-917a-6feccb558d53",
   "metadata": {},
   "outputs": [],
   "source": []
  },
  {
   "cell_type": "markdown",
   "id": "12f8679b-02a4-4114-b046-3a92f09a3d20",
   "metadata": {},
   "source": [
    "## Export"
   ]
  },
  {
   "cell_type": "code",
   "execution_count": null,
   "id": "69a3cbc6-6410-43fe-b447-707c54e0dc4f",
   "metadata": {},
   "outputs": [],
   "source": [
    "#| hide\n",
    "import nbdev; nbdev.nbdev_export()"
   ]
  }
 ],
 "metadata": {
  "kernelspec": {
   "display_name": "python3",
   "language": "python",
   "name": "python3"
  }
 },
 "nbformat": 4,
 "nbformat_minor": 5
}
