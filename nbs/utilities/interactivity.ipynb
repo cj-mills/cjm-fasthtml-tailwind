{
 "cells": [
  {
   "cell_type": "markdown",
   "id": "63dcdcfd-c3c6-41fe-ab7d-7f5135e900b6",
   "metadata": {},
   "source": [
    "# interactivity\n",
    "\n",
    "> Interactivity utilities for Tailwind CSS"
   ]
  },
  {
   "cell_type": "code",
   "execution_count": null,
   "id": "25f0ff6e-d04f-43c3-b2f0-7011f30ac56b",
   "metadata": {},
   "outputs": [],
   "source": [
    "#| default_exp utilities.interactivity"
   ]
  },
  {
   "cell_type": "code",
   "execution_count": null,
   "id": "897f6dd9-7441-464f-8b16-b0c231c7fb62",
   "metadata": {},
   "outputs": [],
   "source": [
    "#| hide\n",
    "from nbdev.showdoc import *"
   ]
  },
  {
   "cell_type": "code",
   "execution_count": null,
   "id": "e1b0dd2c-fdd6-4301-9504-51c16a4a20de",
   "metadata": {},
   "outputs": [],
   "source": [
    "#| export\n",
    "from typing import Optional, Union, Dict, Any\n",
    "from cjm_fasthtml_tailwind.core.base import (\n",
    "    SingleValueFactory, BaseFactory, BaseUtility, StandardUtility,\n",
    "    combine_classes, TailwindValue, is_custom_property, is_arbitrary_value\n",
    ")\n",
    "from cjm_fasthtml_tailwind.builders.colors import ColoredFactory\n",
    "from cjm_fasthtml_tailwind.builders.scales import (\n",
    "    SimpleFactory, DirectionalScaledFactory, ScaledFactory, SPACING_CONFIG\n",
    ")\n",
    "\n",
    "from fasthtml.common import Div\n",
    "from fasthtml.jupyter import JupyUvi, HTMX\n",
    "from cjm_fasthtml_tailwind.core.testing import create_test_app, create_test_page, start_test_server\n",
    "from IPython.display import display"
   ]
  },
  {
   "cell_type": "markdown",
   "id": "0e390630-25c4-45df-800b-adce47753e11",
   "metadata": {},
   "source": [
    "## Accent Color\n",
    "\n",
    "Utilities for controlling the accented color of form controls (like checkboxes, radio buttons, and range sliders):"
   ]
  },
  {
   "cell_type": "code",
   "execution_count": null,
   "id": "8aae2c01-efb7-4b0c-9a52-c722964ac7ad",
   "metadata": {},
   "outputs": [],
   "source": [
    "#| exports\n",
    "accent = ColoredFactory(\"accent\", \"Accent color utilities for form controls like checkboxes, radio buttons, and range sliders\") # The accent color factory"
   ]
  },
  {
   "cell_type": "code",
   "execution_count": null,
   "id": "34d206a3-75ea-4cde-990b-4a722b8de38d",
   "metadata": {},
   "outputs": [],
   "source": [
    "#|exports\n",
    "def test_interactivity_accent_examples():\n",
    "    \"\"\"Test accent color utilities.\"\"\"\n",
    "    \n",
    "    # Test all 22 color families\n",
    "    assert str(accent.red._500) == \"accent-red-500\"\n",
    "    assert str(accent.orange._500) == \"accent-orange-500\"\n",
    "    assert str(accent.amber._500) == \"accent-amber-500\"\n",
    "    assert str(accent.yellow._500) == \"accent-yellow-500\"\n",
    "    assert str(accent.lime._500) == \"accent-lime-500\"\n",
    "    assert str(accent.green._500) == \"accent-green-500\"\n",
    "    assert str(accent.emerald._500) == \"accent-emerald-500\"\n",
    "    assert str(accent.teal._500) == \"accent-teal-500\"\n",
    "    assert str(accent.cyan._500) == \"accent-cyan-500\"\n",
    "    assert str(accent.sky._500) == \"accent-sky-500\"\n",
    "    assert str(accent.blue._500) == \"accent-blue-500\"\n",
    "    assert str(accent.indigo._500) == \"accent-indigo-500\"\n",
    "    assert str(accent.violet._500) == \"accent-violet-500\"\n",
    "    assert str(accent.purple._500) == \"accent-purple-500\"\n",
    "    assert str(accent.fuchsia._500) == \"accent-fuchsia-500\"\n",
    "    assert str(accent.pink._500) == \"accent-pink-500\"\n",
    "    assert str(accent.rose._500) == \"accent-rose-500\"\n",
    "    assert str(accent.slate._500) == \"accent-slate-500\"\n",
    "    assert str(accent.gray._500) == \"accent-gray-500\"\n",
    "    assert str(accent.zinc._500) == \"accent-zinc-500\"\n",
    "    assert str(accent.neutral._500) == \"accent-neutral-500\"\n",
    "    assert str(accent.stone._500) == \"accent-stone-500\"\n",
    "    \n",
    "    # Special colors\n",
    "    assert str(accent.inherit) == \"accent-inherit\"\n",
    "    assert str(accent.current) == \"accent-current\"\n",
    "    assert str(accent.transparent) == \"accent-transparent\"\n",
    "    assert str(accent.black) == \"accent-black\"\n",
    "    assert str(accent.white) == \"accent-white\"\n",
    "    \n",
    "    # Arbitrary values\n",
    "    assert str(accent(\"#ff0000\")) == \"accent-[#ff0000]\"\n",
    "    assert str(accent(\"--custom-accent\")) == \"accent-(--custom-accent)\"\n",
    "\n",
    "# Run the tests\n",
    "test_interactivity_accent_examples()"
   ]
  },
  {
   "cell_type": "markdown",
   "id": "b6ae8c31-7a20-4af0-867c-9e78ee6428db",
   "metadata": {},
   "source": [
    "## Appearance\n",
    "\n",
    "Utilities for suppressing native form control styling:"
   ]
  },
  {
   "cell_type": "code",
   "execution_count": null,
   "id": "dd2ef236-a604-4b79-b971-a435f1d24bc2",
   "metadata": {},
   "outputs": [],
   "source": [
    "#| exports\n",
    "appearance = SimpleFactory(\n",
    "    {\n",
    "        \"none\": \"appearance-none\",\n",
    "        \"auto\": \"appearance-auto\"\n",
    "    },\n",
    "    \"Appearance utilities for suppressing or restoring native form control styling\"\n",
    ") # Appearance factory"
   ]
  },
  {
   "cell_type": "code",
   "execution_count": null,
   "id": "2e6cc86e-3240-4a6a-9fd8-1b14786e1263",
   "metadata": {},
   "outputs": [],
   "source": [
    "#|exports\n",
    "def test_interactivity_appearance_examples():\n",
    "    \"\"\"Test appearance utilities.\"\"\"\n",
    "    assert str(appearance.none) == \"appearance-none\"\n",
    "    assert str(appearance.auto) == \"appearance-auto\"\n",
    "\n",
    "# Run the tests\n",
    "test_interactivity_appearance_examples()"
   ]
  },
  {
   "cell_type": "markdown",
   "id": "27a6fcf1-8b6c-4b0a-8bb9-fd31fda4e350",
   "metadata": {},
   "source": [
    "## Caret Color\n",
    "\n",
    "Utilities for controlling the color of the text input cursor:"
   ]
  },
  {
   "cell_type": "code",
   "execution_count": null,
   "id": "9e2bf9e1-af55-4b93-92d4-44d9e72e3ce1",
   "metadata": {},
   "outputs": [],
   "source": [
    "#| exports\n",
    "caret = ColoredFactory(\"caret\", \"Caret color utilities for controlling the color of the text input cursor\") # The caret color factory"
   ]
  },
  {
   "cell_type": "code",
   "execution_count": null,
   "id": "7120cc62-c5d4-47a1-8b2f-03788c6dd8f5",
   "metadata": {},
   "outputs": [],
   "source": [
    "#|exports\n",
    "def test_interactivity_caret_examples():\n",
    "    \"\"\"Test caret color utilities.\"\"\"\n",
    "    \n",
    "    # Test all 22 color families\n",
    "    assert str(caret.red._500) == \"caret-red-500\"\n",
    "    assert str(caret.orange._500) == \"caret-orange-500\"\n",
    "    assert str(caret.amber._500) == \"caret-amber-500\"\n",
    "    assert str(caret.yellow._500) == \"caret-yellow-500\"\n",
    "    assert str(caret.lime._500) == \"caret-lime-500\"\n",
    "    assert str(caret.green._500) == \"caret-green-500\"\n",
    "    assert str(caret.emerald._500) == \"caret-emerald-500\"\n",
    "    assert str(caret.teal._500) == \"caret-teal-500\"\n",
    "    assert str(caret.cyan._500) == \"caret-cyan-500\"\n",
    "    assert str(caret.sky._500) == \"caret-sky-500\"\n",
    "    assert str(caret.blue._500) == \"caret-blue-500\"\n",
    "    assert str(caret.indigo._500) == \"caret-indigo-500\"\n",
    "    assert str(caret.violet._500) == \"caret-violet-500\"\n",
    "    assert str(caret.purple._500) == \"caret-purple-500\"\n",
    "    assert str(caret.fuchsia._500) == \"caret-fuchsia-500\"\n",
    "    assert str(caret.pink._500) == \"caret-pink-500\"\n",
    "    assert str(caret.rose._500) == \"caret-rose-500\"\n",
    "    assert str(caret.slate._500) == \"caret-slate-500\"\n",
    "    assert str(caret.gray._500) == \"caret-gray-500\"\n",
    "    assert str(caret.zinc._500) == \"caret-zinc-500\"\n",
    "    assert str(caret.neutral._500) == \"caret-neutral-500\"\n",
    "    assert str(caret.stone._500) == \"caret-stone-500\"\n",
    "    \n",
    "    # Special colors\n",
    "    assert str(caret.inherit) == \"caret-inherit\"\n",
    "    assert str(caret.current) == \"caret-current\"\n",
    "    assert str(caret.transparent) == \"caret-transparent\"\n",
    "    assert str(caret.black) == \"caret-black\"\n",
    "    assert str(caret.white) == \"caret-white\"\n",
    "    \n",
    "    # Arbitrary values\n",
    "    assert str(caret(\"#ff0000\")) == \"caret-[#ff0000]\"\n",
    "    assert str(caret(\"--custom-caret\")) == \"caret-(--custom-caret)\"\n",
    "\n",
    "# Run the tests\n",
    "test_interactivity_caret_examples()"
   ]
  },
  {
   "cell_type": "markdown",
   "id": "16d65161-6f53-4600-b509-707ef25904de",
   "metadata": {},
   "source": [
    "## Color Scheme\n",
    "\n",
    "Utilities for controlling the color scheme of an element:"
   ]
  },
  {
   "cell_type": "code",
   "execution_count": null,
   "id": "3068f980-06fc-48da-8e25-e96d22cbc809",
   "metadata": {},
   "outputs": [],
   "source": [
    "#| exports\n",
    "scheme = SimpleFactory(\n",
    "    {\n",
    "        \"normal\": \"scheme-normal\",\n",
    "        \"dark\": \"scheme-dark\",\n",
    "        \"light\": \"scheme-light\",\n",
    "        \"light_dark\": \"scheme-light-dark\",\n",
    "        \"only_dark\": \"scheme-only-dark\",\n",
    "        \"only_light\": \"scheme-only-light\"\n",
    "    },\n",
    "    \"Color scheme utilities for controlling the preferred color scheme of an element\"\n",
    ") # Color scheme factory"
   ]
  },
  {
   "cell_type": "code",
   "execution_count": null,
   "id": "be3b9852-408a-42ab-b708-ec136088dd83",
   "metadata": {},
   "outputs": [],
   "source": [
    "#|exports\n",
    "def test_interactivity_scheme_examples():\n",
    "    \"\"\"Test color scheme utilities.\"\"\"\n",
    "    assert str(scheme.normal) == \"scheme-normal\"\n",
    "    assert str(scheme.dark) == \"scheme-dark\"\n",
    "    assert str(scheme.light) == \"scheme-light\"\n",
    "    assert str(scheme.light_dark) == \"scheme-light-dark\"\n",
    "    assert str(scheme.only_dark) == \"scheme-only-dark\"\n",
    "    assert str(scheme.only_light) == \"scheme-only-light\"\n",
    "\n",
    "# Run the tests\n",
    "test_interactivity_scheme_examples()"
   ]
  },
  {
   "cell_type": "code",
   "execution_count": null,
   "id": "7ade0bf8-cfe5-4d9a-ba02-55fef3a5715e",
   "metadata": {},
   "outputs": [],
   "source": []
  },
  {
   "cell_type": "markdown",
   "id": "e07b9cd3-68ad-4321-9ecc-1a95dbc57931",
   "metadata": {},
   "source": [
    "## Cursor\n",
    "\n",
    "Utilities for controlling the cursor style when hovering over an element:"
   ]
  },
  {
   "cell_type": "code",
   "execution_count": null,
   "id": "e67212b9-331d-4afe-b011-0b525a65031f",
   "metadata": {},
   "outputs": [],
   "source": [
    "#| export\n",
    "# Cursor utilities with enhanced arbitrary value support\n",
    "class CursorFactory(SimpleFactory):\n",
    "    \"\"\"Factory for cursor utilities with arbitrary value support.\"\"\"\n",
    "    \n",
    "    def __call__(\n",
    "        self,\n",
    "        value: str  # Cursor value (custom property or arbitrary)\n",
    "    ) -> str:  # The cursor utility class\n",
    "        \"\"\"Create cursor utility with arbitrary value.\"\"\"\n",
    "        if is_custom_property(value):\n",
    "            return f\"cursor-({value})\"\n",
    "        else:\n",
    "            return f\"cursor-[{value}]\"\n",
    "    \n",
    "    def __getattr__(\n",
    "        self,\n",
    "        name: str  # Attribute name to access cursor value\n",
    "    ) -> str:  # The cursor utility class\n",
    "        \"\"\"Get cursor value by attribute name.\"\"\"\n",
    "        # First check if it exists in the values dict\n",
    "        key = name.replace(\"_\", \"-\")\n",
    "        if key in self._values:\n",
    "            return self._values[key]\n",
    "        # For any other attribute, treat as arbitrary value\n",
    "        return f\"cursor-[{name.replace('_', '-')}]\""
   ]
  },
  {
   "cell_type": "code",
   "execution_count": null,
   "id": "52c949d4-da79-459b-a9c5-09a42ad8c6f8",
   "metadata": {},
   "outputs": [],
   "source": [
    "#| exports\n",
    "cursor = CursorFactory(\n",
    "    {\n",
    "        \"auto\": \"cursor-auto\",\n",
    "        \"default\": \"cursor-default\",\n",
    "        \"pointer\": \"cursor-pointer\",\n",
    "        \"wait\": \"cursor-wait\",\n",
    "        \"text\": \"cursor-text\",\n",
    "        \"move\": \"cursor-move\",\n",
    "        \"help\": \"cursor-help\",\n",
    "        \"not-allowed\": \"cursor-not-allowed\",\n",
    "        \"none\": \"cursor-none\",\n",
    "        \"context-menu\": \"cursor-context-menu\",\n",
    "        \"progress\": \"cursor-progress\",\n",
    "        \"cell\": \"cursor-cell\",\n",
    "        \"crosshair\": \"cursor-crosshair\",\n",
    "        \"vertical-text\": \"cursor-vertical-text\",\n",
    "        \"alias\": \"cursor-alias\",\n",
    "        \"copy\": \"cursor-copy\",\n",
    "        \"no-drop\": \"cursor-no-drop\",\n",
    "        \"grab\": \"cursor-grab\",\n",
    "        \"grabbing\": \"cursor-grabbing\",\n",
    "        \"all-scroll\": \"cursor-all-scroll\",\n",
    "        \"col-resize\": \"cursor-col-resize\",\n",
    "        \"row-resize\": \"cursor-row-resize\",\n",
    "        \"n-resize\": \"cursor-n-resize\",\n",
    "        \"e-resize\": \"cursor-e-resize\",\n",
    "        \"s-resize\": \"cursor-s-resize\",\n",
    "        \"w-resize\": \"cursor-w-resize\",\n",
    "        \"ne-resize\": \"cursor-ne-resize\",\n",
    "        \"nw-resize\": \"cursor-nw-resize\",\n",
    "        \"se-resize\": \"cursor-se-resize\",\n",
    "        \"sw-resize\": \"cursor-sw-resize\",\n",
    "        \"ew-resize\": \"cursor-ew-resize\",\n",
    "        \"ns-resize\": \"cursor-ns-resize\",\n",
    "        \"nesw-resize\": \"cursor-nesw-resize\",\n",
    "        \"nwse-resize\": \"cursor-nwse-resize\",\n",
    "        \"zoom-in\": \"cursor-zoom-in\",\n",
    "        \"zoom-out\": \"cursor-zoom-out\"\n",
    "    },\n",
    "    \"Cursor utilities for controlling the cursor style when hovering over an element\"\n",
    ") # Cursor factory"
   ]
  },
  {
   "cell_type": "code",
   "execution_count": null,
   "id": "cfecb74a-bf6c-4148-85bc-92b64e8efa62",
   "metadata": {},
   "outputs": [],
   "source": [
    "#|exports\n",
    "def test_interactivity_cursor_examples():\n",
    "    \"\"\"Test cursor utilities.\"\"\"\n",
    "    # Common cursors\n",
    "    assert str(cursor.auto) == \"cursor-auto\"\n",
    "    assert str(cursor.default) == \"cursor-default\"\n",
    "    assert str(cursor.pointer) == \"cursor-pointer\"\n",
    "    assert str(cursor.wait) == \"cursor-wait\"\n",
    "    assert str(cursor.text) == \"cursor-text\"\n",
    "    assert str(cursor.move) == \"cursor-move\"\n",
    "    assert str(cursor.help) == \"cursor-help\"\n",
    "    assert str(cursor.not_allowed) == \"cursor-not-allowed\"\n",
    "    \n",
    "    # Resize cursors\n",
    "    assert str(cursor.n_resize) == \"cursor-n-resize\"\n",
    "    assert str(cursor.ne_resize) == \"cursor-ne-resize\"\n",
    "    assert str(cursor.col_resize) == \"cursor-col-resize\"\n",
    "    assert str(cursor.row_resize) == \"cursor-row-resize\"\n",
    "    \n",
    "    # Special cursors\n",
    "    assert str(cursor.grab) == \"cursor-grab\"\n",
    "    assert str(cursor.grabbing) == \"cursor-grabbing\"\n",
    "    assert str(cursor.zoom_in) == \"cursor-zoom-in\"\n",
    "    assert str(cursor.zoom_out) == \"cursor-zoom-out\"\n",
    "    \n",
    "    # Custom properties and arbitrary values\n",
    "    assert cursor(\"--custom-cursor\") == \"cursor-(--custom-cursor)\"\n",
    "    assert cursor(\"url(cursor.png), auto\") == \"cursor-[url(cursor.png), auto]\"\n",
    "\n",
    "# Run the tests\n",
    "test_interactivity_cursor_examples()"
   ]
  },
  {
   "cell_type": "markdown",
   "id": "6a01ecf7-d83e-4756-8e87-6b991b77ddf8",
   "metadata": {},
   "source": [
    "## Field Sizing\n",
    "\n",
    "Utilities for controlling the sizing of form controls:"
   ]
  },
  {
   "cell_type": "code",
   "execution_count": null,
   "id": "5f9dccaa-213b-4294-b843-d231ef741162",
   "metadata": {},
   "outputs": [],
   "source": [
    "#| exports\n",
    "field_sizing = SimpleFactory(\n",
    "    {\n",
    "        \"fixed\": \"field-sizing-fixed\",\n",
    "        \"content\": \"field-sizing-content\"\n",
    "    },\n",
    "    \"Field sizing utilities for controlling how form controls are sized\"\n",
    ") # Field sizing factory"
   ]
  },
  {
   "cell_type": "code",
   "execution_count": null,
   "id": "42af87e0-33b5-45dc-ad31-d4df461a8701",
   "metadata": {},
   "outputs": [],
   "source": [
    "#|exports\n",
    "def test_interactivity_field_sizing_examples():\n",
    "    \"\"\"Test field sizing utilities.\"\"\"\n",
    "    assert str(field_sizing.fixed) == \"field-sizing-fixed\"\n",
    "    assert str(field_sizing.content) == \"field-sizing-content\"\n",
    "\n",
    "# Run the tests\n",
    "test_interactivity_field_sizing_examples()"
   ]
  },
  {
   "cell_type": "markdown",
   "id": "daae77f3-663e-4851-b65a-62bcac81c344",
   "metadata": {},
   "source": [
    "## Pointer Events\n",
    "\n",
    "Utilities for controlling whether an element responds to pointer events:"
   ]
  },
  {
   "cell_type": "code",
   "execution_count": null,
   "id": "3cb70020-32b9-42e1-ac40-2fb24f2d7767",
   "metadata": {},
   "outputs": [],
   "source": [
    "#| exports\n",
    "pointer_events = SimpleFactory(\n",
    "    {\n",
    "        \"auto\": \"pointer-events-auto\",\n",
    "        \"none\": \"pointer-events-none\"\n",
    "    },\n",
    "    \"Pointer events utilities for controlling whether an element responds to pointer events\"\n",
    ") # Pointer events factory"
   ]
  },
  {
   "cell_type": "code",
   "execution_count": null,
   "id": "e1e40216-2c51-4fa1-8245-b94732707c68",
   "metadata": {},
   "outputs": [],
   "source": [
    "#|exports\n",
    "def test_interactivity_pointer_events_examples():\n",
    "    \"\"\"Test pointer events utilities.\"\"\"\n",
    "    assert str(pointer_events.auto) == \"pointer-events-auto\"\n",
    "    assert str(pointer_events.none) == \"pointer-events-none\"\n",
    "\n",
    "# Run the tests\n",
    "test_interactivity_pointer_events_examples()"
   ]
  },
  {
   "cell_type": "markdown",
   "id": "23b2c385-bab1-48e4-a69d-68db7fccd154",
   "metadata": {},
   "source": [
    "## Resize\n",
    "\n",
    "Utilities for controlling how an element can be resized:"
   ]
  },
  {
   "cell_type": "code",
   "execution_count": null,
   "id": "1ba8b4c8-d7e6-4042-8fa6-1fc8ca598e58",
   "metadata": {},
   "outputs": [],
   "source": [
    "#| exports\n",
    "resize = SimpleFactory(\n",
    "    {\n",
    "        \"none\": \"resize-none\",\n",
    "        \"both\": \"resize\",\n",
    "        \"y\": \"resize-y\",\n",
    "        \"x\": \"resize-x\"\n",
    "    },\n",
    "    \"Resize utilities for controlling how an element can be resized\"\n",
    ") # Resize factory"
   ]
  },
  {
   "cell_type": "code",
   "execution_count": null,
   "id": "f2f78937-c3c9-43e1-827f-89a9edb65f04",
   "metadata": {},
   "outputs": [],
   "source": [
    "#|exports\n",
    "def test_interactivity_resize_examples():\n",
    "    \"\"\"Test resize utilities.\"\"\"\n",
    "    assert str(resize.none) == \"resize-none\"\n",
    "    assert str(resize.both) == \"resize\"\n",
    "    assert str(resize.y) == \"resize-y\"\n",
    "    assert str(resize.x) == \"resize-x\"\n",
    "\n",
    "# Run the tests\n",
    "test_interactivity_resize_examples()"
   ]
  },
  {
   "cell_type": "markdown",
   "id": "dd6ccd13-d9f8-4e68-b5de-9211a19bef8c",
   "metadata": {},
   "source": [
    "## Scroll Behavior\n",
    "\n",
    "Utilities for controlling the scroll behavior of an element:"
   ]
  },
  {
   "cell_type": "code",
   "execution_count": null,
   "id": "04ae0cc1-dba2-4eb4-b3a2-fa10c32e17dc",
   "metadata": {},
   "outputs": [],
   "source": [
    "#| exports\n",
    "scroll = SimpleFactory(\n",
    "    {\n",
    "        \"auto\": \"scroll-auto\",\n",
    "        \"smooth\": \"scroll-smooth\"\n",
    "    },\n",
    "    \"Scroll behavior utilities for controlling smooth scrolling\"\n",
    ") # Scroll behavior factory"
   ]
  },
  {
   "cell_type": "code",
   "execution_count": null,
   "id": "2daca283-aa28-46fd-acc1-404b9086eb3e",
   "metadata": {},
   "outputs": [],
   "source": [
    "#|exports\n",
    "def test_interactivity_scroll_behavior_examples():\n",
    "    \"\"\"Test scroll behavior utilities.\"\"\"\n",
    "    assert str(scroll.auto) == \"scroll-auto\"\n",
    "    assert str(scroll.smooth) == \"scroll-smooth\"\n",
    "\n",
    "# Run the tests\n",
    "test_interactivity_scroll_behavior_examples()"
   ]
  },
  {
   "cell_type": "markdown",
   "id": "6c4a4f98-bdf4-4cd9-b3c6-03571c2d2eec",
   "metadata": {},
   "source": [
    "## Scroll Margin\n",
    "\n",
    "Utilities for controlling the scroll offset around items in a snap container:"
   ]
  },
  {
   "cell_type": "code",
   "execution_count": null,
   "id": "af4e0960-d105-43ff-820d-a49c8632338a",
   "metadata": {},
   "outputs": [],
   "source": [
    "#| exports\n",
    "scroll_m = DirectionalScaledFactory(\"scroll-m\", SPACING_CONFIG, \"Scroll margin utilities for controlling scroll offset margins\") # The scroll margin factory\n",
    "\n",
    "# Additional directional scroll margin utilities for logical properties\n",
    "scroll_ms = ScaledFactory(\"scroll-ms\", SPACING_CONFIG, \"Scroll margin inline-start utilities\")  # scroll-margin-inline-start\n",
    "scroll_me = ScaledFactory(\"scroll-me\", SPACING_CONFIG, \"Scroll margin inline-end utilities\")  # scroll-margin-inline-end"
   ]
  },
  {
   "cell_type": "code",
   "execution_count": null,
   "id": "b92f74d9-3d12-428e-974f-b1c788893449",
   "metadata": {},
   "outputs": [],
   "source": [
    "#|exports\n",
    "def test_interactivity_scroll_margin_examples():\n",
    "    \"\"\"Test scroll margin utilities.\"\"\"\n",
    "    # All sides\n",
    "    assert str(scroll_m(4)) == \"scroll-m-4\"\n",
    "    assert str(scroll_m(0)) == \"scroll-m-0\"\n",
    "    assert str(scroll_m.px) == \"scroll-m-px\"\n",
    "    \n",
    "    # Directional\n",
    "    assert str(scroll_m.t(4)) == \"scroll-mt-4\"\n",
    "    assert str(scroll_m.r(4)) == \"scroll-mr-4\"\n",
    "    assert str(scroll_m.b(4)) == \"scroll-mb-4\"\n",
    "    assert str(scroll_m.l(4)) == \"scroll-ml-4\"\n",
    "    assert str(scroll_m.x(8)) == \"scroll-mx-8\"\n",
    "    assert str(scroll_m.y(8)) == \"scroll-my-8\"\n",
    "    \n",
    "    # Negative values\n",
    "    assert str(scroll_m.negative(4)) == \"-scroll-m-4\"\n",
    "    assert str(scroll_m.t.negative(2)) == \"-scroll-mt-2\"\n",
    "    \n",
    "    # Logical properties\n",
    "    assert str(scroll_ms(4)) == \"scroll-ms-4\"\n",
    "    assert str(scroll_me(4)) == \"scroll-me-4\"\n",
    "    assert str(scroll_ms.negative(2)) == \"-scroll-ms-2\"\n",
    "    \n",
    "    # Arbitrary values\n",
    "    assert str(scroll_m(\"10px\")) == \"scroll-m-[10px]\"\n",
    "    assert str(scroll_m(\"--custom-margin\")) == \"scroll-m-(--custom-margin)\"\n",
    "\n",
    "# Run the tests\n",
    "test_interactivity_scroll_margin_examples()"
   ]
  },
  {
   "cell_type": "markdown",
   "id": "6ac25aa8-7917-4c98-9659-117f34857e63",
   "metadata": {},
   "source": [
    "## Scroll Padding\n",
    "\n",
    "Utilities for controlling an element's scroll offset within a snap container:"
   ]
  },
  {
   "cell_type": "code",
   "execution_count": null,
   "id": "cfbf7eb6-5485-4996-8d70-f06d9b3c0281",
   "metadata": {},
   "outputs": [],
   "source": [
    "#| exports\n",
    "scroll_p = DirectionalScaledFactory(\"scroll-p\", SPACING_CONFIG, \"Scroll padding utilities for controlling scroll offset padding\") # The scroll padding factory\n",
    "\n",
    "# Additional directional scroll padding utilities for logical properties\n",
    "scroll_ps = ScaledFactory(\"scroll-ps\", SPACING_CONFIG, \"Scroll padding inline-start utilities\")  # scroll-padding-inline-start\n",
    "scroll_pe = ScaledFactory(\"scroll-pe\", SPACING_CONFIG, \"Scroll padding inline-end utilities\")  # scroll-padding-inline-end"
   ]
  },
  {
   "cell_type": "code",
   "execution_count": null,
   "id": "77c6a376-b127-4ccf-9294-24ee15e3cefb",
   "metadata": {},
   "outputs": [],
   "source": [
    "#|exports\n",
    "def test_interactivity_scroll_padding_examples():\n",
    "    \"\"\"Test scroll padding utilities.\"\"\"\n",
    "    # All sides\n",
    "    assert str(scroll_p(4)) == \"scroll-p-4\"\n",
    "    assert str(scroll_p(0)) == \"scroll-p-0\"\n",
    "    assert str(scroll_p.px) == \"scroll-p-px\"\n",
    "    \n",
    "    # Directional\n",
    "    assert str(scroll_p.t(4)) == \"scroll-pt-4\"\n",
    "    assert str(scroll_p.r(4)) == \"scroll-pr-4\"\n",
    "    assert str(scroll_p.b(4)) == \"scroll-pb-4\"\n",
    "    assert str(scroll_p.l(4)) == \"scroll-pl-4\"\n",
    "    assert str(scroll_p.x(8)) == \"scroll-px-8\"\n",
    "    assert str(scroll_p.y(8)) == \"scroll-py-8\"\n",
    "    \n",
    "    # Negative values\n",
    "    assert str(scroll_p.negative(4)) == \"-scroll-p-4\"\n",
    "    assert str(scroll_p.t.negative(2)) == \"-scroll-pt-2\"\n",
    "    \n",
    "    # Logical properties\n",
    "    assert str(scroll_ps(4)) == \"scroll-ps-4\"\n",
    "    assert str(scroll_pe(4)) == \"scroll-pe-4\"\n",
    "    assert str(scroll_ps.negative(2)) == \"-scroll-ps-2\"\n",
    "    \n",
    "    # Arbitrary values\n",
    "    assert str(scroll_p(\"10px\")) == \"scroll-p-[10px]\"\n",
    "    assert str(scroll_p(\"--custom-padding\")) == \"scroll-p-(--custom-padding)\"\n",
    "\n",
    "# Run the tests\n",
    "test_interactivity_scroll_padding_examples()"
   ]
  },
  {
   "cell_type": "markdown",
   "id": "a136fef3-2dc0-4178-bcfa-ce0a710c317d",
   "metadata": {},
   "source": [
    "## Scroll Snap Utilities\n",
    "\n",
    "Utilities for controlling scroll snap behavior:"
   ]
  },
  {
   "cell_type": "markdown",
   "id": "730572b8-89e7-410d-836f-11b0015d9a37",
   "metadata": {},
   "source": [
    "### Scroll Snap Align\n",
    "\n",
    "Control the scroll snap alignment of an element:"
   ]
  },
  {
   "cell_type": "code",
   "execution_count": null,
   "id": "361d34d2-cec9-41e7-ad1b-e25e462a285f",
   "metadata": {},
   "outputs": [],
   "source": [
    "#| exports\n",
    "snap_align = SimpleFactory(\n",
    "    {\n",
    "        \"start\": \"snap-start\",\n",
    "        \"end\": \"snap-end\",\n",
    "        \"center\": \"snap-center\",\n",
    "        \"none\": \"snap-align-none\"\n",
    "    },\n",
    "    \"Scroll snap align utilities for controlling snap position alignment\"\n",
    ") # Snap align factory"
   ]
  },
  {
   "cell_type": "markdown",
   "id": "705e1848-90d3-4c5e-9321-69ea6115ba1b",
   "metadata": {},
   "source": [
    "### Scroll Snap Stop\n",
    "\n",
    "Control whether you can skip past possible snap positions:"
   ]
  },
  {
   "cell_type": "code",
   "execution_count": null,
   "id": "0c78cb30-8893-4872-a0db-56199fe2c923",
   "metadata": {},
   "outputs": [],
   "source": [
    "#| exports\n",
    "snap_stop = SimpleFactory(\n",
    "    {\n",
    "        \"normal\": \"snap-normal\",\n",
    "        \"always\": \"snap-always\"\n",
    "    },\n",
    "    \"Scroll snap stop utilities for controlling snap stop behavior\"\n",
    ") # Snap stop factory"
   ]
  },
  {
   "cell_type": "markdown",
   "id": "7f0336ef-6082-4035-b294-a9dc588bc8d8",
   "metadata": {},
   "source": [
    "### Scroll Snap Type\n",
    "\n",
    "Control how strictly snap points are enforced in a snap container:"
   ]
  },
  {
   "cell_type": "code",
   "execution_count": null,
   "id": "a4928a5b-5d7c-43e7-816d-6a7c9b24c06f",
   "metadata": {},
   "outputs": [],
   "source": [
    "#| exports\n",
    "snap = SimpleFactory(\n",
    "    {\n",
    "        \"none\": \"snap-none\",\n",
    "        \"x\": \"snap-x\",\n",
    "        \"y\": \"snap-y\",\n",
    "        \"both\": \"snap-both\",\n",
    "        \"mandatory\": \"snap-mandatory\",\n",
    "        \"proximity\": \"snap-proximity\"\n",
    "    },\n",
    "    \"Scroll snap type utilities for controlling snap container behavior\"\n",
    ") # Snap type factory"
   ]
  },
  {
   "cell_type": "code",
   "execution_count": null,
   "id": "139bdcad-786d-46e5-a727-7c09df3e8e46",
   "metadata": {},
   "outputs": [],
   "source": [
    "#|exports\n",
    "def test_interactivity_scroll_snap_examples():\n",
    "    \"\"\"Test scroll snap utilities.\"\"\"\n",
    "    # Snap align\n",
    "    assert str(snap_align.start) == \"snap-start\"\n",
    "    assert str(snap_align.end) == \"snap-end\"\n",
    "    assert str(snap_align.center) == \"snap-center\"\n",
    "    assert str(snap_align.none) == \"snap-align-none\"\n",
    "    \n",
    "    # Snap stop\n",
    "    assert str(snap_stop.normal) == \"snap-normal\"\n",
    "    assert str(snap_stop.always) == \"snap-always\"\n",
    "    \n",
    "    # Snap type\n",
    "    assert str(snap.none) == \"snap-none\"\n",
    "    assert str(snap.x) == \"snap-x\"\n",
    "    assert str(snap.y) == \"snap-y\"\n",
    "    assert str(snap.both) == \"snap-both\"\n",
    "    assert str(snap.mandatory) == \"snap-mandatory\"\n",
    "    assert str(snap.proximity) == \"snap-proximity\"\n",
    "\n",
    "# Run the tests\n",
    "test_interactivity_scroll_snap_examples()"
   ]
  },
  {
   "cell_type": "markdown",
   "id": "2edbcdc3-2c57-4cd5-841f-bf7260e1b311",
   "metadata": {},
   "source": [
    "## Touch Action\n",
    "\n",
    "Utilities for controlling how an element can be scrolled and zoomed on touchscreens:"
   ]
  },
  {
   "cell_type": "code",
   "execution_count": null,
   "id": "3cdaee7a-8458-461d-be97-c728887b33a1",
   "metadata": {},
   "outputs": [],
   "source": [
    "#| exports\n",
    "touch = SimpleFactory(\n",
    "    {\n",
    "        \"auto\": \"touch-auto\",\n",
    "        \"none\": \"touch-none\",\n",
    "        \"pan-x\": \"touch-pan-x\",\n",
    "        \"pan-left\": \"touch-pan-left\",\n",
    "        \"pan-right\": \"touch-pan-right\",\n",
    "        \"pan-y\": \"touch-pan-y\",\n",
    "        \"pan-up\": \"touch-pan-up\",\n",
    "        \"pan-down\": \"touch-pan-down\",\n",
    "        \"pinch-zoom\": \"touch-pinch-zoom\",\n",
    "        \"manipulation\": \"touch-manipulation\"\n",
    "    },\n",
    "    \"Touch action utilities for controlling touch gestures on touch devices\"\n",
    ") # Touch action factory"
   ]
  },
  {
   "cell_type": "code",
   "execution_count": null,
   "id": "15227aa7-2c22-408d-a104-52b4310f15ae",
   "metadata": {},
   "outputs": [],
   "source": [
    "#|exports\n",
    "def test_interactivity_touch_action_examples():\n",
    "    \"\"\"Test touch action utilities.\"\"\"\n",
    "    assert str(touch.auto) == \"touch-auto\"\n",
    "    assert str(touch.none) == \"touch-none\"\n",
    "    assert str(touch.pan_x) == \"touch-pan-x\"\n",
    "    assert str(touch.pan_left) == \"touch-pan-left\"\n",
    "    assert str(touch.pan_right) == \"touch-pan-right\"\n",
    "    assert str(touch.pan_y) == \"touch-pan-y\"\n",
    "    assert str(touch.pan_up) == \"touch-pan-up\"\n",
    "    assert str(touch.pan_down) == \"touch-pan-down\"\n",
    "    assert str(touch.pinch_zoom) == \"touch-pinch-zoom\"\n",
    "    assert str(touch.manipulation) == \"touch-manipulation\"\n",
    "\n",
    "# Run the tests\n",
    "test_interactivity_touch_action_examples()"
   ]
  },
  {
   "cell_type": "markdown",
   "id": "26ff9436-0896-4292-a3d3-0b605016aae0",
   "metadata": {},
   "source": [
    "## User Select\n",
    "\n",
    "Utilities for controlling whether the user can select text in an element:"
   ]
  },
  {
   "cell_type": "code",
   "execution_count": null,
   "id": "e9506967-b54c-45de-a08e-2d939866ad81",
   "metadata": {},
   "outputs": [],
   "source": [
    "#| exports\n",
    "select = SimpleFactory(\n",
    "    {\n",
    "        \"none\": \"select-none\",\n",
    "        \"text\": \"select-text\",\n",
    "        \"all\": \"select-all\",\n",
    "        \"auto\": \"select-auto\"\n",
    "    },\n",
    "    \"User select utilities for controlling text selection behavior\"\n",
    ") # User select factory"
   ]
  },
  {
   "cell_type": "code",
   "execution_count": null,
   "id": "95da9acf-3d19-40b8-9be0-93570f1a3ad3",
   "metadata": {},
   "outputs": [],
   "source": [
    "#|exports\n",
    "def test_interactivity_user_select_examples():\n",
    "    \"\"\"Test user select utilities.\"\"\"\n",
    "    assert str(select.none) == \"select-none\"\n",
    "    assert str(select.text) == \"select-text\"\n",
    "    assert str(select.all) == \"select-all\"\n",
    "    assert str(select.auto) == \"select-auto\"\n",
    "\n",
    "# Run the tests\n",
    "test_interactivity_user_select_examples()"
   ]
  },
  {
   "cell_type": "markdown",
   "id": "dbae0c29-4055-4515-863d-dd26e2c33847",
   "metadata": {},
   "source": [
    "## Will Change\n",
    "\n",
    "Utilities for optimizing upcoming animations of elements that are expected to change:"
   ]
  },
  {
   "cell_type": "code",
   "execution_count": null,
   "id": "03295b47-eb10-41dd-a663-7c305ec65536",
   "metadata": {},
   "outputs": [],
   "source": [
    "#| export\n",
    "# Will change utilities with enhanced arbitrary value support\n",
    "class WillChangeFactory(SimpleFactory):\n",
    "    \"\"\"Factory for will-change utilities with arbitrary value support.\"\"\"\n",
    "    \n",
    "    def __call__(\n",
    "        self,\n",
    "        value: str  # Will-change value (custom property or arbitrary)\n",
    "    ) -> str:  # The will-change utility class\n",
    "        \"\"\"Create will-change utility with arbitrary value.\"\"\"\n",
    "        if is_custom_property(value):\n",
    "            return f\"will-change-{value}\"\n",
    "        else:\n",
    "            return f\"will-change-[{value}]\"\n",
    "    \n",
    "    def __getattr__(\n",
    "        self,\n",
    "        name: str  # Attribute name to access will-change value\n",
    "    ) -> str:  # The will-change utility class\n",
    "        \"\"\"Get will-change value by attribute name.\"\"\"\n",
    "        # First check if it exists in the values dict\n",
    "        key = name.replace(\"_\", \"-\")\n",
    "        if key in self._values:\n",
    "            return self._values[key]\n",
    "        # For any other attribute, treat as arbitrary value\n",
    "        return f\"will-change-[{name.replace('_', '-')}]\""
   ]
  },
  {
   "cell_type": "code",
   "execution_count": null,
   "id": "3cc2bf86-020c-4b80-9a43-6fae260a1102",
   "metadata": {},
   "outputs": [],
   "source": [
    "#| exports\n",
    "will_change = WillChangeFactory(\n",
    "    {\n",
    "        \"auto\": \"will-change-auto\",\n",
    "        \"scroll\": \"will-change-scroll\",\n",
    "        \"contents\": \"will-change-contents\",\n",
    "        \"transform\": \"will-change-transform\"\n",
    "    },\n",
    "    \"Will-change utilities for optimizing animations by hinting browsers about expected changes\"\n",
    ") # Will-change factory"
   ]
  },
  {
   "cell_type": "code",
   "execution_count": null,
   "id": "3998945d-bcae-4046-9ef4-fefb5ee3ddff",
   "metadata": {},
   "outputs": [],
   "source": [
    "#|exports\n",
    "def test_interactivity_will_change_examples():\n",
    "    \"\"\"Test will-change utilities.\"\"\"\n",
    "    # Standard values\n",
    "    assert str(will_change.auto) == \"will-change-auto\"\n",
    "    assert str(will_change.scroll) == \"will-change-scroll\"\n",
    "    assert str(will_change.contents) == \"will-change-contents\"\n",
    "    assert str(will_change.transform) == \"will-change-transform\"\n",
    "    \n",
    "    # Custom properties and arbitrary values\n",
    "    assert will_change(\"--custom-property\") == \"will-change---custom-property\"\n",
    "    assert will_change(\"opacity, transform\") == \"will-change-[opacity, transform]\"\n",
    "    assert will_change(\"left, top\") == \"will-change-[left, top]\"\n",
    "\n",
    "# Run the tests\n",
    "test_interactivity_will_change_examples()"
   ]
  },
  {
   "cell_type": "markdown",
   "id": "5ff52084-7aa4-416b-a041-a3f9eace866b",
   "metadata": {},
   "source": [
    "## Practical Examples\n",
    "\n",
    "Let's see how to use these interactivity utilities in real FastHTML components:"
   ]
  },
  {
   "cell_type": "code",
   "execution_count": null,
   "id": "5a976986-8639-47de-b2e3-e3ae1199b182",
   "metadata": {},
   "outputs": [
    {
     "data": {
      "text/markdown": [
       "```html\n",
       "<div class=\"grid gap-5\">\n",
       "  <input type=\"checkbox\" class=\"accent-blue-500 cursor-pointer w-4 h-4\">\n",
       "  <input type=\"text\" placeholder=\"Type here...\" class=\"caret-red-500 appearance-none px-4 py-2 border rounded-full\">\n",
       "<textarea placeholder=\"Enter your message...\" class=\"resize-y field-sizing-content p-3 border rounded-full\"></textarea><button class=\"cursor-pointer select-none pointer-events-auto bg-blue-500 text-white px-4 py-2 rounded-full hover:bg-blue-600\">Click me</button></div>\n",
       "\n",
       "```"
      ],
      "text/plain": [
       "div((input((),{'type': 'checkbox', 'class': 'accent-blue-500 cursor-pointer w-4 h-4'}), input((),{'type': 'text', 'placeholder': 'Type here...', 'class': 'caret-red-500 appearance-none px-4 py-2 border rounded-full'}), textarea((),{'placeholder': 'Enter your message...', 'class': 'resize-y field-sizing-content p-3 border rounded-full'}), button(('Click me',),{'class': 'cursor-pointer select-none pointer-events-auto bg-blue-500 text-white px-4 py-2 rounded-full hover:bg-blue-600'})),{'class': 'grid gap-5'})"
      ]
     },
     "execution_count": null,
     "metadata": {},
     "output_type": "execute_result"
    }
   ],
   "source": [
    "#|exports\n",
    "def test_interactivity_form_fasthtml_examples():\n",
    "    \"\"\"Test interactivity utilities in form components.\"\"\"\n",
    "    from fasthtml.common import Input, Textarea, Button, Div, Label\n",
    "    from cjm_fasthtml_tailwind.utilities.sizing import w, h\n",
    "    from cjm_fasthtml_tailwind.utilities.spacing import p\n",
    "    from cjm_fasthtml_tailwind.utilities.borders import border, rounded\n",
    "    from cjm_fasthtml_tailwind.utilities.backgrounds import bg\n",
    "    from cjm_fasthtml_tailwind.utilities.typography import font_size, text_color\n",
    "    from cjm_fasthtml_tailwind.utilities.layout import display_tw\n",
    "    from cjm_fasthtml_tailwind.utilities.flexbox_and_grid import gap, grid_display\n",
    "    \n",
    "    # Custom styled checkbox with accent color\n",
    "    checkbox = Input(\n",
    "        type=\"checkbox\",\n",
    "        cls=combine_classes(\n",
    "            accent.blue._500,\n",
    "            cursor.pointer,\n",
    "            w(4),\n",
    "            h(4)\n",
    "        )\n",
    "    )\n",
    "    assert \"accent-blue-500\" in checkbox.attrs['class']\n",
    "    assert \"cursor-pointer\" in checkbox.attrs['class']\n",
    "    \n",
    "    # Text input with custom caret color\n",
    "    text_input = Input(\n",
    "        type=\"text\",\n",
    "        placeholder=\"Type here...\",\n",
    "        cls=combine_classes(\n",
    "            caret.red._500,\n",
    "            appearance.none,\n",
    "            p.x(4),\n",
    "            p.y(2),\n",
    "            border(),\n",
    "            rounded.full\n",
    "        )\n",
    "    )\n",
    "    assert \"caret-red-500\" in text_input.attrs['class']\n",
    "    assert \"appearance-none\" in text_input.attrs['class']\n",
    "    \n",
    "    # Resizable textarea\n",
    "    textarea = Textarea(\n",
    "        placeholder=\"Enter your message...\",\n",
    "        cls=combine_classes(\n",
    "            resize.y,\n",
    "            field_sizing.content,\n",
    "            p(3),\n",
    "            border(),\n",
    "            rounded.full\n",
    "        )\n",
    "    )\n",
    "    assert \"resize-y\" in textarea.attrs['class']\n",
    "    assert \"field-sizing-content\" in textarea.attrs['class']\n",
    "    \n",
    "    # Interactive button with hover states\n",
    "    button = Button(\n",
    "        \"Click me\",\n",
    "        cls=combine_classes(\n",
    "            cursor.pointer,\n",
    "            select.none,\n",
    "            pointer_events.auto,\n",
    "            bg.blue._500,\n",
    "            text_color.white,\n",
    "            p.x(4),\n",
    "            p.y(2),\n",
    "            rounded.full,\n",
    "            bg.blue._600.hover\n",
    "        )\n",
    "    )\n",
    "    assert \"cursor-pointer\" in button.attrs['class']\n",
    "    assert \"select-none\" in button.attrs['class']\n",
    "    \n",
    "    # Return all examples in a grid layout\n",
    "    return Div(\n",
    "        checkbox,\n",
    "        text_input,\n",
    "        textarea,\n",
    "        button,\n",
    "        cls=combine_classes(grid_display, gap(5))\n",
    "    )\n",
    "\n",
    "# Run the tests\n",
    "test_interactivity_form_fasthtml_examples()"
   ]
  },
  {
   "cell_type": "code",
   "execution_count": null,
   "id": "49c40cc2-0d70-4d9e-aa85-578aefc3bb02",
   "metadata": {},
   "outputs": [
    {
     "data": {
      "text/html": [
       "\n",
       "<script>\n",
       "document.body.addEventListener('htmx:configRequest', (event) => {\n",
       "    if(event.detail.path.includes('://')) return;\n",
       "    htmx.config.selfRequestsOnly=false;\n",
       "    event.detail.path = `${location.protocol}//${location.hostname}:8000${event.detail.path}`;\n",
       "});\n",
       "</script>"
      ],
      "text/plain": [
       "<IPython.core.display.HTML object>"
      ]
     },
     "metadata": {},
     "output_type": "display_data"
    },
    {
     "data": {
      "text/html": [
       "<iframe src=\"http://localhost:8000/\" style=\"width: 100%; height: auto; border: none;\" onload=\"{\n",
       "        let frame = this;\n",
       "        window.addEventListener('message', function(e) {\n",
       "            if (e.source !== frame.contentWindow) return; // Only proceed if the message is from this iframe\n",
       "            if (e.data.height) frame.style.height = (e.data.height+1) + 'px';\n",
       "        }, false);\n",
       "    }\" allow=\"accelerometer; autoplay; camera; clipboard-read; clipboard-write; display-capture; encrypted-media; fullscreen; gamepad; geolocation; gyroscope; hid; identity-credentials-get; idle-detection; magnetometer; microphone; midi; payment; picture-in-picture; publickey-credentials-get; screen-wake-lock; serial; usb; web-share; xr-spatial-tracking\"></iframe> "
      ],
      "text/plain": [
       "<IPython.core.display.HTML object>"
      ]
     },
     "metadata": {},
     "output_type": "display_data"
    }
   ],
   "source": [
    "#| eval: false\n",
    "#| output: false\n",
    "test_func = test_interactivity_form_fasthtml_examples\n",
    "app, rt = create_test_app()\n",
    "\n",
    "@rt\n",
    "def index():\n",
    "    return create_test_page(test_func.__doc__.title().replace('.', ''), test_func())\n",
    "server = start_test_server(app)\n",
    "display(HTMX())\n",
    "server.stop()"
   ]
  },
  {
   "cell_type": "code",
   "execution_count": null,
   "id": "9b985383-317a-4c30-a76c-00caa6aa292f",
   "metadata": {},
   "outputs": [
    {
     "data": {
      "text/markdown": [
       "```html\n",
       "<div class=\"grid gap-5\">\n",
       "  <div class=\"snap-x snap-mandatory scroll-smooth scroll-px-4 flex overflow-x-auto gap-4\"></div>\n",
       "  <div class=\"snap-center snap-always shrink-0 w-80\">\n",
       "<img src=\"https://img.daisyui.com/images/stock/photo-1559703248-dcaaec9fab78.webp\" alt=\"Gallery image\">  </div>\n",
       "  <div class=\"snap-y snap-proximity scroll-my-2 h-screen overflow-y-auto\"></div>\n",
       "</div>\n",
       "\n",
       "```"
      ],
      "text/plain": [
       "div((div((),{'class': 'snap-x snap-mandatory scroll-smooth scroll-px-4 flex overflow-x-auto gap-4'}), div((img((),{'src': 'https://img.daisyui.com/images/stock/photo-1559703248-dcaaec9fab78.webp', 'alt': 'Gallery image'}),),{'class': 'snap-center snap-always shrink-0 w-80'}), div((),{'class': 'snap-y snap-proximity scroll-my-2 h-screen overflow-y-auto'})),{'class': 'grid gap-5'})"
      ]
     },
     "execution_count": null,
     "metadata": {},
     "output_type": "execute_result"
    }
   ],
   "source": [
    "#|exports\n",
    "def test_interactivity_scroll_snap_fasthtml_examples():\n",
    "    \"\"\"Test scroll snap utilities in carousel/gallery components.\"\"\"\n",
    "    from fasthtml.common import Div, Img\n",
    "    from cjm_fasthtml_tailwind.utilities.layout import display_tw, overflow\n",
    "    from cjm_fasthtml_tailwind.utilities.flexbox_and_grid import gap, shrink, grid_display, flex_display\n",
    "    from cjm_fasthtml_tailwind.utilities.sizing import w, h\n",
    "    \n",
    "    # Horizontal scroll snap container\n",
    "    carousel_container = Div(\n",
    "        cls=combine_classes(\n",
    "            snap.x,\n",
    "            snap.mandatory,\n",
    "            scroll.smooth,\n",
    "            scroll_p.x(4),\n",
    "            flex_display,\n",
    "            overflow.x.auto,\n",
    "            gap(4)\n",
    "        )\n",
    "    )\n",
    "    assert \"snap-x\" in carousel_container.attrs['class']\n",
    "    assert \"snap-mandatory\" in carousel_container.attrs['class']\n",
    "    assert \"scroll-smooth\" in carousel_container.attrs['class']\n",
    "    assert \"scroll-px-4\" in carousel_container.attrs['class']\n",
    "    \n",
    "    # Snap items within the container\n",
    "    snap_item = Div(\n",
    "        Img(src=\"https://img.daisyui.com/images/stock/photo-1559703248-dcaaec9fab78.webp\", alt=\"Gallery image\"),\n",
    "        cls=combine_classes(\n",
    "            snap_align.center,\n",
    "            snap_stop.always,\n",
    "            shrink._0,\n",
    "            w(80)\n",
    "        )\n",
    "    )\n",
    "    assert \"snap-center\" in snap_item.attrs['class']\n",
    "    assert \"snap-always\" in snap_item.attrs['class']\n",
    "    \n",
    "    # Vertical scroll snap for sections\n",
    "    vertical_snap = Div(\n",
    "        cls=combine_classes(\n",
    "            snap.y,\n",
    "            snap.proximity,\n",
    "            scroll_m.y(2),\n",
    "            h.screen,\n",
    "            overflow.y.auto\n",
    "        )\n",
    "    )\n",
    "    assert \"snap-y\" in vertical_snap.attrs['class']\n",
    "    assert \"snap-proximity\" in vertical_snap.attrs['class']\n",
    "    assert \"scroll-my-2\" in vertical_snap.attrs['class']\n",
    "    \n",
    "    # Return all examples in a grid layout\n",
    "    return Div(\n",
    "        carousel_container,\n",
    "        snap_item,\n",
    "        vertical_snap,\n",
    "        cls=combine_classes(grid_display, gap(5))\n",
    "    )\n",
    "\n",
    "# Run the tests\n",
    "test_interactivity_scroll_snap_fasthtml_examples()"
   ]
  },
  {
   "cell_type": "code",
   "execution_count": null,
   "id": "b5f7a262-a84d-418a-bc15-d8d22c803e51",
   "metadata": {},
   "outputs": [
    {
     "data": {
      "text/html": [
       "\n",
       "<script>\n",
       "document.body.addEventListener('htmx:configRequest', (event) => {\n",
       "    if(event.detail.path.includes('://')) return;\n",
       "    htmx.config.selfRequestsOnly=false;\n",
       "    event.detail.path = `${location.protocol}//${location.hostname}:8000${event.detail.path}`;\n",
       "});\n",
       "</script>"
      ],
      "text/plain": [
       "<IPython.core.display.HTML object>"
      ]
     },
     "metadata": {},
     "output_type": "display_data"
    },
    {
     "data": {
      "text/html": [
       "<iframe src=\"http://localhost:8000/\" style=\"width: 100%; height: auto; border: none;\" onload=\"{\n",
       "        let frame = this;\n",
       "        window.addEventListener('message', function(e) {\n",
       "            if (e.source !== frame.contentWindow) return; // Only proceed if the message is from this iframe\n",
       "            if (e.data.height) frame.style.height = (e.data.height+1) + 'px';\n",
       "        }, false);\n",
       "    }\" allow=\"accelerometer; autoplay; camera; clipboard-read; clipboard-write; display-capture; encrypted-media; fullscreen; gamepad; geolocation; gyroscope; hid; identity-credentials-get; idle-detection; magnetometer; microphone; midi; payment; picture-in-picture; publickey-credentials-get; screen-wake-lock; serial; usb; web-share; xr-spatial-tracking\"></iframe> "
      ],
      "text/plain": [
       "<IPython.core.display.HTML object>"
      ]
     },
     "metadata": {},
     "output_type": "display_data"
    }
   ],
   "source": [
    "#| eval: false\n",
    "#| output: false\n",
    "test_func = test_interactivity_scroll_snap_fasthtml_examples\n",
    "app, rt = create_test_app()\n",
    "\n",
    "@rt\n",
    "def index():\n",
    "    return create_test_page(test_func.__doc__.title().replace('.', ''), test_func())\n",
    "server = start_test_server(app)\n",
    "display(HTMX())\n",
    "server.stop()"
   ]
  },
  {
   "cell_type": "code",
   "execution_count": null,
   "id": "242d9521-3ec9-446d-8504-b71fae6c9615",
   "metadata": {},
   "outputs": [
    {
     "data": {
      "text/markdown": [
       "```html\n",
       "<div class=\"grid gap-5\">\n",
       "  <div class=\"touch-pinch-zoom cursor-zoom-in select-none relative overflow-hidden\">\n",
       "<img src=\"https://img.daisyui.com/images/stock/photo-1559703248-dcaaec9fab78.webp\" alt=\"Photo\">  </div>\n",
       "  <div class=\"cursor-grab active:cursor-grabbing touch-none select-none p-4 bg-gray-200 rounded-full\">Drag me</div>\n",
       "<code class=\"select-all cursor-text block p-3 bg-gray-900 text-gray-100 rounded-full\">console.log(&#x27;Hello World&#x27;);</code>  <div class=\"touch-pan-x will-change-transform transition-transform\"></div>\n",
       "</div>\n",
       "\n",
       "```"
      ],
      "text/plain": [
       "div((div((img((),{'src': 'https://img.daisyui.com/images/stock/photo-1559703248-dcaaec9fab78.webp', 'alt': 'Photo'}),),{'class': 'touch-pinch-zoom cursor-zoom-in select-none relative overflow-hidden'}), div(('Drag me',),{'class': 'cursor-grab active:cursor-grabbing touch-none select-none p-4 bg-gray-200 rounded-full'}), code((\"console.log('Hello World');\",),{'class': 'select-all cursor-text block p-3 bg-gray-900 text-gray-100 rounded-full'}), div((),{'class': 'touch-pan-x will-change-transform transition-transform'})),{'class': 'grid gap-5'})"
      ]
     },
     "execution_count": null,
     "metadata": {},
     "output_type": "execute_result"
    }
   ],
   "source": [
    "#|exports\n",
    "def test_interactivity_touch_mobile_fasthtml_examples():\n",
    "    \"\"\"Test touch and mobile interaction utilities.\"\"\"\n",
    "    from fasthtml.common import Div, Img, Code\n",
    "    from cjm_fasthtml_tailwind.utilities.layout import position, overflow, display_tw\n",
    "    from cjm_fasthtml_tailwind.utilities.spacing import p\n",
    "    from cjm_fasthtml_tailwind.utilities.backgrounds import bg\n",
    "    from cjm_fasthtml_tailwind.utilities.typography import font_size, text_color\n",
    "    from cjm_fasthtml_tailwind.utilities.borders import rounded\n",
    "    from cjm_fasthtml_tailwind.utilities.transitions_and_animation import transition\n",
    "    from cjm_fasthtml_tailwind.utilities.flexbox_and_grid import gap, grid_display\n",
    "    \n",
    "    # Touch-enabled image viewer\n",
    "    image_viewer = Div(\n",
    "        Img(src=\"https://img.daisyui.com/images/stock/photo-1559703248-dcaaec9fab78.webp\", alt=\"Photo\"),\n",
    "        cls=combine_classes(\n",
    "            touch.pinch_zoom,\n",
    "            cursor.zoom_in,\n",
    "            select.none,\n",
    "            position.relative,\n",
    "            overflow.hidden\n",
    "        )\n",
    "    )\n",
    "    assert \"touch-pinch-zoom\" in image_viewer.attrs['class']\n",
    "    assert \"cursor-zoom-in\" in image_viewer.attrs['class']\n",
    "    \n",
    "    # Draggable element\n",
    "    draggable = Div(\n",
    "        \"Drag me\",\n",
    "        cls=combine_classes(\n",
    "            cursor.grab,\n",
    "            cursor.grabbing.active,\n",
    "            touch.none,\n",
    "            select.none,\n",
    "            p(4),\n",
    "            bg.gray._200,\n",
    "            rounded.full\n",
    "        )\n",
    "    )\n",
    "    assert \"cursor-grab\" in draggable.attrs['class']\n",
    "    assert \"touch-none\" in draggable.attrs['class']\n",
    "    \n",
    "    # Code block with selection\n",
    "    code_block = Code(\n",
    "        \"console.log('Hello World');\",\n",
    "        cls=combine_classes(\n",
    "            select.all,\n",
    "            cursor.text,\n",
    "            display_tw.block,\n",
    "            p(3),\n",
    "            bg.gray._900,\n",
    "            text_color.gray._100,\n",
    "            rounded.full\n",
    "        )\n",
    "    )\n",
    "    assert \"select-all\" in code_block.attrs['class']\n",
    "    assert \"cursor-text\" in code_block.attrs['class']\n",
    "    \n",
    "    # Touch-friendly swipe area\n",
    "    swipe_area = Div(\n",
    "        cls=combine_classes(\n",
    "            touch.pan_x,\n",
    "            will_change.transform,\n",
    "            transition.transform\n",
    "        )\n",
    "    )\n",
    "    assert \"touch-pan-x\" in swipe_area.attrs['class']\n",
    "    assert \"will-change-transform\" in swipe_area.attrs['class']\n",
    "    \n",
    "    # Return all examples in a grid layout\n",
    "    return Div(\n",
    "        image_viewer,\n",
    "        draggable,\n",
    "        code_block,\n",
    "        swipe_area,\n",
    "        cls=combine_classes(grid_display, gap(5))\n",
    "    )\n",
    "\n",
    "# Run the tests\n",
    "test_interactivity_touch_mobile_fasthtml_examples()"
   ]
  },
  {
   "cell_type": "code",
   "execution_count": null,
   "id": "6fbff7b5-68ba-4e22-ba61-52553a90ff5c",
   "metadata": {},
   "outputs": [
    {
     "data": {
      "text/html": [
       "\n",
       "<script>\n",
       "document.body.addEventListener('htmx:configRequest', (event) => {\n",
       "    if(event.detail.path.includes('://')) return;\n",
       "    htmx.config.selfRequestsOnly=false;\n",
       "    event.detail.path = `${location.protocol}//${location.hostname}:8000${event.detail.path}`;\n",
       "});\n",
       "</script>"
      ],
      "text/plain": [
       "<IPython.core.display.HTML object>"
      ]
     },
     "metadata": {},
     "output_type": "display_data"
    },
    {
     "data": {
      "text/html": [
       "<iframe src=\"http://localhost:8000/\" style=\"width: 100%; height: auto; border: none;\" onload=\"{\n",
       "        let frame = this;\n",
       "        window.addEventListener('message', function(e) {\n",
       "            if (e.source !== frame.contentWindow) return; // Only proceed if the message is from this iframe\n",
       "            if (e.data.height) frame.style.height = (e.data.height+1) + 'px';\n",
       "        }, false);\n",
       "    }\" allow=\"accelerometer; autoplay; camera; clipboard-read; clipboard-write; display-capture; encrypted-media; fullscreen; gamepad; geolocation; gyroscope; hid; identity-credentials-get; idle-detection; magnetometer; microphone; midi; payment; picture-in-picture; publickey-credentials-get; screen-wake-lock; serial; usb; web-share; xr-spatial-tracking\"></iframe> "
      ],
      "text/plain": [
       "<IPython.core.display.HTML object>"
      ]
     },
     "metadata": {},
     "output_type": "display_data"
    }
   ],
   "source": [
    "#| eval: false\n",
    "#| output: false\n",
    "test_func = test_interactivity_touch_mobile_fasthtml_examples\n",
    "app, rt = create_test_app()\n",
    "\n",
    "@rt\n",
    "def index():\n",
    "    return create_test_page(test_func.__doc__.title().replace('.', ''), test_func())\n",
    "server = start_test_server(app)\n",
    "display(HTMX())\n",
    "server.stop()"
   ]
  },
  {
   "cell_type": "markdown",
   "id": "bedc196d-83c6-43ae-9851-71de75d74c7e",
   "metadata": {},
   "source": [
    "## Advanced Examples\n",
    "\n",
    "Some advanced use cases demonstrating how these utilities work together:"
   ]
  },
  {
   "cell_type": "code",
   "execution_count": null,
   "id": "999c626a-8901-4ae8-bbe4-66e8cd31c621",
   "metadata": {},
   "outputs": [
    {
     "data": {
      "text/markdown": [
       "```html\n",
       "<div class=\"grid gap-5\">\n",
       "<form enctype=\"multipart/form-data\" class=\"scheme-dark p-6 bg-gray-900 rounded-lg\">    <input type=\"checkbox\" class=\"accent-purple-500 scheme-dark cursor-pointer mr-2\">\n",
       "    <input type=\"text\" class=\"caret-purple-400 appearance-none scheme-dark bg-gray-800 text-white px-3 py-2 rounded-full\">\n",
       "</form>  <div class=\"pointer-events-auto relative\">\n",
       "<pre class=\"select-text cursor-text caret-green-400 resize scroll-auto scroll-p-4 font-mono bg-gray-900 text-gray-100 p-4 rounded-full overflow-auto\">def hello():\n",
       "    print(&#x27;Hello, World!&#x27;)</pre>  </div>\n",
       "  <div class=\"cursor-pointer will-change-[transform, opacity] touch-manipulation select-none transition-all duration-300 hover:scale-105\">Animated Card</div>\n",
       "</div>\n",
       "\n",
       "```"
      ],
      "text/plain": [
       "div((form((input((),{'type': 'checkbox', 'class': 'accent-purple-500 scheme-dark cursor-pointer mr-2'}), input((),{'type': 'text', 'class': 'caret-purple-400 appearance-none scheme-dark bg-gray-800 text-white px-3 py-2 rounded-full'})),{'enctype': 'multipart/form-data', 'class': 'scheme-dark p-6 bg-gray-900 rounded-lg'}), div((pre((\"def hello():\\n    print('Hello, World!')\",),{'class': 'select-text cursor-text caret-green-400 resize scroll-auto scroll-p-4 font-mono bg-gray-900 text-gray-100 p-4 rounded-full overflow-auto'}),),{'class': 'pointer-events-auto relative'}), div(('Animated Card',),{'class': 'cursor-pointer will-change-[transform, opacity] touch-manipulation select-none transition-all duration-300 hover:scale-105'})),{'class': 'grid gap-5'})"
      ]
     },
     "execution_count": null,
     "metadata": {},
     "output_type": "execute_result"
    }
   ],
   "source": [
    "#|exports\n",
    "def test_interactivity_advanced_fasthtml_examples():\n",
    "    \"\"\"Test advanced combinations of interactivity utilities.\"\"\"\n",
    "    from fasthtml.common import Div, Input, Form, Pre\n",
    "    from cjm_fasthtml_tailwind.utilities.spacing import p, m\n",
    "    from cjm_fasthtml_tailwind.utilities.backgrounds import bg\n",
    "    from cjm_fasthtml_tailwind.utilities.typography import font_size, font_weight, font_family, text_color\n",
    "    from cjm_fasthtml_tailwind.utilities.borders import rounded\n",
    "    from cjm_fasthtml_tailwind.utilities.layout import position, overflow\n",
    "    from cjm_fasthtml_tailwind.utilities.transforms import scale_tw, transform\n",
    "    from cjm_fasthtml_tailwind.utilities.transitions_and_animation import transition, duration\n",
    "    from cjm_fasthtml_tailwind.utilities.flexbox_and_grid import gap, grid_display\n",
    "    \n",
    "    # Dark mode form with custom styling\n",
    "    dark_form = Form(\n",
    "        Input(\n",
    "            type=\"checkbox\",\n",
    "            cls=combine_classes(\n",
    "                accent.purple._500,\n",
    "                scheme.dark,\n",
    "                cursor.pointer,\n",
    "                m.r(2)\n",
    "            )\n",
    "        ),\n",
    "        Input(\n",
    "            type=\"text\",\n",
    "            cls=combine_classes(\n",
    "                caret.purple._400,\n",
    "                appearance.none,\n",
    "                scheme.dark,\n",
    "                bg.gray._800,\n",
    "                text_color.white,\n",
    "                p.x(3),\n",
    "                p.y(2),\n",
    "                rounded.full\n",
    "            )\n",
    "        ),\n",
    "        cls=combine_classes(\n",
    "            scheme.dark,\n",
    "            p(6),\n",
    "            bg.gray._900,\n",
    "            rounded.lg\n",
    "        )\n",
    "    )\n",
    "    assert \"scheme-dark\" in dark_form.attrs['class']\n",
    "    assert \"accent-purple-500\" in dark_form.children[0].attrs['class']\n",
    "    assert \"caret-purple-400\" in dark_form.children[1].attrs['class']\n",
    "    \n",
    "    # Interactive code editor mockup\n",
    "    code_editor = Div(\n",
    "        Pre(\n",
    "            \"def hello():\\n    print('Hello, World!')\",\n",
    "            cls=combine_classes(\n",
    "                select.text,\n",
    "                cursor.text,\n",
    "                caret.green._400,\n",
    "                resize.both,\n",
    "                scroll.auto,\n",
    "                scroll_p(4),\n",
    "                font_family.mono,\n",
    "                bg.gray._900,\n",
    "                text_color.gray._100,\n",
    "                p(4),\n",
    "                rounded.full,\n",
    "                overflow.auto\n",
    "            )\n",
    "        ),\n",
    "        cls=combine_classes(\n",
    "            pointer_events.auto,\n",
    "            position.relative\n",
    "        )\n",
    "    )\n",
    "    assert \"select-text\" in code_editor.children[0].attrs['class']\n",
    "    assert \"cursor-text\" in code_editor.children[0].attrs['class']\n",
    "    assert \"resize\" in code_editor.children[0].attrs['class']\n",
    "    assert \"scroll-p-4\" in code_editor.children[0].attrs['class']\n",
    "    \n",
    "    # Complex interactive element with animation hints\n",
    "    animated_card = Div(\n",
    "        \"Animated Card\",\n",
    "        cls=combine_classes(\n",
    "            cursor.pointer,\n",
    "            will_change(\"transform, opacity\"),\n",
    "            touch.manipulation,\n",
    "            select.none,\n",
    "            transition.all,\n",
    "            duration._300,\n",
    "            scale_tw(105).hover\n",
    "        )\n",
    "    )\n",
    "    assert \"cursor-pointer\" in animated_card.attrs['class']\n",
    "    assert \"will-change-[transform, opacity]\" in animated_card.attrs['class']\n",
    "    assert \"touch-manipulation\" in animated_card.attrs['class']\n",
    "\n",
    "    # Return all examples in a grid layout\n",
    "    return Div(\n",
    "        dark_form,\n",
    "        code_editor,\n",
    "        animated_card,\n",
    "        cls=combine_classes(grid_display, gap(5))\n",
    "    )\n",
    "\n",
    "# Run the tests\n",
    "test_interactivity_advanced_fasthtml_examples()"
   ]
  },
  {
   "cell_type": "code",
   "execution_count": null,
   "id": "d7c32ac2-6472-4350-b510-0116c02616ed",
   "metadata": {},
   "outputs": [
    {
     "data": {
      "text/html": [
       "\n",
       "<script>\n",
       "document.body.addEventListener('htmx:configRequest', (event) => {\n",
       "    if(event.detail.path.includes('://')) return;\n",
       "    htmx.config.selfRequestsOnly=false;\n",
       "    event.detail.path = `${location.protocol}//${location.hostname}:8000${event.detail.path}`;\n",
       "});\n",
       "</script>"
      ],
      "text/plain": [
       "<IPython.core.display.HTML object>"
      ]
     },
     "metadata": {},
     "output_type": "display_data"
    },
    {
     "data": {
      "text/html": [
       "<iframe src=\"http://localhost:8000/\" style=\"width: 100%; height: auto; border: none;\" onload=\"{\n",
       "        let frame = this;\n",
       "        window.addEventListener('message', function(e) {\n",
       "            if (e.source !== frame.contentWindow) return; // Only proceed if the message is from this iframe\n",
       "            if (e.data.height) frame.style.height = (e.data.height+1) + 'px';\n",
       "        }, false);\n",
       "    }\" allow=\"accelerometer; autoplay; camera; clipboard-read; clipboard-write; display-capture; encrypted-media; fullscreen; gamepad; geolocation; gyroscope; hid; identity-credentials-get; idle-detection; magnetometer; microphone; midi; payment; picture-in-picture; publickey-credentials-get; screen-wake-lock; serial; usb; web-share; xr-spatial-tracking\"></iframe> "
      ],
      "text/plain": [
       "<IPython.core.display.HTML object>"
      ]
     },
     "metadata": {},
     "output_type": "display_data"
    }
   ],
   "source": [
    "#| eval: false\n",
    "#| output: false\n",
    "test_func = test_interactivity_advanced_fasthtml_examples\n",
    "app, rt = create_test_app()\n",
    "\n",
    "@rt\n",
    "def index():\n",
    "    return create_test_page(test_func.__doc__.title().replace('.', ''), test_func())\n",
    "server = start_test_server(app)\n",
    "display(HTMX())\n",
    "server.stop()"
   ]
  },
  {
   "cell_type": "code",
   "execution_count": null,
   "id": "fbc657ff-f0e6-4ac8-88fc-d6e1142a126a",
   "metadata": {},
   "outputs": [],
   "source": []
  },
  {
   "cell_type": "code",
   "execution_count": null,
   "id": "414abfee-b7f4-40d6-8866-1edebd5c2466",
   "metadata": {},
   "outputs": [],
   "source": []
  },
  {
   "cell_type": "code",
   "execution_count": null,
   "id": "b10df239-6b46-4708-b288-426566faafa3",
   "metadata": {},
   "outputs": [],
   "source": []
  },
  {
   "cell_type": "code",
   "execution_count": null,
   "id": "15fdb375-bb83-4264-b08e-5555c6687fa9",
   "metadata": {},
   "outputs": [],
   "source": []
  },
  {
   "cell_type": "code",
   "execution_count": null,
   "id": "1f42aeba-2762-4997-8ec7-d7ef1666fccd",
   "metadata": {},
   "outputs": [],
   "source": []
  },
  {
   "cell_type": "code",
   "execution_count": null,
   "id": "f6cf1647-493a-4491-b886-dadae5e8578d",
   "metadata": {},
   "outputs": [],
   "source": []
  },
  {
   "cell_type": "code",
   "execution_count": null,
   "id": "2fcda8d7-cf50-450b-ad3d-2c37453f1c14",
   "metadata": {},
   "outputs": [],
   "source": []
  },
  {
   "cell_type": "code",
   "execution_count": null,
   "id": "16e2161b-445f-4200-a423-04448f30681d",
   "metadata": {},
   "outputs": [],
   "source": []
  },
  {
   "cell_type": "code",
   "execution_count": null,
   "id": "5c14fe0d-f862-4eec-85de-e36b57164961",
   "metadata": {},
   "outputs": [],
   "source": []
  },
  {
   "cell_type": "code",
   "execution_count": null,
   "id": "aa26ac49-6032-46e0-8702-2d531e44e2a5",
   "metadata": {},
   "outputs": [],
   "source": [
    "#| hide\n",
    "import nbdev; nbdev.nbdev_export()"
   ]
  }
 ],
 "metadata": {
  "kernelspec": {
   "display_name": "python3",
   "language": "python",
   "name": "python3"
  }
 },
 "nbformat": 4,
 "nbformat_minor": 5
}
