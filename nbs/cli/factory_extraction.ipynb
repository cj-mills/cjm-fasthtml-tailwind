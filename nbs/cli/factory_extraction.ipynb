{
 "cells": [
  {
   "cell_type": "markdown",
   "id": "3f980ff1-504d-4534-9ecb-2298efd7000f",
   "metadata": {},
   "source": [
    "# Factory Extraction\n",
    "> Functions to extract BaseFactory instances from modules:"
   ]
  },
  {
   "cell_type": "code",
   "execution_count": null,
   "id": "ceeffab1-4757-4674-bc6f-55ccccc64fce",
   "metadata": {},
   "outputs": [],
   "source": [
    "#| default_exp cli.factory_extraction"
   ]
  },
  {
   "cell_type": "code",
   "execution_count": null,
   "id": "8f6d3427-e62a-40d7-8378-9d1a8af13b2b",
   "metadata": {},
   "outputs": [],
   "source": [
    "#| hide\n",
    "from nbdev.showdoc import *"
   ]
  },
  {
   "cell_type": "code",
   "execution_count": null,
   "id": "9ae4f97c-9778-4f69-a7e3-e536aeb510b6",
   "metadata": {},
   "outputs": [],
   "source": [
    "#| export\n",
    "from dataclasses import dataclass\n",
    "from cjm_fasthtml_tailwind.core.base import BaseFactory\n",
    "from typing import Dict, List, Tuple, Any, Optional\n",
    "\n",
    "from cjm_fasthtml_tailwind.cli.utils import iterate_all_modules_with_items, discover_utility_modules"
   ]
  },
  {
   "cell_type": "code",
   "execution_count": null,
   "id": "24b00310-0580-49ff-9a35-8c014fe97e0a",
   "metadata": {},
   "outputs": [],
   "source": [
    "#| export\n",
    "@dataclass\n",
    "class FactoryInfo:\n",
    "    \"\"\"Information about a discovered factory instance.\"\"\"\n",
    "    name: str  # Factory variable name (e.g., 'p', 'w', 'flex')\n",
    "    factory: BaseFactory  # The actual factory instance\n",
    "    doc: str  # Documentation from the factory\n",
    "    module_name: str  # Module where it was found"
   ]
  },
  {
   "cell_type": "code",
   "execution_count": null,
   "id": "63e2f6f8-9701-48a9-a116-5ca6e0de8ffa",
   "metadata": {},
   "outputs": [],
   "source": [
    "#| export\n",
    "def extract_factories_from_module(\n",
    "    module: Any,  # The module to extract factories from\n",
    "    module_name: str  # The name of the module\n",
    ") -> List[FactoryInfo]:  # List of FactoryInfo objects\n",
    "    \"\"\"Extract all BaseFactory instances from a module.\"\"\"\n",
    "    factories = []\n",
    "    \n",
    "    # Get all attributes of the module\n",
    "    for name in dir(module):\n",
    "        # Skip private attributes\n",
    "        if name.startswith('_'):\n",
    "            continue\n",
    "            \n",
    "        try:\n",
    "            attr = getattr(module, name)\n",
    "            \n",
    "            # Check if it's an instance of BaseFactory (or its subclasses)\n",
    "            if isinstance(attr, BaseFactory):\n",
    "                # Get documentation\n",
    "                doc = attr.describe() if hasattr(attr, 'describe') else str(attr.__doc__ or \"\")\n",
    "                \n",
    "                factories.append(FactoryInfo(\n",
    "                    name=name,\n",
    "                    factory=attr,\n",
    "                    doc=doc,\n",
    "                    module_name=module_name\n",
    "                ))\n",
    "        except AttributeError:\n",
    "            pass  # Skip attributes that can't be accessed\n",
    "    \n",
    "    return sorted(factories, key=lambda x: x.name)  # Sort by factory name"
   ]
  },
  {
   "cell_type": "code",
   "execution_count": null,
   "id": "d1fa38d9-2093-431d-8de4-2f0a7f63882c",
   "metadata": {},
   "outputs": [],
   "source": [
    "#| export\n",
    "def list_all_factories(\n",
    ") -> Dict[str, List[FactoryInfo]]:  # Dictionary mapping module names to their factories\n",
    "    \"\"\"List all factory instances across all utility modules.\"\"\"\n",
    "    return iterate_all_modules_with_items(extract_factories_from_module)"
   ]
  },
  {
   "cell_type": "code",
   "execution_count": null,
   "id": "8b3dad7a-e6c2-4d82-9773-b728e076aed3",
   "metadata": {},
   "outputs": [],
   "source": [
    "#| export\n",
    "def list_module_factories(\n",
    "    module_name: str  # Name of the module to inspect (e.g., 'spacing', 'sizing')\n",
    ") -> List[FactoryInfo]:  # List of FactoryInfo objects for the module\n",
    "    \"\"\"List all factory instances in a specific utility module.\"\"\"\n",
    "    # Find the module\n",
    "    for name, module in discover_utility_modules():\n",
    "        if name == module_name:\n",
    "            return extract_factories_from_module(module, module_name)\n",
    "    \n",
    "    return []  # Module not found"
   ]
  },
  {
   "cell_type": "code",
   "execution_count": null,
   "id": "86a3935c-2a1a-4092-aee4-25bd194b2fbe",
   "metadata": {},
   "outputs": [],
   "source": [
    "#| export\n",
    "def get_factory_by_name(\n",
    "    module_name: str,  # Name of the module\n",
    "    factory_name: str  # Name of the factory (e.g., 'p', 'w', 'flex')\n",
    ") -> Optional[FactoryInfo]:  # FactoryInfo object or None if not found\n",
    "    \"\"\"Get a specific factory by module name and factory name.\"\"\"\n",
    "    factories = list_module_factories(module_name)\n",
    "    \n",
    "    for factory_info in factories:\n",
    "        if factory_info.name == factory_name:\n",
    "            return factory_info\n",
    "    \n",
    "    return None"
   ]
  },
  {
   "cell_type": "code",
   "execution_count": null,
   "id": "fc8ca137-d073-45c7-acbb-9bf7282585cd",
   "metadata": {},
   "outputs": [],
   "source": []
  },
  {
   "cell_type": "code",
   "execution_count": null,
   "id": "809fef22-eb0e-43eb-a104-cc722a31a826",
   "metadata": {},
   "outputs": [],
   "source": []
  },
  {
   "cell_type": "code",
   "execution_count": null,
   "id": "45b5dd56-b33b-48e6-939a-13b77b740071",
   "metadata": {},
   "outputs": [],
   "source": []
  },
  {
   "cell_type": "markdown",
   "id": "d98c3e44-54fd-4531-a1ad-83c1eeaef57e",
   "metadata": {},
   "source": [
    "## Export"
   ]
  },
  {
   "cell_type": "code",
   "execution_count": null,
   "id": "444b64c5-1bf5-4ff8-b7c1-927bafec7416",
   "metadata": {},
   "outputs": [],
   "source": [
    "#| hide\n",
    "import nbdev; nbdev.nbdev_export()"
   ]
  }
 ],
 "metadata": {
  "kernelspec": {
   "display_name": "python3",
   "language": "python",
   "name": "python3"
  }
 },
 "nbformat": 4,
 "nbformat_minor": 5
}
