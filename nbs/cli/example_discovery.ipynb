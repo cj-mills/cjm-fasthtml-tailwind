{
 "cells": [
  {
   "cell_type": "markdown",
   "id": "8e19d6f5-e867-41e0-9faa-b3173f361401",
   "metadata": {},
   "source": [
    "# Example Discovery\n",
    "> Functions to discover and extract test example functions:"
   ]
  },
  {
   "cell_type": "code",
   "execution_count": null,
   "id": "56b93aed-bacc-4719-b07d-f045616d8ed0",
   "metadata": {},
   "outputs": [],
   "source": [
    "#| default_exp cli.example_discovery"
   ]
  },
  {
   "cell_type": "code",
   "execution_count": null,
   "id": "fdbb9690-79ca-424d-886c-610be4dff6d7",
   "metadata": {},
   "outputs": [],
   "source": [
    "#| hide\n",
    "from nbdev.showdoc import *"
   ]
  },
  {
   "cell_type": "code",
   "execution_count": null,
   "id": "738f82eb-5138-401b-bae2-9763e48d3585",
   "metadata": {},
   "outputs": [],
   "source": [
    "#| export\n",
    "from dataclasses import dataclass\n",
    "import inspect\n",
    "from typing import Dict, List, Tuple, Any, Optional\n",
    "import re\n",
    "\n",
    "from cjm_fasthtml_tailwind.cli.utils import iterate_all_modules_with_items, list_utility_modules, discover_utility_modules"
   ]
  },
  {
   "cell_type": "code",
   "execution_count": null,
   "id": "f06f1684-f223-4261-b429-562a983b254f",
   "metadata": {},
   "outputs": [],
   "source": [
    "#| export\n",
    "@dataclass\n",
    "class ExampleInfo:\n",
    "    \"\"\"Information about a discovered test example function.\"\"\"\n",
    "    name: str  # Function name (e.g., 'test_spacing_basic_examples')\n",
    "    module_name: str  # Module where it was found (e.g., 'spacing')\n",
    "    feature: str  # Feature being demonstrated (e.g., 'basic')\n",
    "    function: Any  # The actual function object\n",
    "    source: str  # Source code of the function\n",
    "    docstring: str  # Docstring of the function"
   ]
  },
  {
   "cell_type": "code",
   "execution_count": null,
   "id": "bf7bad7e-23cd-44c3-a227-1a038398654b",
   "metadata": {},
   "outputs": [],
   "source": [
    "#| export\n",
    "def get_example_pattern(module_name:str):\n",
    "    if \".\" in module_name:\n",
    "        # print(\"Submodule detected.\")\n",
    "        submodule_name = module_name.split(\".\")[-1]\n",
    "        # print(f\"Submodule: {submodule_name}\")\n",
    "        # Pattern to match test functions: test_<submodule>_<feature>_examples\n",
    "        pattern = re.compile(rf'^test_{submodule_name}_(\\w+)_examples$')\n",
    "    else:    \n",
    "        # Pattern to match test functions: test_<module>_<feature>_examples\n",
    "        pattern = re.compile(rf'^test_{module_name}_(\\w+)_examples$')\n",
    "\n",
    "    return pattern"
   ]
  },
  {
   "cell_type": "code",
   "execution_count": null,
   "id": "2e0d39e9-4086-47b3-8093-1908fd9132a5",
   "metadata": {},
   "outputs": [],
   "source": [
    "#| export\n",
    "def extract_test_examples_from_module(\n",
    "    module: Any,  # The module to extract test examples from\n",
    "    module_name: str  # The name of the module\n",
    ") -> List[ExampleInfo]:  # List of ExampleInfo objects\n",
    "    \"\"\"Extract all test example functions from a module.\"\"\"\n",
    "    examples = []\n",
    "    \n",
    "    for name in dir(module):\n",
    "        match = get_example_pattern(module_name).match(name)\n",
    "        if match:\n",
    "            try:\n",
    "                func = getattr(module, name)\n",
    "                if callable(func):\n",
    "                    feature = match.group(1)\n",
    "                    source = inspect.getsource(func) if hasattr(inspect, 'getsource') else \"\"\n",
    "                    docstring = inspect.getdoc(func) or \"No description available\"\n",
    "                    \n",
    "                    examples.append(ExampleInfo(\n",
    "                        name=name,\n",
    "                        module_name=module_name,\n",
    "                        feature=feature,\n",
    "                        function=func,\n",
    "                        source=source,\n",
    "                        docstring=docstring\n",
    "                    ))\n",
    "            except (AttributeError, OSError):\n",
    "                pass  # Skip if we can't get the function or its source\n",
    "    \n",
    "    return sorted(examples, key=lambda x: x.name)  # Sort by function name"
   ]
  },
  {
   "cell_type": "code",
   "execution_count": null,
   "id": "012c8f37-60e2-4d35-94af-c16e3c8e9ffd",
   "metadata": {},
   "outputs": [],
   "source": [
    "#| export\n",
    "def list_all_examples(\n",
    ") -> Dict[str, List[ExampleInfo]]:  # Dictionary mapping module names to their examples\n",
    "    \"\"\"List all test example functions across all utility modules.\"\"\"\n",
    "    return iterate_all_modules_with_items(extract_test_examples_from_module)"
   ]
  },
  {
   "cell_type": "code",
   "execution_count": null,
   "id": "92dff533-e1a4-4291-8578-0e332adce6ea",
   "metadata": {},
   "outputs": [],
   "source": [
    "#| export\n",
    "def list_module_examples(\n",
    "    module_name: str  # Name of the module to inspect\n",
    ") -> List[ExampleInfo]:  # List of ExampleInfo objects\n",
    "    \"\"\"List all test example functions in a specific utility module.\"\"\"\n",
    "    # Find the module\n",
    "    for name, module in discover_utility_modules():\n",
    "        if name == module_name:\n",
    "            return extract_test_examples_from_module(module, module_name)\n",
    "    \n",
    "    return []  # Module not found"
   ]
  },
  {
   "cell_type": "code",
   "execution_count": null,
   "id": "e5e492d3-c5ee-4e66-91e8-c68fece2c243",
   "metadata": {},
   "outputs": [],
   "source": [
    "#| export\n",
    "def get_example_by_name(\n",
    "    module_name: str,  # Name of the module\n",
    "    feature: str  # Feature name (e.g., 'basic', 'directional')\n",
    ") -> Optional[ExampleInfo]:  # ExampleInfo object or None if not found\n",
    "    \"\"\"Get a specific example by module name and feature.\"\"\"\n",
    "    examples = list_module_examples(module_name)\n",
    "    \n",
    "    for example in examples:\n",
    "        if example.feature == feature:\n",
    "            return example\n",
    "    \n",
    "    return None"
   ]
  },
  {
   "cell_type": "code",
   "execution_count": null,
   "id": "278815c9-4578-4f29-b7cb-bec782033f36",
   "metadata": {},
   "outputs": [],
   "source": []
  },
  {
   "cell_type": "code",
   "execution_count": null,
   "id": "dfd9b7d6-1ad0-457b-a726-c9789a443bdc",
   "metadata": {},
   "outputs": [],
   "source": []
  },
  {
   "cell_type": "code",
   "execution_count": null,
   "id": "22f9d43a-8c96-4573-88f9-c2b4a6de1324",
   "metadata": {},
   "outputs": [],
   "source": []
  },
  {
   "cell_type": "markdown",
   "id": "b6683ee2-4c1a-41d6-b9d9-87653e97864f",
   "metadata": {},
   "source": [
    "## Export"
   ]
  },
  {
   "cell_type": "code",
   "execution_count": null,
   "id": "401777e2-1035-4354-98e9-5db0f5d3f6ef",
   "metadata": {},
   "outputs": [],
   "source": [
    "#| hide\n",
    "import nbdev; nbdev.nbdev_export()"
   ]
  }
 ],
 "metadata": {
  "kernelspec": {
   "display_name": "python3",
   "language": "python",
   "name": "python3"
  }
 },
 "nbformat": 4,
 "nbformat_minor": 5
}
