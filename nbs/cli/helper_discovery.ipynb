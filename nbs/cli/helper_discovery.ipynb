{
 "cells": [
  {
   "cell_type": "markdown",
   "id": "14ba79e2-29ee-47d0-b424-4d70de1229f8",
   "metadata": {},
   "source": [
    "# Helper Function Discovery\n",
    "> Functions to discover and extract helper functions:"
   ]
  },
  {
   "cell_type": "code",
   "execution_count": null,
   "id": "6c4f60e6-49a4-48a2-a16e-fca4f8a137ca",
   "metadata": {},
   "outputs": [],
   "source": [
    "#| default_exp cli.helper_discovery"
   ]
  },
  {
   "cell_type": "code",
   "execution_count": null,
   "id": "1d87a89b-5bcc-4239-b6db-ed76f6995baa",
   "metadata": {},
   "outputs": [],
   "source": [
    "#| hide\n",
    "from nbdev.showdoc import *"
   ]
  },
  {
   "cell_type": "code",
   "execution_count": null,
   "id": "0565fdf5-96fe-4a99-8606-31b6e9d3760b",
   "metadata": {},
   "outputs": [],
   "source": [
    "#| export\n",
    "from dataclasses import dataclass\n",
    "import inspect\n",
    "from typing import Dict, List, Tuple, Any, Optional\n",
    "from cjm_fasthtml_tailwind.cli.example_discovery import ExampleInfo\n",
    "from cjm_fasthtml_tailwind.cli.utils import (\n",
    "    discover_utility_modules, extract_helper_names_from_test\n",
    ") "
   ]
  },
  {
   "cell_type": "code",
   "execution_count": null,
   "id": "e8cdbd0c-e0f1-4609-a239-2c61b13902e4",
   "metadata": {},
   "outputs": [],
   "source": []
  },
  {
   "cell_type": "code",
   "execution_count": null,
   "id": "5ec8fe48-dff9-4de6-8144-76f655d6239b",
   "metadata": {},
   "outputs": [],
   "source": [
    "#| export\n",
    "@dataclass\n",
    "class HelperInfo:\n",
    "    \"\"\"Information about a discovered helper function.\"\"\"\n",
    "    name: str  # Function name (e.g., 'pad', 'margin', 'combine_classes')\n",
    "    module_name: str  # Module where it was found\n",
    "    function: Any  # The actual function object\n",
    "    signature: str  # Function signature\n",
    "    docstring: str  # Function docstring\n",
    "    source: str  # Source code of the function"
   ]
  },
  {
   "cell_type": "code",
   "execution_count": null,
   "id": "9273d0ed-01b8-4cc6-9f36-72f134f6d61f",
   "metadata": {},
   "outputs": [],
   "source": [
    "#| export\n",
    "def get_helper_examples(\n",
    "    module_name: str  # Name of the module to inspect\n",
    ") -> Optional[ExampleInfo]:  # ExampleInfo object or None if not found\n",
    "    \"\"\"Get the helper examples test function for a module.\"\"\"\n",
    "    # Find the module\n",
    "    for name, module in discover_utility_modules():\n",
    "        if name == module_name:\n",
    "            # Look for test_<module>_helper_examples function\n",
    "            func_name = f'test_{module_name}_helper_examples'\n",
    "            \n",
    "            if hasattr(module, func_name):\n",
    "                try:\n",
    "                    func = getattr(module, func_name)\n",
    "                    if callable(func):\n",
    "                        source = inspect.getsource(func) if hasattr(inspect, 'getsource') else \"\"\n",
    "                        docstring = inspect.getdoc(func) or \"No documentation available\"\n",
    "                        \n",
    "                        return ExampleInfo(\n",
    "                            name=func_name,\n",
    "                            module_name=module_name,\n",
    "                            feature='helper',\n",
    "                            function=func,\n",
    "                            source=source,\n",
    "                            docstring=docstring\n",
    "                        )\n",
    "                except (AttributeError, OSError):\n",
    "                    pass\n",
    "    \n",
    "    return None"
   ]
  },
  {
   "cell_type": "code",
   "execution_count": null,
   "id": "15ae45a0-df45-4eac-9c71-4ffba4977b5c",
   "metadata": {},
   "outputs": [],
   "source": [
    "#| export\n",
    "def get_module_helpers(\n",
    "    module_name: str  # Name of the module to inspect\n",
    ") -> List[HelperInfo]:  # List of HelperInfo objects\n",
    "    \"\"\"Get helper functions from a module based on its test_<module>_helper_examples function.\"\"\"\n",
    "    helpers = []\n",
    "    \n",
    "    # First, get the helper examples test function\n",
    "    helper_example = get_helper_examples(module_name)\n",
    "    if not helper_example:\n",
    "        return helpers\n",
    "    \n",
    "    # Extract helper function names from the test\n",
    "    helper_names = extract_helper_names_from_test(helper_example.source)\n",
    "    \n",
    "    # Now get the actual module and extract info for each helper\n",
    "    for name, module in discover_utility_modules():\n",
    "        if name == module_name:\n",
    "            for helper_name in helper_names:\n",
    "                if hasattr(module, helper_name):\n",
    "                    try:\n",
    "                        func = getattr(module, helper_name)\n",
    "                        if callable(func):\n",
    "                            signature = str(inspect.signature(func)) if hasattr(inspect, 'signature') else \"\"\n",
    "                            docstring = inspect.getdoc(func) or \"No documentation available\"\n",
    "                            source = inspect.getsource(func) if hasattr(inspect, 'getsource') else \"\"\n",
    "                            \n",
    "                            helpers.append(HelperInfo(\n",
    "                                name=helper_name,\n",
    "                                module_name=module_name,\n",
    "                                function=func,\n",
    "                                signature=signature,\n",
    "                                docstring=docstring,\n",
    "                                source=source\n",
    "                            ))\n",
    "                    except (AttributeError, OSError, TypeError):\n",
    "                        pass\n",
    "            break\n",
    "    \n",
    "    return sorted(helpers, key=lambda x: x.name)"
   ]
  },
  {
   "cell_type": "code",
   "execution_count": null,
   "id": "a3082572-698e-4d73-8116-639174c75fa7",
   "metadata": {},
   "outputs": [],
   "source": []
  },
  {
   "cell_type": "code",
   "execution_count": null,
   "id": "20231dbc-a632-42b2-bca9-599b0eb1d8a4",
   "metadata": {},
   "outputs": [],
   "source": []
  },
  {
   "cell_type": "code",
   "execution_count": null,
   "id": "cbf8183d-2a22-45fa-b588-e915f8efdab1",
   "metadata": {},
   "outputs": [],
   "source": []
  },
  {
   "cell_type": "markdown",
   "id": "3cda7669-c0f6-421f-99bc-a69b473c89b3",
   "metadata": {},
   "source": [
    "## Export"
   ]
  },
  {
   "cell_type": "code",
   "execution_count": null,
   "id": "75448352-2f51-4ed9-8ca9-6a741621bde5",
   "metadata": {},
   "outputs": [],
   "source": [
    "#| hide\n",
    "import nbdev; nbdev.nbdev_export()"
   ]
  }
 ],
 "metadata": {
  "kernelspec": {
   "display_name": "python3",
   "language": "python",
   "name": "python3"
  }
 },
 "nbformat": 4,
 "nbformat_minor": 5
}
