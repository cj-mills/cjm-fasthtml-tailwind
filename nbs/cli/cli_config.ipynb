{
 "cells": [
  {
   "cell_type": "markdown",
   "id": "eb9ea7b6",
   "metadata": {},
   "source": [
    "# CLI Configuration\n",
    "\n",
    "> Configuration system for multi-library CLI support"
   ]
  },
  {
   "cell_type": "code",
   "execution_count": null,
   "id": "ec4ef4ab",
   "metadata": {},
   "outputs": [],
   "source": [
    "#| default_exp cli.cli_config"
   ]
  },
  {
   "cell_type": "code",
   "execution_count": null,
   "id": "1ae938bf",
   "metadata": {},
   "outputs": [],
   "source": [
    "#| hide\n",
    "from nbdev.showdoc import *"
   ]
  },
  {
   "cell_type": "code",
   "execution_count": null,
   "id": "b70fdedc",
   "metadata": {},
   "outputs": [],
   "source": [
    "#| export\n",
    "from dataclasses import dataclass, field\n",
    "from typing import List, Optional, Tuple, Dict, Any\n",
    "import os"
   ]
  },
  {
   "cell_type": "markdown",
   "id": "9d9a8046",
   "metadata": {},
   "source": [
    "## Configuration Class\n",
    "\n",
    "Define the configuration structure for library-specific CLI tools:"
   ]
  },
  {
   "cell_type": "code",
   "execution_count": null,
   "id": "a1403bc7",
   "metadata": {},
   "outputs": [],
   "source": [
    "#| export\n",
    "@dataclass\n",
    "class LibraryConfig:\n",
    "    \"\"\"Configuration for a specific library's CLI tool.\"\"\"\n",
    "    # Package names\n",
    "    package_name: str  # e.g., 'cjm_fasthtml_tailwind' or 'cjm_fasthtml_daisyui'\n",
    "    cli_command: str  # e.g., 'cjm-tailwind-explore' or 'cjm-daisyui-explore'\n",
    "    display_name: str  # e.g., 'Tailwind' or 'DaisyUI'\n",
    "    \n",
    "    # Module discovery configuration\n",
    "    module_discovery_paths: List[str]  # e.g., ['utilities'] or ['components', 'builders']\n",
    "    \n",
    "    # Core package locations\n",
    "    core_package: str  # e.g., 'cjm_fasthtml_tailwind.core'\n",
    "    \n",
    "    # Core utilities to expose\n",
    "    core_utilities: List[Tuple[str, str]]  # [(name, module_path), ...]\n",
    "    \n",
    "    # Import generation\n",
    "    base_imports: List[str] = field(default_factory=list)  # Additional base imports\n",
    "    \n",
    "    # Pattern matching specifics (optional)\n",
    "    css_class_prefix: Optional[str] = None  # e.g., 'daisy-' for DaisyUI classes\n",
    "    \n",
    "    # Test patterns (for finding test examples)\n",
    "    test_pattern_prefix: str = 'test_'  # Prefix for test functions\n",
    "    test_pattern_suffix: str = '_examples'  # Suffix for test functions\n",
    "    \n",
    "    # Helper patterns\n",
    "    helper_test_suffix: str = 'helper_examples'  # Suffix for helper test functions\n",
    "    \n",
    "    def get_utilities_package(self, module_name: str) -> str:\n",
    "        \"\"\"Get the full package path for a utility module.\"\"\"\n",
    "        # Find which discovery path contains this module\n",
    "        for path in self.module_discovery_paths:\n",
    "            return f\"{self.package_name}.{path}.{module_name}\"\n",
    "        # Default to first path\n",
    "        return f\"{self.package_name}.{self.module_discovery_paths[0]}.{module_name}\"\n",
    "    \n",
    "    def get_test_function_pattern(self, module_name: str, feature: str) -> str:\n",
    "        \"\"\"Get the expected test function name for a module and feature.\"\"\"\n",
    "        return f\"{self.test_pattern_prefix}{module_name}_{feature}_{self.test_pattern_suffix}\"\n",
    "    \n",
    "    def get_helper_test_function(self, module_name: str) -> str:\n",
    "        \"\"\"Get the expected helper test function name for a module.\"\"\"\n",
    "        return f\"{self.test_pattern_prefix}{module_name}_{self.helper_test_suffix}\""
   ]
  },
  {
   "cell_type": "markdown",
   "id": "18adbfa9",
   "metadata": {},
   "source": [
    "## Predefined Configurations\n",
    "\n",
    "Define configurations for specific libraries:"
   ]
  },
  {
   "cell_type": "code",
   "execution_count": null,
   "id": "fab97fe5",
   "metadata": {},
   "outputs": [],
   "source": [
    "#| export\n",
    "def get_tailwind_config() -> LibraryConfig:\n",
    "    \"\"\"Get configuration for cjm-fasthtml-tailwind library.\"\"\"\n",
    "    return LibraryConfig(\n",
    "        package_name='cjm_fasthtml_tailwind',\n",
    "        cli_command='cjm-tailwind-explore',\n",
    "        display_name='Tailwind',\n",
    "        module_discovery_paths=['utilities'],\n",
    "        core_package='cjm_fasthtml_tailwind.core',\n",
    "        core_utilities=[\n",
    "            ('combine_classes', 'cjm_fasthtml_tailwind.core.base'),\n",
    "            ('get_tailwind_headers', 'cjm_fasthtml_tailwind.core.resources'),\n",
    "        ],\n",
    "        base_imports=['from fasthtml.common import *']\n",
    "    )"
   ]
  },
  {
   "cell_type": "code",
   "execution_count": null,
   "id": "fdcbe2f0",
   "metadata": {},
   "outputs": [],
   "source": [
    "#| export\n",
    "def get_daisyui_config() -> LibraryConfig:\n",
    "    \"\"\"Get configuration for cjm-fasthtml-daisyui library.\"\"\"\n",
    "    return LibraryConfig(\n",
    "        package_name='cjm_fasthtml_daisyui',\n",
    "        cli_command='cjm-daisyui-explore',\n",
    "        display_name='DaisyUI',\n",
    "        module_discovery_paths=['components', 'builders'],\n",
    "        core_package='cjm_fasthtml_daisyui.core',\n",
    "        core_utilities=[\n",
    "            ('combine_classes', 'cjm_fasthtml_daisyui.core.utility_classes'),\n",
    "            ('get_daisyui_headers', 'cjm_fasthtml_daisyui.core.resources'),\n",
    "            ('DaisyThemes', 'cjm_fasthtml_daisyui.core.themes'),\n",
    "        ],\n",
    "        base_imports=['from fasthtml.common import *'],\n",
    "        css_class_prefix='daisy-'\n",
    "    )"
   ]
  },
  {
   "cell_type": "markdown",
   "id": "c8ba824e",
   "metadata": {},
   "source": [
    "## Configuration Management\n",
    "\n",
    "Functions to manage the active configuration:"
   ]
  },
  {
   "cell_type": "code",
   "execution_count": null,
   "id": "16469742",
   "metadata": {},
   "outputs": [],
   "source": [
    "#| export\n",
    "# Global variable to store the active configuration\n",
    "_active_config: Optional[LibraryConfig] = None\n",
    "\n",
    "def set_active_config(config: LibraryConfig) -> None:\n",
    "    \"\"\"Set the active library configuration.\"\"\"\n",
    "    global _active_config\n",
    "    _active_config = config\n",
    "\n",
    "def get_active_config() -> LibraryConfig:\n",
    "    \"\"\"Get the active library configuration.\n",
    "    \n",
    "    If no configuration is set, attempts to auto-detect based on:\n",
    "    1. Environment variable FASTHTML_LIB_CONFIG\n",
    "    2. Package availability\n",
    "    3. Defaults to Tailwind config\n",
    "    \"\"\"\n",
    "    global _active_config\n",
    "    \n",
    "    if _active_config is not None:\n",
    "        return _active_config\n",
    "    \n",
    "    # Try environment variable\n",
    "    env_config = os.environ.get('FASTHTML_LIB_CONFIG', '').lower()\n",
    "    if env_config == 'daisyui':\n",
    "        _active_config = get_daisyui_config()\n",
    "    elif env_config == 'tailwind':\n",
    "        _active_config = get_tailwind_config()\n",
    "    else:\n",
    "        # Try to detect based on package availability\n",
    "        try:\n",
    "            import cjm_fasthtml_daisyui\n",
    "            _active_config = get_daisyui_config()\n",
    "        except ImportError:\n",
    "            try:\n",
    "                import cjm_fasthtml_tailwind\n",
    "                _active_config = get_tailwind_config()\n",
    "            except ImportError:\n",
    "                # Default to tailwind\n",
    "                _active_config = get_tailwind_config()\n",
    "    \n",
    "    return _active_config"
   ]
  },
  {
   "cell_type": "code",
   "execution_count": null,
   "id": "b5427afa",
   "metadata": {},
   "outputs": [],
   "source": [
    "#| export\n",
    "def reset_config() -> None:\n",
    "    \"\"\"Reset the active configuration to force re-detection.\"\"\"\n",
    "    global _active_config\n",
    "    _active_config = None"
   ]
  },
  {
   "cell_type": "markdown",
   "id": "bebff805",
   "metadata": {},
   "source": [
    "## Configuration Factory\n",
    "\n",
    "Factory function to get configuration by name:"
   ]
  },
  {
   "cell_type": "code",
   "execution_count": null,
   "id": "40d7e8b7",
   "metadata": {},
   "outputs": [],
   "source": [
    "#| export\n",
    "def get_config_by_name(name: str) -> Optional[LibraryConfig]:\n",
    "    \"\"\"Get a library configuration by name.\n",
    "    \n",
    "    Args:\n",
    "        name: Library name ('tailwind', 'daisyui')\n",
    "    \n",
    "    Returns:\n",
    "        LibraryConfig or None if not found\n",
    "    \"\"\"\n",
    "    configs = {\n",
    "        'tailwind': get_tailwind_config,\n",
    "        'daisyui': get_daisyui_config,\n",
    "    }\n",
    "    \n",
    "    factory = configs.get(name.lower())\n",
    "    return factory() if factory else None"
   ]
  },
  {
   "cell_type": "markdown",
   "id": "40d88d50",
   "metadata": {},
   "source": [
    "## Configuration Utilities\n",
    "\n",
    "Helper functions for working with configurations:"
   ]
  },
  {
   "cell_type": "code",
   "execution_count": null,
   "id": "4caf2c95",
   "metadata": {},
   "outputs": [],
   "source": [
    "#| export\n",
    "def list_available_configs() -> List[str]:\n",
    "    \"\"\"List all available library configurations.\"\"\"\n",
    "    return ['tailwind', 'daisyui']"
   ]
  },
  {
   "cell_type": "code",
   "execution_count": null,
   "id": "678e24c1",
   "metadata": {},
   "outputs": [],
   "source": [
    "#| export\n",
    "def get_config_info(config: LibraryConfig) -> Dict[str, Any]:\n",
    "    \"\"\"Get information about a configuration.\n",
    "    \n",
    "    Returns:\n",
    "        Dictionary with configuration details\n",
    "    \"\"\"\n",
    "    return {\n",
    "        'library': config.display_name,\n",
    "        'package': config.package_name,\n",
    "        'cli_command': config.cli_command,\n",
    "        'module_paths': config.module_discovery_paths,\n",
    "        'core_utilities': [name for name, _ in config.core_utilities],\n",
    "        'has_css_prefix': config.css_class_prefix is not None\n",
    "    }"
   ]
  },
  {
   "cell_type": "markdown",
   "id": "ea8ba897",
   "metadata": {},
   "source": [
    "## Export"
   ]
  },
  {
   "cell_type": "code",
   "execution_count": null,
   "id": "00a67187",
   "metadata": {},
   "outputs": [],
   "source": [
    "#| hide\n",
    "import nbdev; nbdev.nbdev_export()"
   ]
  }
 ],
 "metadata": {
  "kernelspec": {
   "display_name": "python3",
   "language": "python",
   "name": "python3"
  }
 },
 "nbformat": 4,
 "nbformat_minor": 5
}
