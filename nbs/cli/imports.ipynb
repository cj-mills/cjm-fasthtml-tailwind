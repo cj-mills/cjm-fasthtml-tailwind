{
 "cells": [
  {
   "cell_type": "markdown",
   "id": "8ca9ece8-df58-492f-88cc-49fe347a431a",
   "metadata": {},
   "source": [
    "# imports\n",
    "\n",
    "> Functions for getting import statements."
   ]
  },
  {
   "cell_type": "code",
   "execution_count": null,
   "id": "d0036eed-688b-495e-82fa-495bc3f5acc1",
   "metadata": {},
   "outputs": [],
   "source": [
    "#| default_exp cli.imports"
   ]
  },
  {
   "cell_type": "code",
   "execution_count": null,
   "id": "68d738aa-4c49-48da-94db-b786ea0152a1",
   "metadata": {},
   "outputs": [],
   "source": [
    "#| hide\n",
    "from nbdev.showdoc import *"
   ]
  },
  {
   "cell_type": "code",
   "execution_count": null,
   "id": "331986fc-adc3-4e60-bc06-6c31c7efa89b",
   "metadata": {},
   "outputs": [],
   "source": [
    "#| export\n",
    "from typing import Dict, List, Tuple, Any, Optional\n",
    "from cjm_fasthtml_tailwind.cli.utils import discover_utility_modules\n",
    "from cjm_fasthtml_tailwind.cli.factory_extraction import extract_factories_from_module\n",
    "from cjm_fasthtml_tailwind.cli.helper_discovery import get_module_helpers\n",
    "from cjm_fasthtml_tailwind.cli.core_utils_discovery import get_core_utilities\n",
    "from cjm_fasthtml_tailwind.cli.cli_config import LibraryConfig, get_active_config"
   ]
  },
  {
   "cell_type": "code",
   "execution_count": null,
   "id": "6193fe9f-d602-4bc6-874f-452e90206cdf",
   "metadata": {},
   "outputs": [],
   "source": [
    "#| export\n",
    "def get_recommended_imports(\n",
    "    modules: Optional[List[str]] = None,  # Specific modules to include, or None for all\n",
    "    config: Optional[LibraryConfig] = None  # Optional configuration\n",
    ") -> List[str]:  # List of import statements\n",
    "    \"\"\"Get recommended import statements for using the library.\"\"\"\n",
    "    if config is None:\n",
    "        config = get_active_config()\n",
    "        \n",
    "    imports = []\n",
    "    \n",
    "    # Add base imports from configuration\n",
    "    imports.extend(config.base_imports)\n",
    "    \n",
    "    # Get imports for utility modules\n",
    "    for module_name, module in discover_utility_modules(config):\n",
    "        if modules and module_name not in modules:\n",
    "            continue\n",
    "            \n",
    "        # Get factories and helpers from this module\n",
    "        factories = extract_factories_from_module(module, module_name)\n",
    "        helpers = get_module_helpers(module_name)\n",
    "        \n",
    "        # Combine all names\n",
    "        all_names = []\n",
    "        if factories:\n",
    "            all_names.extend([f.name for f in factories])\n",
    "        if helpers:\n",
    "            all_names.extend([h.name for h in helpers])\n",
    "        \n",
    "        if all_names:\n",
    "            import_list = \", \".join(sorted(all_names))\n",
    "            # Use the configuration to get the correct package path\n",
    "            module_package = config.get_utilities_package(module_name)\n",
    "            imports.append(f\"from {module_package} import {import_list}\")\n",
    "    \n",
    "    # Add core utilities\n",
    "    core_utils = get_core_utilities(config)\n",
    "    for util in core_utils:\n",
    "        imports.append(util.import_statement)\n",
    "    \n",
    "    return imports"
   ]
  },
  {
   "cell_type": "code",
   "execution_count": null,
   "id": "c0c32d1e-75d5-451c-8808-8c97a28f890d",
   "metadata": {},
   "outputs": [],
   "source": []
  },
  {
   "cell_type": "code",
   "execution_count": null,
   "id": "d39051b6-faeb-4201-a795-b4ccf4b5a0a1",
   "metadata": {},
   "outputs": [],
   "source": []
  },
  {
   "cell_type": "code",
   "execution_count": null,
   "id": "f7d91ff5-e934-41fa-80ca-6e5899e3df8b",
   "metadata": {},
   "outputs": [],
   "source": []
  },
  {
   "cell_type": "code",
   "execution_count": null,
   "id": "742505fd-9967-4473-ab60-dcf6c2a3438d",
   "metadata": {},
   "outputs": [],
   "source": []
  },
  {
   "cell_type": "markdown",
   "id": "6b1cc274-408a-4948-b9ac-36f84e196f7a",
   "metadata": {},
   "source": [
    "## Export"
   ]
  },
  {
   "cell_type": "code",
   "execution_count": null,
   "id": "d318ff2b-5bde-4f8e-8e3a-e8ed36d667d7",
   "metadata": {},
   "outputs": [],
   "source": [
    "#| hide\n",
    "import nbdev; nbdev.nbdev_export()"
   ]
  }
 ],
 "metadata": {
  "kernelspec": {
   "display_name": "python3",
   "language": "python",
   "name": "python3"
  }
 },
 "nbformat": 4,
 "nbformat_minor": 5
}
