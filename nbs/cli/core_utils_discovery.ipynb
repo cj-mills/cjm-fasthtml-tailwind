{
 "cells": [
  {
   "cell_type": "markdown",
   "id": "8458e92a-7abc-484d-a327-5320566aa151",
   "metadata": {},
   "source": [
    "# Core Utilities Discovery\n",
    "> Functions to discover and display core utility functions like combine_classes:"
   ]
  },
  {
   "cell_type": "code",
   "execution_count": null,
   "id": "c97b62e0-096d-4277-987d-254f9887644a",
   "metadata": {},
   "outputs": [],
   "source": [
    "#| default_exp cli.core_utils_discovery"
   ]
  },
  {
   "cell_type": "code",
   "execution_count": null,
   "id": "10c66473-e1e5-44d3-84c0-8cf00f0c9c22",
   "metadata": {},
   "outputs": [],
   "source": [
    "#| hide\n",
    "from nbdev.showdoc import *"
   ]
  },
  {
   "cell_type": "code",
   "execution_count": null,
   "id": "198263b4-a094-422b-a52a-c3c027110b2a",
   "metadata": {},
   "outputs": [],
   "source": [
    "#| export\n",
    "from dataclasses import dataclass\n",
    "import importlib\n",
    "import inspect\n",
    "from typing import Dict, List, Tuple, Any, Optional"
   ]
  },
  {
   "cell_type": "code",
   "execution_count": null,
   "id": "c7efeb99-5217-4e01-b695-ab0f129c50c6",
   "metadata": {},
   "outputs": [],
   "source": [
    "#| export\n",
    "@dataclass\n",
    "class CoreUtilityInfo:\n",
    "    \"\"\"Information about a core utility function.\"\"\"\n",
    "    name: str  # Function name\n",
    "    module: str  # Module path (e.g., 'cjm_fasthtml_tailwind.core.base')\n",
    "    function: Any  # The actual function object\n",
    "    signature: str  # Function signature\n",
    "    docstring: str  # Function docstring\n",
    "    source: str  # Source code\n",
    "    import_statement: str  # How to import this utility"
   ]
  },
  {
   "cell_type": "code",
   "execution_count": null,
   "id": "095b5972-4a8e-4ed9-90aa-35340b5a5224",
   "metadata": {},
   "outputs": [],
   "source": [
    "#| export\n",
    "def get_core_utilities(\n",
    ") -> List[CoreUtilityInfo]:  # TODO: Add return description\n",
    "    \"\"\"Get information about core utility functions.\"\"\"\n",
    "    utilities = []\n",
    "    \n",
    "    # Define core utilities to expose\n",
    "    core_utils = [\n",
    "        ('combine_classes', 'cjm_fasthtml_tailwind.core.base'),\n",
    "        ('get_tailwind_headers', 'cjm_fasthtml_tailwind.core.resources'),\n",
    "    ]\n",
    "    \n",
    "    for util_name, module_path in core_utils:\n",
    "        try:\n",
    "            module = importlib.import_module(module_path)\n",
    "            if hasattr(module, util_name):\n",
    "                func = getattr(module, util_name)\n",
    "                if callable(func):\n",
    "                    signature = str(inspect.signature(func)) if hasattr(inspect, 'signature') else \"\"\n",
    "                    docstring = inspect.getdoc(func) or \"No documentation available\"\n",
    "                    source = inspect.getsource(func) if hasattr(inspect, 'getsource') else \"\"\n",
    "                    \n",
    "                    utilities.append(CoreUtilityInfo(\n",
    "                        name=util_name,\n",
    "                        module=module_path,\n",
    "                        function=func,\n",
    "                        signature=signature,\n",
    "                        docstring=docstring,\n",
    "                        source=source,\n",
    "                        import_statement=f\"from {module_path} import {util_name}\"\n",
    "                    ))\n",
    "        except (ImportError, AttributeError, OSError):\n",
    "            pass\n",
    "    \n",
    "    return utilities"
   ]
  },
  {
   "cell_type": "code",
   "execution_count": null,
   "id": "604d267e-a6df-48b6-b70f-479019b9a8f1",
   "metadata": {},
   "outputs": [],
   "source": []
  },
  {
   "cell_type": "code",
   "execution_count": null,
   "id": "72663b62-0960-4d71-825e-bb264f2f8235",
   "metadata": {},
   "outputs": [],
   "source": []
  },
  {
   "cell_type": "markdown",
   "id": "c083021e-6bcf-48a9-9fdd-d666cd692066",
   "metadata": {},
   "source": [
    "## Export"
   ]
  },
  {
   "cell_type": "code",
   "execution_count": null,
   "id": "5c14b159-03d6-4f72-a1e4-df85dbc1a079",
   "metadata": {},
   "outputs": [],
   "source": [
    "#| hide\n",
    "import nbdev; nbdev.nbdev_export()"
   ]
  }
 ],
 "metadata": {
  "kernelspec": {
   "display_name": "python3",
   "language": "python",
   "name": "python3"
  }
 },
 "nbformat": 4,
 "nbformat_minor": 5
}
