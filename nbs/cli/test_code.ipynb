{
 "cells": [
  {
   "cell_type": "markdown",
   "id": "1b5d01a2-0ed2-4146-9d54-2ba2c25777ff",
   "metadata": {},
   "source": [
    "# Test Code Functionality\n",
    "> Functions to test code snippets using the library:"
   ]
  },
  {
   "cell_type": "code",
   "execution_count": null,
   "id": "b4481d8c-24ad-4142-a69b-86be86348266",
   "metadata": {},
   "outputs": [],
   "source": [
    "#| default_exp cli.test_code"
   ]
  },
  {
   "cell_type": "code",
   "execution_count": null,
   "id": "b95c0fc8-0863-4365-9275-cb2e96e8984f",
   "metadata": {},
   "outputs": [],
   "source": [
    "#| hide\n",
    "from nbdev.showdoc import *"
   ]
  },
  {
   "cell_type": "code",
   "execution_count": null,
   "id": "751aabd0-60c4-4c2f-b605-dd4fd365980d",
   "metadata": {},
   "outputs": [],
   "source": [
    "#| export\n",
    "import tempfile\n",
    "import subprocess\n",
    "import sys\n",
    "import os\n",
    "from pathlib import Path\n",
    "from typing import Dict, List, Tuple, Any, Optional\n",
    "\n",
    "from cjm_fasthtml_tailwind.cli.utils import discover_utility_modules\n",
    "from cjm_fasthtml_tailwind.cli.factory_extraction import extract_factories_from_module\n",
    "from cjm_fasthtml_tailwind.cli.helper_discovery import get_module_helpers\n",
    "from cjm_fasthtml_tailwind.cli.cli_config import LibraryConfig, get_active_config"
   ]
  },
  {
   "cell_type": "code",
   "execution_count": null,
   "id": "86eb6c93-f346-4a7e-8372-019808f98cc3",
   "metadata": {},
   "outputs": [],
   "source": [
    "#| export\n",
    "def create_test_script(\n",
    "    code: str,  # TODO: Add description\n",
    "    config: Optional[LibraryConfig] = None  # Optional configuration\n",
    ") -> str:  # TODO: Add return description\n",
    "    \"\"\"Create a test script with necessary imports and the provided code.\"\"\"\n",
    "    if config is None:\n",
    "        config = get_active_config()\n",
    "        \n",
    "    # Build the import statements dynamically based on discovered modules\n",
    "    imports = []\n",
    "    \n",
    "    # Add base imports from configuration\n",
    "    imports.extend(config.base_imports)\n",
    "    \n",
    "    # Add imports for factories from each utility module\n",
    "    for module_name, module in discover_utility_modules(config):\n",
    "        # Get the factory names from this module\n",
    "        factories = extract_factories_from_module(module, module_name)\n",
    "        if factories:\n",
    "            # Import only the actual factory names\n",
    "            factory_names = [f.name for f in factories]\n",
    "            import_list = \", \".join(factory_names)\n",
    "            imports.append(f\"from {module.__name__} import {import_list}\")\n",
    "        \n",
    "        # Also check for helper functions and import them\n",
    "        helpers = get_module_helpers(module_name)\n",
    "        if helpers:\n",
    "            helper_names = [h.name for h in helpers]\n",
    "            # Check if we already have factories to import\n",
    "            if factories:\n",
    "                # Combine with existing import\n",
    "                all_names = factory_names + helper_names\n",
    "                import_list = \", \".join(all_names)\n",
    "                # Replace the last import for this module\n",
    "                imports[-1] = f\"from {module_package} import {import_list}\"\n",
    "            else:\n",
    "                # Just import helpers\n",
    "                import_list = \", \".join(helper_names)\n",
    "                imports.append(f\"from {module.__name__} import {import_list}\")\n",
    "    \n",
    "    # Add core utilities from configuration\n",
    "    for util_name, module_path in config.core_utilities:\n",
    "        imports.append(f\"from {module_path} import {util_name}\")\n",
    "    \n",
    "    # Create the full script\n",
    "    script = \"\\n\".join(imports) + \"\\n\\n\"\n",
    "    script += \"# User code starts here\\n\"\n",
    "    script += code + \"\\n\"\n",
    "    \n",
    "    return script"
   ]
  },
  {
   "cell_type": "code",
   "execution_count": null,
   "id": "290e5886-df52-47bc-8e5c-cd423acd8a78",
   "metadata": {},
   "outputs": [],
   "source": [
    "#| export\n",
    "def execute_test_code(\n",
    "    code: str,  # The code to test\n",
    "    show_imports: bool = False,  # Whether to show the generated imports\n",
    "    timeout: int = 10  # Timeout in seconds\n",
    ") -> Tuple[bool, str, str]:  # (success, stdout, stderr)\n",
    "    \"\"\"Execute test code in a safe environment.\"\"\"\n",
    "    # Create the test script\n",
    "    script = create_test_script(code)\n",
    "    \n",
    "    if show_imports:\n",
    "        print(\"Generated script:\")\n",
    "        print(\"=\" * 60)\n",
    "        print(script)\n",
    "        print(\"=\" * 60)\n",
    "        print()\n",
    "    \n",
    "    # Create a temporary file\n",
    "    with tempfile.NamedTemporaryFile(mode='w', suffix='.py', delete=False) as f:\n",
    "        f.write(script)\n",
    "        temp_file = f.name\n",
    "    \n",
    "    try:\n",
    "        # Execute the script\n",
    "        result = subprocess.run(\n",
    "            [sys.executable, temp_file],\n",
    "            capture_output=True,\n",
    "            text=True,\n",
    "            timeout=timeout\n",
    "        )\n",
    "        \n",
    "        success = result.returncode == 0\n",
    "        return success, result.stdout, result.stderr\n",
    "        \n",
    "    except subprocess.TimeoutExpired:\n",
    "        return False, \"\", f\"Code execution timed out after {timeout} seconds\"\n",
    "    except Exception as e:\n",
    "        return False, \"\", f\"Error executing code: {str(e)}\"\n",
    "    finally:\n",
    "        # Clean up the temporary file\n",
    "        try:\n",
    "            os.unlink(temp_file)\n",
    "        except:\n",
    "            pass"
   ]
  },
  {
   "cell_type": "code",
   "execution_count": null,
   "id": "27d8e22f-f413-4365-935f-0d7a7a787d4c",
   "metadata": {},
   "outputs": [],
   "source": []
  },
  {
   "cell_type": "code",
   "execution_count": null,
   "id": "a9a91278-e415-4457-be03-2221c9099d00",
   "metadata": {},
   "outputs": [],
   "source": []
  },
  {
   "cell_type": "code",
   "execution_count": null,
   "id": "1c589013-1b5e-4d82-837a-270773b733b0",
   "metadata": {},
   "outputs": [],
   "source": []
  },
  {
   "cell_type": "code",
   "execution_count": null,
   "id": "9cf634c2-2356-4c4b-ad82-dbb060b7e648",
   "metadata": {},
   "outputs": [],
   "source": []
  },
  {
   "cell_type": "code",
   "execution_count": null,
   "id": "673d5c02-a173-40cd-bbfb-d01e48a40b1b",
   "metadata": {},
   "outputs": [],
   "source": []
  },
  {
   "cell_type": "markdown",
   "id": "5796c6f5-b581-4b9b-a869-19bf24575c58",
   "metadata": {},
   "source": [
    "## Export"
   ]
  },
  {
   "cell_type": "code",
   "execution_count": null,
   "id": "873962a8-38bf-47c0-8475-1060503be21a",
   "metadata": {},
   "outputs": [],
   "source": [
    "#| hide\n",
    "import nbdev; nbdev.nbdev_export()"
   ]
  }
 ],
 "metadata": {
  "kernelspec": {
   "display_name": "python3",
   "language": "python",
   "name": "python3"
  }
 },
 "nbformat": 4,
 "nbformat_minor": 5
}
