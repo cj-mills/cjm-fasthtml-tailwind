{
 "cells": [
  {
   "cell_type": "markdown",
   "id": "11e82a7a-c020-4579-818a-fdf69f57d22b",
   "metadata": {},
   "source": [
    "# explorer\n",
    "\n",
    "> CLI tool for API exploration"
   ]
  },
  {
   "cell_type": "code",
   "execution_count": null,
   "id": "c4165be1-00a9-47ed-b075-f674ebf6b187",
   "metadata": {},
   "outputs": [],
   "source": [
    "#| default_exp cli.explorer"
   ]
  },
  {
   "cell_type": "code",
   "execution_count": null,
   "id": "c4ef6f1f-bde5-4429-aa72-a82d9845e95c",
   "metadata": {},
   "outputs": [],
   "source": [
    "#| hide\n",
    "from nbdev.showdoc import *"
   ]
  },
  {
   "cell_type": "code",
   "execution_count": null,
   "id": "c9acc63d-9c9d-4d84-9358-1d10f128fcda",
   "metadata": {},
   "outputs": [],
   "source": [
    "#| export\n",
    "from typing import Optional, List, Dict, Tuple, Any\n",
    "import typer\n",
    "from typer import Argument, Option\n",
    "from rich.console import Console\n",
    "from rich.table import Table\n",
    "from rich.panel import Panel\n",
    "from rich.text import Text\n",
    "from rich.syntax import Syntax\n",
    "import importlib\n",
    "import inspect\n",
    "import pkgutil\n",
    "from pathlib import Path"
   ]
  },
  {
   "cell_type": "markdown",
   "id": "93897937-de8d-45d7-97ae-a61fbd97f4fe",
   "metadata": {},
   "source": [
    "## Core CLI Application\n",
    "\n",
    "Create the main Typer application and console for rich output:"
   ]
  },
  {
   "cell_type": "code",
   "execution_count": null,
   "id": "6ec8b7ba-faeb-4742-b52a-142b38f0b60b",
   "metadata": {},
   "outputs": [],
   "source": [
    "#| export\n",
    "app = typer.Typer(\n",
    "    help=\"🎨 Tailwind CSS Explorer for FastHTML - Explore utilities dynamically\",\n",
    "    no_args_is_help=True,\n",
    "    pretty_exceptions_enable=False\n",
    ")\n",
    "console = Console()"
   ]
  },
  {
   "cell_type": "markdown",
   "id": "caf6c955-0b0f-4e90-83d1-659f75be4ce4",
   "metadata": {},
   "source": [
    "## Helper Functions\n",
    "\n",
    "Utility functions for formatting output and discovering modules:"
   ]
  },
  {
   "cell_type": "code",
   "execution_count": null,
   "id": "df5ab19a-b460-49b8-af29-fd6937c1583d",
   "metadata": {},
   "outputs": [],
   "source": [
    "#| export\n",
    "def show_header():\n",
    "    \"\"\"Display the CLI header with welcome message.\"\"\"\n",
    "    header = Panel(\n",
    "        \"[bold cyan]🎨 Tailwind CSS Explorer for FastHTML[/bold cyan]\\n\"\n",
    "        \"[dim]Explore Tailwind CSS utilities dynamically from the cjm-fasthtml-tailwind library.[/dim]\",\n",
    "        expand=False,\n",
    "        border_style=\"blue\"\n",
    "    )\n",
    "    console.print(header)\n",
    "    console.print()"
   ]
  },
  {
   "cell_type": "code",
   "execution_count": null,
   "id": "8f49e420-965a-4c28-a8b9-ecb996c14446",
   "metadata": {},
   "outputs": [],
   "source": [
    "#| export\n",
    "def discover_modules() -> Dict[str, List[str]]:\n",
    "    \"\"\"\n",
    "    Dynamically discover all modules in the library.\n",
    "    Returns a dictionary with categories as keys and module names as values.\n",
    "    \"\"\"\n",
    "    modules_by_category = {}\n",
    "    \n",
    "    try:\n",
    "        # Import the base package\n",
    "        import cjm_fasthtml_tailwind\n",
    "        \n",
    "        # Get the package path\n",
    "        package_path = Path(cjm_fasthtml_tailwind.__file__).parent\n",
    "        \n",
    "        # Iterate through subdirectories\n",
    "        for category_dir in package_path.iterdir():\n",
    "            if category_dir.is_dir() and not category_dir.name.startswith('_'):\n",
    "                category = category_dir.name\n",
    "                modules = []\n",
    "                \n",
    "                # Find Python files in this category\n",
    "                for module_path in category_dir.glob('*.py'):\n",
    "                    if not module_path.name.startswith('_'):\n",
    "                        module_name = module_path.stem\n",
    "                        modules.append(module_name)\n",
    "                \n",
    "                # Only add category if it has modules\n",
    "                if modules:\n",
    "                    modules_by_category[category] = sorted(modules)\n",
    "        \n",
    "    except Exception as e:\n",
    "        console.print(f\"[red]Error discovering modules: {e}[/red]\")\n",
    "        console.print(\"[yellow]Unable to discover modules dynamically.[/yellow]\")\n",
    "    \n",
    "    return modules_by_category"
   ]
  },
  {
   "cell_type": "code",
   "execution_count": null,
   "id": "f13c50d0-3bc8-4c45-a586-c8a209e4c974",
   "metadata": {},
   "outputs": [],
   "source": [
    "#| export\n",
    "def get_module_info(module_name: str) -> Dict[str, Any]:\n",
    "    \"\"\"\n",
    "    Get detailed information about a specific module.\n",
    "    Returns dictionary with module details, utilities, and examples.\n",
    "    \"\"\"\n",
    "    info = {\n",
    "        \"description\": \"No description available\",\n",
    "        \"utilities\": [],\n",
    "        \"examples\": [],\n",
    "        \"imports\": []\n",
    "    }\n",
    "    \n",
    "    try:\n",
    "        # First, find which category this module belongs to\n",
    "        modules = discover_modules()\n",
    "        category = None\n",
    "        for cat, mods in modules.items():\n",
    "            if module_name in mods:\n",
    "                category = cat\n",
    "                break\n",
    "        \n",
    "        if not category:\n",
    "            info[\"description\"] = f\"Module '{module_name}' not found\"\n",
    "            return info\n",
    "        \n",
    "        # Import the module dynamically\n",
    "        module_path = f\"cjm_fasthtml_tailwind.{category}.{module_name}\"\n",
    "        module = importlib.import_module(module_path)\n",
    "        \n",
    "        # Get module description from docstring\n",
    "        if module.__doc__:\n",
    "            # Extract the first line of the docstring\n",
    "            doc_lines = module.__doc__.strip().split('\\n')\n",
    "            if doc_lines:\n",
    "                info[\"description\"] = doc_lines[0].strip()\n",
    "        \n",
    "        # Find all exported items\n",
    "        utilities = []\n",
    "        imports = []\n",
    "        \n",
    "        # Get all module members\n",
    "        for name, obj in inspect.getmembers(module):\n",
    "            # Skip private members and imports\n",
    "            if name.startswith('_'):\n",
    "                continue\n",
    "                \n",
    "            # Check if it's a utility (has a build method or is a factory)\n",
    "            if (hasattr(obj, 'build') or \n",
    "                hasattr(obj, '__call__') or \n",
    "                (inspect.isclass(obj) and name.endswith('Factory'))):\n",
    "                \n",
    "                # Skip test functions\n",
    "                if not name.startswith('test_'):\n",
    "                    utilities.append(name)\n",
    "                    imports.append(name)\n",
    "        \n",
    "        info[\"utilities\"] = sorted(utilities)\n",
    "        \n",
    "        # Find test functions to identify example categories\n",
    "        test_functions = []\n",
    "        for name, obj in inspect.getmembers(module):\n",
    "            if name.startswith(f'test_{module_name}_') and callable(obj):\n",
    "                # Extract the feature name from test_module_feature_examples\n",
    "                parts = name.split('_')\n",
    "                if len(parts) >= 3 and parts[-1] == 'examples':\n",
    "                    feature = '_'.join(parts[2:-1])  # Join middle parts\n",
    "                    test_functions.append((feature, name))\n",
    "        \n",
    "        # Format example categories\n",
    "        if test_functions:\n",
    "            for feature, func_name in sorted(test_functions):\n",
    "                # Try to get description from function docstring\n",
    "                func = getattr(module, func_name)\n",
    "                desc = \"\"\n",
    "                if func.__doc__:\n",
    "                    desc = func.__doc__.strip().split('\\n')[0]\n",
    "                \n",
    "                info[\"examples\"].append(f\"• {feature:<20} - {desc}\")\n",
    "        \n",
    "        # Generate import statement\n",
    "        if imports:\n",
    "            import_list = sorted(imports)\n",
    "            if len(import_list) <= 3:\n",
    "                import_stmt = f\"from {module_path} import {', '.join(import_list)}\"\n",
    "            else:\n",
    "                # Multi-line import for many items\n",
    "                import_items = ',\\n    '.join(import_list)\n",
    "                import_stmt = f\"from {module_path} import (\\n    {import_items}\\n)\"\n",
    "            \n",
    "            info[\"imports\"] = import_stmt\n",
    "            \n",
    "            # Also add wildcard import option\n",
    "            info[\"imports\"] += f\"\\n\\n# Or import everything:\\nfrom {module_path} import *\"\n",
    "        \n",
    "    except Exception as e:\n",
    "        info[\"description\"] = f\"Error loading module '{module_name}': {str(e)}\"\n",
    "    \n",
    "    return info"
   ]
  },
  {
   "cell_type": "code",
   "execution_count": null,
   "id": "064e0c2b-0eb7-434c-a67c-a232d942e62d",
   "metadata": {},
   "outputs": [],
   "source": [
    "#| export\n",
    "def get_utility_info(module_name: str, utility_name: str) -> Dict[str, Any]:\n",
    "    \"\"\"\n",
    "    Get detailed information about a specific utility.\n",
    "    Returns dictionary with utility details, supported values, and usage.\n",
    "    \"\"\"\n",
    "    # Placeholder implementation\n",
    "    return {\n",
    "        \"description\": f\"[Placeholder: Description for {utility_name} utility]\",\n",
    "        \"factory_type\": \"[Placeholder: Factory type information]\",\n",
    "        \"supported_values\": \"[Placeholder: Supported values will be listed here]\",\n",
    "        \"directional_variants\": \"[Placeholder: Directional variants if applicable]\",\n",
    "        \"usage_example\": f\"[Placeholder: Usage example for {utility_name}]\"\n",
    "    }"
   ]
  },
  {
   "cell_type": "code",
   "execution_count": null,
   "id": "3980090f-3caa-4036-9993-59fa65f2a202",
   "metadata": {},
   "outputs": [],
   "source": [
    "#| export\n",
    "def run_example_function(module_name: str, feature: str) -> str:\n",
    "    \"\"\"\n",
    "    Run a test example function and return its output.\n",
    "    \"\"\"\n",
    "    # Placeholder implementation\n",
    "    return f\"[Placeholder: Output from test_{module_name}_{feature}_examples() will be shown here]\""
   ]
  },
  {
   "cell_type": "code",
   "execution_count": null,
   "id": "f4f7f553-9894-4826-bfab-ad8ab8ce1782",
   "metadata": {},
   "outputs": [],
   "source": [
    "#| export\n",
    "def search_utilities(search_term: str) -> List[Tuple[str, str, str]]:\n",
    "    \"\"\"\n",
    "    Search for utilities across all modules.\n",
    "    Returns list of (module, utility, description) tuples.\n",
    "    \"\"\"\n",
    "    # Placeholder implementation\n",
    "    return [\n",
    "        (\"module_name\", \"utility_name\", \"[Placeholder: Search results will be shown here]\")\n",
    "    ]"
   ]
  },
  {
   "cell_type": "markdown",
   "id": "79ebefc0-bbe2-4f50-989c-aebdb8f003a1",
   "metadata": {},
   "source": [
    "## Main Entry Point\n",
    "\n",
    "The default command that shows when running the CLI without arguments:"
   ]
  },
  {
   "cell_type": "code",
   "execution_count": null,
   "id": "58b5cb4c-8e2a-4f32-b417-eaf71f6f03f0",
   "metadata": {},
   "outputs": [],
   "source": [
    "#| export\n",
    "@app.callback(invoke_without_command=True)\n",
    "def main(ctx: typer.Context):\n",
    "    \"\"\"\n",
    "    Main entry point - shows header and quick start guide when no command is given.\n",
    "    \"\"\"\n",
    "    if ctx.invoked_subcommand is None:\n",
    "        show_header()\n",
    "        \n",
    "        # Quick start guide\n",
    "        console.print(\"[bold]Quick Start Commands:[/bold]\")\n",
    "        console.print(\"  list              - Show all available modules\")\n",
    "        console.print(\"  list utilities    - Show all utilities with descriptions\")\n",
    "        console.print(\"  show <module>     - Explore a specific module (e.g., 'show spacing')\")\n",
    "        console.print(\"  search <term>     - Search for utilities (e.g., 'search margin')\")\n",
    "        console.print(\"  help              - Show detailed help\")\n",
    "        console.print()\n",
    "        console.print(\"[dim]Example:[/dim]\")\n",
    "        console.print(\"  $ tw-explorer show spacing\")\n",
    "        console.print(\"  $ tw-explorer examples spacing basic\")"
   ]
  },
  {
   "cell_type": "markdown",
   "id": "69806eab-f0b2-449a-a05c-fd57120ae251",
   "metadata": {},
   "source": [
    "## List Command\n",
    "\n",
    "Command to list available modules and utilities:"
   ]
  },
  {
   "cell_type": "code",
   "execution_count": null,
   "id": "2866383d-1c18-4565-845b-0bb6966e59a1",
   "metadata": {},
   "outputs": [],
   "source": [
    "#| export\n",
    "@app.command()\n",
    "def list(\n",
    "    target: Optional[str] = Argument(\n",
    "        None,\n",
    "        help=\"What to list: 'modules' (default), 'utilities', or 'all'\"\n",
    "    )\n",
    "):\n",
    "    \"\"\"\n",
    "    List available modules or utilities.\n",
    "    \n",
    "    Examples:\n",
    "        tw-explorer list              # List all modules\n",
    "        tw-explorer list utilities    # List all utilities\n",
    "        tw-explorer list all          # List everything\n",
    "    \"\"\"\n",
    "    show_header()\n",
    "    \n",
    "    if target is None or target == \"modules\":\n",
    "        # List modules by category\n",
    "        console.print(\"[bold]📦 Available Modules:[/bold]\\n\")\n",
    "        \n",
    "        modules = discover_modules()\n",
    "        for category, module_list in modules.items():\n",
    "            console.print(f\"[bold cyan]{category.title()}:[/bold cyan]\")\n",
    "            for module in module_list:\n",
    "                console.print(f\"  • {module}\")\n",
    "            console.print()\n",
    "        \n",
    "        console.print(\"[dim]Use 'show <module>' to explore a specific module.[/dim]\")\n",
    "    \n",
    "    elif target == \"utilities\":\n",
    "        # List all utilities\n",
    "        console.print(\"[bold]🔧 All Available Utilities:[/bold]\\n\")\n",
    "        console.print(\"[Placeholder: Complete list of utilities will be shown here]\")\n",
    "        \n",
    "    elif target == \"all\":\n",
    "        # List everything\n",
    "        console.print(\"[bold]📋 Complete Library Reference:[/bold]\\n\")\n",
    "        console.print(\"[Placeholder: Complete reference will be shown here]\")\n",
    "        \n",
    "    else:\n",
    "        console.print(f\"[red]Unknown target: {target}[/red]\")\n",
    "        console.print(\"Valid options: modules, utilities, all\")"
   ]
  },
  {
   "cell_type": "markdown",
   "id": "ff77fdcd-f3ad-4013-b2b9-816a005d311c",
   "metadata": {},
   "source": [
    "## Show Command\n",
    "\n",
    "Command to show details about a module or utility:"
   ]
  },
  {
   "cell_type": "code",
   "execution_count": null,
   "id": "191dac40-ee11-4ca6-bcfe-33b94e3acb62",
   "metadata": {},
   "outputs": [],
   "source": [
    "#| export\n",
    "@app.command()\n",
    "def show(\n",
    "    module_name: str = Argument(..., help=\"Module name to explore\"),\n",
    "    utility_name: Optional[str] = Argument(None, help=\"Specific utility to examine\")\n",
    "):\n",
    "    \"\"\"\n",
    "    Show detailed information about a module or specific utility.\n",
    "    \n",
    "    Examples:\n",
    "        tw-explorer show spacing          # Show spacing module overview\n",
    "        tw-explorer show spacing p        # Show details about 'p' utility\n",
    "        tw-explorer show layout display   # Show details about display utilities\n",
    "    \"\"\"\n",
    "    show_header()\n",
    "    \n",
    "    if utility_name is None:\n",
    "        # Show module overview\n",
    "        console.print(f\"[bold]📐 Module: {module_name}[/bold]\")\n",
    "        console.print(\"=\" * 30)\n",
    "        \n",
    "        info = get_module_info(module_name)\n",
    "        \n",
    "        # Description\n",
    "        console.print(info[\"description\"])\n",
    "        console.print()\n",
    "        \n",
    "        # Utilities\n",
    "        if info[\"utilities\"]:\n",
    "            console.print(\"[bold]🔧 Available Utilities:[/bold]\")\n",
    "            # Format utilities in columns\n",
    "            utils = info[\"utilities\"]\n",
    "            for i in range(0, len(utils), 4):\n",
    "                row = utils[i:i+4]\n",
    "                formatted_row = \"  \" + \", \".join(f\"[cyan]{u}[/cyan]\" for u in row)\n",
    "                console.print(formatted_row)\n",
    "            console.print()\n",
    "        \n",
    "        # Example categories\n",
    "        if info[\"examples\"]:\n",
    "            console.print(\"[bold]📚 Example Categories:[/bold]\")\n",
    "            for example in info[\"examples\"]:\n",
    "                console.print(example)\n",
    "            console.print()\n",
    "        \n",
    "        # Commands\n",
    "        console.print(\"[bold]💡 Commands:[/bold]\")\n",
    "        console.print(f\"  examples {module_name} <feature>    - Run examples\")\n",
    "        console.print(f\"  imports {module_name}               - Show import statement\")\n",
    "        console.print(f\"  show {module_name} <utility>        - Show utility details\")\n",
    "        \n",
    "    else:\n",
    "        # Show specific utility\n",
    "        console.print(f\"[bold]🎯 Utility: {utility_name}[/bold]\")\n",
    "        console.print(\"=\" * 30)\n",
    "        \n",
    "        info = get_utility_info(module_name, utility_name)\n",
    "        \n",
    "        # Description\n",
    "        console.print(info[\"description\"])\n",
    "        console.print()\n",
    "        \n",
    "        # Factory type\n",
    "        console.print(f\"[bold]Factory Type:[/bold] {info['factory_type']}\")\n",
    "        console.print()\n",
    "        \n",
    "        # Supported values\n",
    "        console.print(\"[bold]📊 Supported Values:[/bold]\")\n",
    "        console.print(info[\"supported_values\"])\n",
    "        console.print()\n",
    "        \n",
    "        # Directional variants\n",
    "        if info[\"directional_variants\"]:\n",
    "            console.print(\"[bold]🧭 Directional Variants:[/bold]\")\n",
    "            console.print(info[\"directional_variants\"])\n",
    "            console.print()\n",
    "        \n",
    "        # Usage example\n",
    "        console.print(\"[bold]💡 Usage Example:[/bold]\")\n",
    "        console.print(info[\"usage_example\"])"
   ]
  },
  {
   "cell_type": "markdown",
   "id": "9226ee80-3a28-4081-aac5-f5bc61fdb6f6",
   "metadata": {},
   "source": [
    "## Examples Command\n",
    "\n",
    "Command to run example functions and see their output:"
   ]
  },
  {
   "cell_type": "code",
   "execution_count": null,
   "id": "9f79006f-f961-4f69-a474-295c8acc12e8",
   "metadata": {},
   "outputs": [],
   "source": [
    "#| export\n",
    "@app.command()\n",
    "def examples(\n",
    "    module_name: str = Argument(..., help=\"Module name\"),\n",
    "    feature: Optional[str] = Argument(None, help=\"Feature to demonstrate (e.g., 'basic', 'directional')\")\n",
    "):\n",
    "    \"\"\"\n",
    "    Run example functions to see utility usage.\n",
    "    \n",
    "    Examples:\n",
    "        tw-explorer examples spacing              # List available examples\n",
    "        tw-explorer examples spacing basic        # Run basic spacing examples\n",
    "        tw-explorer examples layout display       # Run display examples\n",
    "    \"\"\"\n",
    "    show_header()\n",
    "    \n",
    "    if feature is None:\n",
    "        # List available examples for the module\n",
    "        console.print(f\"[bold]📚 Available Examples for '{module_name}':[/bold]\\n\")\n",
    "        \n",
    "        info = get_module_info(module_name)\n",
    "        console.print(info[\"examples\"])\n",
    "        console.print()\n",
    "        console.print(f\"[dim]Run 'examples {module_name} <feature>' to see specific examples.[/dim]\")\n",
    "        \n",
    "    else:\n",
    "        # Run specific example\n",
    "        console.print(f\"[bold]✨ Running: test_{module_name}_{feature}_examples()[/bold]\\n\")\n",
    "        \n",
    "        result = run_example_function(module_name, feature)\n",
    "        \n",
    "        # Display the results\n",
    "        syntax = Syntax(result, \"python\", theme=\"monokai\", line_numbers=False)\n",
    "        console.print(Panel(syntax, title=\"Examples\", border_style=\"green\"))\n",
    "        \n",
    "        console.print(\"\\n[green]✅ All examples passed![/green]\")"
   ]
  },
  {
   "cell_type": "markdown",
   "id": "800e426f-ceed-4bda-9cfa-8554c3a5b031",
   "metadata": {},
   "source": [
    "## Search Command\n",
    "\n",
    "Command to search for utilities across all modules:"
   ]
  },
  {
   "cell_type": "code",
   "execution_count": null,
   "id": "b1e581e8-9d5d-4681-b4c5-9ce0e77b84be",
   "metadata": {},
   "outputs": [],
   "source": [
    "#| export\n",
    "@app.command()\n",
    "def search(\n",
    "    term: str = Argument(..., help=\"Search term (e.g., 'margin', 'flex', 'grid')\")\n",
    "):\n",
    "    \"\"\"\n",
    "    Search for utilities across all modules.\n",
    "    \n",
    "    Examples:\n",
    "        tw-explorer search margin     # Find all margin-related utilities\n",
    "        tw-explorer search flex       # Find flexbox utilities\n",
    "        tw-explorer search negative   # Find utilities that support negative values\n",
    "    \"\"\"\n",
    "    show_header()\n",
    "    \n",
    "    console.print(f\"[bold]🔍 Search results for '[cyan]{term}[/cyan]':[/bold]\\n\")\n",
    "    \n",
    "    results = search_utilities(term)\n",
    "    \n",
    "    if not results:\n",
    "        console.print(f\"[yellow]No results found for '{term}'.[/yellow]\")\n",
    "        console.print(\"\\n[dim]Try searching for:[/dim]\")\n",
    "        console.print(\"  • margin, padding, spacing\")\n",
    "        console.print(\"  • width, height, size\")\n",
    "        console.print(\"  • flex, grid, display\")\n",
    "        console.print(\"  • position, z-index\")\n",
    "        return\n",
    "    \n",
    "    # Display results in a table\n",
    "    table = Table(title=f\"Found {len(results)} results\")\n",
    "    table.add_column(\"Module\", style=\"cyan\")\n",
    "    table.add_column(\"Utility\", style=\"green\")\n",
    "    table.add_column(\"Description\", style=\"dim\")\n",
    "    \n",
    "    for module, utility, description in results:\n",
    "        table.add_row(module, utility, description)\n",
    "    \n",
    "    console.print(table)\n",
    "    console.print()\n",
    "    console.print(f\"[dim]💡 Use 'show {results[0][0]} {results[0][1]}' to explore a specific utility[/dim]\")"
   ]
  },
  {
   "cell_type": "markdown",
   "id": "914e7ad3-70a7-44a1-bca4-13057c4fd564",
   "metadata": {},
   "source": [
    "## Imports Command\n",
    "\n",
    "Command to show import statements for a module:"
   ]
  },
  {
   "cell_type": "code",
   "execution_count": null,
   "id": "9a0b5fa2-c4c5-4881-bc0d-a641d0673e00",
   "metadata": {},
   "outputs": [],
   "source": [
    "#| export\n",
    "@app.command()\n",
    "def imports(\n",
    "    module_name: str = Argument(..., help=\"Module name to get imports for\")\n",
    "):\n",
    "    \"\"\"\n",
    "    Show import statements for a module.\n",
    "    \n",
    "    Examples:\n",
    "        tw-explorer imports spacing      # Show spacing module imports\n",
    "        tw-explorer imports layout       # Show layout module imports\n",
    "    \"\"\"\n",
    "    show_header()\n",
    "    \n",
    "    console.print(f\"[bold]📦 Import statements for '[cyan]{module_name}[/cyan]' module:[/bold]\\n\")\n",
    "    \n",
    "    info = get_module_info(module_name)\n",
    "    \n",
    "    # Display import statement\n",
    "    syntax = Syntax(info[\"imports\"], \"python\", theme=\"monokai\", line_numbers=False)\n",
    "    console.print(Panel(syntax, title=\"Import Statement\", border_style=\"blue\"))\n",
    "    \n",
    "    console.print(\"\\n[dim]💡 Copy and paste the import statement into your code to use these utilities.[/dim]\")"
   ]
  },
  {
   "cell_type": "markdown",
   "id": "f6b10d7b-ced8-43ba-98b0-1314ac388537",
   "metadata": {},
   "source": [
    "## Help Command\n",
    "\n",
    "Enhanced help with usage examples:"
   ]
  },
  {
   "cell_type": "code",
   "execution_count": null,
   "id": "4c1dca5e-bb9f-4d6a-bdda-f14b1faefa80",
   "metadata": {},
   "outputs": [],
   "source": [
    "#| export\n",
    "@app.command()\n",
    "def help():\n",
    "    \"\"\"\n",
    "    Show detailed help and usage guide.\n",
    "    \"\"\"\n",
    "    show_header()\n",
    "    \n",
    "    help_text = \"\"\"\n",
    "[bold]📖 Detailed Usage Guide[/bold]\n",
    "\n",
    "This CLI tool helps you explore the cjm-fasthtml-tailwind library dynamically.\n",
    "All information is pulled directly from the library modules - nothing is hardcoded.\n",
    "\n",
    "[bold cyan]Navigation Flow:[/bold cyan]\n",
    "1. Start with 'list' to see available modules\n",
    "2. Use 'show <module>' to explore a specific module\n",
    "3. Run 'examples <module> <feature>' to see usage examples\n",
    "4. Use 'search <term>' to find specific utilities\n",
    "\n",
    "[bold cyan]Common Workflows:[/bold cyan]\n",
    "\n",
    "[bold]🔍 Exploring a utility:[/bold]\n",
    "  $ tw-explorer show spacing          # See what's in spacing module\n",
    "  $ tw-explorer show spacing p        # Learn about padding utility\n",
    "  $ tw-explorer examples spacing basic # See basic usage examples\n",
    "\n",
    "[bold]🔎 Finding utilities:[/bold]\n",
    "  $ tw-explorer search margin         # Find margin utilities\n",
    "  $ tw-explorer list utilities        # See all available utilities\n",
    "\n",
    "[bold]📝 Getting code:[/bold]\n",
    "  $ tw-explorer imports spacing       # Get import statement\n",
    "  $ tw-explorer examples spacing directional # See code examples\n",
    "\n",
    "[bold cyan]Tips:[/bold cyan]\n",
    "• Use tab completion for module and utility names\n",
    "• Examples show actual output from the library's test functions\n",
    "• All utilities are dynamically discovered - no hardcoded information\n",
    "\n",
    "[dim]For more information, visit the project repository.[/dim]\n",
    "\"\"\"\n",
    "    \n",
    "    console.print(help_text)"
   ]
  },
  {
   "cell_type": "markdown",
   "id": "5fb4db7d-f86f-4765-80b3-f82d1f75203e",
   "metadata": {},
   "source": [
    "## CLI Entry Point\n",
    "\n",
    "The main function to run the CLI:"
   ]
  },
  {
   "cell_type": "code",
   "execution_count": null,
   "id": "24ef6dde-c9e9-4f16-adba-1abee1d1a512",
   "metadata": {},
   "outputs": [],
   "source": [
    "#| export\n",
    "def cli():\n",
    "    \"\"\"Main CLI entry point.\"\"\"\n",
    "    app()"
   ]
  },
  {
   "cell_type": "markdown",
   "id": "0c1ff8fd-38ad-4525-895e-16560cfbc24c",
   "metadata": {},
   "source": [
    "## Testing the CLI\n",
    "\n",
    "Let's test some basic CLI functionality with the placeholder implementations:"
   ]
  },
  {
   "cell_type": "code",
   "execution_count": null,
   "id": "e1db99c1-8087-4eb3-bef5-040fd0898c6a",
   "metadata": {},
   "outputs": [
    {
     "data": {
      "text/html": [
       "<pre style=\"white-space:pre;overflow-x:auto;line-height:normal;font-family:Menlo,'DejaVu Sans Mono',consolas,'Courier New',monospace\"><span style=\"color: #000080; text-decoration-color: #000080\">╭────────────────────────────────────────────────────────────────────────────────────╮</span>\n",
       "<span style=\"color: #000080; text-decoration-color: #000080\">│</span> <span style=\"color: #008080; text-decoration-color: #008080; font-weight: bold\">🎨 Tailwind CSS Explorer for FastHTML</span>                                              <span style=\"color: #000080; text-decoration-color: #000080\">│</span>\n",
       "<span style=\"color: #000080; text-decoration-color: #000080\">│</span> <span style=\"color: #7f7f7f; text-decoration-color: #7f7f7f\">Explore Tailwind CSS utilities dynamically from the cjm-fasthtml-tailwind library.</span> <span style=\"color: #000080; text-decoration-color: #000080\">│</span>\n",
       "<span style=\"color: #000080; text-decoration-color: #000080\">╰────────────────────────────────────────────────────────────────────────────────────╯</span>\n",
       "</pre>\n"
      ],
      "text/plain": [
       "\u001b[34m╭────────────────────────────────────────────────────────────────────────────────────╮\u001b[0m\n",
       "\u001b[34m│\u001b[0m \u001b[1;36m🎨 Tailwind CSS Explorer for FastHTML\u001b[0m                                              \u001b[34m│\u001b[0m\n",
       "\u001b[34m│\u001b[0m \u001b[2mExplore Tailwind CSS utilities dynamically from the cjm-fasthtml-tailwind library.\u001b[0m \u001b[34m│\u001b[0m\n",
       "\u001b[34m╰────────────────────────────────────────────────────────────────────────────────────╯\u001b[0m\n"
      ]
     },
     "metadata": {},
     "output_type": "display_data"
    },
    {
     "data": {
      "text/html": [
       "<pre style=\"white-space:pre;overflow-x:auto;line-height:normal;font-family:Menlo,'DejaVu Sans Mono',consolas,'Courier New',monospace\">\n",
       "</pre>\n"
      ],
      "text/plain": [
       "\n"
      ]
     },
     "metadata": {},
     "output_type": "display_data"
    }
   ],
   "source": [
    "# Test showing the header\n",
    "show_header()"
   ]
  },
  {
   "cell_type": "code",
   "execution_count": null,
   "id": "a2dcd800-df0a-4734-a53e-d2676b5ad964",
   "metadata": {},
   "outputs": [
    {
     "name": "stdout",
     "output_type": "stream",
     "text": [
      "Discovered modules:\n",
      "\n",
      "builders:\n",
      "  - scales\n",
      "\n",
      "cli:\n",
      "  - explorer\n",
      "\n",
      "utilities:\n",
      "  - flexbox_and_grid\n",
      "  - layout\n",
      "  - sizing\n",
      "  - spacing\n",
      "\n",
      "core:\n",
      "  - base\n",
      "  - resources\n",
      "  - testing\n"
     ]
    }
   ],
   "source": [
    "# Test discovering modules\n",
    "modules = discover_modules()\n",
    "print(\"Discovered modules:\")\n",
    "for category, module_list in modules.items():\n",
    "    print(f\"\\n{category}:\")\n",
    "    for module in module_list:\n",
    "        print(f\"  - {module}\")"
   ]
  },
  {
   "cell_type": "code",
   "execution_count": null,
   "id": "35f5bbce-df72-4a05-a29b-b685a7b1ffc4",
   "metadata": {},
   "outputs": [
    {
     "name": "stdout",
     "output_type": "stream",
     "text": [
      "Description: Padding and margin utilities for Tailwind CSS\n",
      "\n",
      "Utilities (15):\n",
      "  - DirectionalScaledFactory\n",
      "  - Optional\n",
      "  - ScaledFactory\n",
      "  - SpaceFactory\n",
      "  - TailwindScale\n",
      "\n",
      "Examples (10):\n",
      "• arbitrary            - Test padding utilities with arbitrary and custom values.\n",
      "• basic                - Test basic padding utilities with various scale values.\n",
      "• directional          - Test directional padding utilities.\n"
     ]
    }
   ],
   "source": [
    "# Test getting module info\n",
    "info = get_module_info(\"spacing\")\n",
    "print(f\"Description: {info['description']}\")\n",
    "print(f\"\\nUtilities ({len(info['utilities'])}):\")\n",
    "for util in info['utilities'][:5]:  # Show first 5\n",
    "    print(f\"  - {util}\")\n",
    "print(f\"\\nExamples ({len(info['examples'])}):\")\n",
    "for ex in info['examples'][:3]:  # Show first 3\n",
    "    print(ex)"
   ]
  },
  {
   "cell_type": "markdown",
   "id": "41490fa1-15bd-43c0-bfe8-b2d2aff9e0e0",
   "metadata": {},
   "source": [
    "## Export\n",
    "\n",
    "Export the module for use:"
   ]
  },
  {
   "cell_type": "code",
   "execution_count": null,
   "id": "0d6e3731-3d60-45e8-91a6-1fbfcfa17124",
   "metadata": {},
   "outputs": [],
   "source": [
    "#| hide\n",
    "import nbdev; nbdev.nbdev_export()"
   ]
  },
  {
   "cell_type": "code",
   "execution_count": null,
   "id": "66a07c82-30b7-4a59-ab98-c7da703a7dc0",
   "metadata": {},
   "outputs": [],
   "source": []
  },
  {
   "cell_type": "code",
   "execution_count": null,
   "id": "8706928a-2b95-4f9c-b200-5e4a881ce893",
   "metadata": {},
   "outputs": [],
   "source": []
  },
  {
   "cell_type": "code",
   "execution_count": null,
   "id": "8dca5b2b-a6e9-430c-ad86-1c580b79a3ef",
   "metadata": {},
   "outputs": [],
   "source": []
  },
  {
   "cell_type": "code",
   "execution_count": null,
   "id": "f7eb0e16-7857-4636-acf4-3f34f3928d96",
   "metadata": {},
   "outputs": [],
   "source": []
  },
  {
   "cell_type": "code",
   "execution_count": null,
   "id": "45e0646f-b11c-47cc-91df-a94500942cc6",
   "metadata": {},
   "outputs": [],
   "source": []
  },
  {
   "cell_type": "code",
   "execution_count": null,
   "id": "27e4d606-7d1b-4305-a42e-1b03592ffb43",
   "metadata": {},
   "outputs": [],
   "source": []
  },
  {
   "cell_type": "code",
   "execution_count": null,
   "id": "78ae6904-2d1a-4b6b-88db-1a4e1491e136",
   "metadata": {},
   "outputs": [],
   "source": []
  },
  {
   "cell_type": "code",
   "execution_count": null,
   "id": "e9e02058-7fab-4011-932d-0bc0378bf9a5",
   "metadata": {},
   "outputs": [],
   "source": []
  },
  {
   "cell_type": "code",
   "execution_count": null,
   "id": "9dbd590c-77fb-438d-99ce-5f6a9a5f0e70",
   "metadata": {},
   "outputs": [],
   "source": []
  },
  {
   "cell_type": "code",
   "execution_count": null,
   "id": "2c8b4f69-193a-406e-b69f-341d77873152",
   "metadata": {},
   "outputs": [],
   "source": []
  },
  {
   "cell_type": "code",
   "execution_count": null,
   "id": "ae24dc01-5981-4358-86fa-aacce9a92643",
   "metadata": {},
   "outputs": [],
   "source": []
  },
  {
   "cell_type": "code",
   "execution_count": null,
   "id": "f542bec8-bfb8-4842-8df3-606245888e14",
   "metadata": {},
   "outputs": [],
   "source": []
  },
  {
   "cell_type": "code",
   "execution_count": null,
   "id": "2265926d-813e-4eba-8b20-1ea69b168174",
   "metadata": {},
   "outputs": [],
   "source": []
  },
  {
   "cell_type": "code",
   "execution_count": null,
   "id": "90fa582e-86ee-4fbf-9ad0-f5a2f886fccf",
   "metadata": {},
   "outputs": [],
   "source": []
  },
  {
   "cell_type": "code",
   "execution_count": null,
   "id": "81d9aaad-384e-4adf-ada6-7260952fccab",
   "metadata": {},
   "outputs": [],
   "source": []
  },
  {
   "cell_type": "code",
   "execution_count": null,
   "id": "09bfad01-7cc7-4e2f-bad9-89ee0fef5339",
   "metadata": {},
   "outputs": [],
   "source": []
  },
  {
   "cell_type": "code",
   "execution_count": null,
   "id": "458b8496-bd39-441b-a8c8-89a88f9c1bf8",
   "metadata": {},
   "outputs": [],
   "source": []
  },
  {
   "cell_type": "code",
   "execution_count": null,
   "id": "fa63b361-a0e8-4b6c-99ec-37bab2cbe4e9",
   "metadata": {},
   "outputs": [],
   "source": []
  },
  {
   "cell_type": "code",
   "execution_count": null,
   "id": "19448aaf-dfce-41a6-88d3-66f1f00ac3fa",
   "metadata": {},
   "outputs": [],
   "source": []
  },
  {
   "cell_type": "code",
   "execution_count": null,
   "id": "2ed2b106-83a2-4fff-ab62-f7338cbe20de",
   "metadata": {},
   "outputs": [],
   "source": []
  },
  {
   "cell_type": "code",
   "execution_count": null,
   "id": "dcf1f2c7-f2bf-41d9-bd05-6ee926d514c4",
   "metadata": {},
   "outputs": [],
   "source": []
  },
  {
   "cell_type": "code",
   "execution_count": null,
   "id": "76af34a6-ecf1-42bb-b54b-e8fb9075188c",
   "metadata": {},
   "outputs": [],
   "source": []
  },
  {
   "cell_type": "code",
   "execution_count": null,
   "id": "b2ea779f-2592-471b-9158-76db9a9011a2",
   "metadata": {},
   "outputs": [],
   "source": []
  },
  {
   "cell_type": "code",
   "execution_count": null,
   "id": "d07092f2-dedc-4df3-b9d4-6d57533e4280",
   "metadata": {},
   "outputs": [],
   "source": []
  },
  {
   "cell_type": "code",
   "execution_count": null,
   "id": "53987589-34b5-411a-bb31-122097d351fc",
   "metadata": {},
   "outputs": [],
   "source": []
  },
  {
   "cell_type": "code",
   "execution_count": null,
   "id": "69474acb-9e93-4441-97f1-617faf0272e6",
   "metadata": {},
   "outputs": [],
   "source": []
  },
  {
   "cell_type": "code",
   "execution_count": null,
   "id": "0fa559bd-e047-4a2d-9bcc-3bec2baefea7",
   "metadata": {},
   "outputs": [],
   "source": []
  },
  {
   "cell_type": "code",
   "execution_count": null,
   "id": "39beec09-f859-4cf6-a964-1d72663ddeae",
   "metadata": {},
   "outputs": [],
   "source": []
  },
  {
   "cell_type": "code",
   "execution_count": null,
   "id": "44ae280d-abd0-4788-b02f-b4df110fe68d",
   "metadata": {},
   "outputs": [],
   "source": []
  },
  {
   "cell_type": "code",
   "execution_count": null,
   "id": "1358ec7b-afc7-4e12-9c5d-b720cf263b91",
   "metadata": {},
   "outputs": [],
   "source": []
  },
  {
   "cell_type": "code",
   "execution_count": null,
   "id": "a51bc513-791d-403b-89ad-cbc1ad456917",
   "metadata": {},
   "outputs": [],
   "source": []
  },
  {
   "cell_type": "code",
   "execution_count": null,
   "id": "54a092e5-b9c2-4364-91d0-1a2fd709d534",
   "metadata": {},
   "outputs": [],
   "source": []
  },
  {
   "cell_type": "code",
   "execution_count": null,
   "id": "0d636222-c952-42f8-a32f-0c43c5111daa",
   "metadata": {},
   "outputs": [],
   "source": []
  },
  {
   "cell_type": "code",
   "execution_count": null,
   "id": "5a5ac6ad-26f8-4094-9b70-b65ab6e2ad5b",
   "metadata": {},
   "outputs": [],
   "source": []
  },
  {
   "cell_type": "code",
   "execution_count": null,
   "id": "279bf5a3-f58c-41d5-ab34-245bbfc6fa17",
   "metadata": {},
   "outputs": [],
   "source": []
  },
  {
   "cell_type": "code",
   "execution_count": null,
   "id": "f660dd65-305f-4030-9c7c-a9e07be8a3d6",
   "metadata": {},
   "outputs": [],
   "source": []
  },
  {
   "cell_type": "code",
   "execution_count": null,
   "id": "404eb98d-77ed-48f4-b041-f9759844ddc5",
   "metadata": {},
   "outputs": [],
   "source": []
  },
  {
   "cell_type": "code",
   "execution_count": null,
   "id": "56d0e2eb-2f68-4fea-bd12-a00914b7e8ba",
   "metadata": {},
   "outputs": [],
   "source": []
  },
  {
   "cell_type": "code",
   "execution_count": null,
   "id": "50a5d97c-7c40-497e-be18-ff57467d5338",
   "metadata": {},
   "outputs": [],
   "source": []
  },
  {
   "cell_type": "code",
   "execution_count": null,
   "id": "a1808811-7f8b-458b-a109-c00f5f42747d",
   "metadata": {},
   "outputs": [],
   "source": []
  },
  {
   "cell_type": "code",
   "execution_count": null,
   "id": "cbe667da-cbbb-4882-a019-a7331d0bf361",
   "metadata": {},
   "outputs": [],
   "source": []
  },
  {
   "cell_type": "code",
   "execution_count": null,
   "id": "f2a0d3a0-fc31-475e-b598-11be2f7c5743",
   "metadata": {},
   "outputs": [],
   "source": []
  },
  {
   "cell_type": "code",
   "execution_count": null,
   "id": "ee6badcc-5fdc-4a3f-a0b4-23323ddb3acf",
   "metadata": {},
   "outputs": [],
   "source": []
  },
  {
   "cell_type": "code",
   "execution_count": null,
   "id": "dbe6f796-830d-451a-87fb-4d541a20170e",
   "metadata": {},
   "outputs": [],
   "source": []
  },
  {
   "cell_type": "code",
   "execution_count": null,
   "id": "5b48b2a2-1756-4cc8-8343-d331f721d870",
   "metadata": {},
   "outputs": [],
   "source": []
  },
  {
   "cell_type": "code",
   "execution_count": null,
   "id": "7738da18-437a-4b59-ab8e-e05535f757c2",
   "metadata": {},
   "outputs": [],
   "source": []
  },
  {
   "cell_type": "code",
   "execution_count": null,
   "id": "7c1984fc-abd8-4080-9364-c416c42f9709",
   "metadata": {},
   "outputs": [],
   "source": []
  },
  {
   "cell_type": "code",
   "execution_count": null,
   "id": "ee0a6ab1-7a7c-4ff9-9053-336c68babd5d",
   "metadata": {},
   "outputs": [],
   "source": []
  },
  {
   "cell_type": "code",
   "execution_count": null,
   "id": "98b6b84a-feed-440b-98ad-32a49f746b1c",
   "metadata": {},
   "outputs": [],
   "source": []
  },
  {
   "cell_type": "code",
   "execution_count": null,
   "id": "bb3d0bc8-7afc-474c-9fc8-ab9dd7a166a6",
   "metadata": {},
   "outputs": [],
   "source": []
  },
  {
   "cell_type": "code",
   "execution_count": null,
   "id": "fc8d5d8b-6eba-4a1e-87e3-442eb06a86d3",
   "metadata": {},
   "outputs": [],
   "source": []
  },
  {
   "cell_type": "code",
   "execution_count": null,
   "id": "5235d8d6-957a-4577-9f92-757dd58b31d3",
   "metadata": {},
   "outputs": [],
   "source": []
  },
  {
   "cell_type": "code",
   "execution_count": null,
   "id": "df8d5271-2fde-4986-852b-55d9a2e6df3c",
   "metadata": {},
   "outputs": [],
   "source": []
  },
  {
   "cell_type": "code",
   "execution_count": null,
   "id": "e4cbc9c0-0299-4a7a-9417-44d255fa1a17",
   "metadata": {},
   "outputs": [],
   "source": []
  },
  {
   "cell_type": "code",
   "execution_count": null,
   "id": "95e88875-6156-47fa-a93d-f472ceb8ae88",
   "metadata": {},
   "outputs": [],
   "source": []
  },
  {
   "cell_type": "code",
   "execution_count": null,
   "id": "4ef5d3ff-2fd7-4d0f-a86f-c43b11ccdd89",
   "metadata": {},
   "outputs": [],
   "source": []
  },
  {
   "cell_type": "code",
   "execution_count": null,
   "id": "5893aabe-1a8c-48f6-ae5e-53ed8fc99312",
   "metadata": {},
   "outputs": [],
   "source": []
  },
  {
   "cell_type": "code",
   "execution_count": null,
   "id": "7bbe64ab-0ad4-4521-92f3-7a77cb4afb6e",
   "metadata": {},
   "outputs": [],
   "source": []
  },
  {
   "cell_type": "code",
   "execution_count": null,
   "id": "6a8e76f2-a800-40b4-8016-f1c94eb4315e",
   "metadata": {},
   "outputs": [],
   "source": []
  },
  {
   "cell_type": "code",
   "execution_count": null,
   "id": "48516d0b-c300-4de5-a7f0-adaa79bcb01c",
   "metadata": {},
   "outputs": [],
   "source": []
  },
  {
   "cell_type": "code",
   "execution_count": null,
   "id": "78f2e397-94eb-44a9-9206-176af222d1e6",
   "metadata": {},
   "outputs": [],
   "source": []
  },
  {
   "cell_type": "code",
   "execution_count": null,
   "id": "3f68780d-3875-4a31-b711-d815754c34e8",
   "metadata": {},
   "outputs": [],
   "source": []
  },
  {
   "cell_type": "code",
   "execution_count": null,
   "id": "19349a19-98e0-40d6-94d0-d297b491c843",
   "metadata": {},
   "outputs": [],
   "source": []
  },
  {
   "cell_type": "code",
   "execution_count": null,
   "id": "bcf7a944-68c8-4a75-b9cf-bc1c4f394eca",
   "metadata": {},
   "outputs": [],
   "source": []
  },
  {
   "cell_type": "code",
   "execution_count": null,
   "id": "22677ce9-8c64-467d-af4c-f4899331192f",
   "metadata": {},
   "outputs": [],
   "source": []
  },
  {
   "cell_type": "code",
   "execution_count": null,
   "id": "26522e59-fb56-4f76-880b-4d193618d2df",
   "metadata": {},
   "outputs": [],
   "source": []
  },
  {
   "cell_type": "code",
   "execution_count": null,
   "id": "db31b7ff-5394-4c75-a98c-365fcae31c9f",
   "metadata": {},
   "outputs": [],
   "source": []
  },
  {
   "cell_type": "code",
   "execution_count": null,
   "id": "989058f0-ede1-432c-bf3a-dcfafe7cee26",
   "metadata": {},
   "outputs": [],
   "source": []
  },
  {
   "cell_type": "code",
   "execution_count": null,
   "id": "99935ac0-b39a-4e5e-8ff9-12d9deded16a",
   "metadata": {},
   "outputs": [],
   "source": []
  },
  {
   "cell_type": "code",
   "execution_count": null,
   "id": "0a40239b-a786-4590-bc51-f78c91d1e378",
   "metadata": {},
   "outputs": [],
   "source": []
  },
  {
   "cell_type": "code",
   "execution_count": null,
   "id": "6cb27dbc-3f3b-444f-bbd0-0a46b1a63360",
   "metadata": {},
   "outputs": [],
   "source": []
  },
  {
   "cell_type": "code",
   "execution_count": null,
   "id": "aad41d4e-c83b-4986-871c-4847266662a6",
   "metadata": {},
   "outputs": [],
   "source": []
  },
  {
   "cell_type": "code",
   "execution_count": null,
   "id": "10c50f59-873c-4298-8454-1e1026a5033f",
   "metadata": {},
   "outputs": [],
   "source": []
  },
  {
   "cell_type": "code",
   "execution_count": null,
   "id": "20e9e832-bc2d-424d-b7b9-db1e7ddbc7c0",
   "metadata": {},
   "outputs": [],
   "source": []
  },
  {
   "cell_type": "code",
   "execution_count": null,
   "id": "f94dcc47-0004-42f2-9951-de07f94d4904",
   "metadata": {},
   "outputs": [],
   "source": []
  },
  {
   "cell_type": "code",
   "execution_count": null,
   "id": "2a270e86-ee45-4190-a333-dd02552cc167",
   "metadata": {},
   "outputs": [],
   "source": []
  },
  {
   "cell_type": "code",
   "execution_count": null,
   "id": "605bb405-976b-41cd-90de-18cead92be92",
   "metadata": {},
   "outputs": [],
   "source": []
  },
  {
   "cell_type": "code",
   "execution_count": null,
   "id": "dec09f9c-de23-4560-9d35-64bbd0c07487",
   "metadata": {},
   "outputs": [],
   "source": []
  },
  {
   "cell_type": "code",
   "execution_count": null,
   "id": "9891eba9-8a5f-405c-bb89-b3fd94a0709c",
   "metadata": {},
   "outputs": [],
   "source": []
  },
  {
   "cell_type": "code",
   "execution_count": null,
   "id": "04d87a1c-1cc8-4bd9-a513-b76d3f167664",
   "metadata": {},
   "outputs": [],
   "source": []
  },
  {
   "cell_type": "code",
   "execution_count": null,
   "id": "1b07ef4e-6c9e-4449-9639-92707e535ac2",
   "metadata": {},
   "outputs": [],
   "source": []
  },
  {
   "cell_type": "code",
   "execution_count": null,
   "id": "a2dfe25f-6c74-42ba-bbb3-6641eef0c342",
   "metadata": {},
   "outputs": [],
   "source": []
  },
  {
   "cell_type": "code",
   "execution_count": null,
   "id": "af79c942-7a89-4d45-8b72-ffc9991b517e",
   "metadata": {},
   "outputs": [],
   "source": []
  },
  {
   "cell_type": "code",
   "execution_count": null,
   "id": "f2541228-314b-4961-838e-103a50450ab8",
   "metadata": {},
   "outputs": [],
   "source": []
  },
  {
   "cell_type": "code",
   "execution_count": null,
   "id": "dfbf8c88-0ec6-4fe3-a536-028b62528655",
   "metadata": {},
   "outputs": [],
   "source": []
  },
  {
   "cell_type": "code",
   "execution_count": null,
   "id": "8c474ea3-5286-4c19-8307-0b108cee97a5",
   "metadata": {},
   "outputs": [],
   "source": []
  },
  {
   "cell_type": "code",
   "execution_count": null,
   "id": "35f3dcd6-ca28-4379-88f5-dbdf67452773",
   "metadata": {},
   "outputs": [],
   "source": []
  },
  {
   "cell_type": "code",
   "execution_count": null,
   "id": "64900f5a-e737-47b3-9878-4ec5eb3e1839",
   "metadata": {},
   "outputs": [],
   "source": []
  },
  {
   "cell_type": "code",
   "execution_count": null,
   "id": "05cf84c9-ef33-4f8a-acca-fe7ecd1ac6b6",
   "metadata": {},
   "outputs": [],
   "source": []
  },
  {
   "cell_type": "code",
   "execution_count": null,
   "id": "47d0ce5b-be26-4b2a-a84b-6edceb7d9ae5",
   "metadata": {},
   "outputs": [],
   "source": []
  },
  {
   "cell_type": "code",
   "execution_count": null,
   "id": "0094f4bf-e183-47d7-a4dd-e6896bec4bd2",
   "metadata": {},
   "outputs": [],
   "source": []
  },
  {
   "cell_type": "code",
   "execution_count": null,
   "id": "4cd12463-b231-4ff6-9a85-8281c4431b9c",
   "metadata": {},
   "outputs": [],
   "source": []
  },
  {
   "cell_type": "code",
   "execution_count": null,
   "id": "dd8303b2-8225-4811-8eb9-32bf7be10f73",
   "metadata": {},
   "outputs": [],
   "source": []
  },
  {
   "cell_type": "code",
   "execution_count": null,
   "id": "f8e8cc10-5009-4fab-a652-ea47a3fa8f53",
   "metadata": {},
   "outputs": [],
   "source": []
  },
  {
   "cell_type": "code",
   "execution_count": null,
   "id": "77c952de-9e38-4554-b1dc-261872f431be",
   "metadata": {},
   "outputs": [],
   "source": []
  }
 ],
 "metadata": {
  "kernelspec": {
   "display_name": "python3",
   "language": "python",
   "name": "python3"
  }
 },
 "nbformat": 4,
 "nbformat_minor": 5
}
